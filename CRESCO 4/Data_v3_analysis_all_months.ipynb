{
 "cells": [
  {
   "cell_type": "code",
   "execution_count": 4,
   "metadata": {
    "collapsed": true
   },
   "outputs": [],
   "source": [
    "import pandas as pd\n",
    "import matplotlib.pyplot as plt\n",
    "import csv\n",
    "import os\n",
    "import numpy as np\n",
    "from sklearn import datasets, linear_model\n",
    "import datetime\n",
    "import time\n",
    "from sklearn.cluster import DBSCAN\n",
    "import warnings\n",
    "warnings.filterwarnings(action='ignore')\n",
    "Working_dir = os.getcwd()\n",
    "plt.rc('font', family='serif', serif='Times New Roman', size = '10' )"
   ]
  },
  {
   "cell_type": "code",
   "execution_count": 2,
   "metadata": {},
   "outputs": [
    {
     "name": "stdout",
     "output_type": "stream",
     "text": [
      "3.6.0 |Anaconda custom (64-bit)| (default, Dec 23 2016, 11:57:41) [MSC v.1900 64 bit (AMD64)]\n"
     ]
    }
   ],
   "source": [
    "import sys\n",
    "print(sys.version)"
   ]
  },
  {
   "cell_type": "code",
   "execution_count": 2,
   "metadata": {
    "collapsed": true
   },
   "outputs": [],
   "source": [
    "zabbix_df = pd.read_excel( os.path.join( Working_dir, \"zabbix_v3_py.xlsx\" ) )\n",
    "lsf_df = pd.read_excel( os.path.join( Working_dir, \"lsf_v3_short_and_long_jobs_sorted_py.xlsx\" ) )\n",
    "# lsf_df_v3 = pd.read_excel( os.path.join( Working_dir, \"lsf_v3_py.xlsx\" ) )"
   ]
  },
  {
   "cell_type": "code",
   "execution_count": 3,
   "metadata": {
    "collapsed": true
   },
   "outputs": [
    {
     "data": {
      "text/plain": [
       "((8763, 11), (530668, 19))"
      ]
     },
     "execution_count": 3,
     "metadata": {},
     "output_type": "execute_result"
    }
   ],
   "source": [
    "zabbix_df.shape, lsf_df.shape"
   ]
  },
  {
   "cell_type": "code",
   "execution_count": 4,
   "metadata": {},
   "outputs": [
    {
     "data": {
      "text/plain": [
       "array(['Start_Timestamp (1h interval)', 'min_power', 'avg_power',\n",
       "       'max_power', 'measure time in seconds', 'date_py', 'time_py',\n",
       "       'timestamp_py', 'energy_avg (kWh)', 'energy_min (kWh)',\n",
       "       'energy_max (kWh)'], dtype=object)"
      ]
     },
     "execution_count": 4,
     "metadata": {},
     "output_type": "execute_result"
    }
   ],
   "source": [
    "zabbix_df.columns.values"
   ]
  },
  {
   "cell_type": "code",
   "execution_count": 5,
   "metadata": {},
   "outputs": [
    {
     "data": {
      "text/plain": [
       "array(['row_counter', 'job_id', 'number_of_cores_used', 'user_name',\n",
       "       'queue_len_hours', 'queue_name', 'directory_of_running_executable',\n",
       "       'name_of_executable', 'job_status', 'start_unixtime',\n",
       "       'stop_unixtime', 'job_duration_sec', 'queue_duration_sec',\n",
       "       'percentage_of_usage_of_queue', 'residual_time_of_queue',\n",
       "       'application_performed_and_scope', 'start_timestamp_py',\n",
       "       'stop_timestamp_py', 'executable_full_name'], dtype=object)"
      ]
     },
     "execution_count": 5,
     "metadata": {},
     "output_type": "execute_result"
    }
   ],
   "source": [
    "lsf_df.columns.values"
   ]
  },
  {
   "cell_type": "markdown",
   "metadata": {},
   "source": [
    "### Extract data for 19, February, 2017, 12:00 - 19, March, 2017, 12:00 and so on each month"
   ]
  },
  {
   "cell_type": "code",
   "execution_count": 9,
   "metadata": {},
   "outputs": [
    {
     "name": "stdout",
     "output_type": "stream",
     "text": [
      "The earliest timestamp in each table\n",
      "zabbix: \t 2017-02-19 12:00:00 \n",
      "lsf: \t\t 2016-11-11 17:38:05 \n",
      "\n",
      "The latest timestamp in each table\n",
      "zabbix: \t 2018-02-19 14:00:00 \n",
      "lsf: \t\t 2018-01-25 04:12:17\n"
     ]
    }
   ],
   "source": [
    "print('The earliest timestamp in each table')\n",
    "print('zabbix: \\t', zabbix_df.timestamp_py.min(), '\\nlsf: \\t\\t', datetime.datetime.utcfromtimestamp(lsf_df['start_unixtime'].min()),'\\n') \n",
    "\n",
    "print('The latest timestamp in each table')\n",
    "print('zabbix: \\t', zabbix_df.timestamp_py.max(), '\\nlsf: \\t\\t',datetime.datetime.utcfromtimestamp(lsf_df['stop_unixtime'].max())) "
   ]
  },
  {
   "cell_type": "markdown",
   "metadata": {},
   "source": [
    "---\n",
    "### Jobs running time\n",
    "min, max, avg"
   ]
  },
  {
   "cell_type": "code",
   "execution_count": 6,
   "metadata": {},
   "outputs": [
    {
     "name": "stdout",
     "output_type": "stream",
     "text": [
      "2.0 220.756666667 1.9695446944\n"
     ]
    }
   ],
   "source": [
    "print(lsf_df.job_duration_sec.min(), lsf_df.job_duration_sec.max()/3600, np.mean(lsf_df.job_duration_sec.as_matrix())/3600.)"
   ]
  },
  {
   "cell_type": "markdown",
   "metadata": {},
   "source": [
    "---\n",
    "Functions"
   ]
  },
  {
   "cell_type": "code",
   "execution_count": 2,
   "metadata": {
    "collapsed": true
   },
   "outputs": [],
   "source": [
    "def write_to_excel ( table, path ):\n",
    "    excel_writer = pd.ExcelWriter( path )\n",
    "    table.to_excel(excel_writer)\n",
    "    excel_writer.save()"
   ]
  },
  {
   "cell_type": "code",
   "execution_count": 3,
   "metadata": {
    "collapsed": true
   },
   "outputs": [],
   "source": [
    "def lsf_one_month( lsf_df, zabbix_df, start_moment, end_moment, folder_name ):\n",
    "    lsf_month_df = pd.DataFrame(columns = lsf_df.columns.values)\n",
    "    \n",
    "    lsf_month_df = lsf_df[((lsf_df.start_timestamp_py >= start_moment)   & (lsf_df.stop_timestamp_py <= end_moment) \\\n",
    "       | (lsf_df.start_timestamp_py <= start_moment) & (lsf_df.stop_timestamp_py >= start_moment) \\\n",
    "       | (lsf_df.start_timestamp_py <= end_moment  ) & (lsf_df.stop_timestamp_py  >= end_moment) \\\n",
    "       | (lsf_df.start_timestamp_py <= start_moment) & (lsf_df.stop_timestamp_py  >= end_moment))].copy()\n",
    "        \n",
    "    write_to_excel( lsf_month_df, os.path.join( folder_name, 'lsf_month_py.xlsx') )\n",
    "    \n",
    "    return lsf_month_df"
   ]
  },
  {
   "cell_type": "code",
   "execution_count": 4,
   "metadata": {
    "collapsed": true
   },
   "outputs": [],
   "source": [
    "def zabbix_one_month( lsf_df, zabbix_df, start_datetime, end_datetime, folder_name ):\n",
    "\n",
    "    zabbix_month_df = pd.DataFrame(columns = zabbix_df.columns.values)\n",
    "    \n",
    "    zabbix_month_df = zabbix_df[((zabbix_df.timestamp_py >= start_datetime) & \\\n",
    "                                 (zabbix_df.timestamp_py < end_datetime))].copy()\n",
    "    \n",
    "    return zabbix_month_df"
   ]
  },
  {
   "cell_type": "code",
   "execution_count": 5,
   "metadata": {
    "collapsed": true
   },
   "outputs": [],
   "source": [
    "# creating a table:\n",
    "#   | job_name_1 | job_name_2 | ...\n",
    "# ----------------------------------\n",
    "# h1|    w_11    |    w_12    |...\n",
    "# ----------------------------------\n",
    "# h2|    w_21    |    w_22    |...\n",
    "# ...\n",
    "# ----------------------------------\n",
    "\n",
    "# where w_ij = (duration of job i in sec duing hour j) / 3600 * (number of cores required for job i completion)\n",
    "\n",
    "def process_matrix_one_month ( zabbix_month_df, lsf_month_df, folder_name, job_status='any', category='process' ):\n",
    "    job_status_list = ['any', 'exit', 'done', \\\n",
    "                       'exit_long', 'done_long', \\\n",
    "                       'exit_short_30_sec',\\\n",
    "                       'done_only',\\\n",
    "                       'exit_only'\n",
    "                      ]\n",
    "    if job_status not in job_status_list:\n",
    "        raise ValueError(\"Invalid job status. Expected one of: %s\" % job_status_list)\n",
    "        \n",
    "    category_list = ['process', 'queue', 'parallel_serial']\n",
    "    if category not in category_list:\n",
    "        raise ValueError(\"Invalid use of category. Expected one of: %s\" % category_list)\n",
    "\n",
    "    if 'process' == category:\n",
    "        category_name = 'executable_full_name'\n",
    "    elif 'queue' == category:\n",
    "        category_name = 'queue_name'\n",
    "    else:\n",
    "        category_name = 'parallel_serial'\n",
    "        \n",
    "    proc_df = pd.DataFrame(columns = lsf_month_df[category_name].unique(), index=zabbix_month_df.timestamp_py)\n",
    "\n",
    "    min_time = zabbix_month_df.timestamp_py.iloc[0]\n",
    "    max_time = zabbix_month_df.timestamp_py.iloc[zabbix_month_df.shape[0]-1] + datetime.timedelta(minutes = 59, seconds = 59)\n",
    "    max_cores = lsf_month_df['number_of_cores_used'].max()\n",
    "\n",
    "    proc_df[:] = 0 \n",
    "    i=0\n",
    "    # iterate over jobs in lsf\n",
    "    for index, line in lsf_month_df.iterrows():\n",
    "        #i-line index\n",
    "        i+=1\n",
    "        line_job_status = line.job_status.lower()\n",
    "        if ( job_status=='any' or line_job_status==job_status \\\n",
    "           or ( job_status == 'exit' and (line_job_status in ['exit_long', 'exit_short_30_sec', 'exit'] ) ) \\\n",
    "            or (job_status == 'done' and (line_job_status in ['done', 'done_long'] ) ) \\\n",
    "            or (job_status == 'done_only' and (line_job_status in ['done'] ) ) \\\n",
    "            or (job_status == 'exit_only' and (line_job_status in ['exit', 'done_long', 'exit_long',\\\n",
    "                                                                   'exit_short_30_sec']) ) ):\n",
    "            cat_name = line[category_name]\n",
    "            cores = line['number_of_cores_used']\n",
    "            # start and end time in full date format \n",
    "            start_time = line.start_timestamp_py\n",
    "            end_time = line.stop_timestamp_py\n",
    "\n",
    "            # t is our current position\n",
    "            t = start_time\n",
    "            # process length\n",
    "            length = end_time - start_time + datetime.timedelta(seconds=1)\n",
    "            # if a proces began before the first timestamp in zabbix\n",
    "            # decrease length and step onto the first timestamp in zabbix\n",
    "            if ( min_time > start_time ):\n",
    "                t = min_time\n",
    "                length -= min_time - start_time\n",
    "            # while current position is not at the end time of a process or end of table\n",
    "            while t <= end_time and t <= max_time:\n",
    "                # find row name in table = even hour and next row name\n",
    "                start_in_table = t\n",
    "                start_in_table = start_in_table.replace(minute=0, second=0)\n",
    "                next_in_table = start_in_table + datetime.timedelta(hours=1)\n",
    "\n",
    "                # if a process ends within this hour write its weight \n",
    "                # and put current position far to the right\n",
    "                if ( t + length < next_in_table ):\n",
    "                    proc_df.loc[start_in_table,cat_name] += (length.total_seconds()/3600)*(cores)#/max_cores)\n",
    "                    t = next_in_table\n",
    "                else:\n",
    "                    # if a process lasts longer than the current hour range\n",
    "                    # add number of seconds which it runs during this hour\n",
    "                    # decrease length of the process by the same mount\n",
    "                    # write its weight to the matrix\n",
    "                    to_add = next_in_table - t\n",
    "                    length -= to_add\n",
    "\n",
    "                    proc_df.loc[start_in_table,cat_name] += (to_add.total_seconds()/3600)*(cores)#/max_cores)\n",
    "                    t += to_add\n",
    "            \n",
    "    print('Proc matrix finished\\n')\n",
    "    return proc_df"
   ]
  },
  {
   "cell_type": "code",
   "execution_count": 6,
   "metadata": {
    "collapsed": true
   },
   "outputs": [],
   "source": [
    "def divide ( a, b ):\n",
    "    c = np.zeros_like(a)\n",
    "    for i in range(len(a)):\n",
    "        if ( 0 != b[i] ):\n",
    "            c[i] = a[i]/b[i]\n",
    "        else:\n",
    "            c[i] = None\n",
    "    return c"
   ]
  },
  {
   "cell_type": "code",
   "execution_count": 7,
   "metadata": {
    "collapsed": true
   },
   "outputs": [],
   "source": [
    "def outliers_to_zero(x):\n",
    "    final_list = x.copy()\n",
    "    outliers_indices = x[(x - x.median()) > 2 * (x.quantile(.75)-x.quantile(0.25))].index\n",
    "    final_list.loc[outliers_indices] = 0\n",
    "    return final_list, outliers_indices"
   ]
  },
  {
   "cell_type": "markdown",
   "metadata": {},
   "source": [
    "------\n",
    "### Extracting each consecutive month"
   ]
  },
  {
   "cell_type": "code",
   "execution_count": 9,
   "metadata": {
    "collapsed": true
   },
   "outputs": [],
   "source": [
    "lsf_df_in_case = lsf_df.copy()"
   ]
  },
  {
   "cell_type": "code",
   "execution_count": 10,
   "metadata": {
    "collapsed": true
   },
   "outputs": [],
   "source": [
    "# lsf_df=lsf_df_in_case.copy()"
   ]
  },
  {
   "cell_type": "code",
   "execution_count": 12,
   "metadata": {
    "collapsed": true
   },
   "outputs": [],
   "source": [
    "# x - int array[11] of mean energy usage for each month \n",
    "# zero_sum - lines from global zabbix \n",
    "# where sum of weights from proc_matrix over row are zero\n",
    "# used to check idle energy use\n",
    "\n",
    "x = []\n",
    "zero_sum = pd.DataFrame(columns = zabbix_df.columns.values)"
   ]
  },
  {
   "cell_type": "code",
   "execution_count": 38,
   "metadata": {},
   "outputs": [
    {
     "name": "stdout",
     "output_type": "stream",
     "text": [
      "Proc matrix finished\n",
      "\n",
      "Month extraction finished\n"
     ]
    }
   ],
   "source": [
    "left_time_border = datetime.datetime(2017,2,19,12,0)\n",
    "right_time_border = datetime.datetime(2017,3,19,12,0)\n",
    "\n",
    "# left_time_border = datetime.datetime(2017,12,19,12,0)\n",
    "# # date_new = lsf_df.stop_timestamp_py.max().date()\n",
    "# date_new = datetime.date(year=2018, month=1, day=25)\n",
    "# right_time_border = datetime.datetime.combine(date_new, right_time_border.time())\n",
    "\n",
    "m = 1\n",
    "while ( right_time_border <= \\\n",
    "       datetime.datetime.combine(lsf_df.stop_timestamp_py.max().date(), \\\n",
    "                                 right_time_border.time())):\n",
    "    # for each month create a folder\n",
    "    folder_name = Working_dir + \"\\\\\"\\\n",
    "              + left_time_border.strftime(\"%d.%m.%Y %H.%M\") \\\n",
    "              + right_time_border.strftime(\" - %d.%m.%Y %H.%M\")\n",
    "    if not os.path.exists(folder_name):\n",
    "        os.mkdir(folder_name)\n",
    "        \n",
    "    # decrease lsf_df\n",
    "    lsf_df = lsf_df.drop(lsf_df[lsf_df.stop_timestamp_py < left_time_border].index )\n",
    "        \n",
    "    # extract data for one month only from global zabbix and lsf\n",
    "    lsf_month_df = lsf_one_month( lsf_df, zabbix_df, left_time_border, right_time_border, folder_name )\n",
    "    zabbix_month_df = zabbix_one_month ( lsf_df, zabbix_df, left_time_border, right_time_border, folder_name )\n",
    "    # make a matrix of processes weights = number of cores * duration in seconds\n",
    "    proc_df = process_matrix_one_month ( zabbix_month_df, lsf_month_df, folder_name )\n",
    "    \n",
    "    f = zabbix_month_df['energy_avg (kWh)'].as_matrix()*1000\n",
    "    sum_coeff_avg = proc_df.as_matrix().sum(axis=1)\n",
    "    \n",
    "    zero_ix = np.where(sum_coeff_avg==0)\n",
    "    zero_sum = zero_sum.append(zabbix_month_df.iloc[zero_ix])\n",
    "    \n",
    "    x_avg = divide (f, sum_coeff_avg)\n",
    "    \n",
    "    zabbix_month_df['estimated_en_use'] = x_avg\n",
    "    \n",
    "    if (np.nanmax(x_avg)/np.nanmin(x_avg) > 1000):\n",
    "        x_avg_no_outliers, outliers_ix = outliers_to_zero(zabbix_month_df['estimated_en_use'])\n",
    "        zabbix_month_df['estimated_en_use_no_outliers'] = x_avg_no_outliers\n",
    "        zabbix_month_df['estimated_en_use_of_outliers'] = zabbix_month_df.loc[outliers_ix, \\\n",
    "                                                                              'estimated_en_use']\n",
    "    else:\n",
    "        zabbix_month_df['estimated_en_use_no_outliers'] = x_avg\n",
    "        zabbix_month_df['estimated_en_use_of_outliers'] = None\n",
    "        \n",
    "    write_to_excel( zabbix_month_df, os.path.join( folder_name, 'zabbix_month_py.xlsx') )\n",
    "    \n",
    "    x.append(np.mean(x_avg))\n",
    "    print('Month extraction finished')\n",
    "    m+=1\n",
    "    if m==2:\n",
    "        break"
   ]
  },
  {
   "cell_type": "code",
   "execution_count": 34,
   "metadata": {
    "collapsed": true
   },
   "outputs": [],
   "source": [
    "excel_writer_zero_sum = pd.ExcelWriter( os.path.join( Working_dir, 'zero_sum.xlsx') )\n",
    "zero_sum.to_excel(excel_writer_zero_sum)\n",
    "excel_writer_zero_sum.save()"
   ]
  },
  {
   "cell_type": "code",
   "execution_count": 35,
   "metadata": {
    "collapsed": true
   },
   "outputs": [],
   "source": [
    "f = open( os.path.join( Working_dir, \"x.txt\") ,\"w+\" )\n",
    "for item in x:\n",
    "    f.write(str(item) + '\\n')\n",
    "f.close()"
   ]
  },
  {
   "cell_type": "markdown",
   "metadata": {},
   "source": [
    "----\n",
    "### Estimation on energy use in idle mode\n",
    "1) Max and min registered energy use\n"
   ]
  },
  {
   "cell_type": "code",
   "execution_count": 4,
   "metadata": {
    "collapsed": true
   },
   "outputs": [],
   "source": [
    "zero_sum = pd.read_excel( os.path.join( Working_dir, \"zero_sum.xlsx\" ) )"
   ]
  },
  {
   "cell_type": "code",
   "execution_count": 307,
   "metadata": {},
   "outputs": [
    {
     "name": "stdout",
     "output_type": "stream",
     "text": [
      "65.516 14.383625\n"
     ]
    }
   ],
   "source": [
    "print(zabbix_df['energy_avg (kWh)'].max(), zabbix_df['energy_avg (kWh)'].min())"
   ]
  },
  {
   "cell_type": "markdown",
   "metadata": {},
   "source": [
    "\n",
    "2) Max, min and avg energy use when no process is registered to be active"
   ]
  },
  {
   "cell_type": "code",
   "execution_count": 37,
   "metadata": {},
   "outputs": [
    {
     "name": "stdout",
     "output_type": "stream",
     "text": [
      "58.7959916667 27.27 41.88467053357316\n"
     ]
    }
   ],
   "source": [
    "print(zero_sum['energy_avg (kWh)'].max(), \\\n",
    "      zero_sum['energy_avg (kWh)'].min(), \\\n",
    "      zero_sum['energy_avg (kWh)'].mean())"
   ]
  },
  {
   "cell_type": "markdown",
   "metadata": {},
   "source": [
    "3) Avg energy use during hours when there were active processes ongoing"
   ]
  },
  {
   "cell_type": "code",
   "execution_count": 38,
   "metadata": {},
   "outputs": [
    {
     "data": {
      "text/plain": [
       "47.07552613588067"
      ]
     },
     "execution_count": 38,
     "metadata": {},
     "output_type": "execute_result"
    }
   ],
   "source": [
    "zabbix_df.drop(zero_sum.index)['energy_avg (kWh)'].mean()"
   ]
  },
  {
   "cell_type": "markdown",
   "metadata": {},
   "source": [
    "### Conclusion on idle mode energy use: missing data in the lsf dataset.\n",
    "Reason: average energy consumption during the hours with active processes running is 47 kWh, while it equals 42 kWh when no processes are registered to be active.\n",
    "\n",
    "Moreover, the range of energy consumed when no processes are active lies within the range of energy consumption when cores are calculating the jobs. \n"
   ]
  },
  {
   "cell_type": "code",
   "execution_count": 39,
   "metadata": {},
   "outputs": [
    {
     "name": "stdout",
     "output_type": "stream",
     "text": [
      "\"Idle mode\" energy range: [ 27.27 ,\t 58.7959916667 ]\n",
      "Overal energy use range: [ 14.383625 ,\t 65.516 ]\n"
     ]
    }
   ],
   "source": [
    "print('\"Idle mode\" energy range: [',\\\n",
    "      zero_sum['energy_avg (kWh)'].min(),',\\t',\\\n",
    "      zero_sum['energy_avg (kWh)'].max(),\\\n",
    "     ']\\nOveral energy use range: [',\\\n",
    "      zabbix_df['energy_avg (kWh)'].min(),',\\t',\\\n",
    "      zabbix_df['energy_avg (kWh)'].max(), ']')"
   ]
  },
  {
   "cell_type": "markdown",
   "metadata": {},
   "source": [
    "---\n",
    "### Calculating the energy wasted for exited jobs"
   ]
  },
  {
   "cell_type": "markdown",
   "metadata": {
    "collapsed": true
   },
   "source": [
    "Create summary table which will show for each month:\n",
    "- energy wasted for all exit jobs\n",
    "- energy used for all done jobs\n",
    "- energy wasted for short jobs <=30 sec\n",
    "- energy wasted for the parts of long jobs which exceeded queue max time\n",
    "- energy used for the part of long jobs within the queue time"
   ]
  },
  {
   "cell_type": "code",
   "execution_count": 91,
   "metadata": {
    "collapsed": true
   },
   "outputs": [],
   "source": [
    "summary = pd.DataFrame(columns=['month_start', 'month_end', 'en_exit_jobs_kWh', \\\n",
    "                                'en_exit_short_jobs_kWh', 'en_exit_long_jobs_remainder_kWh',\\\n",
    "                                'en_done_jobs_kWh','en_done_long_jobs_kWh',\\\n",
    "                                'en_no_outliers_kWh','en_with_outliers_kWh'], index=range(0,13))\n",
    "summary[:]=0"
   ]
  },
  {
   "cell_type": "code",
   "execution_count": 103,
   "metadata": {
    "collapsed": true
   },
   "outputs": [],
   "source": [
    "# queue_summary = pd.DataFrame(columns=['en_exit_jobs_kWh', \\\n",
    "#                                 'en_exit_short_jobs_kWh', 'en_exit_long_jobs_remainder_kWh',\\\n",
    "#                                 'en_done_jobs_kWh','en_done_long_jobs_kWh'], index=lsf_df.queue_name.unique())\n",
    "# queue_summary[:]=0\n",
    "# queue_summary_global = queue_summary.copy()"
   ]
  },
  {
   "cell_type": "markdown",
   "metadata": {},
   "source": [
    "Logic:\n",
    "\n",
    "For each month do\n",
    "- read zabbix, lsf and weights\n",
    "- create matrices of weights which refer only to \n",
    "    - exit jobs\n",
    "    - exit_short_30_sec jobs\n",
    "    - exit_long jobs\n",
    "    - done jobs\n",
    "    - done_long jobs\n",
    "    \n",
    "  the matrices have the same format as proc_df matrices, i.e. names of executables in columns, hour when the job has started in rows\n",
    "- read the array z found earlier \"zabbix_month_df.estimated_en_use_no_outliers\", which is energy used during a specific hour per one second from one core by any application\n",
    "- multiply every column of every matrix by z, i.e. obtain energy used by each application"
   ]
  },
  {
   "cell_type": "code",
   "execution_count": 8,
   "metadata": {
    "collapsed": true
   },
   "outputs": [],
   "source": [
    "def slice_month_df ( lsf_month_df, job_status, drop_duplicates=True ):\n",
    "    job_status_list = [ 'exit', 'done', \\\n",
    "                  'exit_long', 'done_long', \\\n",
    "                  'exit_short_30_sec' ]\n",
    "    if job_status not in job_status_list:\n",
    "        raise ValueError(\"Invalid job status. Expected one of: %s\" % job_status_list)\n",
    "        \n",
    "    elif 'exit'==job_status:\n",
    "        slice_df = lsf_month_df[ (lsf_month_df['job_status'].str.lower()==\"exit\")\\\n",
    "                                  | (lsf_month_df['job_status'].str.lower()==\"exit_long\")\\\n",
    "                                  | (lsf_month_df['job_status'].str.lower()==\"exit_short_30_sec\") \\\n",
    "                                  ][[\"executable_full_name\",\\\n",
    "                                        \"directory_of_running_executable\",\\\n",
    "                                        \"name_of_executable\",\\\n",
    "                                        \"queue_name\",\\\n",
    "                                        \"application_performed_and_scope\",\\\n",
    "                                        \"parallel_serial\"]]\n",
    "    elif 'done'==job_status:\n",
    "        slice_df = lsf_month_df[ (lsf_month_df['job_status'].str.lower()==\"done\")\\\n",
    "                                  | (lsf_month_df['job_status'].str.lower()==\"done_long\")\\\n",
    "                                  ][[\"executable_full_name\",\\\n",
    "                                        \"directory_of_running_executable\",\\\n",
    "                                        \"name_of_executable\",\\\n",
    "                                        \"queue_name\",\\\n",
    "                                        \"application_performed_and_scope\",\\\n",
    "                                        \"parallel_serial\" ]]\n",
    "    else:\n",
    "        slice_df = lsf_month_df[ (lsf_month_df['job_status'].str.lower()==job_status)\\\n",
    "                                     ][[\"executable_full_name\",\\\n",
    "                                        \"directory_of_running_executable\",\\\n",
    "                                        \"name_of_executable\",\\\n",
    "                                        \"queue_name\",\\\n",
    "                                        \"application_performed_and_scope\",\\\n",
    "                                        \"parallel_serial\" ]]\n",
    "    slice_df.drop_duplicates(inplace=drop_duplicates)\n",
    "    return(slice_df)"
   ]
  },
  {
   "cell_type": "code",
   "execution_count": 120,
   "metadata": {
    "collapsed": true
   },
   "outputs": [
    {
     "name": "stdout",
     "output_type": "stream",
     "text": [
      "10\n",
      "Proc matrix finished\n",
      "\n",
      "Proc matrix finished\n",
      "\n",
      "Proc matrix finished\n",
      "\n",
      "Proc matrix finished\n",
      "\n",
      "Proc matrix finished\n",
      "\n",
      "One line added to summary\n"
     ]
    }
   ],
   "source": [
    "i = 10\n",
    "left_time_border = datetime.datetime(2017,i+2,19,12,0)\n",
    "if i>=10:\n",
    "#     date_new = lsf_df.stop_timestamp_py.max().date()\n",
    "    date_new = datetime.date(year=2018, month=1, day=25)\n",
    "    right_time_border = datetime.datetime.combine(date_new, right_time_border.time())\n",
    "else:\n",
    "    right_time_border = datetime.datetime(2017,i+3,19,12,0)\n",
    "\n",
    "print(i)\n",
    "\n",
    "i=i+1\n",
    "\n",
    "folder_name = Working_dir + \"\\\\\"\\\n",
    "          + left_time_border.strftime(\"%d.%m.%Y %H.%M\") \\\n",
    "          + right_time_border.strftime(\" - %d.%m.%Y %H.%M\")\n",
    "\n",
    "zabbix_month_df = pd.read_excel( os.path.join( folder_name, \"zabbix_month_py.xlsx\" ) )\n",
    "lsf_month_df = pd.read_excel( os.path.join( folder_name, \"lsf_month_py.xlsx\" ) )\n",
    "\n",
    "proc_df_exit = process_matrix_one_month( zabbix_month_df, lsf_month_df, folder_name, job_status='exit' )\n",
    "proc_df_exit_short = process_matrix_one_month( zabbix_month_df, lsf_month_df, folder_name, job_status='exit_short_30_sec' )\n",
    "proc_df_exit_long = process_matrix_one_month( zabbix_month_df, lsf_month_df, folder_name, job_status='exit_long' )\n",
    "\n",
    "proc_df_done = process_matrix_one_month( zabbix_month_df, lsf_month_df, folder_name, job_status='done' )\n",
    "proc_df_done_long = process_matrix_one_month( zabbix_month_df, lsf_month_df, folder_name, job_status='done_long' )\n",
    "\n",
    "lsf_exited_month_df = slice_month_df( lsf_month_df, job_status='exit' )\n",
    "lsf_exit_short_month_df = slice_month_df( lsf_month_df, job_status='exit_short_30_sec' )\n",
    "lsf_exit_long_month_df = slice_month_df( lsf_month_df, job_status='exit_long' )\n",
    "lsf_done_month_df = slice_month_df( lsf_month_df, job_status='done' )\n",
    "lsf_done_long_month_df = slice_month_df( lsf_month_df, job_status='done_long' )\n",
    "\n",
    "zabbix_first_line = zabbix_month_df.timestamp_py.iloc[0]\n",
    "zabbix_last_line = zabbix_month_df.timestamp_py.iloc[zabbix_month_df.shape[0]-1]\n",
    "\n",
    "z = zabbix_month_df.estimated_en_use_no_outliers.fillna(0).as_matrix()\n",
    "if z.sum()==0:\n",
    "    z = zabbix_month_df.estimated_en_use.fillna(0).as_matrix()\n",
    "\n",
    "for name in lsf_month_df.executable_full_name.unique():\n",
    "    proc_df_exit.loc[:,name]       = proc_df_exit.loc[:, name].as_matrix()*z/1000.\n",
    "    proc_df_exit_short.loc[:,name] = proc_df_exit_short.loc[:, name].as_matrix()*z/1000.\n",
    "    proc_df_exit_long.loc[:,name]  = proc_df_exit_long.loc[:, name].as_matrix()*z/1000.\n",
    "    proc_df_done.loc[:,name]       = proc_df_done.loc[:, name].as_matrix()*z/1000.\n",
    "    proc_df_done_long.loc[:,name]  = proc_df_done_long.loc[:, name].as_matrix()*z/1000.\n",
    "    \n",
    "summary.loc[i,'month_start'] = left_time_border\n",
    "summary.loc[i,'month_end']   = right_time_border\n",
    "\n",
    "summary.loc[i,'en_exit_jobs_kWh']                = proc_df_exit.as_matrix().sum(axis=0).sum()\n",
    "summary.loc[i,'en_exit_short_jobs_kWh']          = proc_df_exit_short.as_matrix().sum(axis=0).sum()\n",
    "summary.loc[i,'en_exit_long_jobs_remainder_kWh'] = proc_df_exit_long.as_matrix().sum(axis=0).sum()\n",
    "summary.loc[i,'en_done_jobs_kWh']                = proc_df_done.as_matrix().sum(axis=0).sum()\n",
    "summary.loc[i,'en_done_long_jobs_kWh']           = proc_df_done_long.as_matrix().sum(axis=0).sum()\n",
    "\n",
    "summary.loc[i,'en_no_outliers_kWh']   = summary.loc[i,'en_exit_jobs_kWh'] + summary.loc[i,'en_done_jobs_kWh']\n",
    "summary.loc[i,'en_with_outliers_kWh'] = zabbix_month_df['energy_avg (kWh)'].sum()\n",
    "\n",
    "lsf_exited_month_df['energy_exit_kWh']          = proc_df_exit[lsf_exited_month_df.executable_full_name].\\\n",
    "                                                          sum(axis=0).values\n",
    "lsf_exit_short_month_df['energy_exit_short_kWh']= proc_df_exit_short[lsf_exit_short_month_df.executable_full_name].\\\n",
    "                                                          sum(axis=0).values\n",
    "lsf_exit_long_month_df['energy_exit_long_kWh']  = proc_df_exit_long[lsf_exit_long_month_df.executable_full_name].\\\n",
    "                                                          sum(axis=0).values\n",
    "lsf_done_month_df['energy_done_kWh']            = proc_df_done[lsf_done_month_df.executable_full_name].\\\n",
    "                                                          sum(axis=0).values\n",
    "lsf_done_long_month_df['energy_done_long_kWh']  = proc_df_done_long[lsf_done_long_month_df.executable_full_name].\\\n",
    "                                                          sum(axis=0).values\n",
    "\n",
    "lsf_exited_month_df.drop_duplicates(['executable_full_name', 'energy_exit_kWh'], inplace=True)\n",
    "lsf_exit_short_month_df.drop_duplicates(['executable_full_name', 'energy_exit_short_kWh'], inplace=True)\n",
    "lsf_exit_long_month_df.drop_duplicates(['executable_full_name', 'energy_exit_long_kWh'], inplace=True)\n",
    "lsf_done_month_df.drop_duplicates(['executable_full_name', 'energy_done_kWh'], inplace=True)\n",
    "lsf_done_long_month_df.drop_duplicates(['executable_full_name', 'energy_done_long_kWh'], inplace=True)\n",
    "\n",
    "# queue_summary.en_exit_jobs_kWh                = lsf_exited_month_df.groupby('queue_name')['energy_exit_kWh'].\\\n",
    "#                                                         sum().reset_index().set_index('queue_name')\n",
    "# queue_summary.en_exit_short_jobs_kWh          = lsf_exit_short_month_df.groupby('queue_name')['energy_exit_short_kWh'].\\\n",
    "#                                                         sum().reset_index().set_index('queue_name')\n",
    "# queue_summary.en_exit_long_jobs_remainder_kWh = lsf_exit_long_month_df.groupby('queue_name')['energy_exit_long_kWh'].\\\n",
    "#                                                         sum().reset_index().set_index('queue_name')\n",
    "# queue_summary.en_done_jobs_kWh                = lsf_done_month_df.groupby('queue_name')['energy_done_kWh'].\\\n",
    "#                                                         sum().reset_index().set_index('queue_name')\n",
    "# queue_summary.en_done_long_jobs_kWh           = lsf_done_long_month_df.groupby('queue_name')['energy_done_long_kWh'].\\\n",
    "#                                                         sum().reset_index().set_index('queue_name')\n",
    "# queue_summary.fillna(0, inplace=True)\n",
    "\n",
    "# queue_summary_global = queue_summary_global + queue_summary\n",
    "\n",
    "# write_to_excel( queue_summary, os.path.join( folder_name, 'queue_summary_month_df.xlsx') )\n",
    "write_to_excel( lsf_exited_month_df, os.path.join( folder_name, 'lsf_exited_month_df.xlsx') )\n",
    "write_to_excel( lsf_exited_month_df, os.path.join( folder_name, 'lsf_exited_month_df.xlsx') )\n",
    "write_to_excel( lsf_exit_short_month_df, os.path.join( folder_name, 'lsf_exit_short_month_df.xlsx') )\n",
    "write_to_excel( lsf_exit_long_month_df, os.path.join( folder_name, 'lsf_exit_long_month_df.xlsx') )\n",
    "write_to_excel( lsf_done_month_df, os.path.join( folder_name, 'lsf_done_month_df.xlsx') )\n",
    "write_to_excel( lsf_done_long_month_df, os.path.join( folder_name, 'lsf_done_long_month_df.xlsx') )\n",
    "print('One line added to summary')"
   ]
  },
  {
   "cell_type": "code",
   "execution_count": 122,
   "metadata": {
    "collapsed": true
   },
   "outputs": [],
   "source": [
    "write_to_excel( queue_summary_global, os.path.join( Working_dir, 'queue_summary_global.xlsx') )"
   ]
  },
  {
   "cell_type": "code",
   "execution_count": 123,
   "metadata": {
    "collapsed": true
   },
   "outputs": [
    {
     "data": {
      "text/html": [
       "<div>\n",
       "<style>\n",
       "    .dataframe thead tr:only-child th {\n",
       "        text-align: right;\n",
       "    }\n",
       "\n",
       "    .dataframe thead th {\n",
       "        text-align: left;\n",
       "    }\n",
       "\n",
       "    .dataframe tbody tr th {\n",
       "        vertical-align: top;\n",
       "    }\n",
       "</style>\n",
       "<table border=\"1\" class=\"dataframe\">\n",
       "  <thead>\n",
       "    <tr style=\"text-align: right;\">\n",
       "      <th></th>\n",
       "      <th>month_start</th>\n",
       "      <th>month_end</th>\n",
       "      <th>en_exit_jobs_kWh</th>\n",
       "      <th>en_exit_short_jobs_kWh</th>\n",
       "      <th>en_exit_long_jobs_remainder_kWh</th>\n",
       "      <th>en_done_jobs_kWh</th>\n",
       "      <th>en_done_long_jobs_kWh</th>\n",
       "      <th>en_no_outliers_kWh</th>\n",
       "      <th>en_with_outliers_kWh</th>\n",
       "    </tr>\n",
       "  </thead>\n",
       "  <tbody>\n",
       "    <tr>\n",
       "      <th>1</th>\n",
       "      <td>2017-02-19 12:00:00</td>\n",
       "      <td>2017-03-19 12:00:00</td>\n",
       "      <td>4317.86</td>\n",
       "      <td>3.21599</td>\n",
       "      <td>76.2712</td>\n",
       "      <td>22686.6</td>\n",
       "      <td>10600.4</td>\n",
       "      <td>27004.4</td>\n",
       "      <td>31140.8</td>\n",
       "    </tr>\n",
       "    <tr>\n",
       "      <th>2</th>\n",
       "      <td>2017-03-19 12:00:00</td>\n",
       "      <td>2017-04-19 12:00:00</td>\n",
       "      <td>6805.04</td>\n",
       "      <td>11.1871</td>\n",
       "      <td>80.9175</td>\n",
       "      <td>28834.6</td>\n",
       "      <td>11127.9</td>\n",
       "      <td>35639.6</td>\n",
       "      <td>35675.4</td>\n",
       "    </tr>\n",
       "    <tr>\n",
       "      <th>3</th>\n",
       "      <td>2017-04-19 12:00:00</td>\n",
       "      <td>2017-05-19 12:00:00</td>\n",
       "      <td>5313.37</td>\n",
       "      <td>7.88816</td>\n",
       "      <td>57.7761</td>\n",
       "      <td>22084.6</td>\n",
       "      <td>3244.42</td>\n",
       "      <td>27397.9</td>\n",
       "      <td>33283.8</td>\n",
       "    </tr>\n",
       "    <tr>\n",
       "      <th>4</th>\n",
       "      <td>2017-05-19 12:00:00</td>\n",
       "      <td>2017-06-19 12:00:00</td>\n",
       "      <td>6600.8</td>\n",
       "      <td>7.58114</td>\n",
       "      <td>28.0045</td>\n",
       "      <td>22505.6</td>\n",
       "      <td>3830.15</td>\n",
       "      <td>29106.4</td>\n",
       "      <td>33873.5</td>\n",
       "    </tr>\n",
       "    <tr>\n",
       "      <th>5</th>\n",
       "      <td>2017-06-19 12:00:00</td>\n",
       "      <td>2017-07-19 12:00:00</td>\n",
       "      <td>6187.59</td>\n",
       "      <td>21.1566</td>\n",
       "      <td>71.1849</td>\n",
       "      <td>26831.9</td>\n",
       "      <td>4934.47</td>\n",
       "      <td>33019.5</td>\n",
       "      <td>33019.5</td>\n",
       "    </tr>\n",
       "    <tr>\n",
       "      <th>6</th>\n",
       "      <td>2017-07-19 12:00:00</td>\n",
       "      <td>2017-08-19 12:00:00</td>\n",
       "      <td>4297.48</td>\n",
       "      <td>5.64274</td>\n",
       "      <td>21.9442</td>\n",
       "      <td>22591.9</td>\n",
       "      <td>2357.66</td>\n",
       "      <td>26889.4</td>\n",
       "      <td>31069.2</td>\n",
       "    </tr>\n",
       "    <tr>\n",
       "      <th>7</th>\n",
       "      <td>2017-08-19 12:00:00</td>\n",
       "      <td>2017-09-19 12:00:00</td>\n",
       "      <td>5430.07</td>\n",
       "      <td>7.54236</td>\n",
       "      <td>10.7697</td>\n",
       "      <td>19050.2</td>\n",
       "      <td>1149.08</td>\n",
       "      <td>24480.3</td>\n",
       "      <td>28867.4</td>\n",
       "    </tr>\n",
       "    <tr>\n",
       "      <th>8</th>\n",
       "      <td>2017-09-19 12:00:00</td>\n",
       "      <td>2017-10-19 12:00:00</td>\n",
       "      <td>10017.9</td>\n",
       "      <td>8.32327</td>\n",
       "      <td>64.5599</td>\n",
       "      <td>19587.9</td>\n",
       "      <td>8514.76</td>\n",
       "      <td>29605.8</td>\n",
       "      <td>34958.7</td>\n",
       "    </tr>\n",
       "    <tr>\n",
       "      <th>9</th>\n",
       "      <td>2017-10-19 12:00:00</td>\n",
       "      <td>2017-11-19 12:00:00</td>\n",
       "      <td>5902.94</td>\n",
       "      <td>6.56489</td>\n",
       "      <td>107.208</td>\n",
       "      <td>26693.7</td>\n",
       "      <td>11788.3</td>\n",
       "      <td>32596.7</td>\n",
       "      <td>37476.9</td>\n",
       "    </tr>\n",
       "    <tr>\n",
       "      <th>10</th>\n",
       "      <td>2017-11-19 12:00:00</td>\n",
       "      <td>2017-12-19 12:00:00</td>\n",
       "      <td>8191.32</td>\n",
       "      <td>2.46349</td>\n",
       "      <td>114.77</td>\n",
       "      <td>25479</td>\n",
       "      <td>15267.8</td>\n",
       "      <td>33670.3</td>\n",
       "      <td>38492.5</td>\n",
       "    </tr>\n",
       "    <tr>\n",
       "      <th>11</th>\n",
       "      <td>2017-12-19 12:00:00</td>\n",
       "      <td>2018-01-25 12:00:00</td>\n",
       "      <td>13567.9</td>\n",
       "      <td>7.04607</td>\n",
       "      <td>69.3273</td>\n",
       "      <td>21152.4</td>\n",
       "      <td>4010.47</td>\n",
       "      <td>34720.2</td>\n",
       "      <td>43440.3</td>\n",
       "    </tr>\n",
       "  </tbody>\n",
       "</table>\n",
       "</div>"
      ],
      "text/plain": [
       "            month_start            month_end en_exit_jobs_kWh  \\\n",
       "1   2017-02-19 12:00:00  2017-03-19 12:00:00          4317.86   \n",
       "2   2017-03-19 12:00:00  2017-04-19 12:00:00          6805.04   \n",
       "3   2017-04-19 12:00:00  2017-05-19 12:00:00          5313.37   \n",
       "4   2017-05-19 12:00:00  2017-06-19 12:00:00           6600.8   \n",
       "5   2017-06-19 12:00:00  2017-07-19 12:00:00          6187.59   \n",
       "6   2017-07-19 12:00:00  2017-08-19 12:00:00          4297.48   \n",
       "7   2017-08-19 12:00:00  2017-09-19 12:00:00          5430.07   \n",
       "8   2017-09-19 12:00:00  2017-10-19 12:00:00          10017.9   \n",
       "9   2017-10-19 12:00:00  2017-11-19 12:00:00          5902.94   \n",
       "10  2017-11-19 12:00:00  2017-12-19 12:00:00          8191.32   \n",
       "11  2017-12-19 12:00:00  2018-01-25 12:00:00          13567.9   \n",
       "\n",
       "   en_exit_short_jobs_kWh en_exit_long_jobs_remainder_kWh en_done_jobs_kWh  \\\n",
       "1                 3.21599                         76.2712          22686.6   \n",
       "2                 11.1871                         80.9175          28834.6   \n",
       "3                 7.88816                         57.7761          22084.6   \n",
       "4                 7.58114                         28.0045          22505.6   \n",
       "5                 21.1566                         71.1849          26831.9   \n",
       "6                 5.64274                         21.9442          22591.9   \n",
       "7                 7.54236                         10.7697          19050.2   \n",
       "8                 8.32327                         64.5599          19587.9   \n",
       "9                 6.56489                         107.208          26693.7   \n",
       "10                2.46349                          114.77            25479   \n",
       "11                7.04607                         69.3273          21152.4   \n",
       "\n",
       "   en_done_long_jobs_kWh en_no_outliers_kWh en_with_outliers_kWh  \n",
       "1                10600.4            27004.4              31140.8  \n",
       "2                11127.9            35639.6              35675.4  \n",
       "3                3244.42            27397.9              33283.8  \n",
       "4                3830.15            29106.4              33873.5  \n",
       "5                4934.47            33019.5              33019.5  \n",
       "6                2357.66            26889.4              31069.2  \n",
       "7                1149.08            24480.3              28867.4  \n",
       "8                8514.76            29605.8              34958.7  \n",
       "9                11788.3            32596.7              37476.9  \n",
       "10               15267.8            33670.3              38492.5  \n",
       "11               4010.47            34720.2              43440.3  "
      ]
     },
     "execution_count": 123,
     "metadata": {},
     "output_type": "execute_result"
    }
   ],
   "source": [
    "summary.drop([0,12], inplace=True)\n",
    "summary"
   ]
  },
  {
   "cell_type": "code",
   "execution_count": 102,
   "metadata": {
    "collapsed": true
   },
   "outputs": [],
   "source": [
    "write_to_excel( summary, os.path.join( Working_dir, 'energy_summary.xlsx') )"
   ]
  },
  {
   "cell_type": "markdown",
   "metadata": {},
   "source": [
    "---\n",
    "### Done and exit categories. Exit category comprises short, long jobs and other exit jobs*"
   ]
  },
  {
   "cell_type": "code",
   "execution_count": 2,
   "metadata": {
    "collapsed": true
   },
   "outputs": [],
   "source": [
    "summary = pd.read_excel( os.path.join( Working_dir, \"energy_summary.xlsx\" ) )"
   ]
  },
  {
   "cell_type": "code",
   "execution_count": 34,
   "metadata": {},
   "outputs": [
    {
     "name": "stdout",
     "output_type": "stream",
     "text": [
      "10\n",
      "Proc matrix finished\n",
      "\n",
      "Proc matrix finished\n",
      "\n",
      "One line added to summary\n"
     ]
    }
   ],
   "source": [
    "i = 10\n",
    "left_time_border = datetime.datetime(2017,i+2,19,12,0)\n",
    "if i>=10:\n",
    "#     date_new = lsf_df.stop_timestamp_py.max().date()\n",
    "    date_new = datetime.date(year=2018, month=1, day=25)\n",
    "    right_time_border = datetime.datetime.combine(date_new, right_time_border.time())\n",
    "else:\n",
    "    right_time_border = datetime.datetime(2017,i+3,19,12,0)\n",
    "\n",
    "print(i)\n",
    "\n",
    "i=i+1\n",
    "\n",
    "folder_name = Working_dir + \"\\\\\"\\\n",
    "          + left_time_border.strftime(\"%d.%m.%Y %H.%M\") \\\n",
    "          + right_time_border.strftime(\" - %d.%m.%Y %H.%M\")\n",
    "\n",
    "zabbix_month_df = pd.read_excel( os.path.join( folder_name, \"zabbix_month_py.xlsx\" ) )\n",
    "lsf_month_df = pd.read_excel( os.path.join( folder_name, \"lsf_month_py.xlsx\" ) )\n",
    "\n",
    "proc_df_exit_only = process_matrix_one_month( zabbix_month_df, lsf_month_df, folder_name, job_status='exit_only' )\n",
    "proc_df_done_only = process_matrix_one_month( zabbix_month_df, lsf_month_df, folder_name, job_status='done_only' )\n",
    "\n",
    "# lsf_exit_only_month_df = slice_month_df( lsf_month_df, job_status='exit_only' )\n",
    "# lsf_done_only_month_df = slice_month_df( lsf_month_df, job_status='done_only' )\n",
    "\n",
    "zabbix_first_line = zabbix_month_df.timestamp_py.iloc[0]\n",
    "zabbix_last_line = zabbix_month_df.timestamp_py.iloc[zabbix_month_df.shape[0]-1]\n",
    "\n",
    "z = zabbix_month_df.estimated_en_use_no_outliers.fillna(0).as_matrix()\n",
    "if z.sum()==0:\n",
    "    z = zabbix_month_df.estimated_en_use.fillna(0).as_matrix()\n",
    "\n",
    "for name in lsf_month_df.executable_full_name.unique():\n",
    "    proc_df_exit_only.loc[:,name] = proc_df_exit_only.loc[:, name].as_matrix()*z/1000.\n",
    "    proc_df_done_only.loc[:,name] = proc_df_done_only.loc[:, name].as_matrix()*z/1000.\n",
    "    \n",
    "# summary.loc[i,'month_start'] = left_time_border\n",
    "# summary.loc[i,'month_end']   = right_time_border\n",
    "\n",
    "summary.loc[i,'en_exit_only_jobs_kWh'] = proc_df_exit_only.as_matrix().sum(axis=0).sum()\n",
    "summary.loc[i,'en_done_only_jobs_kWh'] = proc_df_done_only.as_matrix().sum(axis=0).sum()\n",
    "\n",
    "print('One line added to summary')"
   ]
  },
  {
   "cell_type": "code",
   "execution_count": 36,
   "metadata": {
    "collapsed": true
   },
   "outputs": [],
   "source": [
    "write_to_excel( summary, os.path.join( Working_dir, 'energy_summary.xlsx') )"
   ]
  },
  {
   "cell_type": "markdown",
   "metadata": {},
   "source": [
    "----\n",
    "### Ratio analysis"
   ]
  },
  {
   "cell_type": "code",
   "execution_count": 103,
   "metadata": {
    "collapsed": true
   },
   "outputs": [],
   "source": [
    "summary = pd.read_excel( os.path.join( Working_dir, \"energy_summary.xlsx\" ) )\n",
    "summary['percentage_10_kWh']=0\n",
    "summary['percentage_short_jobs']=0\n",
    "summary['percentage_long_jobs']=0\n",
    "summary['percentage_exit_jobs']=0"
   ]
  },
  {
   "cell_type": "code",
   "execution_count": 104,
   "metadata": {
    "collapsed": true
   },
   "outputs": [
    {
     "name": "stdout",
     "output_type": "stream",
     "text": [
      "2017-03-19 12:00:00 2017-04-19 12:00:00 \n",
      "\n",
      "2017-04-19 12:00:00 2017-05-19 12:00:00 \n",
      "\n",
      "2017-05-19 12:00:00 2017-06-19 12:00:00 \n",
      "\n",
      "2017-06-19 12:00:00 2017-07-19 12:00:00 \n",
      "\n",
      "2017-07-19 12:00:00 2017-08-19 12:00:00 \n",
      "\n",
      "2017-08-19 12:00:00 2017-09-19 12:00:00 \n",
      "\n",
      "2017-09-19 12:00:00 2017-10-19 12:00:00 \n",
      "\n",
      "2017-10-19 12:00:00 2017-11-19 12:00:00 \n",
      "\n",
      "2017-11-19 12:00:00 2017-12-19 12:00:00 \n",
      "\n",
      "2017-12-19 12:00:00 2018-01-25 12:00:00 \n",
      "\n",
      "2018-01-25 12:00:00 2018-02-25 12:00:00 \n",
      "\n"
     ]
    }
   ],
   "source": [
    "right_limit = datetime.datetime(year=2018, month=1, day=25, hour = 12)\n",
    "left_time_border = datetime.datetime(2017,2,19,12,0)\n",
    "right_time_border = datetime.datetime(2017,3,19,12,0)\n",
    "i=1\n",
    "while ( right_time_border <= right_limit ):\n",
    "    \n",
    "    folder_name = Working_dir + \"\\\\\"\\\n",
    "              + left_time_border.strftime(\"%d.%m.%Y %H.%M\") \\\n",
    "              + right_time_border.strftime(\" - %d.%m.%Y %H.%M\")\n",
    "            \n",
    "    \n",
    "    lsf_month_df = pd.read_excel(os.path.join( folder_name, 'lsf_month_py.xlsx'))\n",
    "    lsf_month_df_done = pd.read_excel(os.path.join( folder_name, 'lsf_done_month_df.xlsx'))\n",
    "    lsf_month_df_exit = pd.read_excel(os.path.join( folder_name, 'lsf_exited_month_df.xlsx'))\n",
    "    \n",
    "    summary.loc[i,'percentage_10_kWh'] = (lsf_month_df_done[lsf_month_df_done.energy_done_kWh <= 10].shape[0] +\\\n",
    "                                    lsf_month_df_exit[lsf_month_df_exit.energy_exit_kWh <= 10].shape[0]) / \\\n",
    "    (lsf_month_df_done.shape[0] + lsf_month_df_exit.shape[0]) * 100.\n",
    "    \n",
    "    summary.loc[i,'percentage_short_jobs'] = lsf_month_df[lsf_month_df.job_status=='exit_short_30_sec'].shape[0] / \\\n",
    "    lsf_month_df.shape[0] * 100.\n",
    "    \n",
    "    \n",
    "    summary.loc[i,'percentage_long_jobs'] = lsf_month_df[(lsf_month_df.job_status=='exit_long')\\\n",
    "                                                  |(lsf_month_df.job_status=='done_long')].shape[0] / \\\n",
    "    lsf_month_df.shape[0] * 100.\n",
    "    \n",
    "    \n",
    "    summary.loc[i,'percentage_exit_jobs'] = slice_month_df(lsf_month_df, job_status='exit', \\\n",
    "                                                           drop_duplicates=False).shape[0] / \\\n",
    "    lsf_month_df.shape[0] * 100.\n",
    "\n",
    "    left_time_border = right_time_border\n",
    "    \n",
    "    if (12 > right_time_border.month):\n",
    "        date_new = datetime.date(year=right_time_border.year, month=right_time_border.month+1, day=right_time_border.day)\n",
    "        right_time_border = datetime.datetime.combine(date_new, right_time_border.time())\n",
    "    else:\n",
    "        right_time_border = right_limit\n",
    "    print(left_time_border, right_time_border, '\\n')\n",
    "    i+=1"
   ]
  },
  {
   "cell_type": "code",
   "execution_count": 41,
   "metadata": {
    "collapsed": true
   },
   "outputs": [],
   "source": [
    "percent_short_jobs = summary.en_exit_short_jobs_kWh/summary.en_no_outliers_kWh*100\n",
    "percent_long_jobs = summary.en_exit_long_jobs_remainder_kWh/summary.en_no_outliers_kWh*100\n",
    "summary.loc[:,'percentage_energy_long_jobs'] = percent_long_jobs\n",
    "summary.loc[:,'percentage_energy_short_jobs'] = percent_short_jobs\n",
    "summary.loc[:,'percentage_energy_exit_jobs'] = summary.en_exit_jobs_kWh/summary.en_no_outliers_kWh*100\n",
    "summary.loc[:, 'DCeP'] = summary.en_done_jobs_kWh/summary.en_no_outliers_kWh\n",
    "summary.loc[:, 'DCeP_exit_done_only'] = summary.en_done_only_jobs_kWh/summary.en_no_outliers_kWh"
   ]
  },
  {
   "cell_type": "code",
   "execution_count": 42,
   "metadata": {},
   "outputs": [
    {
     "data": {
      "text/html": [
       "<div>\n",
       "<style>\n",
       "    .dataframe thead tr:only-child th {\n",
       "        text-align: right;\n",
       "    }\n",
       "\n",
       "    .dataframe thead th {\n",
       "        text-align: left;\n",
       "    }\n",
       "\n",
       "    .dataframe tbody tr th {\n",
       "        vertical-align: top;\n",
       "    }\n",
       "</style>\n",
       "<table border=\"1\" class=\"dataframe\">\n",
       "  <thead>\n",
       "    <tr style=\"text-align: right;\">\n",
       "      <th></th>\n",
       "      <th>month_start</th>\n",
       "      <th>month_end</th>\n",
       "      <th>en_exit_jobs_kWh</th>\n",
       "      <th>en_exit_short_jobs_kWh</th>\n",
       "      <th>en_exit_long_jobs_remainder_kWh</th>\n",
       "      <th>en_done_jobs_kWh</th>\n",
       "      <th>en_done_long_jobs_kWh</th>\n",
       "      <th>en_no_outliers_kWh</th>\n",
       "      <th>en_with_outliers_kWh</th>\n",
       "      <th>percentage_10_kWh</th>\n",
       "      <th>percentage_short_jobs</th>\n",
       "      <th>percentage_long_jobs</th>\n",
       "      <th>percentage_exit_jobs</th>\n",
       "      <th>percentage_energy_long_jobs</th>\n",
       "      <th>percentage_energy_short_jobs</th>\n",
       "      <th>percentage_energy_exit_jobs</th>\n",
       "      <th>DCeP</th>\n",
       "      <th>en_exit_only_jobs_kWh</th>\n",
       "      <th>en_done_only_jobs_kWh</th>\n",
       "      <th>DCeP_exit_done_only</th>\n",
       "    </tr>\n",
       "  </thead>\n",
       "  <tbody>\n",
       "    <tr>\n",
       "      <th>1</th>\n",
       "      <td>2017-02-19 12:00:00</td>\n",
       "      <td>2017-03-19 12:00:00</td>\n",
       "      <td>4317.861826</td>\n",
       "      <td>3.215989</td>\n",
       "      <td>76.271213</td>\n",
       "      <td>22686.567603</td>\n",
       "      <td>10600.383136</td>\n",
       "      <td>27004.429429</td>\n",
       "      <td>31140.764417</td>\n",
       "      <td>88.756614</td>\n",
       "      <td>37.324633</td>\n",
       "      <td>2.805873</td>\n",
       "      <td>51.729201</td>\n",
       "      <td>0.282440</td>\n",
       "      <td>0.011909</td>\n",
       "      <td>15.989458</td>\n",
       "      <td>0.840105</td>\n",
       "      <td>14918.244962</td>\n",
       "      <td>12086.184467</td>\n",
       "      <td>0.447563</td>\n",
       "    </tr>\n",
       "    <tr>\n",
       "      <th>2</th>\n",
       "      <td>2017-03-19 12:00:00</td>\n",
       "      <td>2017-04-19 12:00:00</td>\n",
       "      <td>6805.040174</td>\n",
       "      <td>11.187131</td>\n",
       "      <td>80.917532</td>\n",
       "      <td>28834.552185</td>\n",
       "      <td>11127.866632</td>\n",
       "      <td>35639.592358</td>\n",
       "      <td>35675.376358</td>\n",
       "      <td>79.153094</td>\n",
       "      <td>32.406988</td>\n",
       "      <td>0.739217</td>\n",
       "      <td>61.170194</td>\n",
       "      <td>0.227044</td>\n",
       "      <td>0.031390</td>\n",
       "      <td>19.094046</td>\n",
       "      <td>0.809060</td>\n",
       "      <td>17932.906806</td>\n",
       "      <td>17706.685553</td>\n",
       "      <td>0.496826</td>\n",
       "    </tr>\n",
       "    <tr>\n",
       "      <th>3</th>\n",
       "      <td>2017-04-19 12:00:00</td>\n",
       "      <td>2017-05-19 12:00:00</td>\n",
       "      <td>5313.371848</td>\n",
       "      <td>7.888162</td>\n",
       "      <td>57.776055</td>\n",
       "      <td>22084.567869</td>\n",
       "      <td>3244.415453</td>\n",
       "      <td>27397.939717</td>\n",
       "      <td>33283.833554</td>\n",
       "      <td>68.852459</td>\n",
       "      <td>13.689451</td>\n",
       "      <td>0.374794</td>\n",
       "      <td>89.263473</td>\n",
       "      <td>0.210877</td>\n",
       "      <td>0.028791</td>\n",
       "      <td>19.393326</td>\n",
       "      <td>0.806067</td>\n",
       "      <td>8557.787301</td>\n",
       "      <td>18840.152416</td>\n",
       "      <td>0.687649</td>\n",
       "    </tr>\n",
       "    <tr>\n",
       "      <th>4</th>\n",
       "      <td>2017-05-19 12:00:00</td>\n",
       "      <td>2017-06-19 12:00:00</td>\n",
       "      <td>6600.795179</td>\n",
       "      <td>7.581142</td>\n",
       "      <td>28.004482</td>\n",
       "      <td>22505.563546</td>\n",
       "      <td>3830.147705</td>\n",
       "      <td>29106.358725</td>\n",
       "      <td>33873.466033</td>\n",
       "      <td>92.505656</td>\n",
       "      <td>21.021215</td>\n",
       "      <td>0.170549</td>\n",
       "      <td>80.827787</td>\n",
       "      <td>0.096214</td>\n",
       "      <td>0.026046</td>\n",
       "      <td>22.678189</td>\n",
       "      <td>0.773218</td>\n",
       "      <td>10430.942884</td>\n",
       "      <td>18675.415841</td>\n",
       "      <td>0.641627</td>\n",
       "    </tr>\n",
       "    <tr>\n",
       "      <th>5</th>\n",
       "      <td>2017-06-19 12:00:00</td>\n",
       "      <td>2017-07-19 12:00:00</td>\n",
       "      <td>6187.592266</td>\n",
       "      <td>21.156559</td>\n",
       "      <td>71.184893</td>\n",
       "      <td>26831.909609</td>\n",
       "      <td>4934.470511</td>\n",
       "      <td>33019.501875</td>\n",
       "      <td>33019.501875</td>\n",
       "      <td>66.051661</td>\n",
       "      <td>22.036190</td>\n",
       "      <td>0.377842</td>\n",
       "      <td>81.017748</td>\n",
       "      <td>0.215584</td>\n",
       "      <td>0.064073</td>\n",
       "      <td>18.739205</td>\n",
       "      <td>0.812608</td>\n",
       "      <td>11122.062777</td>\n",
       "      <td>21897.439098</td>\n",
       "      <td>0.663167</td>\n",
       "    </tr>\n",
       "    <tr>\n",
       "      <th>6</th>\n",
       "      <td>2017-07-19 12:00:00</td>\n",
       "      <td>2017-08-19 12:00:00</td>\n",
       "      <td>4297.479005</td>\n",
       "      <td>5.642735</td>\n",
       "      <td>21.944220</td>\n",
       "      <td>22591.933966</td>\n",
       "      <td>2357.656597</td>\n",
       "      <td>26889.412971</td>\n",
       "      <td>31069.230888</td>\n",
       "      <td>62.430168</td>\n",
       "      <td>18.755069</td>\n",
       "      <td>0.096749</td>\n",
       "      <td>40.798179</td>\n",
       "      <td>0.081609</td>\n",
       "      <td>0.020985</td>\n",
       "      <td>15.982048</td>\n",
       "      <td>0.840180</td>\n",
       "      <td>6655.135602</td>\n",
       "      <td>20234.277369</td>\n",
       "      <td>0.752500</td>\n",
       "    </tr>\n",
       "    <tr>\n",
       "      <th>7</th>\n",
       "      <td>2017-08-19 12:00:00</td>\n",
       "      <td>2017-09-19 12:00:00</td>\n",
       "      <td>5430.065042</td>\n",
       "      <td>7.542355</td>\n",
       "      <td>10.769712</td>\n",
       "      <td>19050.219062</td>\n",
       "      <td>1149.083284</td>\n",
       "      <td>24480.284104</td>\n",
       "      <td>28867.394600</td>\n",
       "      <td>71.409029</td>\n",
       "      <td>14.133820</td>\n",
       "      <td>0.060217</td>\n",
       "      <td>14.536414</td>\n",
       "      <td>0.043993</td>\n",
       "      <td>0.030810</td>\n",
       "      <td>22.181381</td>\n",
       "      <td>0.778186</td>\n",
       "      <td>6579.148326</td>\n",
       "      <td>17901.135778</td>\n",
       "      <td>0.731247</td>\n",
       "    </tr>\n",
       "    <tr>\n",
       "      <th>8</th>\n",
       "      <td>2017-09-19 12:00:00</td>\n",
       "      <td>2017-10-19 12:00:00</td>\n",
       "      <td>10017.930231</td>\n",
       "      <td>8.323274</td>\n",
       "      <td>64.559927</td>\n",
       "      <td>19587.892852</td>\n",
       "      <td>8514.760821</td>\n",
       "      <td>29605.823083</td>\n",
       "      <td>34958.687683</td>\n",
       "      <td>79.895561</td>\n",
       "      <td>14.098775</td>\n",
       "      <td>0.281322</td>\n",
       "      <td>17.970504</td>\n",
       "      <td>0.218065</td>\n",
       "      <td>0.028114</td>\n",
       "      <td>33.837702</td>\n",
       "      <td>0.661623</td>\n",
       "      <td>18532.691052</td>\n",
       "      <td>11073.132031</td>\n",
       "      <td>0.374019</td>\n",
       "    </tr>\n",
       "    <tr>\n",
       "      <th>9</th>\n",
       "      <td>2017-10-19 12:00:00</td>\n",
       "      <td>2017-11-19 12:00:00</td>\n",
       "      <td>5902.938805</td>\n",
       "      <td>6.564893</td>\n",
       "      <td>107.208318</td>\n",
       "      <td>26693.739570</td>\n",
       "      <td>11788.277372</td>\n",
       "      <td>32596.678375</td>\n",
       "      <td>37476.907925</td>\n",
       "      <td>78.544061</td>\n",
       "      <td>23.102049</td>\n",
       "      <td>0.520673</td>\n",
       "      <td>25.099041</td>\n",
       "      <td>0.328893</td>\n",
       "      <td>0.020140</td>\n",
       "      <td>18.109019</td>\n",
       "      <td>0.818910</td>\n",
       "      <td>17691.216177</td>\n",
       "      <td>14905.462198</td>\n",
       "      <td>0.457269</td>\n",
       "    </tr>\n",
       "    <tr>\n",
       "      <th>10</th>\n",
       "      <td>2017-11-19 12:00:00</td>\n",
       "      <td>2017-12-19 12:00:00</td>\n",
       "      <td>8191.315390</td>\n",
       "      <td>2.463487</td>\n",
       "      <td>114.770286</td>\n",
       "      <td>25479.010968</td>\n",
       "      <td>15267.773726</td>\n",
       "      <td>33670.326358</td>\n",
       "      <td>38492.510329</td>\n",
       "      <td>83.047945</td>\n",
       "      <td>56.136120</td>\n",
       "      <td>8.976420</td>\n",
       "      <td>77.277599</td>\n",
       "      <td>0.340865</td>\n",
       "      <td>0.007316</td>\n",
       "      <td>24.327995</td>\n",
       "      <td>0.756720</td>\n",
       "      <td>23459.089116</td>\n",
       "      <td>10211.237242</td>\n",
       "      <td>0.303271</td>\n",
       "    </tr>\n",
       "    <tr>\n",
       "      <th>11</th>\n",
       "      <td>2017-12-19 12:00:00</td>\n",
       "      <td>2018-01-25 12:00:00</td>\n",
       "      <td>13567.856492</td>\n",
       "      <td>7.046068</td>\n",
       "      <td>69.327294</td>\n",
       "      <td>21152.379241</td>\n",
       "      <td>4010.474071</td>\n",
       "      <td>34720.235733</td>\n",
       "      <td>43440.314179</td>\n",
       "      <td>74.861111</td>\n",
       "      <td>18.373686</td>\n",
       "      <td>0.132185</td>\n",
       "      <td>21.351149</td>\n",
       "      <td>0.199674</td>\n",
       "      <td>0.020294</td>\n",
       "      <td>39.077662</td>\n",
       "      <td>0.609223</td>\n",
       "      <td>17578.330563</td>\n",
       "      <td>17141.905170</td>\n",
       "      <td>0.493715</td>\n",
       "    </tr>\n",
       "  </tbody>\n",
       "</table>\n",
       "</div>"
      ],
      "text/plain": [
       "           month_start           month_end  en_exit_jobs_kWh  \\\n",
       "1  2017-02-19 12:00:00 2017-03-19 12:00:00       4317.861826   \n",
       "2  2017-03-19 12:00:00 2017-04-19 12:00:00       6805.040174   \n",
       "3  2017-04-19 12:00:00 2017-05-19 12:00:00       5313.371848   \n",
       "4  2017-05-19 12:00:00 2017-06-19 12:00:00       6600.795179   \n",
       "5  2017-06-19 12:00:00 2017-07-19 12:00:00       6187.592266   \n",
       "6  2017-07-19 12:00:00 2017-08-19 12:00:00       4297.479005   \n",
       "7  2017-08-19 12:00:00 2017-09-19 12:00:00       5430.065042   \n",
       "8  2017-09-19 12:00:00 2017-10-19 12:00:00      10017.930231   \n",
       "9  2017-10-19 12:00:00 2017-11-19 12:00:00       5902.938805   \n",
       "10 2017-11-19 12:00:00 2017-12-19 12:00:00       8191.315390   \n",
       "11 2017-12-19 12:00:00 2018-01-25 12:00:00      13567.856492   \n",
       "\n",
       "    en_exit_short_jobs_kWh  en_exit_long_jobs_remainder_kWh  en_done_jobs_kWh  \\\n",
       "1                 3.215989                        76.271213      22686.567603   \n",
       "2                11.187131                        80.917532      28834.552185   \n",
       "3                 7.888162                        57.776055      22084.567869   \n",
       "4                 7.581142                        28.004482      22505.563546   \n",
       "5                21.156559                        71.184893      26831.909609   \n",
       "6                 5.642735                        21.944220      22591.933966   \n",
       "7                 7.542355                        10.769712      19050.219062   \n",
       "8                 8.323274                        64.559927      19587.892852   \n",
       "9                 6.564893                       107.208318      26693.739570   \n",
       "10                2.463487                       114.770286      25479.010968   \n",
       "11                7.046068                        69.327294      21152.379241   \n",
       "\n",
       "    en_done_long_jobs_kWh  en_no_outliers_kWh  en_with_outliers_kWh  \\\n",
       "1            10600.383136        27004.429429          31140.764417   \n",
       "2            11127.866632        35639.592358          35675.376358   \n",
       "3             3244.415453        27397.939717          33283.833554   \n",
       "4             3830.147705        29106.358725          33873.466033   \n",
       "5             4934.470511        33019.501875          33019.501875   \n",
       "6             2357.656597        26889.412971          31069.230888   \n",
       "7             1149.083284        24480.284104          28867.394600   \n",
       "8             8514.760821        29605.823083          34958.687683   \n",
       "9            11788.277372        32596.678375          37476.907925   \n",
       "10           15267.773726        33670.326358          38492.510329   \n",
       "11            4010.474071        34720.235733          43440.314179   \n",
       "\n",
       "    percentage_10_kWh  percentage_short_jobs  percentage_long_jobs  \\\n",
       "1           88.756614              37.324633              2.805873   \n",
       "2           79.153094              32.406988              0.739217   \n",
       "3           68.852459              13.689451              0.374794   \n",
       "4           92.505656              21.021215              0.170549   \n",
       "5           66.051661              22.036190              0.377842   \n",
       "6           62.430168              18.755069              0.096749   \n",
       "7           71.409029              14.133820              0.060217   \n",
       "8           79.895561              14.098775              0.281322   \n",
       "9           78.544061              23.102049              0.520673   \n",
       "10          83.047945              56.136120              8.976420   \n",
       "11          74.861111              18.373686              0.132185   \n",
       "\n",
       "    percentage_exit_jobs  percentage_energy_long_jobs  \\\n",
       "1              51.729201                     0.282440   \n",
       "2              61.170194                     0.227044   \n",
       "3              89.263473                     0.210877   \n",
       "4              80.827787                     0.096214   \n",
       "5              81.017748                     0.215584   \n",
       "6              40.798179                     0.081609   \n",
       "7              14.536414                     0.043993   \n",
       "8              17.970504                     0.218065   \n",
       "9              25.099041                     0.328893   \n",
       "10             77.277599                     0.340865   \n",
       "11             21.351149                     0.199674   \n",
       "\n",
       "    percentage_energy_short_jobs  percentage_energy_exit_jobs      DCeP  \\\n",
       "1                       0.011909                    15.989458  0.840105   \n",
       "2                       0.031390                    19.094046  0.809060   \n",
       "3                       0.028791                    19.393326  0.806067   \n",
       "4                       0.026046                    22.678189  0.773218   \n",
       "5                       0.064073                    18.739205  0.812608   \n",
       "6                       0.020985                    15.982048  0.840180   \n",
       "7                       0.030810                    22.181381  0.778186   \n",
       "8                       0.028114                    33.837702  0.661623   \n",
       "9                       0.020140                    18.109019  0.818910   \n",
       "10                      0.007316                    24.327995  0.756720   \n",
       "11                      0.020294                    39.077662  0.609223   \n",
       "\n",
       "    en_exit_only_jobs_kWh  en_done_only_jobs_kWh  DCeP_exit_done_only  \n",
       "1            14918.244962           12086.184467             0.447563  \n",
       "2            17932.906806           17706.685553             0.496826  \n",
       "3             8557.787301           18840.152416             0.687649  \n",
       "4            10430.942884           18675.415841             0.641627  \n",
       "5            11122.062777           21897.439098             0.663167  \n",
       "6             6655.135602           20234.277369             0.752500  \n",
       "7             6579.148326           17901.135778             0.731247  \n",
       "8            18532.691052           11073.132031             0.374019  \n",
       "9            17691.216177           14905.462198             0.457269  \n",
       "10           23459.089116           10211.237242             0.303271  \n",
       "11           17578.330563           17141.905170             0.493715  "
      ]
     },
     "execution_count": 42,
     "metadata": {},
     "output_type": "execute_result"
    }
   ],
   "source": [
    "summary"
   ]
  },
  {
   "cell_type": "code",
   "execution_count": 43,
   "metadata": {
    "collapsed": true
   },
   "outputs": [],
   "source": [
    "write_to_excel( summary, os.path.join( Working_dir, 'energy_summary.xlsx') )"
   ]
  },
  {
   "cell_type": "markdown",
   "metadata": {},
   "source": [
    "----\n",
    "### Energy by jobs scope"
   ]
  },
  {
   "cell_type": "code",
   "execution_count": 9,
   "metadata": {
    "collapsed": true
   },
   "outputs": [],
   "source": [
    "def percent_energy_use_by_application_scope ( lsf_examined, summary_value, exit_done='exit' ):\n",
    "    if 'exit'==exit_done:\n",
    "        str_ex_done = '_exit_'\n",
    "    elif 'done'==exit_done:\n",
    "        str_ex_done = '_done_'\n",
    "    else:\n",
    "        str_ex_done = '_'\n",
    "    lsf_examined.application_performed_and_scope.fillna('other/unavailable', inplace=True)\n",
    "    lsf_month_df_scope = lsf_examined.\\\n",
    "          groupby(['application_performed_and_scope'], as_index = False)['energy'+str_ex_done+'kWh'].sum().\\\n",
    "          sort_values('energy'+str_ex_done+'kWh', ascending=False)\n",
    "    lsf_month_df_scope.loc[:,'energy'+str_ex_done+'percentage'] = lsf_month_df_scope.loc[:,'energy'+\\\n",
    "                                                                                         str_ex_done+'kWh']\\\n",
    "    *100/summary_value\n",
    "    lsf_month_df_scope.index = lsf_month_df_scope.application_performed_and_scope\n",
    "    return lsf_month_df_scope"
   ]
  },
  {
   "cell_type": "code",
   "execution_count": 12,
   "metadata": {
    "collapsed": true
   },
   "outputs": [],
   "source": [
    "right_limit = datetime.datetime(year=2018, month=1, day=25, hour = 12)\n",
    "left_time_border = datetime.datetime(2017,2,19,12,0)\n",
    "right_time_border = datetime.datetime(2017,3,19,12,0)\n",
    "i=1\n",
    "lsf_df_consolid_scope = pd.DataFrame(index = lsf_df.application_performed_and_scope.\\\n",
    "                                               fillna('other/unavailable').unique(), \\\n",
    "                                     columns=['application_performed_and_scope',\\\n",
    "                                    'energy_done_kWh', 'energy_exit_kWh', 'energy_kWh'])\n",
    "lsf_df_consolid_scope[:]=0\n",
    "summary = pd.read_excel( os.path.join( Working_dir, 'energy_summary.xlsx'))\n",
    "while ( right_time_border <= right_limit ):\n",
    "    \n",
    "    folder_name = Working_dir + \"\\\\\"\\\n",
    "          + left_time_border.strftime(\"%d.%m.%Y %H.%M\") \\\n",
    "          + right_time_border.strftime(\" - %d.%m.%Y %H.%M\")\n",
    "\n",
    "    lsf_month_df_exit = pd.read_excel(os.path.join( folder_name, 'lsf_exited_month_df.xlsx'))\n",
    "    lsf_month_df_done = pd.read_excel(os.path.join( folder_name, 'lsf_done_month_df.xlsx'))\n",
    "\n",
    "    lsf_month_df_exit_scope = percent_energy_use_by_application_scope ( lsf_month_df_exit, \\\n",
    "                                                                       summary.loc[i,'en_no_outliers_kWh'], \\\n",
    "                                                                       exit_done='exit' )\n",
    "    lsf_month_df_done_scope = percent_energy_use_by_application_scope ( lsf_month_df_done, \\\n",
    "                                                                       summary.loc[i,'en_no_outliers_kWh'],\\\n",
    "                                                                       exit_done='done' )\n",
    "    \n",
    "    lsf_month_df_consolid_scope = pd.DataFrame(index = \\\n",
    "                                               lsf_month_df_exit_scope.index.append(lsf_month_df_done_scope.index).\\\n",
    "                                               fillna('other/unavailable').unique())\n",
    "    lsf_month_df_consolid_scope[:]=0\n",
    "    \n",
    "    lsf_month_df_consolid_scope.loc[lsf_month_df_exit_scope.index, 'energy_exit_kWh'] = \\\n",
    "    lsf_month_df_exit_scope.loc[:, 'energy_exit_kWh']\n",
    "\n",
    "    lsf_month_df_consolid_scope.loc[lsf_month_df_done_scope.index, 'energy_done_kWh'] = \\\n",
    "    lsf_month_df_done_scope.loc[:, 'energy_done_kWh']\n",
    "\n",
    "    lsf_month_df_consolid_scope.loc[lsf_month_df_exit_scope.index, 'energy_exit_percentage'] = \\\n",
    "    lsf_month_df_exit_scope.loc[:, 'energy_exit_percentage']\n",
    "\n",
    "    lsf_month_df_consolid_scope.loc[lsf_month_df_done_scope.index, 'energy_done_percentage'] = \\\n",
    "    lsf_month_df_done_scope.loc[:, 'energy_done_percentage']\n",
    "    \n",
    "    lsf_month_df_consolid_scope.fillna(0, inplace=True)\n",
    "\n",
    "    lsf_month_df_consolid_scope.loc[:,'energy_kWh'] = lsf_month_df_consolid_scope.energy_exit_kWh + \\\n",
    "    lsf_month_df_consolid_scope.energy_done_kWh\n",
    "\n",
    "    lsf_month_df_consolid_scope.loc[:,'energy_percentage'] = (lsf_month_df_consolid_scope.energy_exit_kWh + \\\n",
    "    lsf_month_df_consolid_scope.energy_done_kWh)/summary.loc[i,'en_no_outliers_kWh']*100\n",
    "    \n",
    "    ix = lsf_month_df_consolid_scope.index\n",
    "    lsf_df_consolid_scope.loc[ix,'energy_done_kWh'] += lsf_month_df_consolid_scope.loc[ix,'energy_done_kWh'].copy()\n",
    "\n",
    "    lsf_df_consolid_scope.loc[ix,'energy_exit_kWh'] += lsf_month_df_consolid_scope.loc[ix,'energy_exit_kWh'].copy()\n",
    "    lsf_df_consolid_scope.loc[ix,'energy_kWh'] += lsf_month_df_consolid_scope.loc[ix,'energy_kWh'].copy()    \n",
    "    \n",
    "    write_to_excel( lsf_month_df_exit_scope, os.path.join( folder_name, 'lsf_month_df_exit_scope.xlsx') )\n",
    "    write_to_excel( lsf_month_df_done_scope, os.path.join( folder_name, 'lsf_month_df_done_scope.xlsx') )\n",
    "    write_to_excel( lsf_month_df_consolid_scope, os.path.join( folder_name, 'lsf_month_df_scope.xlsx') )\n",
    "    \n",
    "    left_time_border = right_time_border\n",
    "    \n",
    "    if (12 > right_time_border.month):\n",
    "        date_new = datetime.date(year=right_time_border.year, month=right_time_border.month+1, day=right_time_border.day)\n",
    "        right_time_border = datetime.datetime.combine(date_new, right_time_border.time())\n",
    "    else:\n",
    "        right_time_border = right_limit\n",
    "#     print('\\n', left_time_border, right_time_border)\n",
    "#     print(lsf_month_df_exit.energy_exit_kWh.sum()+\\\n",
    "#       lsf_month_df_done.energy_done_kWh.sum(),\\\n",
    "#       summary.loc[i,'en_no_outliers_kWh'],\\\n",
    "#       lsf_month_df_done_scope.energy_done_kWh.sum()+\\\n",
    "#       lsf_month_df_exit_scope.energy_exit_kWh.sum())\n",
    "    i+=1"
   ]
  },
  {
   "cell_type": "code",
   "execution_count": 13,
   "metadata": {
    "collapsed": true
   },
   "outputs": [],
   "source": [
    "lsf_df_consolid_scope.loc[:, 'energy_percentage'] = lsf_df_consolid_scope.energy_kWh/lsf_df_consolid_scope.energy_kWh.sum()*100\n",
    "lsf_df_consolid_scope.loc[:, 'energy_exit_percentage'] = lsf_df_consolid_scope.energy_exit_kWh/lsf_df_consolid_scope.energy_kWh.sum()*100"
   ]
  },
  {
   "cell_type": "code",
   "execution_count": 14,
   "metadata": {
    "collapsed": true
   },
   "outputs": [],
   "source": [
    "lsf_df_consolid_scope.application_performed_and_scope = lsf_df_consolid_scope.index\n",
    "write_to_excel( lsf_df_consolid_scope.sort_values('energy_percentage', ascending=False), \\\n",
    "               os.path.join( Working_dir, 'lsf_df_consolid_scope.xlsx') )"
   ]
  },
  {
   "cell_type": "code",
   "execution_count": 61,
   "metadata": {
    "collapsed": true
   },
   "outputs": [],
   "source": [
    "lsf_df_consolid_scope = pd.read_excel( os.path.join( Working_dir, 'lsf_df_consolid_scope.xlsx') )"
   ]
  },
  {
   "cell_type": "code",
   "execution_count": 10,
   "metadata": {
    "collapsed": true
   },
   "outputs": [],
   "source": [
    "def rename_scope( df, regexpr, new_name, printing=False):\n",
    "    names = df.\\\n",
    "    application_performed_and_scope.\\\n",
    "    str.extractall(regexpr)\n",
    "    ix = names.iloc[:,0]\n",
    "    \n",
    "    if printing:\n",
    "        print(names)\n",
    "    df.loc[ix,'application_performed_and_scope'] = new_name\n",
    "    df.index = df.application_performed_and_scope\n",
    "    return 0\n",
    "\n",
    "def rename_all( df, printing=False ):\n",
    "    \n",
    "    \n",
    "    rename_scope( df, \n",
    "             regexpr='(.*(?i)system op.*)', \n",
    "             new_name='Admin System Elaboration',\n",
    "             printing=printing )\n",
    "    \n",
    "    rename_scope( df, \n",
    "                 regexpr='(.*(?i)system el.*)', \n",
    "                 new_name='Admin System Elaboration',\n",
    "                 printing=printing )\n",
    "\n",
    "    rename_scope( df, \n",
    "                 regexpr='(^Simula.*)', \n",
    "                 new_name='Monte Carlo Simulations for the Development of Particle Detectors',\n",
    "                 printing=printing )\n",
    "\n",
    "    rename_scope( df, \n",
    "                 regexpr='(.*(?i)chimere.*)', \n",
    "                 new_name='Chemistry-transport model is dedicated to regional atmospheric pollution event (CHIMERE)',\n",
    "                 printing=printing )\n",
    "    \n",
    "    rename_scope( df, \n",
    "                 regexpr='(.*(?i)MINNI.*)', \n",
    "                 new_name='System capabilities to simulate air quality (MINNI)',\n",
    "                 printing=printing )\n",
    "\n",
    "    rename_scope( df, \n",
    "                 regexpr='(^(?i)quantum.*)', \n",
    "                 new_name='Suite for ab initio quantum chemistry methods of electronic-structure'+\\\n",
    "                 'calculation \\n'+\\\n",
    "                 'and materials modeling (Quantum Espresso)', printing=printing )\n",
    "\n",
    "    rename_scope( df, \n",
    "                 regexpr='(^(?i)REGCM4.*)', \n",
    "                 new_name='Regional Climate Model system (REGCM4)', printing=printing )\n",
    "\n",
    "    rename_scope( df, \n",
    "                 regexpr='(^(?i)groma.*)', \n",
    "                 new_name='Molecular dynamics package mainly designed for simulations\\n'+\\\n",
    "                 'of proteins, lipids and nucleic acids (GROMACS)', printing=printing )\n",
    "\n",
    "    rename_scope( df, \n",
    "                 regexpr='(^(?i)cpmd.*)', \n",
    "                 new_name='(CPMD)', \n",
    "                 printing=printing )\n",
    "\n",
    "    rename_scope( df, \n",
    "                 regexpr='(.*(?i)mitgcm.*)', \n",
    "                 new_name='Oceanography salinity water (MITO - MITGCM)', \n",
    "                 printing=printing )\n",
    "\n",
    "    rename_scope( df, \n",
    "                 regexpr='(^(?i)eranos.*)', \n",
    "                 new_name='Neutronic analysis (ERANOS)', \n",
    "                 printing=printing )\n",
    "\n",
    "    rename_scope( df, \n",
    "                 regexpr='(^(?i)cp2k.*)', \n",
    "                 new_name='Atomistic simulations of solid state, liquid, '+\\\n",
    "                 'molecular and biological systems (CP2K)', \n",
    "                 printing=printing )\n",
    "\n",
    "    rename_scope( df, \n",
    "                 regexpr='(.*(?i)hmgc.*)', \n",
    "                 new_name='Simulation of electron driven fishbone instability in tokamaks (HMGC)', \n",
    "                 printing=printing )\n",
    "\n",
    "    rename_scope( df, \n",
    "                 regexpr='(.*(?i)cyclotron.*)', \n",
    "                 new_name='Auto Resonance Maser source,\\n'+\\\n",
    "                 'operating at 250 GHz and conceived for Plasma Fusion research activities (Cyclotron)', \n",
    "                 printing=printing )\n",
    "\n",
    "    rename_scope( df, \n",
    "                 regexpr='(.*(?i)openfoam.*)', \n",
    "                 new_name='Free, open source software for computational fluid dynamics (OpenFOAM)', \n",
    "                 printing=printing )\n",
    "\n",
    "    rename_scope( df, \n",
    "                 regexpr='(.*(?i)heart.*)', \n",
    "                 new_name='Heart combustion', \n",
    "                 printing=printing )\n",
    "\n",
    "    rename_scope( df, \n",
    "                 regexpr='(.*(?i)FARM.*)', \n",
    "                 new_name='Air quality forecast (FARM+RAMS)', \n",
    "                 printing=printing )\n",
    "\n",
    "    rename_scope( df, \n",
    "                 regexpr='(.*(?i)CUDA.*)', \n",
    "                 new_name='Programming on GPU (CUDA)', \n",
    "                 printing=printing )\n",
    "\n",
    "    rename_scope( df, \n",
    "                 regexpr='(^(?i)climate.*)', \n",
    "                 new_name='Climate modelling', \n",
    "                 printing=printing )\n",
    "\n",
    "    rename_scope( df, \n",
    "                 regexpr='(.*(?i)hetero.*)', \n",
    "                 new_name='Application of parallel algebraic '+\\\n",
    "                 'multilevel domain decomposition preconditioners \\n'+\\\n",
    "                 'in large eddy simulations of wall-bounded turbulent flows (HETERO3D)',\n",
    "                 printing=printing )\n",
    "\n",
    "    rename_scope( df, \n",
    "                 regexpr='(.*(?i)dna nanostructures.*)', \n",
    "                 new_name='Computational design and modelling of complex DNA nanostructures',\n",
    "                 printing=printing )\n",
    "\n",
    "    rename_scope( df, \n",
    "                 regexpr='(.*(?i)GeO2 liquid.*)', \n",
    "                 new_name='Computer simulation of GeO 2 liquid',\n",
    "                 printing=printing )\n",
    "\n",
    "    rename_scope( df, \n",
    "                 regexpr='(.*(?i)exome.*)', \n",
    "                 new_name='(EXOME22)',\n",
    "                 printing=printing )\n",
    "\n",
    "    rename_scope( df, \n",
    "                 regexpr='(^(?i)genetic analysis)', \n",
    "                 new_name='Genetic analysis',\n",
    "                 printing=printing )\n",
    "\n",
    "    rename_scope( df, \n",
    "                 regexpr='(^MCNP is.*)', \n",
    "                 new_name='General-purpose Monte Carlo N-Particle code that can be used for neutron, \\n'+\n",
    "                 'photon, electron, or coupled neutron,photon,electron transport nuclear fusion (MCNP)',\n",
    "                 printing=printing )\n",
    "\n",
    "    rename_scope( df, \n",
    "                 regexpr='(^(?i)MCNP)', \n",
    "                 new_name='General-purpose Monte Carlo N-Particle code that can be used for neutron, \\n'+\n",
    "                 'photon, electron, or coupled neutron,photon,electron transport nuclear fusion (MCNP)',\n",
    "                 printing=printing )\n",
    "    return df"
   ]
  },
  {
   "cell_type": "code",
   "execution_count": 63,
   "metadata": {
    "collapsed": true
   },
   "outputs": [
    {
     "name": "stdout",
     "output_type": "stream",
     "text": [
      "                                                                               0\n",
      "                                     match                                      \n",
      "admin system operation - imb openmpi 0      admin system operation - imb openmpi\n",
      "1\n",
      "                                                              0\n",
      "application_performed_and_scope match                          \n",
      "system elaboration              0            system elaboration\n",
      "Admin System Elaboration        0      Admin System Elaboration\n",
      "2\n",
      "                                                                                                          0\n",
      "application_performed_and_scope                    match                                                   \n",
      "Simulazioni Monte Carlo per lo sviluppo di rive... 0      Simulazioni Monte Carlo per lo sviluppo di riv...\n",
      "1\n",
      "                                                                                                         0\n",
      "application_performed_and_scope                   match                                                   \n",
      "MINNI system capabilities to simulate air quality 0      MINNI system capabilities to simulate air quality\n",
      "MINNI                                             0                                                  MINNI\n",
      "2\n",
      "                                                                                                          0\n",
      "application_performed_and_scope                    match                                                   \n",
      "System capabilities to simulate air quality (MI... 0      System capabilities to simulate air quality (M...\n",
      "                                                   0      System capabilities to simulate air quality (M...\n",
      "                                                                                                          0\n",
      "application_performed_and_scope                    match                                                   \n",
      "quantum expresso                                   0                                       quantum expresso\n",
      "QUANTUM ESPRESSO: a modular and open-source sof... 0      QUANTUM ESPRESSO: a modular and open-source so...\n",
      "2\n",
      "                                                                                   0\n",
      "application_performed_and_scope        match                                        \n",
      "REGCM4 A Regional Climate Model system 0      REGCM4 A Regional Climate Model system\n",
      "1\n",
      "Empty DataFrame\n",
      "Columns: [0]\n",
      "Index: []\n",
      "0\n",
      "Empty DataFrame\n",
      "Columns: [0]\n",
      "Index: []\n",
      "0\n",
      "                                                                                           0\n",
      "application_performed_and_scope            match                                            \n",
      "MITO - MITGCM- oceanography salinity water 0      MITO - MITGCM- oceanography salinity water\n",
      "1\n",
      "Empty DataFrame\n",
      "Columns: [0]\n",
      "Index: []\n",
      "0\n",
      "                                                                                                          0\n",
      "application_performed_and_scope                    match                                                   \n",
      "CP2K atomistic simulations of solid state, liqu... 0      CP2K atomistic simulations of solid state, liq...\n",
      "1\n",
      "Empty DataFrame\n",
      "Columns: [0]\n",
      "Index: []\n",
      "0\n",
      "Empty DataFrame\n",
      "Columns: [0]\n",
      "Index: []\n",
      "0\n",
      "Empty DataFrame\n",
      "Columns: [0]\n",
      "Index: []\n",
      "0\n",
      "Empty DataFrame\n",
      "Columns: [0]\n",
      "Index: []\n",
      "0\n",
      "                                                                     0\n",
      "application_performed_and_scope match                                 \n",
      "FARM +RAMS FORECAST AIR QUALITY 0      FARM +RAMS FORECAST AIR QUALITY\n",
      "1\n",
      "Empty DataFrame\n",
      "Columns: [0]\n",
      "Index: []\n",
      "0\n",
      "                                                      0\n",
      "application_performed_and_scope match                  \n",
      "climate modeling                0      climate modeling\n",
      "1\n",
      "                                                                                                          0\n",
      "application_performed_and_scope                    match                                                   \n",
      "HETERO3D - Application of parallel algebraic mu... 0      HETERO3D - Application of parallel algebraic m...\n",
      "1\n",
      "                                                                                                          0\n",
      "application_performed_and_scope                    match                                                   \n",
      "computational design and modelling of complex D... 0      computational design and modelling of complex ...\n",
      "1\n",
      "Empty DataFrame\n",
      "Columns: [0]\n",
      "Index: []\n",
      "0\n",
      "Empty DataFrame\n",
      "Columns: [0]\n",
      "Index: []\n",
      "0\n",
      "                                                      0\n",
      "application_performed_and_scope match                  \n",
      "genetic analysis                0      genetic analysis\n",
      "1\n",
      "                                                                                                          0\n",
      "application_performed_and_scope                    match                                                   \n",
      "MCNP is a general-purpose Monte Carlo N-Particl... 0      MCNP is a general-purpose Monte Carlo N-Partic...\n",
      "MCNP is a general-purpose Monte Carlo N-Particl... 0      MCNP is a general-purpose Monte Carlo N-Partic...\n",
      "MCNP is a general-purpose Monte Carlo N-Particl... 0      MCNP is a general-purpose Monte Carlo N-Partic...\n",
      "3\n",
      "                                          0\n",
      "application_performed_and_scope match      \n",
      "MCNP                            0      MCNP\n",
      "1\n"
     ]
    },
    {
     "data": {
      "text/plain": [
       "0"
      ]
     },
     "execution_count": 63,
     "metadata": {},
     "output_type": "execute_result"
    }
   ],
   "source": [
    "lsf_df_consolid_scope.application_performed_and_scope[lsf_df_consolid_scope.energy_percentage<1]=\\\n",
    "'Applications using less than 1% of energy each'\n",
    "\n",
    "lsf_df_consolid_scope = rename_all(lsf_df_consolid_scope, printing=True)"
   ]
  },
  {
   "cell_type": "code",
   "execution_count": 64,
   "metadata": {
    "collapsed": true
   },
   "outputs": [],
   "source": [
    "lsf_df_consolid_scope = \\\n",
    "lsf_df_consolid_scope.groupby('application_performed_and_scope', \n",
    "                              as_index=False)[['energy_done_kWh',\n",
    "                                               'energy_exit_kWh', \n",
    "                                               'energy_kWh', \n",
    "                                               'energy_percentage', \n",
    "                                               'energy_exit_percentage']].\\\n",
    "sum().sort_values('energy_kWh', ascending=False)"
   ]
  },
  {
   "cell_type": "code",
   "execution_count": null,
   "metadata": {
    "collapsed": true
   },
   "outputs": [],
   "source": [
    "write_to_excel( lsf_df_consolid_scope.sort_values('energy_percentage', ascending=False), \\\n",
    "               os.path.join( Working_dir, 'lsf_df_consolid_scope_renamed.xlsx') )"
   ]
  },
  {
   "cell_type": "markdown",
   "metadata": {},
   "source": [
    "### Categories (scope) of energy waste"
   ]
  },
  {
   "cell_type": "code",
   "execution_count": 18,
   "metadata": {},
   "outputs": [
    {
     "data": {
      "text/html": [
       "<div>\n",
       "<style>\n",
       "    .dataframe thead tr:only-child th {\n",
       "        text-align: right;\n",
       "    }\n",
       "\n",
       "    .dataframe thead th {\n",
       "        text-align: left;\n",
       "    }\n",
       "\n",
       "    .dataframe tbody tr th {\n",
       "        vertical-align: top;\n",
       "    }\n",
       "</style>\n",
       "<table border=\"1\" class=\"dataframe\">\n",
       "  <thead>\n",
       "    <tr style=\"text-align: right;\">\n",
       "      <th></th>\n",
       "      <th>application_performed_and_scope</th>\n",
       "      <th>energy_done_kWh</th>\n",
       "      <th>energy_exit_kWh</th>\n",
       "      <th>energy_kWh</th>\n",
       "      <th>energy_percentage</th>\n",
       "      <th>energy_exit_percentage</th>\n",
       "    </tr>\n",
       "  </thead>\n",
       "  <tbody>\n",
       "    <tr>\n",
       "      <th>8</th>\n",
       "      <td>General-purpose Monte Carlo N-Particle code th...</td>\n",
       "      <td>79609.059588</td>\n",
       "      <td>26285.984805</td>\n",
       "      <td>105895.044393</td>\n",
       "      <td>31.692712</td>\n",
       "      <td>7.866980</td>\n",
       "    </tr>\n",
       "    <tr>\n",
       "      <th>3</th>\n",
       "      <td>Applications using less than 1% of energy each</td>\n",
       "      <td>35537.771491</td>\n",
       "      <td>18108.547038</td>\n",
       "      <td>53646.318529</td>\n",
       "      <td>16.055495</td>\n",
       "      <td>5.419602</td>\n",
       "    </tr>\n",
       "    <tr>\n",
       "      <th>0</th>\n",
       "      <td>Admin System Elaboration</td>\n",
       "      <td>4127.757389</td>\n",
       "      <td>7792.408357</td>\n",
       "      <td>11920.165746</td>\n",
       "      <td>3.567517</td>\n",
       "      <td>2.332145</td>\n",
       "    </tr>\n",
       "    <tr>\n",
       "      <th>1</th>\n",
       "      <td>Air quality forecast (FARM+RAMS)</td>\n",
       "      <td>37625.754129</td>\n",
       "      <td>4701.737231</td>\n",
       "      <td>42327.491360</td>\n",
       "      <td>12.667949</td>\n",
       "      <td>1.407156</td>\n",
       "    </tr>\n",
       "    <tr>\n",
       "      <th>12</th>\n",
       "      <td>Oceanography salinity water (MITO - MITGCM)</td>\n",
       "      <td>4032.815931</td>\n",
       "      <td>3956.907149</td>\n",
       "      <td>7989.723080</td>\n",
       "      <td>2.391198</td>\n",
       "      <td>1.184240</td>\n",
       "    </tr>\n",
       "    <tr>\n",
       "      <th>15</th>\n",
       "      <td>System capabilities to simulate air quality (M...</td>\n",
       "      <td>30215.949465</td>\n",
       "      <td>3639.558298</td>\n",
       "      <td>33855.507763</td>\n",
       "      <td>10.132418</td>\n",
       "      <td>1.089262</td>\n",
       "    </tr>\n",
       "    <tr>\n",
       "      <th>7</th>\n",
       "      <td>Computer simulation of GeO 2 liquid</td>\n",
       "      <td>4740.260993</td>\n",
       "      <td>2910.180569</td>\n",
       "      <td>7650.441562</td>\n",
       "      <td>2.289656</td>\n",
       "      <td>0.870971</td>\n",
       "    </tr>\n",
       "    <tr>\n",
       "      <th>4</th>\n",
       "      <td>Atomistic simulations of solid state, liquid, ...</td>\n",
       "      <td>3641.689857</td>\n",
       "      <td>2403.046283</td>\n",
       "      <td>6044.736140</td>\n",
       "      <td>1.809094</td>\n",
       "      <td>0.719194</td>\n",
       "    </tr>\n",
       "    <tr>\n",
       "      <th>5</th>\n",
       "      <td>Climate modelling</td>\n",
       "      <td>4507.590662</td>\n",
       "      <td>1390.477236</td>\n",
       "      <td>5898.067898</td>\n",
       "      <td>1.765198</td>\n",
       "      <td>0.416148</td>\n",
       "    </tr>\n",
       "    <tr>\n",
       "      <th>13</th>\n",
       "      <td>Regional Climate Model system (REGCM4)</td>\n",
       "      <td>19771.440281</td>\n",
       "      <td>1269.391936</td>\n",
       "      <td>21040.832218</td>\n",
       "      <td>6.297188</td>\n",
       "      <td>0.379909</td>\n",
       "    </tr>\n",
       "    <tr>\n",
       "      <th>10</th>\n",
       "      <td>Monte Carlo N-Particle Transport Code</td>\n",
       "      <td>3632.120462</td>\n",
       "      <td>1125.879870</td>\n",
       "      <td>4758.000332</td>\n",
       "      <td>1.423994</td>\n",
       "      <td>0.336958</td>\n",
       "    </tr>\n",
       "    <tr>\n",
       "      <th>2</th>\n",
       "      <td>Application of parallel algebraic multilevel d...</td>\n",
       "      <td>3372.856631</td>\n",
       "      <td>996.684434</td>\n",
       "      <td>4369.541065</td>\n",
       "      <td>1.307735</td>\n",
       "      <td>0.298292</td>\n",
       "    </tr>\n",
       "    <tr>\n",
       "      <th>9</th>\n",
       "      <td>Genetic analysis</td>\n",
       "      <td>3801.401257</td>\n",
       "      <td>748.606765</td>\n",
       "      <td>4550.008022</td>\n",
       "      <td>1.361745</td>\n",
       "      <td>0.224046</td>\n",
       "    </tr>\n",
       "    <tr>\n",
       "      <th>6</th>\n",
       "      <td>Computational design and modelling of complex ...</td>\n",
       "      <td>6956.168022</td>\n",
       "      <td>454.452588</td>\n",
       "      <td>7410.620610</td>\n",
       "      <td>2.217882</td>\n",
       "      <td>0.136010</td>\n",
       "    </tr>\n",
       "    <tr>\n",
       "      <th>14</th>\n",
       "      <td>Suite for ab initio quantum chemistry methods ...</td>\n",
       "      <td>9245.909114</td>\n",
       "      <td>436.988369</td>\n",
       "      <td>9682.897484</td>\n",
       "      <td>2.897938</td>\n",
       "      <td>0.130784</td>\n",
       "    </tr>\n",
       "    <tr>\n",
       "      <th>11</th>\n",
       "      <td>Monte Carlo Simulations for the Development of...</td>\n",
       "      <td>6679.791198</td>\n",
       "      <td>411.395329</td>\n",
       "      <td>7091.186526</td>\n",
       "      <td>2.122280</td>\n",
       "      <td>0.123124</td>\n",
       "    </tr>\n",
       "  </tbody>\n",
       "</table>\n",
       "</div>"
      ],
      "text/plain": [
       "                      application_performed_and_scope  energy_done_kWh  \\\n",
       "8   General-purpose Monte Carlo N-Particle code th...     79609.059588   \n",
       "3      Applications using less than 1% of energy each     35537.771491   \n",
       "0                            Admin System Elaboration      4127.757389   \n",
       "1                    Air quality forecast (FARM+RAMS)     37625.754129   \n",
       "12        Oceanography salinity water (MITO - MITGCM)      4032.815931   \n",
       "15  System capabilities to simulate air quality (M...     30215.949465   \n",
       "7                 Computer simulation of GeO 2 liquid      4740.260993   \n",
       "4   Atomistic simulations of solid state, liquid, ...      3641.689857   \n",
       "5                                   Climate modelling      4507.590662   \n",
       "13             Regional Climate Model system (REGCM4)     19771.440281   \n",
       "10              Monte Carlo N-Particle Transport Code      3632.120462   \n",
       "2   Application of parallel algebraic multilevel d...      3372.856631   \n",
       "9                                    Genetic analysis      3801.401257   \n",
       "6   Computational design and modelling of complex ...      6956.168022   \n",
       "14  Suite for ab initio quantum chemistry methods ...      9245.909114   \n",
       "11  Monte Carlo Simulations for the Development of...      6679.791198   \n",
       "\n",
       "    energy_exit_kWh     energy_kWh  energy_percentage  energy_exit_percentage  \n",
       "8      26285.984805  105895.044393          31.692712                7.866980  \n",
       "3      18108.547038   53646.318529          16.055495                5.419602  \n",
       "0       7792.408357   11920.165746           3.567517                2.332145  \n",
       "1       4701.737231   42327.491360          12.667949                1.407156  \n",
       "12      3956.907149    7989.723080           2.391198                1.184240  \n",
       "15      3639.558298   33855.507763          10.132418                1.089262  \n",
       "7       2910.180569    7650.441562           2.289656                0.870971  \n",
       "4       2403.046283    6044.736140           1.809094                0.719194  \n",
       "5       1390.477236    5898.067898           1.765198                0.416148  \n",
       "13      1269.391936   21040.832218           6.297188                0.379909  \n",
       "10      1125.879870    4758.000332           1.423994                0.336958  \n",
       "2        996.684434    4369.541065           1.307735                0.298292  \n",
       "9        748.606765    4550.008022           1.361745                0.224046  \n",
       "6        454.452588    7410.620610           2.217882                0.136010  \n",
       "14       436.988369    9682.897484           2.897938                0.130784  \n",
       "11       411.395329    7091.186526           2.122280                0.123124  "
      ]
     },
     "execution_count": 18,
     "metadata": {},
     "output_type": "execute_result"
    }
   ],
   "source": [
    "lsf_df_consolid_scope.sort_values('energy_exit_percentage', ascending=False)"
   ]
  },
  {
   "cell_type": "markdown",
   "metadata": {
    "collapsed": true
   },
   "source": [
    "#### Ideas on grouping more elements into scopes"
   ]
  },
  {
   "cell_type": "code",
   "execution_count": 221,
   "metadata": {},
   "outputs": [
    {
     "data": {
      "text/plain": [
       "['2017_new', 'antenna']"
      ]
     },
     "execution_count": 221,
     "metadata": {},
     "output_type": "execute_result"
    }
   ],
   "source": [
    "lsf_df_consolid_scope_names = lsf_df_consolid_scope.\\\n",
    "     application_performed_and_scope.\\\n",
    "     str.extractall('(^/gporq2/scratch_0/usr/wangt/.*)').iloc[:,0]\n",
    "folder_list = []\n",
    "for i in range(lsf_df_consolid_scope_names.shape[0]):\n",
    "    folder_name = lsf_df_consolid_scope_names.str.split('/')[i]\n",
    "    if (len(folder_name)>5):\n",
    "        folder_name=folder_name[5]\n",
    "        if not(folder_name in folder_list):\n",
    "            folder_list.append(folder_name)\n",
    "\n",
    "folder_list"
   ]
  },
  {
   "cell_type": "markdown",
   "metadata": {},
   "source": [
    "----\n",
    "## Minor analysis results. \n",
    "More in data visualization file"
   ]
  },
  {
   "cell_type": "markdown",
   "metadata": {},
   "source": [
    "### LSF timestapms check"
   ]
  },
  {
   "cell_type": "code",
   "execution_count": 4,
   "metadata": {},
   "outputs": [
    {
     "name": "stdout",
     "output_type": "stream",
     "text": [
      "2018-01-25 04:12:17\n",
      "2016-12-28 21:12:32\n"
     ]
    }
   ],
   "source": [
    "print(lsf_df.stop_timestamp_py.max())\n",
    "print(lsf_df.stop_timestamp_py.min())\n",
    "# Timestamp('2018-01-25 04:12:17')"
   ]
  },
  {
   "cell_type": "markdown",
   "metadata": {},
   "source": [
    "### Check if there is any job which was reported as \"done\" but exceeded queue max duration time"
   ]
  },
  {
   "cell_type": "code",
   "execution_count": 240,
   "metadata": {},
   "outputs": [
    {
     "data": {
      "text/html": [
       "<div>\n",
       "<style>\n",
       "    .dataframe thead tr:only-child th {\n",
       "        text-align: right;\n",
       "    }\n",
       "\n",
       "    .dataframe thead th {\n",
       "        text-align: left;\n",
       "    }\n",
       "\n",
       "    .dataframe tbody tr th {\n",
       "        vertical-align: top;\n",
       "    }\n",
       "</style>\n",
       "<table border=\"1\" class=\"dataframe\">\n",
       "  <thead>\n",
       "    <tr style=\"text-align: right;\">\n",
       "      <th></th>\n",
       "      <th>row_counter</th>\n",
       "      <th>job_id</th>\n",
       "      <th>number_of_cores_used</th>\n",
       "      <th>user_name</th>\n",
       "      <th>queue_len_hours</th>\n",
       "      <th>queue_name</th>\n",
       "      <th>directory_of_running_executable</th>\n",
       "      <th>name_of_executable</th>\n",
       "      <th>job_status</th>\n",
       "      <th>start_unixtime</th>\n",
       "      <th>stop_unixtime</th>\n",
       "      <th>job_duration_sec</th>\n",
       "      <th>queue_duration_sec</th>\n",
       "      <th>percentage_of_usage_of_queue</th>\n",
       "      <th>residual_time_of_queue</th>\n",
       "      <th>application_performed_and_scope</th>\n",
       "      <th>start_timestamp_py</th>\n",
       "      <th>stop_timestamp_py</th>\n",
       "      <th>executable_full_name</th>\n",
       "    </tr>\n",
       "  </thead>\n",
       "  <tbody>\n",
       "  </tbody>\n",
       "</table>\n",
       "</div>"
      ],
      "text/plain": [
       "Empty DataFrame\n",
       "Columns: [row_counter, job_id, number_of_cores_used, user_name, queue_len_hours, queue_name, directory_of_running_executable, name_of_executable, job_status, start_unixtime, stop_unixtime, job_duration_sec, queue_duration_sec, percentage_of_usage_of_queue, residual_time_of_queue, application_performed_and_scope, start_timestamp_py, stop_timestamp_py, executable_full_name]\n",
       "Index: []"
      ]
     },
     "execution_count": 240,
     "metadata": {},
     "output_type": "execute_result"
    }
   ],
   "source": [
    "lsf_df_init = pd.read_excel( os.path.join( Working_dir, \"lsf_v3_py.xlsx\" ) )\n",
    "lsf_df_init[((lsf_df_init.job_status=='done')&(lsf_df_init.queue_duration_sec < lsf_df_init.job_duration_sec))]"
   ]
  },
  {
   "cell_type": "markdown",
   "metadata": {},
   "source": [
    "### Percentage of all reported jobs which had small duration"
   ]
  },
  {
   "cell_type": "code",
   "execution_count": 261,
   "metadata": {},
   "outputs": [
    {
     "name": "stdout",
     "output_type": "stream",
     "text": [
      "<=30 seconds, percentage related to the number of jobs:  19.197125132851426 %\n",
      "<=50 seconds, percentage related to the number of jobs:  26.416516541415724 %\n"
     ]
    }
   ],
   "source": [
    "print('<=30 seconds, percentage related to the number of jobs: ', lsf_df[ lsf_df.job_duration_sec <=30 ].shape[0] / lsf_df.shape[0] * 100, '%')\n",
    "print('<=50 seconds, percentage related to the number of jobs: ', lsf_df[ lsf_df.job_duration_sec <=50 ].shape[0] / lsf_df.shape[0] * 100, '%')"
   ]
  },
  {
   "cell_type": "markdown",
   "metadata": {},
   "source": [
    "---\n",
    "## EWR table"
   ]
  },
  {
   "cell_type": "code",
   "execution_count": 360,
   "metadata": {},
   "outputs": [
    {
     "data": {
      "text/html": [
       "<div>\n",
       "<style>\n",
       "    .dataframe thead tr:only-child th {\n",
       "        text-align: right;\n",
       "    }\n",
       "\n",
       "    .dataframe thead th {\n",
       "        text-align: left;\n",
       "    }\n",
       "\n",
       "    .dataframe tbody tr th {\n",
       "        vertical-align: top;\n",
       "    }\n",
       "</style>\n",
       "<table border=\"1\" class=\"dataframe\">\n",
       "  <thead>\n",
       "    <tr style=\"text-align: right;\">\n",
       "      <th></th>\n",
       "      <th>$\\leq 30 $ sec</th>\n",
       "      <th>$&gt;$ queue time</th>\n",
       "      <th>other reasons</th>\n",
       "    </tr>\n",
       "  </thead>\n",
       "  <tbody>\n",
       "    <tr>\n",
       "      <th>Min</th>\n",
       "      <td>0.00731649</td>\n",
       "      <td>0.0439934</td>\n",
       "      <td>15.982</td>\n",
       "    </tr>\n",
       "    <tr>\n",
       "      <th>Max</th>\n",
       "      <td>0.0640729</td>\n",
       "      <td>0.340865</td>\n",
       "      <td>39.0777</td>\n",
       "    </tr>\n",
       "    <tr>\n",
       "      <th>Mean</th>\n",
       "      <td>0.0263516</td>\n",
       "      <td>0.204114</td>\n",
       "      <td>22.6736</td>\n",
       "    </tr>\n",
       "    <tr>\n",
       "      <th>Variance</th>\n",
       "      <td>0.013988</td>\n",
       "      <td>0.0922504</td>\n",
       "      <td>7.04565</td>\n",
       "    </tr>\n",
       "  </tbody>\n",
       "</table>\n",
       "</div>"
      ],
      "text/plain": [
       "         $\\leq 30 $ sec $>$ queue time other reasons\n",
       "Min          0.00731649      0.0439934        15.982\n",
       "Max           0.0640729       0.340865       39.0777\n",
       "Mean          0.0263516       0.204114       22.6736\n",
       "Variance       0.013988      0.0922504       7.04565"
      ]
     },
     "execution_count": 360,
     "metadata": {},
     "output_type": "execute_result"
    }
   ],
   "source": [
    "summary_brief = pd.DataFrame(columns=[r'$\\leq 30 $ sec', '$>$ queue time', 'other reasons'], \\\n",
    "                             index=['Min','Max','Mean','Variance'])\n",
    "\n",
    "summary_brief.iloc[0, 0] = summary.percentage_energy_short_jobs.min()\n",
    "summary_brief.iloc[1, 0] = summary.percentage_energy_short_jobs.max()\n",
    "summary_brief.iloc[2, 0] = np.mean(summary.percentage_energy_short_jobs.as_matrix())\n",
    "summary_brief.iloc[3, 0] = np.std(summary.percentage_energy_short_jobs.as_matrix())\n",
    "\n",
    "summary_brief.iloc[0, 1] = summary.percentage_energy_long_jobs.min()\n",
    "summary_brief.iloc[1, 1] = summary.percentage_energy_long_jobs.max()\n",
    "summary_brief.iloc[2, 1] = np.mean(summary.percentage_energy_long_jobs.as_matrix())\n",
    "summary_brief.iloc[3, 1] = np.std(summary.percentage_energy_long_jobs.as_matrix())\n",
    "\n",
    "summary_brief.iloc[0, 2] = summary.percentage_energy_exit_jobs.min()\n",
    "summary_brief.iloc[1, 2] = summary.percentage_energy_exit_jobs.max()\n",
    "summary_brief.iloc[2, 2] = np.mean(summary.percentage_energy_exit_jobs.as_matrix())\n",
    "summary_brief.iloc[3, 2] = np.std(summary.percentage_energy_exit_jobs.as_matrix())\n",
    "\n",
    "write_to_excel(summary_brief, os.path.join( Working_dir, 'energy_percentage_summary_brief.xlsx') )\n",
    "\n",
    "summary_brief"
   ]
  },
  {
   "cell_type": "markdown",
   "metadata": {},
   "source": [
    "----\n",
    "## EWR for queues and serial vs // jobs"
   ]
  },
  {
   "cell_type": "code",
   "execution_count": 22,
   "metadata": {
    "collapsed": true
   },
   "outputs": [],
   "source": [
    "queues_duration = lsf_df.groupby( 'queue_name', as_index=False )['job_duration_sec'].sum()\n",
    "queues_duration.loc[:,'job_duration_min'] = queues_duration.job_duration_sec /60.\n",
    "queues_duration.loc[:,'job_duration_hour'] = queues_duration.job_duration_sec /3600.\n",
    "write_to_excel( queues_duration.sort_values('job_duration_sec', ascending=False), \\\n",
    "               os.path.join( Working_dir, 'queues_duration.xlsx') )"
   ]
  },
  {
   "cell_type": "code",
   "execution_count": 25,
   "metadata": {},
   "outputs": [
    {
     "data": {
      "text/html": [
       "<div>\n",
       "<style>\n",
       "    .dataframe thead tr:only-child th {\n",
       "        text-align: right;\n",
       "    }\n",
       "\n",
       "    .dataframe thead th {\n",
       "        text-align: left;\n",
       "    }\n",
       "\n",
       "    .dataframe tbody tr th {\n",
       "        vertical-align: top;\n",
       "    }\n",
       "</style>\n",
       "<table border=\"1\" class=\"dataframe\">\n",
       "  <thead>\n",
       "    <tr style=\"text-align: right;\">\n",
       "      <th></th>\n",
       "      <th>queue_name</th>\n",
       "      <th>job_duration_sec</th>\n",
       "      <th>job_duration_min</th>\n",
       "      <th>job_duration_hour</th>\n",
       "    </tr>\n",
       "  </thead>\n",
       "  <tbody>\n",
       "    <tr>\n",
       "      <th>10</th>\n",
       "      <td>fsn3_24h24</td>\n",
       "      <td>1.731400e+04</td>\n",
       "      <td>2.885667e+02</td>\n",
       "      <td>4.809444</td>\n",
       "    </tr>\n",
       "    <tr>\n",
       "      <th>0</th>\n",
       "      <td>chimere</td>\n",
       "      <td>1.466980e+05</td>\n",
       "      <td>2.444967e+03</td>\n",
       "      <td>40.749444</td>\n",
       "    </tr>\n",
       "    <tr>\n",
       "      <th>15</th>\n",
       "      <td>small_10m</td>\n",
       "      <td>3.116350e+05</td>\n",
       "      <td>5.193917e+03</td>\n",
       "      <td>86.565279</td>\n",
       "    </tr>\n",
       "    <tr>\n",
       "      <th>13</th>\n",
       "      <td>hpc_ha_h3</td>\n",
       "      <td>4.399830e+05</td>\n",
       "      <td>7.333050e+03</td>\n",
       "      <td>122.217500</td>\n",
       "    </tr>\n",
       "    <tr>\n",
       "      <th>3</th>\n",
       "      <td>cpu_plus</td>\n",
       "      <td>6.327480e+05</td>\n",
       "      <td>1.054580e+04</td>\n",
       "      <td>175.763333</td>\n",
       "    </tr>\n",
       "    <tr>\n",
       "      <th>1</th>\n",
       "      <td>clima</td>\n",
       "      <td>7.586460e+05</td>\n",
       "      <td>1.264410e+04</td>\n",
       "      <td>210.735000</td>\n",
       "    </tr>\n",
       "    <tr>\n",
       "      <th>2</th>\n",
       "      <td>combustione4</td>\n",
       "      <td>9.912330e+05</td>\n",
       "      <td>1.652055e+04</td>\n",
       "      <td>275.342500</td>\n",
       "    </tr>\n",
       "    <tr>\n",
       "      <th>11</th>\n",
       "      <td>fsn4_16h24</td>\n",
       "      <td>1.413074e+06</td>\n",
       "      <td>2.355123e+04</td>\n",
       "      <td>392.520556</td>\n",
       "    </tr>\n",
       "    <tr>\n",
       "      <th>4</th>\n",
       "      <td>cresco4_16h24</td>\n",
       "      <td>2.225722e+07</td>\n",
       "      <td>3.709536e+05</td>\n",
       "      <td>6182.560000</td>\n",
       "    </tr>\n",
       "    <tr>\n",
       "      <th>8</th>\n",
       "      <td>cresco4minni_16h24</td>\n",
       "      <td>2.363440e+07</td>\n",
       "      <td>3.939067e+05</td>\n",
       "      <td>6565.112222</td>\n",
       "    </tr>\n",
       "    <tr>\n",
       "      <th>9</th>\n",
       "      <td>cresco4open_256h24</td>\n",
       "      <td>2.688706e+07</td>\n",
       "      <td>4.481177e+05</td>\n",
       "      <td>7468.627500</td>\n",
       "    </tr>\n",
       "    <tr>\n",
       "      <th>16</th>\n",
       "      <td>small_h144</td>\n",
       "      <td>4.515012e+07</td>\n",
       "      <td>7.525020e+05</td>\n",
       "      <td>12541.700556</td>\n",
       "    </tr>\n",
       "    <tr>\n",
       "      <th>14</th>\n",
       "      <td>metinet</td>\n",
       "      <td>6.020798e+07</td>\n",
       "      <td>1.003466e+06</td>\n",
       "      <td>16724.437500</td>\n",
       "    </tr>\n",
       "    <tr>\n",
       "      <th>17</th>\n",
       "      <td>system</td>\n",
       "      <td>1.073887e+08</td>\n",
       "      <td>1.789812e+06</td>\n",
       "      <td>29830.198889</td>\n",
       "    </tr>\n",
       "    <tr>\n",
       "      <th>5</th>\n",
       "      <td>cresco4_256h24</td>\n",
       "      <td>1.370840e+08</td>\n",
       "      <td>2.284733e+06</td>\n",
       "      <td>38078.886111</td>\n",
       "    </tr>\n",
       "    <tr>\n",
       "      <th>7</th>\n",
       "      <td>cresco4_h6</td>\n",
       "      <td>2.671631e+08</td>\n",
       "      <td>4.452719e+06</td>\n",
       "      <td>74211.980278</td>\n",
       "    </tr>\n",
       "    <tr>\n",
       "      <th>12</th>\n",
       "      <td>hpc_ha_h24</td>\n",
       "      <td>7.589077e+08</td>\n",
       "      <td>1.264846e+07</td>\n",
       "      <td>210807.695556</td>\n",
       "    </tr>\n",
       "    <tr>\n",
       "      <th>6</th>\n",
       "      <td>cresco4_h144</td>\n",
       "      <td>2.309236e+09</td>\n",
       "      <td>3.848727e+07</td>\n",
       "      <td>641454.442222</td>\n",
       "    </tr>\n",
       "  </tbody>\n",
       "</table>\n",
       "</div>"
      ],
      "text/plain": [
       "            queue_name  job_duration_sec  job_duration_min  job_duration_hour\n",
       "10          fsn3_24h24      1.731400e+04      2.885667e+02           4.809444\n",
       "0              chimere      1.466980e+05      2.444967e+03          40.749444\n",
       "15           small_10m      3.116350e+05      5.193917e+03          86.565279\n",
       "13           hpc_ha_h3      4.399830e+05      7.333050e+03         122.217500\n",
       "3             cpu_plus      6.327480e+05      1.054580e+04         175.763333\n",
       "1                clima      7.586460e+05      1.264410e+04         210.735000\n",
       "2         combustione4      9.912330e+05      1.652055e+04         275.342500\n",
       "11          fsn4_16h24      1.413074e+06      2.355123e+04         392.520556\n",
       "4        cresco4_16h24      2.225722e+07      3.709536e+05        6182.560000\n",
       "8   cresco4minni_16h24      2.363440e+07      3.939067e+05        6565.112222\n",
       "9   cresco4open_256h24      2.688706e+07      4.481177e+05        7468.627500\n",
       "16          small_h144      4.515012e+07      7.525020e+05       12541.700556\n",
       "14             metinet      6.020798e+07      1.003466e+06       16724.437500\n",
       "17              system      1.073887e+08      1.789812e+06       29830.198889\n",
       "5       cresco4_256h24      1.370840e+08      2.284733e+06       38078.886111\n",
       "7           cresco4_h6      2.671631e+08      4.452719e+06       74211.980278\n",
       "12          hpc_ha_h24      7.589077e+08      1.264846e+07      210807.695556\n",
       "6         cresco4_h144      2.309236e+09      3.848727e+07      641454.442222"
      ]
     },
     "execution_count": 25,
     "metadata": {},
     "output_type": "execute_result"
    }
   ],
   "source": [
    "queues_duration.sort_values('job_duration_hour')"
   ]
  },
  {
   "cell_type": "markdown",
   "metadata": {},
   "source": [
    "### Is there -> correspondence between app name and queue or between app name and mode of execution (serial/parallel)\n",
    "\n",
    "If app name a, then queue name b\n",
    "\n",
    "a->b\n",
    "\n",
    "or not?"
   ]
  },
  {
   "cell_type": "code",
   "execution_count": 58,
   "metadata": {
    "collapsed": true
   },
   "outputs": [],
   "source": [
    "app_queue_groups = pd.DataFrame(lsf_df.groupby(['application_performed_and_scope', 'queue_name']).size())"
   ]
  },
  {
   "cell_type": "code",
   "execution_count": 59,
   "metadata": {},
   "outputs": [
    {
     "data": {
      "text/html": [
       "<div>\n",
       "<style>\n",
       "    .dataframe thead tr:only-child th {\n",
       "        text-align: right;\n",
       "    }\n",
       "\n",
       "    .dataframe thead th {\n",
       "        text-align: left;\n",
       "    }\n",
       "\n",
       "    .dataframe tbody tr th {\n",
       "        vertical-align: top;\n",
       "    }\n",
       "</style>\n",
       "<table border=\"1\" class=\"dataframe\">\n",
       "  <thead>\n",
       "    <tr style=\"text-align: right;\">\n",
       "      <th></th>\n",
       "      <th></th>\n",
       "      <th>0</th>\n",
       "    </tr>\n",
       "    <tr>\n",
       "      <th>application_performed_and_scope</th>\n",
       "      <th>queue_name</th>\n",
       "      <th></th>\n",
       "    </tr>\n",
       "  </thead>\n",
       "  <tbody>\n",
       "    <tr>\n",
       "      <th rowspan=\"4\" valign=\"top\">ANSYS FLUENT software is used to design products and semiconductors</th>\n",
       "      <th>cpu_plus</th>\n",
       "      <td>22</td>\n",
       "    </tr>\n",
       "    <tr>\n",
       "      <th>cresco4_h144</th>\n",
       "      <td>26</td>\n",
       "    </tr>\n",
       "    <tr>\n",
       "      <th>cresco4_h6</th>\n",
       "      <td>28</td>\n",
       "    </tr>\n",
       "    <tr>\n",
       "      <th>small_10m</th>\n",
       "      <td>10</td>\n",
       "    </tr>\n",
       "    <tr>\n",
       "      <th>CHIMERE chemistry-transport model is dedicated to regional atmospheric pollution event</th>\n",
       "      <th>chimere</th>\n",
       "      <td>5</td>\n",
       "    </tr>\n",
       "  </tbody>\n",
       "</table>\n",
       "</div>"
      ],
      "text/plain": [
       "                                                                  0\n",
       "application_performed_and_scope                    queue_name      \n",
       " ANSYS FLUENT software is used to design produc... cpu_plus      22\n",
       "                                                   cresco4_h144  26\n",
       "                                                   cresco4_h6    28\n",
       "                                                   small_10m     10\n",
       " CHIMERE chemistry-transport model is dedicated... chimere        5"
      ]
     },
     "execution_count": 59,
     "metadata": {},
     "output_type": "execute_result"
    }
   ],
   "source": [
    "app_queue_groups.head()"
   ]
  },
  {
   "cell_type": "markdown",
   "metadata": {},
   "source": [
    "---------\n",
    "#### Answer: NO\n",
    "- Applications from one scope have been run on different queues\n",
    "- Therefore, impossible to determine whether app was serial or parallel (?)"
   ]
  },
  {
   "cell_type": "code",
   "execution_count": 71,
   "metadata": {
    "collapsed": true
   },
   "outputs": [],
   "source": [
    "app_queue_scope_groups = pd.DataFrame(lsf_df.groupby(['queue_name','application_performed_and_scope']).size())\n",
    "app_queue_scope_groups.reset_index(inplace=True)\n",
    "app_queue_scope_groups.set_index('application_performed_and_scope', inplace=True, drop=False)\n",
    "app_queue_scope_groups = rename_all(app_queue_scope_groups)\n",
    "app_queue_scope_groups.rename(index=str, columns={0: 'no_of_submitted_jobs'}, inplace=True)"
   ]
  },
  {
   "cell_type": "code",
   "execution_count": 74,
   "metadata": {
    "collapsed": true
   },
   "outputs": [],
   "source": [
    "app_queue_scope_groups = pd.DataFrame(app_queue_scope_groups.\\\n",
    "                                      groupby(['queue_name','application_performed_and_scope'])['no_of_submitted_jobs'].sum())\n",
    "write_to_excel( app_queue_scope_groups, os.path.join( Working_dir, 'queue_app_scope_groups.xlsx')  )"
   ]
  },
  {
   "cell_type": "markdown",
   "metadata": {},
   "source": [
    "-------------\n",
    "## EWR - queues"
   ]
  },
  {
   "cell_type": "code",
   "execution_count": 26,
   "metadata": {
    "collapsed": true
   },
   "outputs": [],
   "source": [
    "queue_summary_global = pd.DataFrame(columns=['en_exit_jobs_kWh', \\\n",
    "                                'en_exit_short_jobs_kWh', 'en_exit_long_jobs_remainder_kWh',\\\n",
    "                                'en_done_jobs_kWh','en_done_long_jobs_kWh'], index=lsf_df.queue_name.unique())\n",
    "queue_summary_global[:]=0"
   ]
  },
  {
   "cell_type": "code",
   "execution_count": 84,
   "metadata": {
    "collapsed": true
   },
   "outputs": [
    {
     "name": "stdout",
     "output_type": "stream",
     "text": [
      "10\n",
      "Proc matrix finished\n",
      "\n",
      "Proc matrix finished\n",
      "\n",
      "Proc matrix finished\n",
      "\n",
      "Proc matrix finished\n",
      "\n",
      "Proc matrix finished\n",
      "\n",
      "en_exit_jobs_kWh                   13567.856492\n",
      "en_exit_short_jobs_kWh                 7.046068\n",
      "en_exit_long_jobs_remainder_kWh       69.327294\n",
      "en_done_jobs_kWh                   21152.379241\n",
      "en_done_long_jobs_kWh               4010.474071\n",
      "dtype: float64\n",
      "One line added to summary\n"
     ]
    }
   ],
   "source": [
    "i = 9\n",
    "left_time_border = datetime.datetime(2017,i+2,19,12,0)\n",
    "if i>=10:\n",
    "#     date_new = lsf_df.stop_timestamp_py.max().date()\n",
    "    date_new = datetime.date(year=2018, month=1, day=25)\n",
    "    right_time_border = datetime.datetime.combine(date_new, right_time_border.time())\n",
    "else:\n",
    "    right_time_border = datetime.datetime(2017,i+3,19,12,0)\n",
    "\n",
    "print(i)\n",
    "\n",
    "i=i+1\n",
    "# open folder and read preprocessed zabbix and lsf data for one month\n",
    "folder_name = Working_dir + \"\\\\\"\\\n",
    "          + left_time_border.strftime(\"%d.%m.%Y %H.%M\") \\\n",
    "          + right_time_border.strftime(\" - %d.%m.%Y %H.%M\")\n",
    "\n",
    "zabbix_month_df = pd.read_excel( os.path.join( folder_name, \"zabbix_month_py.xlsx\" ) )\n",
    "lsf_month_df = pd.read_excel( os.path.join( folder_name, \"lsf_month_py.xlsx\" ) )\n",
    "\n",
    "# create a dictionary of dataframes \n",
    "# each dataframe is named as in proc_df_names\n",
    "# each dataframe is a matrix of coefficients \n",
    "# w_ij = sum_k (duration of job k on queue i in sec duing hour j) / \n",
    "#        /3600 * (number of cores required for job k on queue i completion)\n",
    "proc_df_dict = {}\n",
    "proc_df_names = ['proc_df_exit', 'proc_df_exit_short', 'proc_df_exit_long', 'proc_df_done', 'proc_df_done_long']\n",
    "job_status_list = [ 'exit', 'exit_short_30_sec', 'exit_long', 'done', 'done_long' ]\n",
    "for name, status in zip(proc_df_names, job_status_list):\n",
    "    proc_df_dict[name] = process_matrix_one_month( zabbix_month_df, lsf_month_df, folder_name, \n",
    "                                                  job_status=status, category='queue' )\n",
    "\n",
    "# create a dictionary of dataframes\n",
    "# each dataframe is named as in queue_df_names\n",
    "# each dataframe has queue names as index\n",
    "# queue names (or indices) are chosen according to the status of jobs\n",
    "# each dataframe contains data about one current month only\n",
    "# e.g.1: queue_exited_month_df = dataframe where indices are such queue names,\n",
    "# the jobs on which exited with either \"exit\", \"exit_short_30_sec\" or \"exit_long\"\n",
    "# e.g.2: queue_exit_short_month_df = dataframe where indices are such queue names,\n",
    "# the jobs on which exited with \"exit_short_30_sec\" only\n",
    "# so far these dataframes have one column apart from index which is qn_col or \"queue_name\"\n",
    "queue_df_dict = {}\n",
    "queue_df_names = ['queue_exited_month_df', 'queue_exit_short_month_df', 'queue_exit_long_month_df', \n",
    "                  'queue_done_month_df', 'queue_done_long_month_df']\n",
    "qn_col = 'queue_name'\n",
    "for df_name, status in zip(queue_df_names, job_status_list):\n",
    "    queue_df_dict[df_name] = pd.DataFrame( slice_month_df( lsf_month_df, job_status=status )[qn_col].\\\n",
    "                                          drop_duplicates()).set_index(qn_col, drop=False)\n",
    "\n",
    "# working with zabbix \n",
    "# z = array of values representing hourly energy use excluding outliers\n",
    "# values correspongin to outliers in z = 0\n",
    "z = zabbix_month_df.estimated_en_use_no_outliers.fillna(0).as_matrix()\n",
    "if z.sum()==0:\n",
    "    z = zabbix_month_df.estimated_en_use.fillna(0).as_matrix()\n",
    "    \n",
    "# for all types of dataframes formed by process_matrix_one_month function (proc_df)\n",
    "# for all queue names active during this month from lsf,\n",
    "# i.e. for all columns of proc_df\n",
    "# convert proc_df from coefficients matrix to matrix showing \n",
    "# what amount of energy was used by every queue (column) in every hour (row)\n",
    "# by multiplying each column of proc_df (coeficients=portions) and z (energy)\n",
    "for proc_df_name in proc_df_names:\n",
    "    for q_name in lsf_month_df[qn_col].unique():\n",
    "        proc_df_dict[proc_df_name].loc[:,q_name] = proc_df_dict[proc_df_name].loc[:, q_name].as_matrix()*z/1000.\n",
    "    \n",
    "# add corresponding columns to queue dataframes\n",
    "# one queue dataframe will get one new corresponding column\n",
    "queue_df_col_names = ['energy_exit_kWh', 'energy_exit_short_kWh', 'energy_exit_long_kWh', \n",
    "                      'energy_done_kWh', 'energy_done_long_kWh']\n",
    "# each column corresponds to a type of job status\n",
    "# each row = each index = name of a queue\n",
    "# to get overall energy value for a queue, \n",
    "# we sum energy values from proc_df for a column corresponding to the queue name (qn_col) over all hours\n",
    "for q_df_name, col_name, proc_df_name in zip( queue_df_names, queue_df_col_names, proc_df_names ):\n",
    "    queue_df_dict[df_name][col_name] = proc_df_dict[proc_df_name][ queue_df_dict[df_name][qn_col] ].sum(axis=0)\n",
    "    \n",
    "# create summary dataframe for all queues for one current month\n",
    "# each row = each index = name of a queue\n",
    "# previous queue dataframes contained only some queue names of all queue names from lsf\n",
    "# since we chose them according to job status type\n",
    "# (a queue can have jobs with some job status types, maybe not all of them)\n",
    "queue_summary = pd.DataFrame(columns=['en_exit_jobs_kWh', \\\n",
    "                                'en_exit_short_jobs_kWh', 'en_exit_long_jobs_remainder_kWh',\\\n",
    "                                'en_done_jobs_kWh','en_done_long_jobs_kWh'], index=lsf_df[qn_col].unique())\n",
    "queue_summary[:]=0\n",
    "for q_df_name, col_name, proc_df_name in zip( queue_df_names, queue_summary.columns.values, proc_df_names ):\n",
    "    queue_summary[col_name] = proc_df_dict[proc_df_name][queue_df_dict[q_df_name][qn_col]].sum(axis=0)\n",
    "queue_summary.fillna(0, inplace=True)\n",
    "\n",
    "# queue_summary_global - dataframe with aggregated data for all months\n",
    "queue_summary_global = queue_summary_global + queue_summary\n",
    "\n",
    "# write dataframes for current month\n",
    "write_to_excel( queue_summary, os.path.join( folder_name, 'queue_summary_month_df_v2.xlsx') )\n",
    "for q_df_name in queue_df_names:\n",
    "    write_to_excel( queue_df_dict[q_df_name], os.path.join( folder_name, q_df_name + '.xlsx') )\n",
    "\n",
    "print('One line added to summary')"
   ]
  },
  {
   "cell_type": "code",
   "execution_count": 106,
   "metadata": {
    "collapsed": true
   },
   "outputs": [],
   "source": [
    "queue_summary_global.loc[:,'EWR_percentage'] = queue_summary_global.en_exit_jobs_kWh/\\\n",
    "(queue_summary_global.en_exit_jobs_kWh + queue_summary_global.en_done_jobs_kWh)*100\n",
    "\n",
    "queue_summary_global.loc[:, 'energy_kWh'] = queue_summary_global.en_done_jobs_kWh + queue_summary_global.en_exit_jobs_kWh\n",
    "\n",
    "queue_summary_global.loc[:, 'no_of_submitted_jobs'] = lsf_df.groupby( 'queue_name', as_index=True )['job_id'].count().values\n",
    "\n",
    "write_to_excel( queue_summary_global.sort_values('energy_kWh', ascending=False), \\\n",
    "               os.path.join( Working_dir, 'queue_summary_global_q.xlsx') )\n",
    "\n",
    "# summary_q = summary.copy()\n",
    "# write_to_excel( summary_q, os.path.join( Working_dir, 'energy_summary_q.xlsx') )"
   ]
  },
  {
   "cell_type": "code",
   "execution_count": 138,
   "metadata": {},
   "outputs": [
    {
     "data": {
      "text/plain": [
       "32.493977729940234"
      ]
     },
     "execution_count": 138,
     "metadata": {},
     "output_type": "execute_result"
    }
   ],
   "source": [
    "queue_summary_global.EWR_percentage.mean()"
   ]
  },
  {
   "cell_type": "markdown",
   "metadata": {},
   "source": [
    "### Additional calculations\n",
    "#### Some calculations for paper text - numbers to refer to"
   ]
  },
  {
   "cell_type": "code",
   "execution_count": 142,
   "metadata": {},
   "outputs": [
    {
     "data": {
      "text/plain": [
       "99.99616542577523"
      ]
     },
     "execution_count": 142,
     "metadata": {},
     "output_type": "execute_result"
    }
   ],
   "source": [
    "queue_summary_global.energy_kWh[:-4].sum()/queue_summary_global.energy_kWh.sum()*100"
   ]
  },
  {
   "cell_type": "code",
   "execution_count": 143,
   "metadata": {},
   "outputs": [
    {
     "data": {
      "text/plain": [
       "50660"
      ]
     },
     "execution_count": 143,
     "metadata": {},
     "output_type": "execute_result"
    }
   ],
   "source": [
    "queue_summary_global.no_of_submitted_jobs[:-4].sum()"
   ]
  },
  {
   "cell_type": "code",
   "execution_count": 144,
   "metadata": {},
   "outputs": [
    {
     "data": {
      "text/plain": [
       "9.546458425983854"
      ]
     },
     "execution_count": 144,
     "metadata": {},
     "output_type": "execute_result"
    }
   ],
   "source": [
    "queue_summary_global.no_of_submitted_jobs[:-4].sum()/queue_summary_global.no_of_submitted_jobs.sum()*100"
   ]
  },
  {
   "cell_type": "code",
   "execution_count": 145,
   "metadata": {},
   "outputs": [
    {
     "data": {
      "text/plain": [
       "90.45354157401616"
      ]
     },
     "execution_count": 145,
     "metadata": {},
     "output_type": "execute_result"
    }
   ],
   "source": [
    "queue_summary_global.no_of_submitted_jobs[-4:].sum()/queue_summary_global.no_of_submitted_jobs.sum()*100"
   ]
  },
  {
   "cell_type": "markdown",
   "metadata": {},
   "source": [
    "-----"
   ]
  },
  {
   "cell_type": "markdown",
   "metadata": {},
   "source": [
    "#### Check that \"chimere\" queue does not have any kind of \"done\" jobs"
   ]
  },
  {
   "cell_type": "code",
   "execution_count": 25,
   "metadata": {},
   "outputs": [
    {
     "data": {
      "text/plain": [
       "array(['exit_short_30_sec', 'EXIT'], dtype=object)"
      ]
     },
     "execution_count": 25,
     "metadata": {},
     "output_type": "execute_result"
    }
   ],
   "source": [
    "lsf_df.job_status.loc[lsf_df.queue_name=='chimere'].unique()"
   ]
  },
  {
   "cell_type": "markdown",
   "metadata": {},
   "source": [
    "#### What apps were run on \"chimere\""
   ]
  },
  {
   "cell_type": "code",
   "execution_count": 26,
   "metadata": {},
   "outputs": [
    {
     "name": "stdout",
     "output_type": "stream",
     "text": [
      "[ ' CHIMERE chemistry-transport model is dedicated to regional atmospheric pollution event'\n",
      " 'WEATHER RESEARCH AND FORECASTING MODEL']\n"
     ]
    }
   ],
   "source": [
    "print(lsf_df.application_performed_and_scope.loc[lsf_df.queue_name=='chimere'].unique())"
   ]
  },
  {
   "cell_type": "markdown",
   "metadata": {},
   "source": [
    "#### Some calculations for paper text - numbers to refer to"
   ]
  },
  {
   "cell_type": "code",
   "execution_count": 12,
   "metadata": {
    "collapsed": true
   },
   "outputs": [],
   "source": [
    "# queue_summary_global.energy_kWh[:-4].sum()/queue_summary_global.energy_kWh.sum()*100"
   ]
  },
  {
   "cell_type": "code",
   "execution_count": 13,
   "metadata": {
    "collapsed": true
   },
   "outputs": [],
   "source": [
    "# queue_summary_global.energy_kWh[:14].sum()/queue_summary_global.energy_kWh.sum()*100"
   ]
  },
  {
   "cell_type": "code",
   "execution_count": 14,
   "metadata": {
    "collapsed": true
   },
   "outputs": [],
   "source": [
    "# queue_summary_global.EWR_percentage[:14].mean()"
   ]
  },
  {
   "cell_type": "markdown",
   "metadata": {},
   "source": [
    "-----\n",
    "## Carbon factors - calculation of CO2e caused by electricity use by the cluster"
   ]
  },
  {
   "cell_type": "markdown",
   "metadata": {},
   "source": [
    "Carbon factor for Italy: 0.343 tCO2/MWh, as of 2013 (latest available)\n",
    "\n",
    "Source: Koffi B, Cerutti A.K., Duerr M., Iancu A., Kona A., Janssens-Maenhout G., Covenant of Mayors for Climate and Energy: Default emission factors for local emission inventories– Version 2017, EUR 28718 EN, Publications Office of the European Union, Luxembourg, 2017, ISBN 978-92-79-71479-5, doi:10.2760/290197, JRC107518."
   ]
  },
  {
   "cell_type": "code",
   "execution_count": 266,
   "metadata": {},
   "outputs": [
    {
     "data": {
      "text/html": [
       "<div>\n",
       "<style>\n",
       "    .dataframe thead tr:only-child th {\n",
       "        text-align: right;\n",
       "    }\n",
       "\n",
       "    .dataframe thead th {\n",
       "        text-align: left;\n",
       "    }\n",
       "\n",
       "    .dataframe tbody tr th {\n",
       "        vertical-align: top;\n",
       "    }\n",
       "</style>\n",
       "<table border=\"1\" class=\"dataframe\">\n",
       "  <thead>\n",
       "    <tr style=\"text-align: right;\">\n",
       "      <th></th>\n",
       "      <th>month_start</th>\n",
       "      <th>month_end</th>\n",
       "      <th>en_exit_jobs_kWh</th>\n",
       "      <th>en_exit_short_jobs_kWh</th>\n",
       "      <th>en_exit_long_jobs_remainder_kWh</th>\n",
       "      <th>en_done_jobs_kWh</th>\n",
       "      <th>en_done_long_jobs_kWh</th>\n",
       "      <th>en_no_outliers_kWh</th>\n",
       "      <th>en_with_outliers_kWh</th>\n",
       "      <th>percentage_10_kWh</th>\n",
       "      <th>...</th>\n",
       "      <th>percentage_exit_jobs</th>\n",
       "      <th>percentage_energy_long_jobs</th>\n",
       "      <th>percentage_energy_short_jobs</th>\n",
       "      <th>percentage_energy_exit_jobs</th>\n",
       "      <th>DCeP</th>\n",
       "      <th>en_exit_only_jobs_kWh</th>\n",
       "      <th>en_done_only_jobs_kWh</th>\n",
       "      <th>DCeP_exit_done_only</th>\n",
       "      <th>CO2e_all_jobs_t</th>\n",
       "      <th>CO2e_exit_jobs_t</th>\n",
       "    </tr>\n",
       "  </thead>\n",
       "  <tbody>\n",
       "    <tr>\n",
       "      <th>1</th>\n",
       "      <td>2017-02-19 12:00:00</td>\n",
       "      <td>2017-03-19 12:00:00</td>\n",
       "      <td>4317.861826</td>\n",
       "      <td>3.215989</td>\n",
       "      <td>76.271213</td>\n",
       "      <td>22686.567603</td>\n",
       "      <td>10600.383136</td>\n",
       "      <td>27004.429429</td>\n",
       "      <td>31140.764417</td>\n",
       "      <td>88.756614</td>\n",
       "      <td>...</td>\n",
       "      <td>51.729201</td>\n",
       "      <td>0.282440</td>\n",
       "      <td>0.011909</td>\n",
       "      <td>15.989458</td>\n",
       "      <td>0.840105</td>\n",
       "      <td>14918.244962</td>\n",
       "      <td>12086.184467</td>\n",
       "      <td>0.447563</td>\n",
       "      <td>9.262519</td>\n",
       "      <td>1.481027</td>\n",
       "    </tr>\n",
       "    <tr>\n",
       "      <th>2</th>\n",
       "      <td>2017-03-19 12:00:00</td>\n",
       "      <td>2017-04-19 12:00:00</td>\n",
       "      <td>6805.040174</td>\n",
       "      <td>11.187131</td>\n",
       "      <td>80.917532</td>\n",
       "      <td>28834.552185</td>\n",
       "      <td>11127.866632</td>\n",
       "      <td>35639.592358</td>\n",
       "      <td>35675.376358</td>\n",
       "      <td>79.153094</td>\n",
       "      <td>...</td>\n",
       "      <td>61.170194</td>\n",
       "      <td>0.227044</td>\n",
       "      <td>0.031390</td>\n",
       "      <td>19.094046</td>\n",
       "      <td>0.809060</td>\n",
       "      <td>17932.906806</td>\n",
       "      <td>17706.685553</td>\n",
       "      <td>0.496826</td>\n",
       "      <td>12.224380</td>\n",
       "      <td>2.334129</td>\n",
       "    </tr>\n",
       "    <tr>\n",
       "      <th>3</th>\n",
       "      <td>2017-04-19 12:00:00</td>\n",
       "      <td>2017-05-19 12:00:00</td>\n",
       "      <td>5313.371848</td>\n",
       "      <td>7.888162</td>\n",
       "      <td>57.776055</td>\n",
       "      <td>22084.567869</td>\n",
       "      <td>3244.415453</td>\n",
       "      <td>27397.939717</td>\n",
       "      <td>33283.833554</td>\n",
       "      <td>68.852459</td>\n",
       "      <td>...</td>\n",
       "      <td>89.263473</td>\n",
       "      <td>0.210877</td>\n",
       "      <td>0.028791</td>\n",
       "      <td>19.393326</td>\n",
       "      <td>0.806067</td>\n",
       "      <td>8557.787301</td>\n",
       "      <td>18840.152416</td>\n",
       "      <td>0.687649</td>\n",
       "      <td>9.397493</td>\n",
       "      <td>1.822487</td>\n",
       "    </tr>\n",
       "    <tr>\n",
       "      <th>4</th>\n",
       "      <td>2017-05-19 12:00:00</td>\n",
       "      <td>2017-06-19 12:00:00</td>\n",
       "      <td>6600.795179</td>\n",
       "      <td>7.581142</td>\n",
       "      <td>28.004482</td>\n",
       "      <td>22505.563546</td>\n",
       "      <td>3830.147705</td>\n",
       "      <td>29106.358725</td>\n",
       "      <td>33873.466033</td>\n",
       "      <td>92.505656</td>\n",
       "      <td>...</td>\n",
       "      <td>80.827787</td>\n",
       "      <td>0.096214</td>\n",
       "      <td>0.026046</td>\n",
       "      <td>22.678189</td>\n",
       "      <td>0.773218</td>\n",
       "      <td>10430.942884</td>\n",
       "      <td>18675.415841</td>\n",
       "      <td>0.641627</td>\n",
       "      <td>9.983481</td>\n",
       "      <td>2.264073</td>\n",
       "    </tr>\n",
       "    <tr>\n",
       "      <th>5</th>\n",
       "      <td>2017-06-19 12:00:00</td>\n",
       "      <td>2017-07-19 12:00:00</td>\n",
       "      <td>6187.592266</td>\n",
       "      <td>21.156559</td>\n",
       "      <td>71.184893</td>\n",
       "      <td>26831.909609</td>\n",
       "      <td>4934.470511</td>\n",
       "      <td>33019.501875</td>\n",
       "      <td>33019.501875</td>\n",
       "      <td>66.051661</td>\n",
       "      <td>...</td>\n",
       "      <td>81.017748</td>\n",
       "      <td>0.215584</td>\n",
       "      <td>0.064073</td>\n",
       "      <td>18.739205</td>\n",
       "      <td>0.812608</td>\n",
       "      <td>11122.062777</td>\n",
       "      <td>21897.439098</td>\n",
       "      <td>0.663167</td>\n",
       "      <td>11.325689</td>\n",
       "      <td>2.122344</td>\n",
       "    </tr>\n",
       "    <tr>\n",
       "      <th>6</th>\n",
       "      <td>2017-07-19 12:00:00</td>\n",
       "      <td>2017-08-19 12:00:00</td>\n",
       "      <td>4297.479005</td>\n",
       "      <td>5.642735</td>\n",
       "      <td>21.944220</td>\n",
       "      <td>22591.933966</td>\n",
       "      <td>2357.656597</td>\n",
       "      <td>26889.412971</td>\n",
       "      <td>31069.230888</td>\n",
       "      <td>62.430168</td>\n",
       "      <td>...</td>\n",
       "      <td>40.798179</td>\n",
       "      <td>0.081609</td>\n",
       "      <td>0.020985</td>\n",
       "      <td>15.982048</td>\n",
       "      <td>0.840180</td>\n",
       "      <td>6655.135602</td>\n",
       "      <td>20234.277369</td>\n",
       "      <td>0.752500</td>\n",
       "      <td>9.223069</td>\n",
       "      <td>1.474035</td>\n",
       "    </tr>\n",
       "    <tr>\n",
       "      <th>7</th>\n",
       "      <td>2017-08-19 12:00:00</td>\n",
       "      <td>2017-09-19 12:00:00</td>\n",
       "      <td>5430.065042</td>\n",
       "      <td>7.542355</td>\n",
       "      <td>10.769712</td>\n",
       "      <td>19050.219062</td>\n",
       "      <td>1149.083284</td>\n",
       "      <td>24480.284104</td>\n",
       "      <td>28867.394600</td>\n",
       "      <td>71.409029</td>\n",
       "      <td>...</td>\n",
       "      <td>14.536414</td>\n",
       "      <td>0.043993</td>\n",
       "      <td>0.030810</td>\n",
       "      <td>22.181381</td>\n",
       "      <td>0.778186</td>\n",
       "      <td>6579.148326</td>\n",
       "      <td>17901.135778</td>\n",
       "      <td>0.731247</td>\n",
       "      <td>8.396737</td>\n",
       "      <td>1.862512</td>\n",
       "    </tr>\n",
       "    <tr>\n",
       "      <th>8</th>\n",
       "      <td>2017-09-19 12:00:00</td>\n",
       "      <td>2017-10-19 12:00:00</td>\n",
       "      <td>10017.930231</td>\n",
       "      <td>8.323274</td>\n",
       "      <td>64.559927</td>\n",
       "      <td>19587.892852</td>\n",
       "      <td>8514.760821</td>\n",
       "      <td>29605.823083</td>\n",
       "      <td>34958.687683</td>\n",
       "      <td>79.895561</td>\n",
       "      <td>...</td>\n",
       "      <td>17.970504</td>\n",
       "      <td>0.218065</td>\n",
       "      <td>0.028114</td>\n",
       "      <td>33.837702</td>\n",
       "      <td>0.661623</td>\n",
       "      <td>18532.691052</td>\n",
       "      <td>11073.132031</td>\n",
       "      <td>0.374019</td>\n",
       "      <td>10.154797</td>\n",
       "      <td>3.436150</td>\n",
       "    </tr>\n",
       "    <tr>\n",
       "      <th>9</th>\n",
       "      <td>2017-10-19 12:00:00</td>\n",
       "      <td>2017-11-19 12:00:00</td>\n",
       "      <td>5902.938805</td>\n",
       "      <td>6.564893</td>\n",
       "      <td>107.208318</td>\n",
       "      <td>26693.739570</td>\n",
       "      <td>11788.277372</td>\n",
       "      <td>32596.678375</td>\n",
       "      <td>37476.907925</td>\n",
       "      <td>78.544061</td>\n",
       "      <td>...</td>\n",
       "      <td>25.099041</td>\n",
       "      <td>0.328893</td>\n",
       "      <td>0.020140</td>\n",
       "      <td>18.109019</td>\n",
       "      <td>0.818910</td>\n",
       "      <td>17691.216177</td>\n",
       "      <td>14905.462198</td>\n",
       "      <td>0.457269</td>\n",
       "      <td>11.180661</td>\n",
       "      <td>2.024708</td>\n",
       "    </tr>\n",
       "    <tr>\n",
       "      <th>10</th>\n",
       "      <td>2017-11-19 12:00:00</td>\n",
       "      <td>2017-12-19 12:00:00</td>\n",
       "      <td>8191.315390</td>\n",
       "      <td>2.463487</td>\n",
       "      <td>114.770286</td>\n",
       "      <td>25479.010968</td>\n",
       "      <td>15267.773726</td>\n",
       "      <td>33670.326358</td>\n",
       "      <td>38492.510329</td>\n",
       "      <td>83.047945</td>\n",
       "      <td>...</td>\n",
       "      <td>77.277599</td>\n",
       "      <td>0.340865</td>\n",
       "      <td>0.007316</td>\n",
       "      <td>24.327995</td>\n",
       "      <td>0.756720</td>\n",
       "      <td>23459.089116</td>\n",
       "      <td>10211.237242</td>\n",
       "      <td>0.303271</td>\n",
       "      <td>11.548922</td>\n",
       "      <td>2.809621</td>\n",
       "    </tr>\n",
       "    <tr>\n",
       "      <th>11</th>\n",
       "      <td>2017-12-19 12:00:00</td>\n",
       "      <td>2018-01-25 12:00:00</td>\n",
       "      <td>13567.856492</td>\n",
       "      <td>7.046068</td>\n",
       "      <td>69.327294</td>\n",
       "      <td>21152.379241</td>\n",
       "      <td>4010.474071</td>\n",
       "      <td>34720.235733</td>\n",
       "      <td>43440.314179</td>\n",
       "      <td>74.861111</td>\n",
       "      <td>...</td>\n",
       "      <td>21.351149</td>\n",
       "      <td>0.199674</td>\n",
       "      <td>0.020294</td>\n",
       "      <td>39.077662</td>\n",
       "      <td>0.609223</td>\n",
       "      <td>17578.330563</td>\n",
       "      <td>17141.905170</td>\n",
       "      <td>0.493715</td>\n",
       "      <td>11.909041</td>\n",
       "      <td>4.653775</td>\n",
       "    </tr>\n",
       "  </tbody>\n",
       "</table>\n",
       "<p>11 rows × 22 columns</p>\n",
       "</div>"
      ],
      "text/plain": [
       "           month_start           month_end  en_exit_jobs_kWh  \\\n",
       "1  2017-02-19 12:00:00 2017-03-19 12:00:00       4317.861826   \n",
       "2  2017-03-19 12:00:00 2017-04-19 12:00:00       6805.040174   \n",
       "3  2017-04-19 12:00:00 2017-05-19 12:00:00       5313.371848   \n",
       "4  2017-05-19 12:00:00 2017-06-19 12:00:00       6600.795179   \n",
       "5  2017-06-19 12:00:00 2017-07-19 12:00:00       6187.592266   \n",
       "6  2017-07-19 12:00:00 2017-08-19 12:00:00       4297.479005   \n",
       "7  2017-08-19 12:00:00 2017-09-19 12:00:00       5430.065042   \n",
       "8  2017-09-19 12:00:00 2017-10-19 12:00:00      10017.930231   \n",
       "9  2017-10-19 12:00:00 2017-11-19 12:00:00       5902.938805   \n",
       "10 2017-11-19 12:00:00 2017-12-19 12:00:00       8191.315390   \n",
       "11 2017-12-19 12:00:00 2018-01-25 12:00:00      13567.856492   \n",
       "\n",
       "    en_exit_short_jobs_kWh  en_exit_long_jobs_remainder_kWh  en_done_jobs_kWh  \\\n",
       "1                 3.215989                        76.271213      22686.567603   \n",
       "2                11.187131                        80.917532      28834.552185   \n",
       "3                 7.888162                        57.776055      22084.567869   \n",
       "4                 7.581142                        28.004482      22505.563546   \n",
       "5                21.156559                        71.184893      26831.909609   \n",
       "6                 5.642735                        21.944220      22591.933966   \n",
       "7                 7.542355                        10.769712      19050.219062   \n",
       "8                 8.323274                        64.559927      19587.892852   \n",
       "9                 6.564893                       107.208318      26693.739570   \n",
       "10                2.463487                       114.770286      25479.010968   \n",
       "11                7.046068                        69.327294      21152.379241   \n",
       "\n",
       "    en_done_long_jobs_kWh  en_no_outliers_kWh  en_with_outliers_kWh  \\\n",
       "1            10600.383136        27004.429429          31140.764417   \n",
       "2            11127.866632        35639.592358          35675.376358   \n",
       "3             3244.415453        27397.939717          33283.833554   \n",
       "4             3830.147705        29106.358725          33873.466033   \n",
       "5             4934.470511        33019.501875          33019.501875   \n",
       "6             2357.656597        26889.412971          31069.230888   \n",
       "7             1149.083284        24480.284104          28867.394600   \n",
       "8             8514.760821        29605.823083          34958.687683   \n",
       "9            11788.277372        32596.678375          37476.907925   \n",
       "10           15267.773726        33670.326358          38492.510329   \n",
       "11            4010.474071        34720.235733          43440.314179   \n",
       "\n",
       "    percentage_10_kWh        ...         percentage_exit_jobs  \\\n",
       "1           88.756614        ...                    51.729201   \n",
       "2           79.153094        ...                    61.170194   \n",
       "3           68.852459        ...                    89.263473   \n",
       "4           92.505656        ...                    80.827787   \n",
       "5           66.051661        ...                    81.017748   \n",
       "6           62.430168        ...                    40.798179   \n",
       "7           71.409029        ...                    14.536414   \n",
       "8           79.895561        ...                    17.970504   \n",
       "9           78.544061        ...                    25.099041   \n",
       "10          83.047945        ...                    77.277599   \n",
       "11          74.861111        ...                    21.351149   \n",
       "\n",
       "    percentage_energy_long_jobs  percentage_energy_short_jobs  \\\n",
       "1                      0.282440                      0.011909   \n",
       "2                      0.227044                      0.031390   \n",
       "3                      0.210877                      0.028791   \n",
       "4                      0.096214                      0.026046   \n",
       "5                      0.215584                      0.064073   \n",
       "6                      0.081609                      0.020985   \n",
       "7                      0.043993                      0.030810   \n",
       "8                      0.218065                      0.028114   \n",
       "9                      0.328893                      0.020140   \n",
       "10                     0.340865                      0.007316   \n",
       "11                     0.199674                      0.020294   \n",
       "\n",
       "    percentage_energy_exit_jobs      DCeP  en_exit_only_jobs_kWh  \\\n",
       "1                     15.989458  0.840105           14918.244962   \n",
       "2                     19.094046  0.809060           17932.906806   \n",
       "3                     19.393326  0.806067            8557.787301   \n",
       "4                     22.678189  0.773218           10430.942884   \n",
       "5                     18.739205  0.812608           11122.062777   \n",
       "6                     15.982048  0.840180            6655.135602   \n",
       "7                     22.181381  0.778186            6579.148326   \n",
       "8                     33.837702  0.661623           18532.691052   \n",
       "9                     18.109019  0.818910           17691.216177   \n",
       "10                    24.327995  0.756720           23459.089116   \n",
       "11                    39.077662  0.609223           17578.330563   \n",
       "\n",
       "    en_done_only_jobs_kWh  DCeP_exit_done_only  CO2e_all_jobs_t  \\\n",
       "1            12086.184467             0.447563         9.262519   \n",
       "2            17706.685553             0.496826        12.224380   \n",
       "3            18840.152416             0.687649         9.397493   \n",
       "4            18675.415841             0.641627         9.983481   \n",
       "5            21897.439098             0.663167        11.325689   \n",
       "6            20234.277369             0.752500         9.223069   \n",
       "7            17901.135778             0.731247         8.396737   \n",
       "8            11073.132031             0.374019        10.154797   \n",
       "9            14905.462198             0.457269        11.180661   \n",
       "10           10211.237242             0.303271        11.548922   \n",
       "11           17141.905170             0.493715        11.909041   \n",
       "\n",
       "    CO2e_exit_jobs_t  \n",
       "1           1.481027  \n",
       "2           2.334129  \n",
       "3           1.822487  \n",
       "4           2.264073  \n",
       "5           2.122344  \n",
       "6           1.474035  \n",
       "7           1.862512  \n",
       "8           3.436150  \n",
       "9           2.024708  \n",
       "10          2.809621  \n",
       "11          4.653775  \n",
       "\n",
       "[11 rows x 22 columns]"
      ]
     },
     "execution_count": 266,
     "metadata": {},
     "output_type": "execute_result"
    }
   ],
   "source": [
    "cf = 0.343\n",
    "\n",
    "summary = pd.read_excel( os.path.join( Working_dir, \"energy_summary.xlsx\" ) )\n",
    "summary.loc[:,'CO2e_all_jobs_t'] = cf *  summary.en_no_outliers_kWh/1000.\n",
    "summary.loc[:,'CO2e_exit_jobs_t'] = cf *  summary.en_exit_jobs_kWh/1000.\n",
    "write_to_excel( summary, os.path.join( Working_dir, \"energy_summary.xlsx\" ) )\n",
    "summary"
   ]
  },
  {
   "cell_type": "markdown",
   "metadata": {},
   "source": [
    "## Parallel vs serial jobs energy consumption"
   ]
  },
  {
   "cell_type": "markdown",
   "metadata": {},
   "source": [
    "#### Number of jobs that were executed as both parallel and serial"
   ]
  },
  {
   "cell_type": "code",
   "execution_count": 156,
   "metadata": {},
   "outputs": [
    {
     "name": "stdout",
     "output_type": "stream",
     "text": [
      "Month  1 :  6 \n",
      "\n",
      "Month  2 :  26 \n",
      "\n",
      "Month  3 :  17 \n",
      "\n",
      "Month  4 :  5 \n",
      "\n",
      "Month  5 :  11 \n",
      "\n",
      "Month  6 :  11 \n",
      "\n",
      "Month  7 :  11 \n",
      "\n",
      "Month  8 :  5 \n",
      "\n",
      "Month  9 :  16 \n",
      "\n",
      "Month  10 :  9 \n",
      "\n",
      "Month  11 :  4 \n",
      "\n"
     ]
    }
   ],
   "source": [
    "for i in range (1,12):\n",
    "    left_time_border = datetime.datetime(2017,i+1,19,12,0)\n",
    "    if i>=11:\n",
    "    #     date_new = lsf_df.stop_timestamp_py.max().date()\n",
    "        date_new = datetime.date(year=2018, month=1, day=25)\n",
    "        right_time_border = datetime.datetime.combine(date_new, right_time_border.time())\n",
    "    else:\n",
    "        right_time_border = datetime.datetime(2017,i+2,19,12,0)\n",
    "\n",
    "#     print(i)\n",
    "\n",
    "    folder_name = Working_dir + \"\\\\\"\\\n",
    "              + left_time_border.strftime(\"%d.%m.%Y %H.%M\") \\\n",
    "              + right_time_border.strftime(\" - %d.%m.%Y %H.%M\")\n",
    "\n",
    "    zabbix_month_df = pd.read_excel( os.path.join( folder_name, \"zabbix_month_py.xlsx\" ) )\n",
    "    lsf_month_df = pd.read_excel( os.path.join( folder_name, \"lsf_month_py.xlsx\" ) )\n",
    "    lsf_month_df['parallel_serial'] = lsf_month_df['number_of_cores_used'].apply( lambda x: 'serial' if x==1 else 'parallel' )\n",
    "    parallel_names = set(lsf_month_df[lsf_month_df.parallel_serial=='parallel']['executable_full_name'].unique())\n",
    "    serial_names = set(lsf_month_df[lsf_month_df.parallel_serial=='serial']['executable_full_name'].unique())\n",
    "    print('Month ', i, ': ', len(parallel_names.intersection(serial_names)), '\\n')"
   ]
  },
  {
   "cell_type": "markdown",
   "metadata": {},
   "source": [
    "### Anaysis of parallel and serial jobs energy consumption per month\n",
    "- form empty dataframes\n",
    "- iterate over months to get energy per s/p job required from a core during each hour of a month\n",
    "- multiply on jobs acitivity during the month hours\n",
    "- update the resulting summary file"
   ]
  },
  {
   "cell_type": "code",
   "execution_count": 163,
   "metadata": {
    "collapsed": true
   },
   "outputs": [],
   "source": [
    "parallel_summary_global = pd.DataFrame(columns=['month_start', 'month_end', 'en_exit_jobs_kWh', \\\n",
    "                                'en_exit_short_jobs_kWh', 'en_exit_long_jobs_remainder_kWh',\\\n",
    "                                'en_done_jobs_kWh','en_done_long_jobs_kWh'], index=range(1,12))\n",
    "parallel_summary_global[:]=1\n",
    "\n",
    "serial_summary_global = pd.DataFrame(columns=['month_start', 'month_end', 'en_exit_jobs_kWh', \\\n",
    "                                'en_exit_short_jobs_kWh', 'en_exit_long_jobs_remainder_kWh',\\\n",
    "                                'en_done_jobs_kWh','en_done_long_jobs_kWh'], index=range(1,12))\n",
    "serial_summary_global[:]=0"
   ]
  },
  {
   "cell_type": "code",
   "execution_count": 207,
   "metadata": {},
   "outputs": [
    {
     "name": "stdout",
     "output_type": "stream",
     "text": [
      "10\n",
      "Proc matrix finished\n",
      "\n",
      "Proc matrix finished\n",
      "\n",
      "Proc matrix finished\n",
      "\n",
      "Proc matrix finished\n",
      "\n",
      "Proc matrix finished\n",
      "\n",
      "One line added to summary\n"
     ]
    }
   ],
   "source": [
    "i=10\n",
    "\n",
    "left_time_border = datetime.datetime(2017,i+2,19,12,0)\n",
    "if i>=10:\n",
    "    date_new = datetime.date(year=2018, month=1, day=25)\n",
    "    right_time_border = datetime.datetime.combine(date_new, right_time_border.time())\n",
    "else:\n",
    "    right_time_border = datetime.datetime(2017,i+3,19,12,0)\n",
    "\n",
    "print(i)\n",
    "i=i+1\n",
    "\n",
    "folder_name = Working_dir + \"\\\\\"\\\n",
    "          + left_time_border.strftime(\"%d.%m.%Y %H.%M\") \\\n",
    "          + right_time_border.strftime(\" - %d.%m.%Y %H.%M\")\n",
    "\n",
    "zabbix_month_df = pd.read_excel( os.path.join( folder_name, \"zabbix_month_py.xlsx\" ) )\n",
    "lsf_month_df = pd.read_excel( os.path.join( folder_name, \"lsf_month_py.xlsx\" ) )\n",
    "\n",
    "lsf_month_df['parallel_serial'] = lsf_month_df['number_of_cores_used'].apply( lambda x: 'serial' if x==1 else 'parallel' )\n",
    "\n",
    "proc_df_dict = {}\n",
    "proc_df_names = ['proc_df_exit', 'proc_df_exit_short', 'proc_df_exit_long', 'proc_df_done', 'proc_df_done_long']\n",
    "job_status_list = [ 'exit', 'exit_short_30_sec', 'exit_long', 'done', 'done_long' ]\n",
    "\n",
    "for name, status in zip(proc_df_names, job_status_list):\n",
    "    proc_df_dict[name] = process_matrix_one_month( zabbix_month_df, lsf_month_df, folder_name, job_status=status, \n",
    "                                              category='parallel_serial' )\n",
    "\n",
    "zabbix_first_line = zabbix_month_df.timestamp_py.iloc[0]\n",
    "zabbix_last_line = zabbix_month_df.timestamp_py.iloc[zabbix_month_df.shape[0]-1]\n",
    "\n",
    "z = zabbix_month_df.estimated_en_use_no_outliers.fillna(0).as_matrix()\n",
    "if z.sum()==0:\n",
    "    z = zabbix_month_df.estimated_en_use.fillna(0).as_matrix()\n",
    "\n",
    "ps = ['parallel', 'serial']   \n",
    "for name in proc_df_names:\n",
    "    for mode in ps:\n",
    "        proc_df_dict[name].loc[:,mode]       = proc_df_dict[name].loc[:, mode].as_matrix()*z/1000.\n",
    "\n",
    "tables = [parallel_summary_global, serial_summary_global]    \n",
    "for table, mode in zip(tables, ps):\n",
    "    table.loc[i,'month_start'] = left_time_border\n",
    "    table.loc[i,'month_end']   = right_time_border\n",
    "    for name, table_col_name in zip(proc_df_names, parallel_summary_global.columns.values[2:]):\n",
    "        table.loc[i,table_col_name] = proc_df_dict[name][mode].sum(axis=0)\n",
    "    table.loc[i, 'no_of_submitions'] = lsf_month_df[lsf_month_df.parallel_serial==mode].shape[0]\n",
    "    table.loc[i, 'no_of_submitted_jobs'] = lsf_month_df[lsf_month_df.parallel_serial==mode].unique().shape[0]\n",
    "for table in tables:\n",
    "    table.fillna(0, inplace=True)\n",
    "\n",
    "print('One line added to summary')"
   ]
  },
  {
   "cell_type": "code",
   "execution_count": 217,
   "metadata": {
    "collapsed": true
   },
   "outputs": [],
   "source": [
    "summary = pd.read_excel( os.path.join(Working_dir, 'energy_summary.xlsx'))\n",
    "tables = [parallel_summary_global, serial_summary_global] \n",
    "ps = ['parallel', 'serial']  \n",
    "for table, mode in zip(tables, ps):\n",
    "    table['energy_kWh'] = table.en_done_jobs_kWh + table.en_exit_jobs_kWh\n",
    "    table['EWR']        = table.en_exit_jobs_kWh / summary.en_no_outliers_kWh * 100.\n",
    "    write_to_excel( table, os.path.join( Working_dir, mode + \"_summary_global.xlsx\" ) )"
   ]
  },
  {
   "cell_type": "markdown",
   "metadata": {},
   "source": [
    "#### Calculations check"
   ]
  },
  {
   "cell_type": "code",
   "execution_count": 215,
   "metadata": {},
   "outputs": [
    {
     "data": {
      "text/plain": [
       "array([ True,  True,  True,  True,  True,  True,  True,  True,  True,\n",
       "        True,  True], dtype=bool)"
      ]
     },
     "execution_count": 215,
     "metadata": {},
     "output_type": "execute_result"
    }
   ],
   "source": [
    "np.isclose(serial_summary_global.EWR + parallel_summary_global.EWR, summary.percentage_energy_exit_jobs)"
   ]
  },
  {
   "cell_type": "markdown",
   "metadata": {},
   "source": [
    "#### Update lsf_month_df with parallel/serial marker column, form energy consumption tables for parallel and serial jobs "
   ]
  },
  {
   "cell_type": "code",
   "execution_count": 225,
   "metadata": {},
   "outputs": [
    {
     "name": "stdout",
     "output_type": "stream",
     "text": [
      "11\n"
     ]
    }
   ],
   "source": [
    "tables = [parallel_summary_global, serial_summary_global]    \n",
    "ps = ['parallel', 'serial']\n",
    "for i in range (11,12):\n",
    "    left_time_border = datetime.datetime(2017,i+1,19,12,0)\n",
    "    if i>10:\n",
    "        date_new = datetime.date(year=2018, month=1, day=25)\n",
    "        right_time_border = datetime.datetime.combine(date_new, right_time_border.time())\n",
    "    else:\n",
    "        right_time_border = datetime.datetime(2017,i+2,19,12,0)\n",
    "    folder_name = Working_dir + \"\\\\\"\\\n",
    "          + left_time_border.strftime(\"%d.%m.%Y %H.%M\") \\\n",
    "          + right_time_border.strftime(\" - %d.%m.%Y %H.%M\")\n",
    "    print(i)\n",
    "    lsf_month_df = pd.read_excel( os.path.join( folder_name, \"lsf_month_py.xlsx\" ) )\n",
    "    lsf_month_df['parallel_serial'] = lsf_month_df['number_of_cores_used'].apply( lambda x: 'serial' if x==1 else 'parallel' )\n",
    "    for table, mode in zip(tables, ps):\n",
    "        table.loc[i, 'no_of_submitions'] = lsf_month_df[lsf_month_df.parallel_serial==mode].shape[0]\n",
    "        table.loc[i, 'no_of_submitted_jobs'] = lsf_month_df[lsf_month_df.parallel_serial==mode]['executable_full_name'].unique().shape[0]\n",
    "    write_to_excel( lsf_month_df, os.path.join( folder_name, \"lsf_month_ps_py.xlsx\" ) )"
   ]
  },
  {
   "cell_type": "code",
   "execution_count": 238,
   "metadata": {
    "collapsed": true
   },
   "outputs": [],
   "source": [
    "for table, mode in zip(tables, ps):\n",
    "    write_to_excel( table, os.path.join( Working_dir, mode + \"_summary_global.xlsx\" ) )"
   ]
  },
  {
   "cell_type": "markdown",
   "metadata": {},
   "source": [
    "#### Some calculations for paper text - numbers to refer to"
   ]
  },
  {
   "cell_type": "code",
   "execution_count": 152,
   "metadata": {},
   "outputs": [
    {
     "data": {
      "text/plain": [
       "21.838047774028663"
      ]
     },
     "execution_count": 152,
     "metadata": {},
     "output_type": "execute_result"
    }
   ],
   "source": [
    "parallel_summary_global.EWR.mean()"
   ]
  },
  {
   "cell_type": "code",
   "execution_count": 153,
   "metadata": {},
   "outputs": [
    {
     "data": {
      "text/plain": [
       "(0.02520910464313399, 4.2279415139716763)"
      ]
     },
     "execution_count": 153,
     "metadata": {},
     "output_type": "execute_result"
    }
   ],
   "source": [
    "serial_summary_global.EWR.min(), serial_summary_global.EWR.max()"
   ]
  }
 ],
 "metadata": {
  "kernelspec": {
   "display_name": "Python 3",
   "language": "python",
   "name": "python3"
  },
  "language_info": {
   "codemirror_mode": {
    "name": "ipython",
    "version": 3
   },
   "file_extension": ".py",
   "mimetype": "text/x-python",
   "name": "python",
   "nbconvert_exporter": "python",
   "pygments_lexer": "ipython3",
   "version": "3.6.0"
  }
 },
 "nbformat": 4,
 "nbformat_minor": 2
}

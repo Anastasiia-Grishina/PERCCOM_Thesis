{
 "cells": [
  {
   "cell_type": "markdown",
   "metadata": {},
   "source": [
    "# Zabbix & LSF data analysis"
   ]
  },
  {
   "cell_type": "markdown",
   "metadata": {},
   "source": [
    "## Read preprocessed data"
   ]
  },
  {
   "cell_type": "code",
   "execution_count": 1,
   "metadata": {
    "collapsed": true
   },
   "outputs": [],
   "source": [
    "import pandas as pd\n",
    "import matplotlib.pyplot as plt\n",
    "import csv\n",
    "import os\n",
    "import numpy as np\n",
    "from sklearn import datasets, linear_model\n",
    "import datetime\n",
    "import time\n",
    "import warnings\n",
    "warnings.filterwarnings(action='ignore')\n",
    "Working_dir = os.getcwd()"
   ]
  },
  {
   "cell_type": "code",
   "execution_count": 63,
   "metadata": {
    "collapsed": true
   },
   "outputs": [],
   "source": [
    "# zabbix_df = pd.read_excel( os.path.join( Working_dir, \"zabbix_v2_py.xlsx\" ) )\n",
    "# lsf_df = pd.read_excel( os.path.join( Working_dir, \"lsf_v2_py.xlsx\" ) )\n",
    "zabbix_month_df = pd.read_excel( os.path.join( Working_dir, \"zabbix_month_py.xlsx\" ) )\n",
    "lsf_month_df = pd.read_excel( os.path.join( Working_dir, \"lsf_month_py.xlsx\" ) )"
   ]
  },
  {
   "cell_type": "code",
   "execution_count": 64,
   "metadata": {
    "collapsed": true
   },
   "outputs": [],
   "source": [
    "# lsf_month_df['directory of running executable'] = lsf_month_df['directory of running executable'].fillna('')\n",
    "# lsf_month_df['name of executable'] = lsf_month_df['name of executable'].fillna('')"
   ]
  },
  {
   "cell_type": "code",
   "execution_count": 4,
   "metadata": {
    "collapsed": true
   },
   "outputs": [],
   "source": [
    "# apps_at_time_df = pd.read_excel( os.path.join( Working_dir, \"apps_at_time_py.xlsx\" )  )"
   ]
  },
  {
   "cell_type": "code",
   "execution_count": 6,
   "metadata": {
    "collapsed": true
   },
   "outputs": [],
   "source": [
    "# proc_df = pd.read_excel( os.path.join( Working_dir, \"proc_matrix.xlsx\" ) )\n",
    "proc_df = pd.read_excel( os.path.join( Working_dir, \"proc_matrix_less_coeff_month.xlsx\" ) )\n",
    "proc_df.index=proc_df.iloc[:,0]\n",
    "proc_df.drop('timestamp_py', axis=1, inplace=True)"
   ]
  },
  {
   "cell_type": "code",
   "execution_count": 8,
   "metadata": {},
   "outputs": [
    {
     "data": {
      "text/html": [
       "<div>\n",
       "<style>\n",
       "    .dataframe thead tr:only-child th {\n",
       "        text-align: right;\n",
       "    }\n",
       "\n",
       "    .dataframe thead th {\n",
       "        text-align: left;\n",
       "    }\n",
       "\n",
       "    .dataframe tbody tr th {\n",
       "        vertical-align: top;\n",
       "    }\n",
       "</style>\n",
       "<table border=\"1\" class=\"dataframe\">\n",
       "  <thead>\n",
       "    <tr style=\"text-align: right;\">\n",
       "      <th></th>\n",
       "      <th>/gporq1_minni/minni/QA/mario/Q</th>\n",
       "      <th>PFS/porq1_1M/SiH/test_optimizecp2k_launch.sh</th>\n",
       "      <th>/gpfs_scratch/funel/ior-master./sub_ior_mpiio_t128k_shared.s</th>\n",
       "      <th>/gporq1_minni/minni/QA/mario/QHOSTFILE=$LSB_DJOB_HOSTFILE</th>\n",
       "      <th>/gporq1_minni/minni/QA/mario/Q/gporq1_minni/minni/QA/mario/Q</th>\n",
       "      <th>minnirams/soft/script/ramscresco4x262.portici.enea.it</th>\n",
       "      <th>cresco4x001.portici.enea.it./submit.sh</th>\n",
       "      <th>/gpfs_scratch/funel/ior-master./sub_ior_mpiio_t1m_fileperpro</th>\n",
       "      <th>PADRactions/4LOSEDGE/FILLEDCOLblaunch_mcnp</th>\n",
       "      <th>PORT_INTEGRATION/Advantg/TNSM_blaunch_mcnp</th>\n",
       "      <th>...</th>\n",
       "      <th>/gporq1_clima0/regcm/Exp/Med-2./MED-20_2.sh</th>\n",
       "      <th>minnirams/soft/script/ramscresco4x296.portici.enea.it</th>\n",
       "      <th>minnirams/soft/script/ramscresco4x145.portici.enea.it</th>\n",
       "      <th>PFS/porq1_1M/LiC/GeO2/co.60/13#!/bin/sh;CPMD_PPS_DIR=$HOME/D</th>\n",
       "      <th>minnirams/soft/script/ramscresco4x144.portici.enea.it</th>\n",
       "      <th>Rez_proton_beam/Test_sourceblaunch_mcnp</th>\n",
       "      <th>PFS/porq1_256k/Ti02_001_4x4_sl./job_espresso.cresco4_dos.sh</th>\n",
       "      <th>PFS/porq1_256k/Ti02_001_4x4_sl./job_espresso.cresco4_pdos.sh</th>\n",
       "      <th>PFS/porq1_256k/H2O_TiO2_001_4x./job_espresso.cresco4_dos.sh</th>\n",
       "      <th>PFS/porq1_256k/H2O_TiO2_001_4x./job_espresso.cresco4_pdos.sh</th>\n",
       "    </tr>\n",
       "    <tr>\n",
       "      <th>timestamp_py</th>\n",
       "      <th></th>\n",
       "      <th></th>\n",
       "      <th></th>\n",
       "      <th></th>\n",
       "      <th></th>\n",
       "      <th></th>\n",
       "      <th></th>\n",
       "      <th></th>\n",
       "      <th></th>\n",
       "      <th></th>\n",
       "      <th></th>\n",
       "      <th></th>\n",
       "      <th></th>\n",
       "      <th></th>\n",
       "      <th></th>\n",
       "      <th></th>\n",
       "      <th></th>\n",
       "      <th></th>\n",
       "      <th></th>\n",
       "      <th></th>\n",
       "      <th></th>\n",
       "    </tr>\n",
       "  </thead>\n",
       "  <tbody>\n",
       "    <tr>\n",
       "      <th>2017-02-19 12:00:00</th>\n",
       "      <td>0.001111</td>\n",
       "      <td>0.000000</td>\n",
       "      <td>1024.0</td>\n",
       "      <td>0.0</td>\n",
       "      <td>0.0</td>\n",
       "      <td>512.0</td>\n",
       "      <td>1632.0</td>\n",
       "      <td>1024.0</td>\n",
       "      <td>800.0</td>\n",
       "      <td>1600.0</td>\n",
       "      <td>...</td>\n",
       "      <td>0.0</td>\n",
       "      <td>0.0</td>\n",
       "      <td>0.0</td>\n",
       "      <td>0.0</td>\n",
       "      <td>0.0</td>\n",
       "      <td>0.0</td>\n",
       "      <td>0.0</td>\n",
       "      <td>0.0</td>\n",
       "      <td>0.0</td>\n",
       "      <td>0.0</td>\n",
       "    </tr>\n",
       "    <tr>\n",
       "      <th>2017-02-19 13:00:00</th>\n",
       "      <td>0.000000</td>\n",
       "      <td>0.000000</td>\n",
       "      <td>1024.0</td>\n",
       "      <td>0.0</td>\n",
       "      <td>0.0</td>\n",
       "      <td>512.0</td>\n",
       "      <td>1632.0</td>\n",
       "      <td>1024.0</td>\n",
       "      <td>800.0</td>\n",
       "      <td>1600.0</td>\n",
       "      <td>...</td>\n",
       "      <td>0.0</td>\n",
       "      <td>0.0</td>\n",
       "      <td>0.0</td>\n",
       "      <td>0.0</td>\n",
       "      <td>0.0</td>\n",
       "      <td>0.0</td>\n",
       "      <td>0.0</td>\n",
       "      <td>0.0</td>\n",
       "      <td>0.0</td>\n",
       "      <td>0.0</td>\n",
       "    </tr>\n",
       "    <tr>\n",
       "      <th>2017-02-19 14:00:00</th>\n",
       "      <td>0.000000</td>\n",
       "      <td>0.000000</td>\n",
       "      <td>1024.0</td>\n",
       "      <td>0.0</td>\n",
       "      <td>0.0</td>\n",
       "      <td>512.0</td>\n",
       "      <td>1632.0</td>\n",
       "      <td>1024.0</td>\n",
       "      <td>800.0</td>\n",
       "      <td>1600.0</td>\n",
       "      <td>...</td>\n",
       "      <td>0.0</td>\n",
       "      <td>0.0</td>\n",
       "      <td>0.0</td>\n",
       "      <td>0.0</td>\n",
       "      <td>0.0</td>\n",
       "      <td>0.0</td>\n",
       "      <td>0.0</td>\n",
       "      <td>0.0</td>\n",
       "      <td>0.0</td>\n",
       "      <td>0.0</td>\n",
       "    </tr>\n",
       "    <tr>\n",
       "      <th>2017-02-19 15:00:00</th>\n",
       "      <td>0.000000</td>\n",
       "      <td>0.000000</td>\n",
       "      <td>1024.0</td>\n",
       "      <td>0.0</td>\n",
       "      <td>0.0</td>\n",
       "      <td>512.0</td>\n",
       "      <td>1632.0</td>\n",
       "      <td>1024.0</td>\n",
       "      <td>800.0</td>\n",
       "      <td>1600.0</td>\n",
       "      <td>...</td>\n",
       "      <td>0.0</td>\n",
       "      <td>0.0</td>\n",
       "      <td>0.0</td>\n",
       "      <td>0.0</td>\n",
       "      <td>0.0</td>\n",
       "      <td>0.0</td>\n",
       "      <td>0.0</td>\n",
       "      <td>0.0</td>\n",
       "      <td>0.0</td>\n",
       "      <td>0.0</td>\n",
       "    </tr>\n",
       "    <tr>\n",
       "      <th>2017-02-19 16:00:00</th>\n",
       "      <td>0.000000</td>\n",
       "      <td>0.311389</td>\n",
       "      <td>1024.0</td>\n",
       "      <td>0.0</td>\n",
       "      <td>0.0</td>\n",
       "      <td>512.0</td>\n",
       "      <td>1632.0</td>\n",
       "      <td>1024.0</td>\n",
       "      <td>800.0</td>\n",
       "      <td>1600.0</td>\n",
       "      <td>...</td>\n",
       "      <td>0.0</td>\n",
       "      <td>0.0</td>\n",
       "      <td>0.0</td>\n",
       "      <td>0.0</td>\n",
       "      <td>0.0</td>\n",
       "      <td>0.0</td>\n",
       "      <td>0.0</td>\n",
       "      <td>0.0</td>\n",
       "      <td>0.0</td>\n",
       "      <td>0.0</td>\n",
       "    </tr>\n",
       "  </tbody>\n",
       "</table>\n",
       "<p>5 rows × 976 columns</p>\n",
       "</div>"
      ],
      "text/plain": [
       "                     /gporq1_minni/minni/QA/mario/Q  \\\n",
       "timestamp_py                                          \n",
       "2017-02-19 12:00:00                        0.001111   \n",
       "2017-02-19 13:00:00                        0.000000   \n",
       "2017-02-19 14:00:00                        0.000000   \n",
       "2017-02-19 15:00:00                        0.000000   \n",
       "2017-02-19 16:00:00                        0.000000   \n",
       "\n",
       "                     PFS/porq1_1M/SiH/test_optimizecp2k_launch.sh  \\\n",
       "timestamp_py                                                        \n",
       "2017-02-19 12:00:00                                      0.000000   \n",
       "2017-02-19 13:00:00                                      0.000000   \n",
       "2017-02-19 14:00:00                                      0.000000   \n",
       "2017-02-19 15:00:00                                      0.000000   \n",
       "2017-02-19 16:00:00                                      0.311389   \n",
       "\n",
       "                     /gpfs_scratch/funel/ior-master./sub_ior_mpiio_t128k_shared.s  \\\n",
       "timestamp_py                                                                        \n",
       "2017-02-19 12:00:00                                             1024.0              \n",
       "2017-02-19 13:00:00                                             1024.0              \n",
       "2017-02-19 14:00:00                                             1024.0              \n",
       "2017-02-19 15:00:00                                             1024.0              \n",
       "2017-02-19 16:00:00                                             1024.0              \n",
       "\n",
       "                     /gporq1_minni/minni/QA/mario/QHOSTFILE=$LSB_DJOB_HOSTFILE  \\\n",
       "timestamp_py                                                                     \n",
       "2017-02-19 12:00:00                                                0.0           \n",
       "2017-02-19 13:00:00                                                0.0           \n",
       "2017-02-19 14:00:00                                                0.0           \n",
       "2017-02-19 15:00:00                                                0.0           \n",
       "2017-02-19 16:00:00                                                0.0           \n",
       "\n",
       "                     /gporq1_minni/minni/QA/mario/Q/gporq1_minni/minni/QA/mario/Q  \\\n",
       "timestamp_py                                                                        \n",
       "2017-02-19 12:00:00                                                0.0              \n",
       "2017-02-19 13:00:00                                                0.0              \n",
       "2017-02-19 14:00:00                                                0.0              \n",
       "2017-02-19 15:00:00                                                0.0              \n",
       "2017-02-19 16:00:00                                                0.0              \n",
       "\n",
       "                     minnirams/soft/script/ramscresco4x262.portici.enea.it  \\\n",
       "timestamp_py                                                                 \n",
       "2017-02-19 12:00:00                                              512.0       \n",
       "2017-02-19 13:00:00                                              512.0       \n",
       "2017-02-19 14:00:00                                              512.0       \n",
       "2017-02-19 15:00:00                                              512.0       \n",
       "2017-02-19 16:00:00                                              512.0       \n",
       "\n",
       "                     cresco4x001.portici.enea.it./submit.sh  \\\n",
       "timestamp_py                                                  \n",
       "2017-02-19 12:00:00                                  1632.0   \n",
       "2017-02-19 13:00:00                                  1632.0   \n",
       "2017-02-19 14:00:00                                  1632.0   \n",
       "2017-02-19 15:00:00                                  1632.0   \n",
       "2017-02-19 16:00:00                                  1632.0   \n",
       "\n",
       "                     /gpfs_scratch/funel/ior-master./sub_ior_mpiio_t1m_fileperpro  \\\n",
       "timestamp_py                                                                        \n",
       "2017-02-19 12:00:00                                             1024.0              \n",
       "2017-02-19 13:00:00                                             1024.0              \n",
       "2017-02-19 14:00:00                                             1024.0              \n",
       "2017-02-19 15:00:00                                             1024.0              \n",
       "2017-02-19 16:00:00                                             1024.0              \n",
       "\n",
       "                     PADRactions/4LOSEDGE/FILLEDCOLblaunch_mcnp  \\\n",
       "timestamp_py                                                      \n",
       "2017-02-19 12:00:00                                       800.0   \n",
       "2017-02-19 13:00:00                                       800.0   \n",
       "2017-02-19 14:00:00                                       800.0   \n",
       "2017-02-19 15:00:00                                       800.0   \n",
       "2017-02-19 16:00:00                                       800.0   \n",
       "\n",
       "                     PORT_INTEGRATION/Advantg/TNSM_blaunch_mcnp  \\\n",
       "timestamp_py                                                      \n",
       "2017-02-19 12:00:00                                      1600.0   \n",
       "2017-02-19 13:00:00                                      1600.0   \n",
       "2017-02-19 14:00:00                                      1600.0   \n",
       "2017-02-19 15:00:00                                      1600.0   \n",
       "2017-02-19 16:00:00                                      1600.0   \n",
       "\n",
       "                                                 ...                               \\\n",
       "timestamp_py                                     ...                                \n",
       "2017-02-19 12:00:00                              ...                                \n",
       "2017-02-19 13:00:00                              ...                                \n",
       "2017-02-19 14:00:00                              ...                                \n",
       "2017-02-19 15:00:00                              ...                                \n",
       "2017-02-19 16:00:00                              ...                                \n",
       "\n",
       "                     /gporq1_clima0/regcm/Exp/Med-2./MED-20_2.sh  \\\n",
       "timestamp_py                                                       \n",
       "2017-02-19 12:00:00                                          0.0   \n",
       "2017-02-19 13:00:00                                          0.0   \n",
       "2017-02-19 14:00:00                                          0.0   \n",
       "2017-02-19 15:00:00                                          0.0   \n",
       "2017-02-19 16:00:00                                          0.0   \n",
       "\n",
       "                     minnirams/soft/script/ramscresco4x296.portici.enea.it  \\\n",
       "timestamp_py                                                                 \n",
       "2017-02-19 12:00:00                                                0.0       \n",
       "2017-02-19 13:00:00                                                0.0       \n",
       "2017-02-19 14:00:00                                                0.0       \n",
       "2017-02-19 15:00:00                                                0.0       \n",
       "2017-02-19 16:00:00                                                0.0       \n",
       "\n",
       "                     minnirams/soft/script/ramscresco4x145.portici.enea.it  \\\n",
       "timestamp_py                                                                 \n",
       "2017-02-19 12:00:00                                                0.0       \n",
       "2017-02-19 13:00:00                                                0.0       \n",
       "2017-02-19 14:00:00                                                0.0       \n",
       "2017-02-19 15:00:00                                                0.0       \n",
       "2017-02-19 16:00:00                                                0.0       \n",
       "\n",
       "                     PFS/porq1_1M/LiC/GeO2/co.60/13#!/bin/sh;CPMD_PPS_DIR=$HOME/D  \\\n",
       "timestamp_py                                                                        \n",
       "2017-02-19 12:00:00                                                0.0              \n",
       "2017-02-19 13:00:00                                                0.0              \n",
       "2017-02-19 14:00:00                                                0.0              \n",
       "2017-02-19 15:00:00                                                0.0              \n",
       "2017-02-19 16:00:00                                                0.0              \n",
       "\n",
       "                     minnirams/soft/script/ramscresco4x144.portici.enea.it  \\\n",
       "timestamp_py                                                                 \n",
       "2017-02-19 12:00:00                                                0.0       \n",
       "2017-02-19 13:00:00                                                0.0       \n",
       "2017-02-19 14:00:00                                                0.0       \n",
       "2017-02-19 15:00:00                                                0.0       \n",
       "2017-02-19 16:00:00                                                0.0       \n",
       "\n",
       "                     Rez_proton_beam/Test_sourceblaunch_mcnp  \\\n",
       "timestamp_py                                                   \n",
       "2017-02-19 12:00:00                                      0.0   \n",
       "2017-02-19 13:00:00                                      0.0   \n",
       "2017-02-19 14:00:00                                      0.0   \n",
       "2017-02-19 15:00:00                                      0.0   \n",
       "2017-02-19 16:00:00                                      0.0   \n",
       "\n",
       "                     PFS/porq1_256k/Ti02_001_4x4_sl./job_espresso.cresco4_dos.sh  \\\n",
       "timestamp_py                                                                       \n",
       "2017-02-19 12:00:00                                                0.0             \n",
       "2017-02-19 13:00:00                                                0.0             \n",
       "2017-02-19 14:00:00                                                0.0             \n",
       "2017-02-19 15:00:00                                                0.0             \n",
       "2017-02-19 16:00:00                                                0.0             \n",
       "\n",
       "                     PFS/porq1_256k/Ti02_001_4x4_sl./job_espresso.cresco4_pdos.sh  \\\n",
       "timestamp_py                                                                        \n",
       "2017-02-19 12:00:00                                                0.0              \n",
       "2017-02-19 13:00:00                                                0.0              \n",
       "2017-02-19 14:00:00                                                0.0              \n",
       "2017-02-19 15:00:00                                                0.0              \n",
       "2017-02-19 16:00:00                                                0.0              \n",
       "\n",
       "                     PFS/porq1_256k/H2O_TiO2_001_4x./job_espresso.cresco4_dos.sh  \\\n",
       "timestamp_py                                                                       \n",
       "2017-02-19 12:00:00                                                0.0             \n",
       "2017-02-19 13:00:00                                                0.0             \n",
       "2017-02-19 14:00:00                                                0.0             \n",
       "2017-02-19 15:00:00                                                0.0             \n",
       "2017-02-19 16:00:00                                                0.0             \n",
       "\n",
       "                     PFS/porq1_256k/H2O_TiO2_001_4x./job_espresso.cresco4_pdos.sh  \n",
       "timestamp_py                                                                       \n",
       "2017-02-19 12:00:00                                                0.0             \n",
       "2017-02-19 13:00:00                                                0.0             \n",
       "2017-02-19 14:00:00                                                0.0             \n",
       "2017-02-19 15:00:00                                                0.0             \n",
       "2017-02-19 16:00:00                                                0.0             \n",
       "\n",
       "[5 rows x 976 columns]"
      ]
     },
     "execution_count": 8,
     "metadata": {},
     "output_type": "execute_result"
    }
   ],
   "source": [
    "proc_df.head()"
   ]
  },
  {
   "cell_type": "code",
   "execution_count": 10,
   "metadata": {
    "collapsed": true
   },
   "outputs": [],
   "source": [
    "proc_max_df = pd.read_excel( os.path.join( Working_dir, \"proc_max_matrix_month.xlsx\" ) )"
   ]
  },
  {
   "cell_type": "code",
   "execution_count": 11,
   "metadata": {},
   "outputs": [
    {
     "data": {
      "text/html": [
       "<div>\n",
       "<style>\n",
       "    .dataframe thead tr:only-child th {\n",
       "        text-align: right;\n",
       "    }\n",
       "\n",
       "    .dataframe thead th {\n",
       "        text-align: left;\n",
       "    }\n",
       "\n",
       "    .dataframe tbody tr th {\n",
       "        vertical-align: top;\n",
       "    }\n",
       "</style>\n",
       "<table border=\"1\" class=\"dataframe\">\n",
       "  <thead>\n",
       "    <tr style=\"text-align: right;\">\n",
       "      <th></th>\n",
       "      <th>/gporq1_minni/minni/QA/mario/Q</th>\n",
       "      <th>PFS/porq1_1M/SiH/test_optimizecp2k_launch.sh</th>\n",
       "      <th>/gpfs_scratch/funel/ior-master./sub_ior_mpiio_t128k_shared.s</th>\n",
       "      <th>/gporq1_minni/minni/QA/mario/QHOSTFILE=$LSB_DJOB_HOSTFILE</th>\n",
       "      <th>/gporq1_minni/minni/QA/mario/Q/gporq1_minni/minni/QA/mario/Q</th>\n",
       "      <th>minnirams/soft/script/ramscresco4x262.portici.enea.it</th>\n",
       "      <th>cresco4x001.portici.enea.it./submit.sh</th>\n",
       "      <th>/gpfs_scratch/funel/ior-master./sub_ior_mpiio_t1m_fileperpro</th>\n",
       "      <th>PADRactions/4LOSEDGE/FILLEDCOLblaunch_mcnp</th>\n",
       "      <th>PORT_INTEGRATION/Advantg/TNSM_blaunch_mcnp</th>\n",
       "      <th>...</th>\n",
       "      <th>/gporq1_clima0/regcm/Exp/Med-2./MED-20_2.sh</th>\n",
       "      <th>minnirams/soft/script/ramscresco4x296.portici.enea.it</th>\n",
       "      <th>minnirams/soft/script/ramscresco4x145.portici.enea.it</th>\n",
       "      <th>PFS/porq1_1M/LiC/GeO2/co.60/13#!/bin/sh;CPMD_PPS_DIR=$HOME/D</th>\n",
       "      <th>minnirams/soft/script/ramscresco4x144.portici.enea.it</th>\n",
       "      <th>Rez_proton_beam/Test_sourceblaunch_mcnp</th>\n",
       "      <th>PFS/porq1_256k/Ti02_001_4x4_sl./job_espresso.cresco4_dos.sh</th>\n",
       "      <th>PFS/porq1_256k/Ti02_001_4x4_sl./job_espresso.cresco4_pdos.sh</th>\n",
       "      <th>PFS/porq1_256k/H2O_TiO2_001_4x./job_espresso.cresco4_dos.sh</th>\n",
       "      <th>PFS/porq1_256k/H2O_TiO2_001_4x./job_espresso.cresco4_pdos.sh</th>\n",
       "    </tr>\n",
       "  </thead>\n",
       "  <tbody>\n",
       "    <tr>\n",
       "      <th>2017-02-19 12:00:02</th>\n",
       "      <td>0.000977</td>\n",
       "      <td>0.000000</td>\n",
       "      <td>1.0</td>\n",
       "      <td>0.0</td>\n",
       "      <td>0.0</td>\n",
       "      <td>0.5</td>\n",
       "      <td>1.59375</td>\n",
       "      <td>1.0</td>\n",
       "      <td>0.78125</td>\n",
       "      <td>1.5625</td>\n",
       "      <td>...</td>\n",
       "      <td>0.0</td>\n",
       "      <td>0.0</td>\n",
       "      <td>0.0</td>\n",
       "      <td>0</td>\n",
       "      <td>0.0</td>\n",
       "      <td>0.0</td>\n",
       "      <td>0.0</td>\n",
       "      <td>0.0</td>\n",
       "      <td>0.0</td>\n",
       "      <td>0.0</td>\n",
       "    </tr>\n",
       "    <tr>\n",
       "      <th>2017-02-19 13:00:00</th>\n",
       "      <td>0.000000</td>\n",
       "      <td>0.000000</td>\n",
       "      <td>1.0</td>\n",
       "      <td>0.0</td>\n",
       "      <td>0.0</td>\n",
       "      <td>0.5</td>\n",
       "      <td>1.59375</td>\n",
       "      <td>1.0</td>\n",
       "      <td>0.78125</td>\n",
       "      <td>1.5625</td>\n",
       "      <td>...</td>\n",
       "      <td>0.0</td>\n",
       "      <td>0.0</td>\n",
       "      <td>0.0</td>\n",
       "      <td>0</td>\n",
       "      <td>0.0</td>\n",
       "      <td>0.0</td>\n",
       "      <td>0.0</td>\n",
       "      <td>0.0</td>\n",
       "      <td>0.0</td>\n",
       "      <td>0.0</td>\n",
       "    </tr>\n",
       "    <tr>\n",
       "      <th>2017-02-19 14:00:00</th>\n",
       "      <td>0.000000</td>\n",
       "      <td>0.000000</td>\n",
       "      <td>1.0</td>\n",
       "      <td>0.0</td>\n",
       "      <td>0.0</td>\n",
       "      <td>0.5</td>\n",
       "      <td>1.59375</td>\n",
       "      <td>1.0</td>\n",
       "      <td>0.78125</td>\n",
       "      <td>1.5625</td>\n",
       "      <td>...</td>\n",
       "      <td>0.0</td>\n",
       "      <td>0.0</td>\n",
       "      <td>0.0</td>\n",
       "      <td>0</td>\n",
       "      <td>0.0</td>\n",
       "      <td>0.0</td>\n",
       "      <td>0.0</td>\n",
       "      <td>0.0</td>\n",
       "      <td>0.0</td>\n",
       "      <td>0.0</td>\n",
       "    </tr>\n",
       "    <tr>\n",
       "      <th>2017-02-19 15:00:00</th>\n",
       "      <td>0.000000</td>\n",
       "      <td>0.000000</td>\n",
       "      <td>1.0</td>\n",
       "      <td>0.0</td>\n",
       "      <td>0.0</td>\n",
       "      <td>0.5</td>\n",
       "      <td>1.59375</td>\n",
       "      <td>1.0</td>\n",
       "      <td>0.78125</td>\n",
       "      <td>1.5625</td>\n",
       "      <td>...</td>\n",
       "      <td>0.0</td>\n",
       "      <td>0.0</td>\n",
       "      <td>0.0</td>\n",
       "      <td>0</td>\n",
       "      <td>0.0</td>\n",
       "      <td>0.0</td>\n",
       "      <td>0.0</td>\n",
       "      <td>0.0</td>\n",
       "      <td>0.0</td>\n",
       "      <td>0.0</td>\n",
       "    </tr>\n",
       "    <tr>\n",
       "      <th>2017-02-19 16:14:00</th>\n",
       "      <td>0.000000</td>\n",
       "      <td>0.000977</td>\n",
       "      <td>1.0</td>\n",
       "      <td>0.0</td>\n",
       "      <td>0.0</td>\n",
       "      <td>0.5</td>\n",
       "      <td>1.59375</td>\n",
       "      <td>1.0</td>\n",
       "      <td>0.78125</td>\n",
       "      <td>1.5625</td>\n",
       "      <td>...</td>\n",
       "      <td>0.0</td>\n",
       "      <td>0.0</td>\n",
       "      <td>0.0</td>\n",
       "      <td>0</td>\n",
       "      <td>0.0</td>\n",
       "      <td>0.0</td>\n",
       "      <td>0.0</td>\n",
       "      <td>0.0</td>\n",
       "      <td>0.0</td>\n",
       "      <td>0.0</td>\n",
       "    </tr>\n",
       "  </tbody>\n",
       "</table>\n",
       "<p>5 rows × 976 columns</p>\n",
       "</div>"
      ],
      "text/plain": [
       "                     /gporq1_minni/minni/QA/mario/Q  \\\n",
       "2017-02-19 12:00:02                        0.000977   \n",
       "2017-02-19 13:00:00                        0.000000   \n",
       "2017-02-19 14:00:00                        0.000000   \n",
       "2017-02-19 15:00:00                        0.000000   \n",
       "2017-02-19 16:14:00                        0.000000   \n",
       "\n",
       "                     PFS/porq1_1M/SiH/test_optimizecp2k_launch.sh  \\\n",
       "2017-02-19 12:00:02                                      0.000000   \n",
       "2017-02-19 13:00:00                                      0.000000   \n",
       "2017-02-19 14:00:00                                      0.000000   \n",
       "2017-02-19 15:00:00                                      0.000000   \n",
       "2017-02-19 16:14:00                                      0.000977   \n",
       "\n",
       "                     /gpfs_scratch/funel/ior-master./sub_ior_mpiio_t128k_shared.s  \\\n",
       "2017-02-19 12:00:02                                                1.0              \n",
       "2017-02-19 13:00:00                                                1.0              \n",
       "2017-02-19 14:00:00                                                1.0              \n",
       "2017-02-19 15:00:00                                                1.0              \n",
       "2017-02-19 16:14:00                                                1.0              \n",
       "\n",
       "                     /gporq1_minni/minni/QA/mario/QHOSTFILE=$LSB_DJOB_HOSTFILE  \\\n",
       "2017-02-19 12:00:02                                                0.0           \n",
       "2017-02-19 13:00:00                                                0.0           \n",
       "2017-02-19 14:00:00                                                0.0           \n",
       "2017-02-19 15:00:00                                                0.0           \n",
       "2017-02-19 16:14:00                                                0.0           \n",
       "\n",
       "                     /gporq1_minni/minni/QA/mario/Q/gporq1_minni/minni/QA/mario/Q  \\\n",
       "2017-02-19 12:00:02                                                0.0              \n",
       "2017-02-19 13:00:00                                                0.0              \n",
       "2017-02-19 14:00:00                                                0.0              \n",
       "2017-02-19 15:00:00                                                0.0              \n",
       "2017-02-19 16:14:00                                                0.0              \n",
       "\n",
       "                     minnirams/soft/script/ramscresco4x262.portici.enea.it  \\\n",
       "2017-02-19 12:00:02                                                0.5       \n",
       "2017-02-19 13:00:00                                                0.5       \n",
       "2017-02-19 14:00:00                                                0.5       \n",
       "2017-02-19 15:00:00                                                0.5       \n",
       "2017-02-19 16:14:00                                                0.5       \n",
       "\n",
       "                     cresco4x001.portici.enea.it./submit.sh  \\\n",
       "2017-02-19 12:00:02                                 1.59375   \n",
       "2017-02-19 13:00:00                                 1.59375   \n",
       "2017-02-19 14:00:00                                 1.59375   \n",
       "2017-02-19 15:00:00                                 1.59375   \n",
       "2017-02-19 16:14:00                                 1.59375   \n",
       "\n",
       "                     /gpfs_scratch/funel/ior-master./sub_ior_mpiio_t1m_fileperpro  \\\n",
       "2017-02-19 12:00:02                                                1.0              \n",
       "2017-02-19 13:00:00                                                1.0              \n",
       "2017-02-19 14:00:00                                                1.0              \n",
       "2017-02-19 15:00:00                                                1.0              \n",
       "2017-02-19 16:14:00                                                1.0              \n",
       "\n",
       "                     PADRactions/4LOSEDGE/FILLEDCOLblaunch_mcnp  \\\n",
       "2017-02-19 12:00:02                                     0.78125   \n",
       "2017-02-19 13:00:00                                     0.78125   \n",
       "2017-02-19 14:00:00                                     0.78125   \n",
       "2017-02-19 15:00:00                                     0.78125   \n",
       "2017-02-19 16:14:00                                     0.78125   \n",
       "\n",
       "                     PORT_INTEGRATION/Advantg/TNSM_blaunch_mcnp  \\\n",
       "2017-02-19 12:00:02                                      1.5625   \n",
       "2017-02-19 13:00:00                                      1.5625   \n",
       "2017-02-19 14:00:00                                      1.5625   \n",
       "2017-02-19 15:00:00                                      1.5625   \n",
       "2017-02-19 16:14:00                                      1.5625   \n",
       "\n",
       "                                                 ...                               \\\n",
       "2017-02-19 12:00:02                              ...                                \n",
       "2017-02-19 13:00:00                              ...                                \n",
       "2017-02-19 14:00:00                              ...                                \n",
       "2017-02-19 15:00:00                              ...                                \n",
       "2017-02-19 16:14:00                              ...                                \n",
       "\n",
       "                     /gporq1_clima0/regcm/Exp/Med-2./MED-20_2.sh  \\\n",
       "2017-02-19 12:00:02                                          0.0   \n",
       "2017-02-19 13:00:00                                          0.0   \n",
       "2017-02-19 14:00:00                                          0.0   \n",
       "2017-02-19 15:00:00                                          0.0   \n",
       "2017-02-19 16:14:00                                          0.0   \n",
       "\n",
       "                     minnirams/soft/script/ramscresco4x296.portici.enea.it  \\\n",
       "2017-02-19 12:00:02                                                0.0       \n",
       "2017-02-19 13:00:00                                                0.0       \n",
       "2017-02-19 14:00:00                                                0.0       \n",
       "2017-02-19 15:00:00                                                0.0       \n",
       "2017-02-19 16:14:00                                                0.0       \n",
       "\n",
       "                     minnirams/soft/script/ramscresco4x145.portici.enea.it  \\\n",
       "2017-02-19 12:00:02                                                0.0       \n",
       "2017-02-19 13:00:00                                                0.0       \n",
       "2017-02-19 14:00:00                                                0.0       \n",
       "2017-02-19 15:00:00                                                0.0       \n",
       "2017-02-19 16:14:00                                                0.0       \n",
       "\n",
       "                     PFS/porq1_1M/LiC/GeO2/co.60/13#!/bin/sh;CPMD_PPS_DIR=$HOME/D  \\\n",
       "2017-02-19 12:00:02                                                  0              \n",
       "2017-02-19 13:00:00                                                  0              \n",
       "2017-02-19 14:00:00                                                  0              \n",
       "2017-02-19 15:00:00                                                  0              \n",
       "2017-02-19 16:14:00                                                  0              \n",
       "\n",
       "                     minnirams/soft/script/ramscresco4x144.portici.enea.it  \\\n",
       "2017-02-19 12:00:02                                                0.0       \n",
       "2017-02-19 13:00:00                                                0.0       \n",
       "2017-02-19 14:00:00                                                0.0       \n",
       "2017-02-19 15:00:00                                                0.0       \n",
       "2017-02-19 16:14:00                                                0.0       \n",
       "\n",
       "                     Rez_proton_beam/Test_sourceblaunch_mcnp  \\\n",
       "2017-02-19 12:00:02                                      0.0   \n",
       "2017-02-19 13:00:00                                      0.0   \n",
       "2017-02-19 14:00:00                                      0.0   \n",
       "2017-02-19 15:00:00                                      0.0   \n",
       "2017-02-19 16:14:00                                      0.0   \n",
       "\n",
       "                     PFS/porq1_256k/Ti02_001_4x4_sl./job_espresso.cresco4_dos.sh  \\\n",
       "2017-02-19 12:00:02                                                0.0             \n",
       "2017-02-19 13:00:00                                                0.0             \n",
       "2017-02-19 14:00:00                                                0.0             \n",
       "2017-02-19 15:00:00                                                0.0             \n",
       "2017-02-19 16:14:00                                                0.0             \n",
       "\n",
       "                     PFS/porq1_256k/Ti02_001_4x4_sl./job_espresso.cresco4_pdos.sh  \\\n",
       "2017-02-19 12:00:02                                                0.0              \n",
       "2017-02-19 13:00:00                                                0.0              \n",
       "2017-02-19 14:00:00                                                0.0              \n",
       "2017-02-19 15:00:00                                                0.0              \n",
       "2017-02-19 16:14:00                                                0.0              \n",
       "\n",
       "                     PFS/porq1_256k/H2O_TiO2_001_4x./job_espresso.cresco4_dos.sh  \\\n",
       "2017-02-19 12:00:02                                                0.0             \n",
       "2017-02-19 13:00:00                                                0.0             \n",
       "2017-02-19 14:00:00                                                0.0             \n",
       "2017-02-19 15:00:00                                                0.0             \n",
       "2017-02-19 16:14:00                                                0.0             \n",
       "\n",
       "                     PFS/porq1_256k/H2O_TiO2_001_4x./job_espresso.cresco4_pdos.sh  \n",
       "2017-02-19 12:00:02                                                0.0             \n",
       "2017-02-19 13:00:00                                                0.0             \n",
       "2017-02-19 14:00:00                                                0.0             \n",
       "2017-02-19 15:00:00                                                0.0             \n",
       "2017-02-19 16:14:00                                                0.0             \n",
       "\n",
       "[5 rows x 976 columns]"
      ]
     },
     "execution_count": 11,
     "metadata": {},
     "output_type": "execute_result"
    }
   ],
   "source": [
    "proc_max_df.head()"
   ]
  },
  {
   "cell_type": "code",
   "execution_count": 13,
   "metadata": {
    "collapsed": true
   },
   "outputs": [],
   "source": [
    "proc_min_df = pd.read_excel( os.path.join( Working_dir, \"proc_min_matrix_month.xlsx\" ) )"
   ]
  },
  {
   "cell_type": "code",
   "execution_count": 14,
   "metadata": {},
   "outputs": [
    {
     "data": {
      "text/html": [
       "<div>\n",
       "<style>\n",
       "    .dataframe thead tr:only-child th {\n",
       "        text-align: right;\n",
       "    }\n",
       "\n",
       "    .dataframe thead th {\n",
       "        text-align: left;\n",
       "    }\n",
       "\n",
       "    .dataframe tbody tr th {\n",
       "        vertical-align: top;\n",
       "    }\n",
       "</style>\n",
       "<table border=\"1\" class=\"dataframe\">\n",
       "  <thead>\n",
       "    <tr style=\"text-align: right;\">\n",
       "      <th></th>\n",
       "      <th>/gporq1_minni/minni/QA/mario/Q</th>\n",
       "      <th>PFS/porq1_1M/SiH/test_optimizecp2k_launch.sh</th>\n",
       "      <th>/gpfs_scratch/funel/ior-master./sub_ior_mpiio_t128k_shared.s</th>\n",
       "      <th>/gporq1_minni/minni/QA/mario/QHOSTFILE=$LSB_DJOB_HOSTFILE</th>\n",
       "      <th>/gporq1_minni/minni/QA/mario/Q/gporq1_minni/minni/QA/mario/Q</th>\n",
       "      <th>minnirams/soft/script/ramscresco4x262.portici.enea.it</th>\n",
       "      <th>cresco4x001.portici.enea.it./submit.sh</th>\n",
       "      <th>/gpfs_scratch/funel/ior-master./sub_ior_mpiio_t1m_fileperpro</th>\n",
       "      <th>PADRactions/4LOSEDGE/FILLEDCOLblaunch_mcnp</th>\n",
       "      <th>PORT_INTEGRATION/Advantg/TNSM_blaunch_mcnp</th>\n",
       "      <th>...</th>\n",
       "      <th>/gporq1_clima0/regcm/Exp/Med-2./MED-20_2.sh</th>\n",
       "      <th>minnirams/soft/script/ramscresco4x296.portici.enea.it</th>\n",
       "      <th>minnirams/soft/script/ramscresco4x145.portici.enea.it</th>\n",
       "      <th>PFS/porq1_1M/LiC/GeO2/co.60/13#!/bin/sh;CPMD_PPS_DIR=$HOME/D</th>\n",
       "      <th>minnirams/soft/script/ramscresco4x144.portici.enea.it</th>\n",
       "      <th>Rez_proton_beam/Test_sourceblaunch_mcnp</th>\n",
       "      <th>PFS/porq1_256k/Ti02_001_4x4_sl./job_espresso.cresco4_dos.sh</th>\n",
       "      <th>PFS/porq1_256k/Ti02_001_4x4_sl./job_espresso.cresco4_pdos.sh</th>\n",
       "      <th>PFS/porq1_256k/H2O_TiO2_001_4x./job_espresso.cresco4_dos.sh</th>\n",
       "      <th>PFS/porq1_256k/H2O_TiO2_001_4x./job_espresso.cresco4_pdos.sh</th>\n",
       "    </tr>\n",
       "  </thead>\n",
       "  <tbody>\n",
       "    <tr>\n",
       "      <th>2017-02-19 12:00:00</th>\n",
       "      <td>0.0</td>\n",
       "      <td>0.0</td>\n",
       "      <td>1</td>\n",
       "      <td>0</td>\n",
       "      <td>0.0</td>\n",
       "      <td>0.5</td>\n",
       "      <td>1.59375</td>\n",
       "      <td>1</td>\n",
       "      <td>0.78125</td>\n",
       "      <td>1.5625</td>\n",
       "      <td>...</td>\n",
       "      <td>0.0</td>\n",
       "      <td>0.0</td>\n",
       "      <td>0.0</td>\n",
       "      <td>0</td>\n",
       "      <td>0.0</td>\n",
       "      <td>0.0</td>\n",
       "      <td>0.0</td>\n",
       "      <td>0.0</td>\n",
       "      <td>0.0</td>\n",
       "      <td>0.0</td>\n",
       "    </tr>\n",
       "    <tr>\n",
       "      <th>2017-02-19 13:00:00</th>\n",
       "      <td>0.0</td>\n",
       "      <td>0.0</td>\n",
       "      <td>1</td>\n",
       "      <td>0</td>\n",
       "      <td>0.0</td>\n",
       "      <td>0.5</td>\n",
       "      <td>1.59375</td>\n",
       "      <td>1</td>\n",
       "      <td>0.78125</td>\n",
       "      <td>1.5625</td>\n",
       "      <td>...</td>\n",
       "      <td>0.0</td>\n",
       "      <td>0.0</td>\n",
       "      <td>0.0</td>\n",
       "      <td>0</td>\n",
       "      <td>0.0</td>\n",
       "      <td>0.0</td>\n",
       "      <td>0.0</td>\n",
       "      <td>0.0</td>\n",
       "      <td>0.0</td>\n",
       "      <td>0.0</td>\n",
       "    </tr>\n",
       "    <tr>\n",
       "      <th>2017-02-19 14:00:00</th>\n",
       "      <td>0.0</td>\n",
       "      <td>0.0</td>\n",
       "      <td>1</td>\n",
       "      <td>0</td>\n",
       "      <td>0.0</td>\n",
       "      <td>0.5</td>\n",
       "      <td>1.59375</td>\n",
       "      <td>1</td>\n",
       "      <td>0.78125</td>\n",
       "      <td>1.5625</td>\n",
       "      <td>...</td>\n",
       "      <td>0.0</td>\n",
       "      <td>0.0</td>\n",
       "      <td>0.0</td>\n",
       "      <td>0</td>\n",
       "      <td>0.0</td>\n",
       "      <td>0.0</td>\n",
       "      <td>0.0</td>\n",
       "      <td>0.0</td>\n",
       "      <td>0.0</td>\n",
       "      <td>0.0</td>\n",
       "    </tr>\n",
       "    <tr>\n",
       "      <th>2017-02-19 15:00:00</th>\n",
       "      <td>0.0</td>\n",
       "      <td>0.0</td>\n",
       "      <td>1</td>\n",
       "      <td>0</td>\n",
       "      <td>0.0</td>\n",
       "      <td>0.5</td>\n",
       "      <td>1.59375</td>\n",
       "      <td>1</td>\n",
       "      <td>0.78125</td>\n",
       "      <td>1.5625</td>\n",
       "      <td>...</td>\n",
       "      <td>0.0</td>\n",
       "      <td>0.0</td>\n",
       "      <td>0.0</td>\n",
       "      <td>0</td>\n",
       "      <td>0.0</td>\n",
       "      <td>0.0</td>\n",
       "      <td>0.0</td>\n",
       "      <td>0.0</td>\n",
       "      <td>0.0</td>\n",
       "      <td>0.0</td>\n",
       "    </tr>\n",
       "    <tr>\n",
       "      <th>2017-02-19 16:00:00</th>\n",
       "      <td>0.0</td>\n",
       "      <td>0.0</td>\n",
       "      <td>1</td>\n",
       "      <td>0</td>\n",
       "      <td>0.0</td>\n",
       "      <td>0.5</td>\n",
       "      <td>1.59375</td>\n",
       "      <td>1</td>\n",
       "      <td>0.78125</td>\n",
       "      <td>1.5625</td>\n",
       "      <td>...</td>\n",
       "      <td>0.0</td>\n",
       "      <td>0.0</td>\n",
       "      <td>0.0</td>\n",
       "      <td>0</td>\n",
       "      <td>0.0</td>\n",
       "      <td>0.0</td>\n",
       "      <td>0.0</td>\n",
       "      <td>0.0</td>\n",
       "      <td>0.0</td>\n",
       "      <td>0.0</td>\n",
       "    </tr>\n",
       "  </tbody>\n",
       "</table>\n",
       "<p>5 rows × 976 columns</p>\n",
       "</div>"
      ],
      "text/plain": [
       "                     /gporq1_minni/minni/QA/mario/Q  \\\n",
       "2017-02-19 12:00:00                             0.0   \n",
       "2017-02-19 13:00:00                             0.0   \n",
       "2017-02-19 14:00:00                             0.0   \n",
       "2017-02-19 15:00:00                             0.0   \n",
       "2017-02-19 16:00:00                             0.0   \n",
       "\n",
       "                     PFS/porq1_1M/SiH/test_optimizecp2k_launch.sh  \\\n",
       "2017-02-19 12:00:00                                           0.0   \n",
       "2017-02-19 13:00:00                                           0.0   \n",
       "2017-02-19 14:00:00                                           0.0   \n",
       "2017-02-19 15:00:00                                           0.0   \n",
       "2017-02-19 16:00:00                                           0.0   \n",
       "\n",
       "                     /gpfs_scratch/funel/ior-master./sub_ior_mpiio_t128k_shared.s  \\\n",
       "2017-02-19 12:00:00                                                  1              \n",
       "2017-02-19 13:00:00                                                  1              \n",
       "2017-02-19 14:00:00                                                  1              \n",
       "2017-02-19 15:00:00                                                  1              \n",
       "2017-02-19 16:00:00                                                  1              \n",
       "\n",
       "                     /gporq1_minni/minni/QA/mario/QHOSTFILE=$LSB_DJOB_HOSTFILE  \\\n",
       "2017-02-19 12:00:00                                                  0           \n",
       "2017-02-19 13:00:00                                                  0           \n",
       "2017-02-19 14:00:00                                                  0           \n",
       "2017-02-19 15:00:00                                                  0           \n",
       "2017-02-19 16:00:00                                                  0           \n",
       "\n",
       "                     /gporq1_minni/minni/QA/mario/Q/gporq1_minni/minni/QA/mario/Q  \\\n",
       "2017-02-19 12:00:00                                                0.0              \n",
       "2017-02-19 13:00:00                                                0.0              \n",
       "2017-02-19 14:00:00                                                0.0              \n",
       "2017-02-19 15:00:00                                                0.0              \n",
       "2017-02-19 16:00:00                                                0.0              \n",
       "\n",
       "                     minnirams/soft/script/ramscresco4x262.portici.enea.it  \\\n",
       "2017-02-19 12:00:00                                                0.5       \n",
       "2017-02-19 13:00:00                                                0.5       \n",
       "2017-02-19 14:00:00                                                0.5       \n",
       "2017-02-19 15:00:00                                                0.5       \n",
       "2017-02-19 16:00:00                                                0.5       \n",
       "\n",
       "                     cresco4x001.portici.enea.it./submit.sh  \\\n",
       "2017-02-19 12:00:00                                 1.59375   \n",
       "2017-02-19 13:00:00                                 1.59375   \n",
       "2017-02-19 14:00:00                                 1.59375   \n",
       "2017-02-19 15:00:00                                 1.59375   \n",
       "2017-02-19 16:00:00                                 1.59375   \n",
       "\n",
       "                     /gpfs_scratch/funel/ior-master./sub_ior_mpiio_t1m_fileperpro  \\\n",
       "2017-02-19 12:00:00                                                  1              \n",
       "2017-02-19 13:00:00                                                  1              \n",
       "2017-02-19 14:00:00                                                  1              \n",
       "2017-02-19 15:00:00                                                  1              \n",
       "2017-02-19 16:00:00                                                  1              \n",
       "\n",
       "                     PADRactions/4LOSEDGE/FILLEDCOLblaunch_mcnp  \\\n",
       "2017-02-19 12:00:00                                     0.78125   \n",
       "2017-02-19 13:00:00                                     0.78125   \n",
       "2017-02-19 14:00:00                                     0.78125   \n",
       "2017-02-19 15:00:00                                     0.78125   \n",
       "2017-02-19 16:00:00                                     0.78125   \n",
       "\n",
       "                     PORT_INTEGRATION/Advantg/TNSM_blaunch_mcnp  \\\n",
       "2017-02-19 12:00:00                                      1.5625   \n",
       "2017-02-19 13:00:00                                      1.5625   \n",
       "2017-02-19 14:00:00                                      1.5625   \n",
       "2017-02-19 15:00:00                                      1.5625   \n",
       "2017-02-19 16:00:00                                      1.5625   \n",
       "\n",
       "                                                 ...                               \\\n",
       "2017-02-19 12:00:00                              ...                                \n",
       "2017-02-19 13:00:00                              ...                                \n",
       "2017-02-19 14:00:00                              ...                                \n",
       "2017-02-19 15:00:00                              ...                                \n",
       "2017-02-19 16:00:00                              ...                                \n",
       "\n",
       "                     /gporq1_clima0/regcm/Exp/Med-2./MED-20_2.sh  \\\n",
       "2017-02-19 12:00:00                                          0.0   \n",
       "2017-02-19 13:00:00                                          0.0   \n",
       "2017-02-19 14:00:00                                          0.0   \n",
       "2017-02-19 15:00:00                                          0.0   \n",
       "2017-02-19 16:00:00                                          0.0   \n",
       "\n",
       "                     minnirams/soft/script/ramscresco4x296.portici.enea.it  \\\n",
       "2017-02-19 12:00:00                                                0.0       \n",
       "2017-02-19 13:00:00                                                0.0       \n",
       "2017-02-19 14:00:00                                                0.0       \n",
       "2017-02-19 15:00:00                                                0.0       \n",
       "2017-02-19 16:00:00                                                0.0       \n",
       "\n",
       "                     minnirams/soft/script/ramscresco4x145.portici.enea.it  \\\n",
       "2017-02-19 12:00:00                                                0.0       \n",
       "2017-02-19 13:00:00                                                0.0       \n",
       "2017-02-19 14:00:00                                                0.0       \n",
       "2017-02-19 15:00:00                                                0.0       \n",
       "2017-02-19 16:00:00                                                0.0       \n",
       "\n",
       "                     PFS/porq1_1M/LiC/GeO2/co.60/13#!/bin/sh;CPMD_PPS_DIR=$HOME/D  \\\n",
       "2017-02-19 12:00:00                                                  0              \n",
       "2017-02-19 13:00:00                                                  0              \n",
       "2017-02-19 14:00:00                                                  0              \n",
       "2017-02-19 15:00:00                                                  0              \n",
       "2017-02-19 16:00:00                                                  0              \n",
       "\n",
       "                     minnirams/soft/script/ramscresco4x144.portici.enea.it  \\\n",
       "2017-02-19 12:00:00                                                0.0       \n",
       "2017-02-19 13:00:00                                                0.0       \n",
       "2017-02-19 14:00:00                                                0.0       \n",
       "2017-02-19 15:00:00                                                0.0       \n",
       "2017-02-19 16:00:00                                                0.0       \n",
       "\n",
       "                     Rez_proton_beam/Test_sourceblaunch_mcnp  \\\n",
       "2017-02-19 12:00:00                                      0.0   \n",
       "2017-02-19 13:00:00                                      0.0   \n",
       "2017-02-19 14:00:00                                      0.0   \n",
       "2017-02-19 15:00:00                                      0.0   \n",
       "2017-02-19 16:00:00                                      0.0   \n",
       "\n",
       "                     PFS/porq1_256k/Ti02_001_4x4_sl./job_espresso.cresco4_dos.sh  \\\n",
       "2017-02-19 12:00:00                                                0.0             \n",
       "2017-02-19 13:00:00                                                0.0             \n",
       "2017-02-19 14:00:00                                                0.0             \n",
       "2017-02-19 15:00:00                                                0.0             \n",
       "2017-02-19 16:00:00                                                0.0             \n",
       "\n",
       "                     PFS/porq1_256k/Ti02_001_4x4_sl./job_espresso.cresco4_pdos.sh  \\\n",
       "2017-02-19 12:00:00                                                0.0              \n",
       "2017-02-19 13:00:00                                                0.0              \n",
       "2017-02-19 14:00:00                                                0.0              \n",
       "2017-02-19 15:00:00                                                0.0              \n",
       "2017-02-19 16:00:00                                                0.0              \n",
       "\n",
       "                     PFS/porq1_256k/H2O_TiO2_001_4x./job_espresso.cresco4_dos.sh  \\\n",
       "2017-02-19 12:00:00                                                0.0             \n",
       "2017-02-19 13:00:00                                                0.0             \n",
       "2017-02-19 14:00:00                                                0.0             \n",
       "2017-02-19 15:00:00                                                0.0             \n",
       "2017-02-19 16:00:00                                                0.0             \n",
       "\n",
       "                     PFS/porq1_256k/H2O_TiO2_001_4x./job_espresso.cresco4_pdos.sh  \n",
       "2017-02-19 12:00:00                                                0.0             \n",
       "2017-02-19 13:00:00                                                0.0             \n",
       "2017-02-19 14:00:00                                                0.0             \n",
       "2017-02-19 15:00:00                                                0.0             \n",
       "2017-02-19 16:00:00                                                0.0             \n",
       "\n",
       "[5 rows x 976 columns]"
      ]
     },
     "execution_count": 14,
     "metadata": {},
     "output_type": "execute_result"
    }
   ],
   "source": [
    "proc_min_df.head()"
   ]
  },
  {
   "cell_type": "code",
   "execution_count": 15,
   "metadata": {
    "collapsed": true
   },
   "outputs": [],
   "source": [
    "# zabbix_month_df.head()"
   ]
  },
  {
   "cell_type": "code",
   "execution_count": 16,
   "metadata": {
    "scrolled": true
   },
   "outputs": [
    {
     "data": {
      "text/html": [
       "<div>\n",
       "<style>\n",
       "    .dataframe thead tr:only-child th {\n",
       "        text-align: right;\n",
       "    }\n",
       "\n",
       "    .dataframe thead th {\n",
       "        text-align: left;\n",
       "    }\n",
       "\n",
       "    .dataframe tbody tr th {\n",
       "        vertical-align: top;\n",
       "    }\n",
       "</style>\n",
       "<table border=\"1\" class=\"dataframe\">\n",
       "  <thead>\n",
       "    <tr style=\"text-align: right;\">\n",
       "      <th></th>\n",
       "      <th>jobid</th>\n",
       "      <th>number of cores used</th>\n",
       "      <th>user name</th>\n",
       "      <th>queue name</th>\n",
       "      <th>directory of running executable</th>\n",
       "      <th>name of executable</th>\n",
       "      <th>job status</th>\n",
       "      <th>start unixtime</th>\n",
       "      <th>stop unixtime</th>\n",
       "      <th>start_date_py</th>\n",
       "      <th>start_time_py</th>\n",
       "      <th>end_date_py</th>\n",
       "      <th>end_time_py</th>\n",
       "      <th>executable_full_name</th>\n",
       "    </tr>\n",
       "  </thead>\n",
       "  <tbody>\n",
       "    <tr>\n",
       "      <th>6072</th>\n",
       "      <td>998286</td>\n",
       "      <td>64</td>\n",
       "      <td>denicola</td>\n",
       "      <td>cresco4_16h24</td>\n",
       "      <td>node_up</td>\n",
       "      <td>./mpirun_wrap.lsf</td>\n",
       "      <td>DONE</td>\n",
       "      <td>1489766998</td>\n",
       "      <td>1489964031</td>\n",
       "      <td>2017-03-17</td>\n",
       "      <td>16:09:58</td>\n",
       "      <td>2017-03-19</td>\n",
       "      <td>22:53:51</td>\n",
       "      <td>node_up./mpirun_wrap.lsf</td>\n",
       "    </tr>\n",
       "    <tr>\n",
       "      <th>6073</th>\n",
       "      <td>998329</td>\n",
       "      <td>704</td>\n",
       "      <td>wangt</td>\n",
       "      <td>cresco4_256h24</td>\n",
       "      <td>PFS/porq1_1M/2017/caso_2017_Ta</td>\n",
       "      <td>./submit.sh</td>\n",
       "      <td>EXIT</td>\n",
       "      <td>1489833600</td>\n",
       "      <td>1489938511</td>\n",
       "      <td>2017-03-18</td>\n",
       "      <td>10:40:00</td>\n",
       "      <td>2017-03-19</td>\n",
       "      <td>15:48:31</td>\n",
       "      <td>PFS/porq1_1M/2017/caso_2017_Ta./submit.sh</td>\n",
       "    </tr>\n",
       "    <tr>\n",
       "      <th>6074</th>\n",
       "      <td>998353</td>\n",
       "      <td>384</td>\n",
       "      <td>wangt</td>\n",
       "      <td>cresco4_256h24</td>\n",
       "      <td>PFS/porq1_1M/2017/caso_2017_Ta</td>\n",
       "      <td>./submit.sh</td>\n",
       "      <td>EXIT</td>\n",
       "      <td>1489906230</td>\n",
       "      <td>1489983969</td>\n",
       "      <td>2017-03-19</td>\n",
       "      <td>06:50:30</td>\n",
       "      <td>2017-03-20</td>\n",
       "      <td>04:26:09</td>\n",
       "      <td>PFS/porq1_1M/2017/caso_2017_Ta./submit.sh</td>\n",
       "    </tr>\n",
       "    <tr>\n",
       "      <th>6075</th>\n",
       "      <td>997177</td>\n",
       "      <td>256</td>\n",
       "      <td>eugenio</td>\n",
       "      <td>combustione4</td>\n",
       "      <td></td>\n",
       "      <td>./bsub_cresco4</td>\n",
       "      <td>EXIT</td>\n",
       "      <td>1489560483</td>\n",
       "      <td>1489572633</td>\n",
       "      <td>2017-03-15</td>\n",
       "      <td>06:48:03</td>\n",
       "      <td>2017-03-15</td>\n",
       "      <td>10:10:33</td>\n",
       "      <td>./bsub_cresco4</td>\n",
       "    </tr>\n",
       "    <tr>\n",
       "      <th>6076</th>\n",
       "      <td>998357</td>\n",
       "      <td>64</td>\n",
       "      <td>mancinig</td>\n",
       "      <td>small_h144</td>\n",
       "      <td>PFS/porq1_1M/LiC/GeO2/co.90/Ne</td>\n",
       "      <td>#!/bin/sh;CPMD_PPS_DIR=$HOME/D</td>\n",
       "      <td>DONE</td>\n",
       "      <td>1489923923</td>\n",
       "      <td>1489923929</td>\n",
       "      <td>2017-03-19</td>\n",
       "      <td>11:45:23</td>\n",
       "      <td>2017-03-19</td>\n",
       "      <td>11:45:29</td>\n",
       "      <td>PFS/porq1_1M/LiC/GeO2/co.90/Ne#!/bin/sh;CPMD_P...</td>\n",
       "    </tr>\n",
       "  </tbody>\n",
       "</table>\n",
       "</div>"
      ],
      "text/plain": [
       "       jobid  number of cores used user name      queue name  \\\n",
       "6072  998286                    64  denicola   cresco4_16h24   \n",
       "6073  998329                   704     wangt  cresco4_256h24   \n",
       "6074  998353                   384     wangt  cresco4_256h24   \n",
       "6075  997177                   256   eugenio    combustione4   \n",
       "6076  998357                    64  mancinig      small_h144   \n",
       "\n",
       "     directory of running executable              name of executable  \\\n",
       "6072                         node_up               ./mpirun_wrap.lsf   \n",
       "6073  PFS/porq1_1M/2017/caso_2017_Ta                     ./submit.sh   \n",
       "6074  PFS/porq1_1M/2017/caso_2017_Ta                     ./submit.sh   \n",
       "6075                                                  ./bsub_cresco4   \n",
       "6076  PFS/porq1_1M/LiC/GeO2/co.90/Ne  #!/bin/sh;CPMD_PPS_DIR=$HOME/D   \n",
       "\n",
       "     job status  start unixtime  stop unixtime start_date_py start_time_py  \\\n",
       "6072       DONE      1489766998     1489964031    2017-03-17      16:09:58   \n",
       "6073       EXIT      1489833600     1489938511    2017-03-18      10:40:00   \n",
       "6074       EXIT      1489906230     1489983969    2017-03-19      06:50:30   \n",
       "6075       EXIT      1489560483     1489572633    2017-03-15      06:48:03   \n",
       "6076       DONE      1489923923     1489923929    2017-03-19      11:45:23   \n",
       "\n",
       "     end_date_py end_time_py  \\\n",
       "6072  2017-03-19    22:53:51   \n",
       "6073  2017-03-19    15:48:31   \n",
       "6074  2017-03-20    04:26:09   \n",
       "6075  2017-03-15    10:10:33   \n",
       "6076  2017-03-19    11:45:29   \n",
       "\n",
       "                                   executable_full_name  \n",
       "6072                           node_up./mpirun_wrap.lsf  \n",
       "6073          PFS/porq1_1M/2017/caso_2017_Ta./submit.sh  \n",
       "6074          PFS/porq1_1M/2017/caso_2017_Ta./submit.sh  \n",
       "6075                                     ./bsub_cresco4  \n",
       "6076  PFS/porq1_1M/LiC/GeO2/co.90/Ne#!/bin/sh;CPMD_P...  "
      ]
     },
     "execution_count": 16,
     "metadata": {},
     "output_type": "execute_result"
    }
   ],
   "source": [
    "lsf_month_df.tail()"
   ]
  },
  {
   "cell_type": "code",
   "execution_count": null,
   "metadata": {
    "collapsed": true
   },
   "outputs": [],
   "source": [
    "# apps_at_time_df.head()"
   ]
  },
  {
   "cell_type": "code",
   "execution_count": null,
   "metadata": {
    "collapsed": true
   },
   "outputs": [],
   "source": [
    "# print(zabbix_df.columns.values)\n",
    "# print(lsf_df.columns.values)"
   ]
  },
  {
   "cell_type": "code",
   "execution_count": null,
   "metadata": {
    "collapsed": true
   },
   "outputs": [],
   "source": [
    "# apps_at_time_df.describe()"
   ]
  },
  {
   "cell_type": "markdown",
   "metadata": {},
   "source": [
    "-------"
   ]
  },
  {
   "cell_type": "markdown",
   "metadata": {},
   "source": [
    "#### All job ids are unique, they cannot be used as an identifier"
   ]
  },
  {
   "cell_type": "code",
   "execution_count": 17,
   "metadata": {},
   "outputs": [
    {
     "data": {
      "text/plain": [
       "True"
      ]
     },
     "execution_count": 17,
     "metadata": {},
     "output_type": "execute_result"
    }
   ],
   "source": [
    "job_ids = list(lsf_month_df.jobid)\n",
    "job_ids_dict = dict((x,job_ids.count(x)) for x in job_ids)\n",
    "all(value == 1 for value in job_ids_dict.values())"
   ]
  },
  {
   "cell_type": "markdown",
   "metadata": {},
   "source": [
    "#### Different processes names can be identifiers\n",
    "\n",
    "- In the first month"
   ]
  },
  {
   "cell_type": "code",
   "execution_count": 18,
   "metadata": {},
   "outputs": [
    {
     "name": "stdout",
     "output_type": "stream",
     "text": [
      "976\n"
     ]
    }
   ],
   "source": [
    "print(len(lsf_month_df.executable_full_name.unique()))\n",
    "# print(zabbix_month_df.shape[0])"
   ]
  },
  {
   "cell_type": "code",
   "execution_count": 19,
   "metadata": {},
   "outputs": [
    {
     "data": {
      "text/plain": [
       "{'./bsub_cresco4': 53,\n",
       " './prova': 4,\n",
       " '/afs/.enea.it/project/ha_forec': 361,\n",
       " '/afs/.enea.it/project/ha_forecHOSTFILE=$LSB_DJOB_HOSTFILE': 3,\n",
       " '/afs/enea.it/project/eocoe/datsleep': 1,\n",
       " '/afs/enea.it/project/minnifarm/afs/enea.it/project/minnifarm': 243,\n",
       " '/afs/enea.it/project/minnifarm/gporq1_minni/minni//minnifarm': 3,\n",
       " '/gpfs_scratch/funel/ior-master./sub.s': 1,\n",
       " '/gpfs_scratch/funel/ior-master./sub.sh': 35,\n",
       " '/gpfs_scratch/funel/ior-master./sub_ior_mpiio_t128k_fileperp': 1,\n",
       " '/gpfs_scratch/funel/ior-master./sub_ior_mpiio_t128k_shared.s': 2,\n",
       " '/gpfs_scratch/funel/ior-master./sub_ior_mpiio_t1m_fileperpro': 2,\n",
       " '/gpfs_scratch/funel/ior-master./sub_ior_mpiio_t1m_shared.sh': 2,\n",
       " '/gpfs_scratch/funel/ior-master./sub_ior_mpiio_t256m_fileperp': 2,\n",
       " '/gpfs_scratch/funel/ior-master./sub_ior_mpiio_t256m_shared.s': 2,\n",
       " '/gpfs_scratch/funel/ior-master./sub_ior_mpiio_t4m_fileperpro': 1,\n",
       " '/gpfs_scratch/funel/ior-master./sub_ior_mpiio_t4m_shared.sh': 1,\n",
       " '/gporq1_1M/usr/dcecere/HP_10ba./cresco4.post': 2,\n",
       " '/gporq1_1M/usr/dcecere/HP_1bar./cresco4.post': 3,\n",
       " '/gporq1_1M/usr/dcecere/HP_1barcresco4.post': 1,\n",
       " '/gporq1_1M/usr/dcecere/HP_40ba./cresco4.post': 18,\n",
       " '/gporq1_1M/usr/dcecere/HP_40bacresco4.post': 7,\n",
       " '/gporq1_1M/usr/funel/testsleep': 2,\n",
       " '/gporq1_1M/usr/grossi/BFS./bsub_cresco4': 7,\n",
       " '/gporq1_1M/usr/grossi/BFS/SAM./bsub_cresco4_SAM': 7,\n",
       " '/gporq1_1M/usr/grossi/sfera_sp./bsub_cresco4': 4,\n",
       " '/gporq1_1M/usr/iacovell/FISETI./submit.sh': 2,\n",
       " '/gporq1_1M/usr/iacovell/FRA2./submit.sh': 2,\n",
       " '/gporq1_1M/usr/iacovell/comple': 9,\n",
       " '/gporq1_1M/usr/iacovell/comple./submit.sh': 7,\n",
       " '/gporq1_1M/usr/iacovell/macari./submit.sh': 5,\n",
       " '/gporq1_1M/usr/nunzio/BFS./bsub_cresco4': 4,\n",
       " '/gporq1_1M/usr/quintier/FlukacjobWork': 1,\n",
       " '/gporq1_1M/usr/villanim/minnis./main.bsh': 8,\n",
       " '/gporq1_1M/usr/villanim/minnis./main_mgv1.bsh': 2,\n",
       " '/gporq1_256k/usr/aprea/bio/chl./process_E4_4-20.sh': 1,\n",
       " '/gporq1_256k/usr/aprea/bio/chl./process_E5_4-20.sh': 1,\n",
       " '/gporq1_256k/usr/aprea/bio/chl./process_E6_4-20.sh': 1,\n",
       " '/gporq1_256k/usr/aprea/bio/mos./assembly.sh': 7,\n",
       " '/gporq1_256k/usr/aprea/bio/mos./mem_alloc_test': 1,\n",
       " '/gporq1_256k/usr/aprea/bio/mos./mem_alloc_test.sh': 1,\n",
       " '/gporq1_256k/usr/aprea/bio/mosls': 1,\n",
       " '/gporq1_256k/usr/aprea/bio/tri./process_run0201_capeiti_S2_L': 9,\n",
       " '/gporq1_256k/usr/aprea/bio/tri./process_run0201_creso_S3_L00': 9,\n",
       " '/gporq1_256k/usr/aprea/bio/tri./process_run0201_simeto_S1_L0': 9,\n",
       " '/gporq1_256k/usr/eugenio/OpenS./Run.sh': 1,\n",
       " '/gporq1_256k/usr/eugenio/OpenS/afs/enea.it/cas/user/eugenio/': 5,\n",
       " '/gporq1_256k/usr/eugenio/OpenS5%H2/OpenSMOKEpp_PremixedLamin': 1,\n",
       " '/gporq1_256k/usr/eugenio/OpenSOpenSMOKEpp_PremixedLaminarFla': 489,\n",
       " '/gporq1_256k/usr/iacovell/OLD_./submit.sh': 2,\n",
       " '/gporq1_256k/usr/iacovell/TAT./submit.sh': 6,\n",
       " '/gporq1_256k/usr/iacovell/TRIP./submit.sh': 6,\n",
       " '/gporq1_256k/usr/iacovell/comp./submit.sh': 1,\n",
       " '/gporq1_clima/clima/sannino2/Idf': 4,\n",
       " '/gporq1_clima/clima/sannino2/Iesegui_OPERATIVO': 2,\n",
       " '/gporq1_clima/clima/sannino2/Isottometti_OPERATIVO': 1,\n",
       " '/gporq1_clima/clima/sannino2/O/gporq1_1M/usr/sannino2/MED48/': 19,\n",
       " '/gporq1_clima/clima/sannino2/O/gporq1_clima/clima/sannino2/I': 58,\n",
       " '/gporq1_clima/clima/sannino2/Obsub': 5,\n",
       " '/gporq1_clima/clima/sannino2/Osottometti_OPERATIVO': 1,\n",
       " '/gporq1_clima0/regcm/CPL2/runs/gporq1_clima0/regcm/CPL2/SRC/': 6,\n",
       " '/gporq1_clima0/regcm/Exp/Euro_./Euro-20.sh': 1,\n",
       " '/gporq1_clima0/regcm/Exp/Med-1./Med-12.sh': 7,\n",
       " '/gporq1_clima0/regcm/Exp/Med-1/afs/enea.it/cas/user/struglia': 1,\n",
       " '/gporq1_clima0/regcm/Exp/Med-2./MED-20_1.sh': 1,\n",
       " '/gporq1_clima0/regcm/Exp/Med-2./MED-20_2.sh': 1,\n",
       " '/gporq1_clima0/regcm/Exp/Med-2./Med-20.sh': 4,\n",
       " '/gporq1_clima0/regcm/Exp/Med-2./Med-20_1.sh': 1,\n",
       " '/gporq1_clima0/regcm/Exp/Med-2./Med-20_2.sh': 1,\n",
       " '/gporq1_clima0/regcm/Exp/Med-2./Med-20_seq2.sh': 2,\n",
       " '/gporq1_minni/minni/QA/mario/Q': 24,\n",
       " '/gporq1_minni/minni/QA/mario/Q/gporq1_minni/minni/QA/mario/Q': 15,\n",
       " '/gporq1_minni/minni/QA/mario/QHOSTFILE=$LSB_DJOB_HOSTFILE': 5,\n",
       " '/gporq1_minni/minni/QA/mario/p/afs/.enea.it/project/ha_forec': 70,\n",
       " '/gporq1_minni/minni/QA/mario/pHOSTFILE=$LSB_DJOB_HOSTFILE': 25,\n",
       " '/gporq1_minni/minni/QA/mario/pset': 4,\n",
       " '/gporq1_minni/minni/minnifarm//afs/enea.it/project/minnifarm': 138,\n",
       " '/gporq1_minni/minni/minniusers/afs/enea.it/project/minnifarm': 310,\n",
       " '/gporq1_minni/minni/minniusers/gporq1_minni/minni/minniusers': 240,\n",
       " '/gporq1_minni2/gpor_minni0/min./ultimo.sh': 5,\n",
       " 'Apps/FlukaINMRI/NewThermalSTDjobWork': 1,\n",
       " 'CBE_post/Au_all/pos3_ADV_JEFF3blaunch_mcnp': 1,\n",
       " 'CLIMA/RegCM-4.5.0/run./submit_regcm.sh': 31,\n",
       " 'CLIMA/RegCM-4.6.0/run./submit_regcm.sh': 7,\n",
       " 'CLIMA/script./submit_farm_montly.bsh': 3,\n",
       " 'CLIMA/script./submit_farm_montly2.bsh': 3,\n",
       " 'DEMODIV2016blaunch_mcnp': 1,\n",
       " 'INMRIblaunch_mcnp': 8,\n",
       " 'Iole/1day/1dayshortblaunch_mcnp': 1,\n",
       " 'OpenMPa.sh': 9,\n",
       " 'OpenMPsubmit_omp.sh': 1,\n",
       " 'OpenMPsubmit_ompmpi.sh': 1,\n",
       " 'PADRactions/3LOSEDGE/NOBACKSCAblaunch_mcnp': 5,\n",
       " 'PADRactions/4LOSEDGE/FILLEDCOLblaunch_mcnp': 3,\n",
       " 'PADRactions/4LOSEDGE/NOBACKSCAblaunch_mcnp': 2,\n",
       " 'PFS/porq1_1M/2017/caso_2017_Ta./submit.sh': 30,\n",
       " 'PFS/porq1_1M/Behler/SiH/net_coscript.sh': 4,\n",
       " 'PFS/porq1_1M/Behler/SiH/net_coscript_add.sh': 8,\n",
       " 'PFS/porq1_1M/Behler/SiH/net_coscript_mode1_noscaling.sh': 1,\n",
       " 'PFS/porq1_1M/Behler/SiH/net_coscript_new.sh': 19,\n",
       " 'PFS/porq1_1M/FANN-2.2.0-Sourcecresco4_h144': 2,\n",
       " 'PFS/porq1_1M/FANN-2.2.0-Sourcenewfingerprints_launch.sh': 2,\n",
       " 'PFS/porq1_1M/FANN-2.2.0-Sourcetrain': 71,\n",
       " 'PFS/porq1_1M/FANN-2.2.0-Sourcetrain_20_20': 8,\n",
       " 'PFS/porq1_1M/LiC/GeO2/co.60/13#!/bin/sh;CPMD_PPS_DIR=$HOME/D': 1,\n",
       " 'PFS/porq1_1M/LiC/GeO2/co.60/30#!/bin/sh;CPMD_PPS_DIR=$HOME/D': 2,\n",
       " 'PFS/porq1_1M/LiC/GeO2/co.90/Di#!/bin/sh;CPMD_PPS_DIR=$HOME/D': 4,\n",
       " 'PFS/porq1_1M/LiC/GeO2/co.90/Ne#!/bin/bash;CPMD_PPS_DIR=$HOME': 3,\n",
       " 'PFS/porq1_1M/LiC/GeO2/co.90/Ne#!/bin/sh;CPMD_PPS_DIR=$HOME/D': 10,\n",
       " 'PFS/porq1_1M/LiC/GeO2/co.90/Ne&CPMD;': 2,\n",
       " 'PFS/porq1_1M/LiC/GeO2/co.90/Op#!/bin/sh;CPMD_PPS_DIR=$HOME/D': 2,\n",
       " 'PFS/porq1_1M/SiH/Grossman/cp2kabinit_launch.sh': 2,\n",
       " 'PFS/porq1_1M/SiH/Grossman/cp2kcp2k_launch.sh': 1030,\n",
       " 'PFS/porq1_1M/SiH/test_optimizecp2k_launch.sh': 2,\n",
       " 'PFS/porq1_1M/TAE_2017/caso_201./submit.sh': 1,\n",
       " 'PFS/porq1_1M/Viale_Timavo_RE_2./main.bsh': 2,\n",
       " 'PFS/porq1_1M/car-parinello_arg./job_espresso.cresco4.sh': 7,\n",
       " 'PFS/porq1_1M/ceo2_bulk/Ce1-xZrqe5.0.3_par': 16,\n",
       " 'PFS/porq1_1M/cpmd_lys_no-vacan./job_espresso.cresco4.sh': 6,\n",
       " 'PFS/porq1_1M/inma/triplex/mixt./relay_d': 32,\n",
       " 'PFS/porq1_1M/inma/triplex/mixt./relay_l': 32,\n",
       " 'PFS/porq1_1M/irene/relayplex/d./relaydepin': 254,\n",
       " 'PFS/porq1_1M/irene/relayplex/d./relaydepinmixrank': 156,\n",
       " 'PFS/porq1_1M/irene/relayplex/d./relayth': 106,\n",
       " 'PFS/porq1_1M/minotti/CONNECTEDfluent145.sh': 3,\n",
       " 'PFS/porq1_1M/minotti/SEPARATEDfluent145.sh': 2,\n",
       " 'PFS/porq1_256k/4.5/afs/enea.it/project/neptunius': 3,\n",
       " 'PFS/porq1_256k/6H-SiC_2sqrt3_C./JOB_6H-SiC_2sqrt3_C112+N-dum': 4,\n",
       " 'PFS/porq1_256k/Arg_TiO2_ci_dir./job_espresso.cresco4_bis.sh': 13,\n",
       " 'PFS/porq1_256k/Arg_TiO2_dir./job_espresso.cresco4_dos.sh': 2,\n",
       " 'PFS/porq1_256k/H2O_TiO2_001_4x./job_espresso.cresco4.sh': 2,\n",
       " 'PFS/porq1_256k/H2O_TiO2_001_4x./job_espresso.cresco4_dos.sh': 1,\n",
       " 'PFS/porq1_256k/H2O_TiO2_001_4x./job_espresso.cresco4_pdos.sh': 1,\n",
       " 'PFS/porq1_256k/HMGC_mpi_RESULT./submit.sh': 51,\n",
       " 'PFS/porq1_256k/LiC/GeO2/eXnOVO#!/bin/bash;CPMD_PPS_DIR=$HOME': 1,\n",
       " 'PFS/porq1_256k/LiC/GeO2/eXnOVO#!/bin/sh;CPMD_PPS_DIR=$HOME/D': 7,\n",
       " 'PFS/porq1_256k/Limoges/TiO2_QEqe5.0.3_par': 9,\n",
       " 'PFS/porq1_256k/TAE_2016/caso_T./submit.sh': 34,\n",
       " 'PFS/porq1_256k/Ti02_001_4x4_sl./job_espresso.cresco4.sh': 3,\n",
       " 'PFS/porq1_256k/Ti02_001_4x4_sl./job_espresso.cresco4_dos.sh': 1,\n",
       " 'PFS/porq1_256k/Ti02_001_4x4_sl./job_espresso.cresco4_pdos.sh': 1,\n",
       " 'PFS/porq1_256k/afs/enea.it/project/neptunius': 2,\n",
       " 'PFS/porq1_256k/asi700random_ababinit_launch.sh': 1,\n",
       " 'PFS/porq1_256k/cp2k_CMG/asi1/Mcp2k_launch.sh': 12,\n",
       " 'PFS/porq1_256k/cp2k_CMG/asi10/cp2k_launch.sh': 2,\n",
       " 'PFS/porq1_256k/cp2k_CMG/asi100cp2k_launch.sh': 2,\n",
       " 'PFS/porq1_256k/cp2k_CMG/asi101cp2k_launch.sh': 1,\n",
       " 'PFS/porq1_256k/cp2k_CMG/asi102cp2k_launch.sh': 1,\n",
       " 'PFS/porq1_256k/cp2k_CMG/asi103cp2k_launch.sh': 1,\n",
       " 'PFS/porq1_256k/cp2k_CMG/asi104cp2k_launch.sh': 1,\n",
       " 'PFS/porq1_256k/cp2k_CMG/asi105cp2k_launch.sh': 1,\n",
       " 'PFS/porq1_256k/cp2k_CMG/asi106cp2k_launch.sh': 1,\n",
       " 'PFS/porq1_256k/cp2k_CMG/asi107cp2k_launch.sh': 1,\n",
       " 'PFS/porq1_256k/cp2k_CMG/asi108cp2k_launch.sh': 1,\n",
       " 'PFS/porq1_256k/cp2k_CMG/asi109cp2k_launch.sh': 1,\n",
       " 'PFS/porq1_256k/cp2k_CMG/asi11/cp2k_launch.sh': 2,\n",
       " 'PFS/porq1_256k/cp2k_CMG/asi110cp2k_launch.sh': 1,\n",
       " 'PFS/porq1_256k/cp2k_CMG/asi111cp2k_launch.sh': 1,\n",
       " 'PFS/porq1_256k/cp2k_CMG/asi112cp2k_launch.sh': 1,\n",
       " 'PFS/porq1_256k/cp2k_CMG/asi113cp2k_launch.sh': 1,\n",
       " 'PFS/porq1_256k/cp2k_CMG/asi114cp2k_launch.sh': 1,\n",
       " 'PFS/porq1_256k/cp2k_CMG/asi115cp2k_launch.sh': 1,\n",
       " 'PFS/porq1_256k/cp2k_CMG/asi116cp2k_launch.sh': 1,\n",
       " 'PFS/porq1_256k/cp2k_CMG/asi117cp2k_launch.sh': 1,\n",
       " 'PFS/porq1_256k/cp2k_CMG/asi118cp2k_launch.sh': 1,\n",
       " 'PFS/porq1_256k/cp2k_CMG/asi119cp2k_launch.sh': 1,\n",
       " 'PFS/porq1_256k/cp2k_CMG/asi12/cp2k_launch.sh': 2,\n",
       " 'PFS/porq1_256k/cp2k_CMG/asi120cp2k_launch.sh': 1,\n",
       " 'PFS/porq1_256k/cp2k_CMG/asi121cp2k_launch.sh': 1,\n",
       " 'PFS/porq1_256k/cp2k_CMG/asi122cp2k_launch.sh': 1,\n",
       " 'PFS/porq1_256k/cp2k_CMG/asi123cp2k_launch.sh': 1,\n",
       " 'PFS/porq1_256k/cp2k_CMG/asi124cp2k_launch.sh': 1,\n",
       " 'PFS/porq1_256k/cp2k_CMG/asi125cp2k_launch.sh': 1,\n",
       " 'PFS/porq1_256k/cp2k_CMG/asi126cp2k_launch.sh': 1,\n",
       " 'PFS/porq1_256k/cp2k_CMG/asi127cp2k_launch.sh': 1,\n",
       " 'PFS/porq1_256k/cp2k_CMG/asi128cp2k_launch.sh': 1,\n",
       " 'PFS/porq1_256k/cp2k_CMG/asi129cp2k_launch.sh': 1,\n",
       " 'PFS/porq1_256k/cp2k_CMG/asi13/cp2k_launch.sh': 2,\n",
       " 'PFS/porq1_256k/cp2k_CMG/asi130cp2k_launch.sh': 1,\n",
       " 'PFS/porq1_256k/cp2k_CMG/asi131cp2k_launch.sh': 1,\n",
       " 'PFS/porq1_256k/cp2k_CMG/asi132cp2k_launch.sh': 1,\n",
       " 'PFS/porq1_256k/cp2k_CMG/asi133cp2k_launch.sh': 1,\n",
       " 'PFS/porq1_256k/cp2k_CMG/asi134cp2k_launch.sh': 1,\n",
       " 'PFS/porq1_256k/cp2k_CMG/asi135cp2k_launch.sh': 1,\n",
       " 'PFS/porq1_256k/cp2k_CMG/asi136cp2k_launch.sh': 1,\n",
       " 'PFS/porq1_256k/cp2k_CMG/asi137cp2k_launch.sh': 1,\n",
       " 'PFS/porq1_256k/cp2k_CMG/asi138cp2k_launch.sh': 1,\n",
       " 'PFS/porq1_256k/cp2k_CMG/asi139cp2k_launch.sh': 1,\n",
       " 'PFS/porq1_256k/cp2k_CMG/asi14/cp2k_launch.sh': 2,\n",
       " 'PFS/porq1_256k/cp2k_CMG/asi140cp2k_launch.sh': 1,\n",
       " 'PFS/porq1_256k/cp2k_CMG/asi141cp2k_launch.sh': 1,\n",
       " 'PFS/porq1_256k/cp2k_CMG/asi142cp2k_launch.sh': 1,\n",
       " 'PFS/porq1_256k/cp2k_CMG/asi143cp2k_launch.sh': 1,\n",
       " 'PFS/porq1_256k/cp2k_CMG/asi144cp2k_launch.sh': 1,\n",
       " 'PFS/porq1_256k/cp2k_CMG/asi145cp2k_launch.sh': 1,\n",
       " 'PFS/porq1_256k/cp2k_CMG/asi146cp2k_launch.sh': 1,\n",
       " 'PFS/porq1_256k/cp2k_CMG/asi147cp2k_launch.sh': 1,\n",
       " 'PFS/porq1_256k/cp2k_CMG/asi148cp2k_launch.sh': 1,\n",
       " 'PFS/porq1_256k/cp2k_CMG/asi149cp2k_launch.sh': 1,\n",
       " 'PFS/porq1_256k/cp2k_CMG/asi15/cp2k_launch.sh': 2,\n",
       " 'PFS/porq1_256k/cp2k_CMG/asi150cp2k_launch.sh': 1,\n",
       " 'PFS/porq1_256k/cp2k_CMG/asi151cp2k_launch.sh': 1,\n",
       " 'PFS/porq1_256k/cp2k_CMG/asi152cp2k_launch.sh': 1,\n",
       " 'PFS/porq1_256k/cp2k_CMG/asi153cp2k_launch.sh': 1,\n",
       " 'PFS/porq1_256k/cp2k_CMG/asi154cp2k_launch.sh': 1,\n",
       " 'PFS/porq1_256k/cp2k_CMG/asi155cp2k_launch.sh': 1,\n",
       " 'PFS/porq1_256k/cp2k_CMG/asi156cp2k_launch.sh': 1,\n",
       " 'PFS/porq1_256k/cp2k_CMG/asi157cp2k_launch.sh': 1,\n",
       " 'PFS/porq1_256k/cp2k_CMG/asi158cp2k_launch.sh': 1,\n",
       " 'PFS/porq1_256k/cp2k_CMG/asi159cp2k_launch.sh': 1,\n",
       " 'PFS/porq1_256k/cp2k_CMG/asi16/cp2k_launch.sh': 2,\n",
       " 'PFS/porq1_256k/cp2k_CMG/asi160cp2k_launch.sh': 1,\n",
       " 'PFS/porq1_256k/cp2k_CMG/asi161cp2k_launch.sh': 1,\n",
       " 'PFS/porq1_256k/cp2k_CMG/asi162cp2k_launch.sh': 1,\n",
       " 'PFS/porq1_256k/cp2k_CMG/asi163cp2k_launch.sh': 1,\n",
       " 'PFS/porq1_256k/cp2k_CMG/asi164cp2k_launch.sh': 1,\n",
       " 'PFS/porq1_256k/cp2k_CMG/asi165cp2k_launch.sh': 1,\n",
       " 'PFS/porq1_256k/cp2k_CMG/asi166cp2k_launch.sh': 1,\n",
       " 'PFS/porq1_256k/cp2k_CMG/asi167cp2k_launch.sh': 1,\n",
       " 'PFS/porq1_256k/cp2k_CMG/asi168cp2k_launch.sh': 1,\n",
       " 'PFS/porq1_256k/cp2k_CMG/asi169cp2k_launch.sh': 1,\n",
       " 'PFS/porq1_256k/cp2k_CMG/asi17/cp2k_launch.sh': 2,\n",
       " 'PFS/porq1_256k/cp2k_CMG/asi170cp2k_launch.sh': 1,\n",
       " 'PFS/porq1_256k/cp2k_CMG/asi171cp2k_launch.sh': 1,\n",
       " 'PFS/porq1_256k/cp2k_CMG/asi172cp2k_launch.sh': 1,\n",
       " 'PFS/porq1_256k/cp2k_CMG/asi173cp2k_launch.sh': 1,\n",
       " 'PFS/porq1_256k/cp2k_CMG/asi174cp2k_launch.sh': 1,\n",
       " 'PFS/porq1_256k/cp2k_CMG/asi175cp2k_launch.sh': 1,\n",
       " 'PFS/porq1_256k/cp2k_CMG/asi176cp2k_launch.sh': 1,\n",
       " 'PFS/porq1_256k/cp2k_CMG/asi177cp2k_launch.sh': 1,\n",
       " 'PFS/porq1_256k/cp2k_CMG/asi178cp2k_launch.sh': 1,\n",
       " 'PFS/porq1_256k/cp2k_CMG/asi179cp2k_launch.sh': 1,\n",
       " 'PFS/porq1_256k/cp2k_CMG/asi18/cp2k_launch.sh': 2,\n",
       " 'PFS/porq1_256k/cp2k_CMG/asi180cp2k_launch.sh': 1,\n",
       " 'PFS/porq1_256k/cp2k_CMG/asi181cp2k_launch.sh': 1,\n",
       " 'PFS/porq1_256k/cp2k_CMG/asi182cp2k_launch.sh': 1,\n",
       " 'PFS/porq1_256k/cp2k_CMG/asi183cp2k_launch.sh': 1,\n",
       " 'PFS/porq1_256k/cp2k_CMG/asi184cp2k_launch.sh': 1,\n",
       " 'PFS/porq1_256k/cp2k_CMG/asi185cp2k_launch.sh': 1,\n",
       " 'PFS/porq1_256k/cp2k_CMG/asi186cp2k_launch.sh': 1,\n",
       " 'PFS/porq1_256k/cp2k_CMG/asi187cp2k_launch.sh': 1,\n",
       " 'PFS/porq1_256k/cp2k_CMG/asi188cp2k_launch.sh': 1,\n",
       " 'PFS/porq1_256k/cp2k_CMG/asi189cp2k_launch.sh': 1,\n",
       " 'PFS/porq1_256k/cp2k_CMG/asi19/cp2k_launch.sh': 2,\n",
       " 'PFS/porq1_256k/cp2k_CMG/asi190cp2k_launch.sh': 1,\n",
       " 'PFS/porq1_256k/cp2k_CMG/asi191cp2k_launch.sh': 1,\n",
       " 'PFS/porq1_256k/cp2k_CMG/asi192cp2k_launch.sh': 1,\n",
       " 'PFS/porq1_256k/cp2k_CMG/asi193cp2k_launch.sh': 1,\n",
       " 'PFS/porq1_256k/cp2k_CMG/asi194cp2k_launch.sh': 1,\n",
       " 'PFS/porq1_256k/cp2k_CMG/asi195cp2k_launch.sh': 1,\n",
       " 'PFS/porq1_256k/cp2k_CMG/asi196cp2k_launch.sh': 1,\n",
       " 'PFS/porq1_256k/cp2k_CMG/asi197cp2k_launch.sh': 1,\n",
       " 'PFS/porq1_256k/cp2k_CMG/asi198cp2k_launch.sh': 1,\n",
       " 'PFS/porq1_256k/cp2k_CMG/asi199cp2k_launch.sh': 1,\n",
       " 'PFS/porq1_256k/cp2k_CMG/asi2/Mcp2k_launch.sh': 2,\n",
       " 'PFS/porq1_256k/cp2k_CMG/asi20/cp2k_launch.sh': 2,\n",
       " 'PFS/porq1_256k/cp2k_CMG/asi200cp2k_launch.sh': 1,\n",
       " 'PFS/porq1_256k/cp2k_CMG/asi201cp2k_launch.sh': 1,\n",
       " 'PFS/porq1_256k/cp2k_CMG/asi202cp2k_launch.sh': 1,\n",
       " 'PFS/porq1_256k/cp2k_CMG/asi203cp2k_launch.sh': 1,\n",
       " 'PFS/porq1_256k/cp2k_CMG/asi204cp2k_launch.sh': 1,\n",
       " 'PFS/porq1_256k/cp2k_CMG/asi205cp2k_launch.sh': 1,\n",
       " 'PFS/porq1_256k/cp2k_CMG/asi206cp2k_launch.sh': 1,\n",
       " 'PFS/porq1_256k/cp2k_CMG/asi207cp2k_launch.sh': 1,\n",
       " 'PFS/porq1_256k/cp2k_CMG/asi208cp2k_launch.sh': 1,\n",
       " 'PFS/porq1_256k/cp2k_CMG/asi209cp2k_launch.sh': 1,\n",
       " 'PFS/porq1_256k/cp2k_CMG/asi21/cp2k_launch.sh': 2,\n",
       " 'PFS/porq1_256k/cp2k_CMG/asi210cp2k_launch.sh': 1,\n",
       " 'PFS/porq1_256k/cp2k_CMG/asi211cp2k_launch.sh': 1,\n",
       " 'PFS/porq1_256k/cp2k_CMG/asi212cp2k_launch.sh': 1,\n",
       " 'PFS/porq1_256k/cp2k_CMG/asi213cp2k_launch.sh': 1,\n",
       " 'PFS/porq1_256k/cp2k_CMG/asi214cp2k_launch.sh': 1,\n",
       " 'PFS/porq1_256k/cp2k_CMG/asi215cp2k_launch.sh': 1,\n",
       " 'PFS/porq1_256k/cp2k_CMG/asi216cp2k_launch.sh': 1,\n",
       " 'PFS/porq1_256k/cp2k_CMG/asi217cp2k_launch.sh': 1,\n",
       " 'PFS/porq1_256k/cp2k_CMG/asi218cp2k_launch.sh': 1,\n",
       " 'PFS/porq1_256k/cp2k_CMG/asi219cp2k_launch.sh': 1,\n",
       " 'PFS/porq1_256k/cp2k_CMG/asi22/cp2k_launch.sh': 2,\n",
       " 'PFS/porq1_256k/cp2k_CMG/asi220cp2k_launch.sh': 1,\n",
       " 'PFS/porq1_256k/cp2k_CMG/asi221cp2k_launch.sh': 1,\n",
       " 'PFS/porq1_256k/cp2k_CMG/asi222cp2k_launch.sh': 1,\n",
       " 'PFS/porq1_256k/cp2k_CMG/asi223cp2k_launch.sh': 1,\n",
       " 'PFS/porq1_256k/cp2k_CMG/asi224cp2k_launch.sh': 1,\n",
       " 'PFS/porq1_256k/cp2k_CMG/asi225cp2k_launch.sh': 1,\n",
       " 'PFS/porq1_256k/cp2k_CMG/asi226cp2k_launch.sh': 1,\n",
       " 'PFS/porq1_256k/cp2k_CMG/asi227cp2k_launch.sh': 1,\n",
       " 'PFS/porq1_256k/cp2k_CMG/asi228cp2k_launch.sh': 1,\n",
       " 'PFS/porq1_256k/cp2k_CMG/asi229cp2k_launch.sh': 1,\n",
       " 'PFS/porq1_256k/cp2k_CMG/asi23/cp2k_launch.sh': 2,\n",
       " 'PFS/porq1_256k/cp2k_CMG/asi230cp2k_launch.sh': 1,\n",
       " 'PFS/porq1_256k/cp2k_CMG/asi231cp2k_launch.sh': 1,\n",
       " 'PFS/porq1_256k/cp2k_CMG/asi232cp2k_launch.sh': 1,\n",
       " 'PFS/porq1_256k/cp2k_CMG/asi233cp2k_launch.sh': 1,\n",
       " 'PFS/porq1_256k/cp2k_CMG/asi234cp2k_launch.sh': 1,\n",
       " 'PFS/porq1_256k/cp2k_CMG/asi235cp2k_launch.sh': 1,\n",
       " 'PFS/porq1_256k/cp2k_CMG/asi236cp2k_launch.sh': 1,\n",
       " 'PFS/porq1_256k/cp2k_CMG/asi237cp2k_launch.sh': 1,\n",
       " 'PFS/porq1_256k/cp2k_CMG/asi238cp2k_launch.sh': 1,\n",
       " 'PFS/porq1_256k/cp2k_CMG/asi239cp2k_launch.sh': 1,\n",
       " 'PFS/porq1_256k/cp2k_CMG/asi24/cp2k_launch.sh': 2,\n",
       " 'PFS/porq1_256k/cp2k_CMG/asi240cp2k_launch.sh': 1,\n",
       " 'PFS/porq1_256k/cp2k_CMG/asi241cp2k_launch.sh': 1,\n",
       " 'PFS/porq1_256k/cp2k_CMG/asi242cp2k_launch.sh': 1,\n",
       " 'PFS/porq1_256k/cp2k_CMG/asi243cp2k_launch.sh': 1,\n",
       " 'PFS/porq1_256k/cp2k_CMG/asi244cp2k_launch.sh': 1,\n",
       " 'PFS/porq1_256k/cp2k_CMG/asi245cp2k_launch.sh': 1,\n",
       " 'PFS/porq1_256k/cp2k_CMG/asi246cp2k_launch.sh': 1,\n",
       " 'PFS/porq1_256k/cp2k_CMG/asi247cp2k_launch.sh': 1,\n",
       " 'PFS/porq1_256k/cp2k_CMG/asi248cp2k_launch.sh': 1,\n",
       " 'PFS/porq1_256k/cp2k_CMG/asi249cp2k_launch.sh': 1,\n",
       " 'PFS/porq1_256k/cp2k_CMG/asi25/cp2k_launch.sh': 2,\n",
       " 'PFS/porq1_256k/cp2k_CMG/asi250cp2k_launch.sh': 1,\n",
       " 'PFS/porq1_256k/cp2k_CMG/asi251cp2k_launch.sh': 1,\n",
       " 'PFS/porq1_256k/cp2k_CMG/asi252cp2k_launch.sh': 1,\n",
       " 'PFS/porq1_256k/cp2k_CMG/asi253cp2k_launch.sh': 1,\n",
       " 'PFS/porq1_256k/cp2k_CMG/asi254cp2k_launch.sh': 1,\n",
       " 'PFS/porq1_256k/cp2k_CMG/asi255cp2k_launch.sh': 1,\n",
       " 'PFS/porq1_256k/cp2k_CMG/asi256cp2k_launch.sh': 1,\n",
       " 'PFS/porq1_256k/cp2k_CMG/asi257cp2k_launch.sh': 1,\n",
       " 'PFS/porq1_256k/cp2k_CMG/asi258cp2k_launch.sh': 1,\n",
       " 'PFS/porq1_256k/cp2k_CMG/asi259cp2k_launch.sh': 1,\n",
       " 'PFS/porq1_256k/cp2k_CMG/asi26/cp2k_launch.sh': 2,\n",
       " 'PFS/porq1_256k/cp2k_CMG/asi260cp2k_launch.sh': 1,\n",
       " 'PFS/porq1_256k/cp2k_CMG/asi261cp2k_launch.sh': 1,\n",
       " 'PFS/porq1_256k/cp2k_CMG/asi262cp2k_launch.sh': 1,\n",
       " 'PFS/porq1_256k/cp2k_CMG/asi263cp2k_launch.sh': 1,\n",
       " 'PFS/porq1_256k/cp2k_CMG/asi264cp2k_launch.sh': 1,\n",
       " 'PFS/porq1_256k/cp2k_CMG/asi265cp2k_launch.sh': 1,\n",
       " 'PFS/porq1_256k/cp2k_CMG/asi266cp2k_launch.sh': 1,\n",
       " 'PFS/porq1_256k/cp2k_CMG/asi267cp2k_launch.sh': 1,\n",
       " 'PFS/porq1_256k/cp2k_CMG/asi268cp2k_launch.sh': 1,\n",
       " 'PFS/porq1_256k/cp2k_CMG/asi269cp2k_launch.sh': 1,\n",
       " 'PFS/porq1_256k/cp2k_CMG/asi27/cp2k_launch.sh': 2,\n",
       " 'PFS/porq1_256k/cp2k_CMG/asi270cp2k_launch.sh': 1,\n",
       " 'PFS/porq1_256k/cp2k_CMG/asi271cp2k_launch.sh': 1,\n",
       " 'PFS/porq1_256k/cp2k_CMG/asi272cp2k_launch.sh': 1,\n",
       " 'PFS/porq1_256k/cp2k_CMG/asi273cp2k_launch.sh': 1,\n",
       " 'PFS/porq1_256k/cp2k_CMG/asi274cp2k_launch.sh': 1,\n",
       " 'PFS/porq1_256k/cp2k_CMG/asi275cp2k_launch.sh': 1,\n",
       " 'PFS/porq1_256k/cp2k_CMG/asi276cp2k_launch.sh': 1,\n",
       " 'PFS/porq1_256k/cp2k_CMG/asi277cp2k_launch.sh': 1,\n",
       " 'PFS/porq1_256k/cp2k_CMG/asi278cp2k_launch.sh': 1,\n",
       " 'PFS/porq1_256k/cp2k_CMG/asi279cp2k_launch.sh': 1,\n",
       " 'PFS/porq1_256k/cp2k_CMG/asi28/cp2k_launch.sh': 2,\n",
       " 'PFS/porq1_256k/cp2k_CMG/asi280cp2k_launch.sh': 1,\n",
       " 'PFS/porq1_256k/cp2k_CMG/asi281cp2k_launch.sh': 1,\n",
       " 'PFS/porq1_256k/cp2k_CMG/asi282cp2k_launch.sh': 1,\n",
       " 'PFS/porq1_256k/cp2k_CMG/asi283cp2k_launch.sh': 1,\n",
       " 'PFS/porq1_256k/cp2k_CMG/asi284cp2k_launch.sh': 1,\n",
       " 'PFS/porq1_256k/cp2k_CMG/asi285cp2k_launch.sh': 1,\n",
       " 'PFS/porq1_256k/cp2k_CMG/asi286cp2k_launch.sh': 1,\n",
       " 'PFS/porq1_256k/cp2k_CMG/asi287cp2k_launch.sh': 1,\n",
       " 'PFS/porq1_256k/cp2k_CMG/asi288cp2k_launch.sh': 1,\n",
       " 'PFS/porq1_256k/cp2k_CMG/asi289cp2k_launch.sh': 1,\n",
       " 'PFS/porq1_256k/cp2k_CMG/asi29/cp2k_launch.sh': 2,\n",
       " 'PFS/porq1_256k/cp2k_CMG/asi290cp2k_launch.sh': 1,\n",
       " 'PFS/porq1_256k/cp2k_CMG/asi291cp2k_launch.sh': 1,\n",
       " 'PFS/porq1_256k/cp2k_CMG/asi292cp2k_launch.sh': 1,\n",
       " 'PFS/porq1_256k/cp2k_CMG/asi293cp2k_launch.sh': 1,\n",
       " 'PFS/porq1_256k/cp2k_CMG/asi294cp2k_launch.sh': 1,\n",
       " 'PFS/porq1_256k/cp2k_CMG/asi295cp2k_launch.sh': 1,\n",
       " 'PFS/porq1_256k/cp2k_CMG/asi296cp2k_launch.sh': 1,\n",
       " 'PFS/porq1_256k/cp2k_CMG/asi297cp2k_launch.sh': 1,\n",
       " 'PFS/porq1_256k/cp2k_CMG/asi298cp2k_launch.sh': 1,\n",
       " 'PFS/porq1_256k/cp2k_CMG/asi299cp2k_launch.sh': 1,\n",
       " 'PFS/porq1_256k/cp2k_CMG/asi3/Mcp2k_launch.sh': 2,\n",
       " 'PFS/porq1_256k/cp2k_CMG/asi30/cp2k_launch.sh': 2,\n",
       " 'PFS/porq1_256k/cp2k_CMG/asi300cp2k_launch.sh': 1,\n",
       " 'PFS/porq1_256k/cp2k_CMG/asi301cp2k_launch.sh': 1,\n",
       " 'PFS/porq1_256k/cp2k_CMG/asi302cp2k_launch.sh': 1,\n",
       " 'PFS/porq1_256k/cp2k_CMG/asi303cp2k_launch.sh': 1,\n",
       " 'PFS/porq1_256k/cp2k_CMG/asi304cp2k_launch.sh': 1,\n",
       " 'PFS/porq1_256k/cp2k_CMG/asi305cp2k_launch.sh': 1,\n",
       " 'PFS/porq1_256k/cp2k_CMG/asi306cp2k_launch.sh': 1,\n",
       " 'PFS/porq1_256k/cp2k_CMG/asi307cp2k_launch.sh': 1,\n",
       " 'PFS/porq1_256k/cp2k_CMG/asi308cp2k_launch.sh': 1,\n",
       " 'PFS/porq1_256k/cp2k_CMG/asi309cp2k_launch.sh': 1,\n",
       " 'PFS/porq1_256k/cp2k_CMG/asi31/cp2k_launch.sh': 2,\n",
       " 'PFS/porq1_256k/cp2k_CMG/asi310cp2k_launch.sh': 1,\n",
       " 'PFS/porq1_256k/cp2k_CMG/asi311cp2k_launch.sh': 1,\n",
       " 'PFS/porq1_256k/cp2k_CMG/asi312cp2k_launch.sh': 1,\n",
       " 'PFS/porq1_256k/cp2k_CMG/asi313cp2k_launch.sh': 1,\n",
       " 'PFS/porq1_256k/cp2k_CMG/asi314cp2k_launch.sh': 1,\n",
       " 'PFS/porq1_256k/cp2k_CMG/asi315cp2k_launch.sh': 1,\n",
       " 'PFS/porq1_256k/cp2k_CMG/asi316cp2k_launch.sh': 1,\n",
       " 'PFS/porq1_256k/cp2k_CMG/asi317cp2k_launch.sh': 1,\n",
       " 'PFS/porq1_256k/cp2k_CMG/asi318cp2k_launch.sh': 1,\n",
       " 'PFS/porq1_256k/cp2k_CMG/asi319cp2k_launch.sh': 1,\n",
       " 'PFS/porq1_256k/cp2k_CMG/asi32/cp2k_launch.sh': 2,\n",
       " 'PFS/porq1_256k/cp2k_CMG/asi320cp2k_launch.sh': 1,\n",
       " 'PFS/porq1_256k/cp2k_CMG/asi321cp2k_launch.sh': 1,\n",
       " 'PFS/porq1_256k/cp2k_CMG/asi322cp2k_launch.sh': 1,\n",
       " 'PFS/porq1_256k/cp2k_CMG/asi323cp2k_launch.sh': 1,\n",
       " 'PFS/porq1_256k/cp2k_CMG/asi324cp2k_launch.sh': 1,\n",
       " 'PFS/porq1_256k/cp2k_CMG/asi325cp2k_launch.sh': 1,\n",
       " 'PFS/porq1_256k/cp2k_CMG/asi326cp2k_launch.sh': 1,\n",
       " 'PFS/porq1_256k/cp2k_CMG/asi327cp2k_launch.sh': 1,\n",
       " 'PFS/porq1_256k/cp2k_CMG/asi328cp2k_launch.sh': 1,\n",
       " 'PFS/porq1_256k/cp2k_CMG/asi329cp2k_launch.sh': 1,\n",
       " 'PFS/porq1_256k/cp2k_CMG/asi33/cp2k_launch.sh': 2,\n",
       " 'PFS/porq1_256k/cp2k_CMG/asi330cp2k_launch.sh': 1,\n",
       " 'PFS/porq1_256k/cp2k_CMG/asi331cp2k_launch.sh': 1,\n",
       " 'PFS/porq1_256k/cp2k_CMG/asi332cp2k_launch.sh': 1,\n",
       " 'PFS/porq1_256k/cp2k_CMG/asi333cp2k_launch.sh': 1,\n",
       " 'PFS/porq1_256k/cp2k_CMG/asi334cp2k_launch.sh': 1,\n",
       " 'PFS/porq1_256k/cp2k_CMG/asi335cp2k_launch.sh': 1,\n",
       " 'PFS/porq1_256k/cp2k_CMG/asi336cp2k_launch.sh': 1,\n",
       " 'PFS/porq1_256k/cp2k_CMG/asi337cp2k_launch.sh': 1,\n",
       " 'PFS/porq1_256k/cp2k_CMG/asi338cp2k_launch.sh': 1,\n",
       " 'PFS/porq1_256k/cp2k_CMG/asi339cp2k_launch.sh': 1,\n",
       " 'PFS/porq1_256k/cp2k_CMG/asi34/cp2k_launch.sh': 2,\n",
       " 'PFS/porq1_256k/cp2k_CMG/asi340cp2k_launch.sh': 1,\n",
       " 'PFS/porq1_256k/cp2k_CMG/asi341cp2k_launch.sh': 1,\n",
       " 'PFS/porq1_256k/cp2k_CMG/asi342cp2k_launch.sh': 1,\n",
       " 'PFS/porq1_256k/cp2k_CMG/asi343cp2k_launch.sh': 1,\n",
       " 'PFS/porq1_256k/cp2k_CMG/asi344cp2k_launch.sh': 1,\n",
       " 'PFS/porq1_256k/cp2k_CMG/asi345cp2k_launch.sh': 1,\n",
       " 'PFS/porq1_256k/cp2k_CMG/asi346cp2k_launch.sh': 1,\n",
       " 'PFS/porq1_256k/cp2k_CMG/asi347cp2k_launch.sh': 1,\n",
       " 'PFS/porq1_256k/cp2k_CMG/asi348cp2k_launch.sh': 1,\n",
       " 'PFS/porq1_256k/cp2k_CMG/asi349cp2k_launch.sh': 1,\n",
       " 'PFS/porq1_256k/cp2k_CMG/asi35/cp2k_launch.sh': 2,\n",
       " 'PFS/porq1_256k/cp2k_CMG/asi350cp2k_launch.sh': 1,\n",
       " 'PFS/porq1_256k/cp2k_CMG/asi351cp2k_launch.sh': 1,\n",
       " 'PFS/porq1_256k/cp2k_CMG/asi352cp2k_launch.sh': 1,\n",
       " 'PFS/porq1_256k/cp2k_CMG/asi353cp2k_launch.sh': 1,\n",
       " 'PFS/porq1_256k/cp2k_CMG/asi354cp2k_launch.sh': 1,\n",
       " 'PFS/porq1_256k/cp2k_CMG/asi355cp2k_launch.sh': 1,\n",
       " 'PFS/porq1_256k/cp2k_CMG/asi356cp2k_launch.sh': 1,\n",
       " 'PFS/porq1_256k/cp2k_CMG/asi357cp2k_launch.sh': 1,\n",
       " 'PFS/porq1_256k/cp2k_CMG/asi358cp2k_launch.sh': 1,\n",
       " 'PFS/porq1_256k/cp2k_CMG/asi359cp2k_launch.sh': 1,\n",
       " 'PFS/porq1_256k/cp2k_CMG/asi36/cp2k_launch.sh': 2,\n",
       " 'PFS/porq1_256k/cp2k_CMG/asi360cp2k_launch.sh': 1,\n",
       " 'PFS/porq1_256k/cp2k_CMG/asi361cp2k_launch.sh': 1,\n",
       " 'PFS/porq1_256k/cp2k_CMG/asi362cp2k_launch.sh': 1,\n",
       " 'PFS/porq1_256k/cp2k_CMG/asi363cp2k_launch.sh': 1,\n",
       " 'PFS/porq1_256k/cp2k_CMG/asi364cp2k_launch.sh': 1,\n",
       " 'PFS/porq1_256k/cp2k_CMG/asi365cp2k_launch.sh': 1,\n",
       " 'PFS/porq1_256k/cp2k_CMG/asi366cp2k_launch.sh': 1,\n",
       " 'PFS/porq1_256k/cp2k_CMG/asi367cp2k_launch.sh': 1,\n",
       " 'PFS/porq1_256k/cp2k_CMG/asi368cp2k_launch.sh': 1,\n",
       " 'PFS/porq1_256k/cp2k_CMG/asi369cp2k_launch.sh': 1,\n",
       " 'PFS/porq1_256k/cp2k_CMG/asi37/cp2k_launch.sh': 2,\n",
       " 'PFS/porq1_256k/cp2k_CMG/asi370cp2k_launch.sh': 1,\n",
       " 'PFS/porq1_256k/cp2k_CMG/asi371cp2k_launch.sh': 1,\n",
       " 'PFS/porq1_256k/cp2k_CMG/asi372cp2k_launch.sh': 1,\n",
       " 'PFS/porq1_256k/cp2k_CMG/asi373cp2k_launch.sh': 1,\n",
       " 'PFS/porq1_256k/cp2k_CMG/asi374cp2k_launch.sh': 1,\n",
       " 'PFS/porq1_256k/cp2k_CMG/asi375cp2k_launch.sh': 1,\n",
       " 'PFS/porq1_256k/cp2k_CMG/asi376cp2k_launch.sh': 1,\n",
       " 'PFS/porq1_256k/cp2k_CMG/asi377cp2k_launch.sh': 1,\n",
       " 'PFS/porq1_256k/cp2k_CMG/asi378cp2k_launch.sh': 1,\n",
       " 'PFS/porq1_256k/cp2k_CMG/asi379cp2k_launch.sh': 1,\n",
       " 'PFS/porq1_256k/cp2k_CMG/asi38/cp2k_launch.sh': 2,\n",
       " 'PFS/porq1_256k/cp2k_CMG/asi380cp2k_launch.sh': 1,\n",
       " 'PFS/porq1_256k/cp2k_CMG/asi381cp2k_launch.sh': 1,\n",
       " 'PFS/porq1_256k/cp2k_CMG/asi382cp2k_launch.sh': 1,\n",
       " 'PFS/porq1_256k/cp2k_CMG/asi383cp2k_launch.sh': 1,\n",
       " 'PFS/porq1_256k/cp2k_CMG/asi384cp2k_launch.sh': 1,\n",
       " 'PFS/porq1_256k/cp2k_CMG/asi385cp2k_launch.sh': 1,\n",
       " 'PFS/porq1_256k/cp2k_CMG/asi386cp2k_launch.sh': 1,\n",
       " 'PFS/porq1_256k/cp2k_CMG/asi387cp2k_launch.sh': 1,\n",
       " 'PFS/porq1_256k/cp2k_CMG/asi388cp2k_launch.sh': 1,\n",
       " 'PFS/porq1_256k/cp2k_CMG/asi389cp2k_launch.sh': 1,\n",
       " 'PFS/porq1_256k/cp2k_CMG/asi39/cp2k_launch.sh': 2,\n",
       " 'PFS/porq1_256k/cp2k_CMG/asi390cp2k_launch.sh': 1,\n",
       " 'PFS/porq1_256k/cp2k_CMG/asi391cp2k_launch.sh': 1,\n",
       " 'PFS/porq1_256k/cp2k_CMG/asi392cp2k_launch.sh': 1,\n",
       " 'PFS/porq1_256k/cp2k_CMG/asi393cp2k_launch.sh': 1,\n",
       " 'PFS/porq1_256k/cp2k_CMG/asi394cp2k_launch.sh': 1,\n",
       " 'PFS/porq1_256k/cp2k_CMG/asi395cp2k_launch.sh': 1,\n",
       " 'PFS/porq1_256k/cp2k_CMG/asi396cp2k_launch.sh': 1,\n",
       " 'PFS/porq1_256k/cp2k_CMG/asi397cp2k_launch.sh': 1,\n",
       " 'PFS/porq1_256k/cp2k_CMG/asi398cp2k_launch.sh': 1,\n",
       " 'PFS/porq1_256k/cp2k_CMG/asi399cp2k_launch.sh': 1,\n",
       " 'PFS/porq1_256k/cp2k_CMG/asi4/Mcp2k_launch.sh': 2,\n",
       " 'PFS/porq1_256k/cp2k_CMG/asi40/cp2k_launch.sh': 2,\n",
       " 'PFS/porq1_256k/cp2k_CMG/asi400cp2k_launch.sh': 1,\n",
       " 'PFS/porq1_256k/cp2k_CMG/asi401cp2k_launch.sh': 1,\n",
       " 'PFS/porq1_256k/cp2k_CMG/asi402cp2k_launch.sh': 1,\n",
       " 'PFS/porq1_256k/cp2k_CMG/asi403cp2k_launch.sh': 1,\n",
       " 'PFS/porq1_256k/cp2k_CMG/asi404cp2k_launch.sh': 1,\n",
       " 'PFS/porq1_256k/cp2k_CMG/asi405cp2k_launch.sh': 1,\n",
       " 'PFS/porq1_256k/cp2k_CMG/asi406cp2k_launch.sh': 1,\n",
       " 'PFS/porq1_256k/cp2k_CMG/asi407cp2k_launch.sh': 1,\n",
       " 'PFS/porq1_256k/cp2k_CMG/asi408cp2k_launch.sh': 1,\n",
       " 'PFS/porq1_256k/cp2k_CMG/asi409cp2k_launch.sh': 1,\n",
       " 'PFS/porq1_256k/cp2k_CMG/asi41/cp2k_launch.sh': 2,\n",
       " 'PFS/porq1_256k/cp2k_CMG/asi410cp2k_launch.sh': 1,\n",
       " 'PFS/porq1_256k/cp2k_CMG/asi411cp2k_launch.sh': 1,\n",
       " 'PFS/porq1_256k/cp2k_CMG/asi412cp2k_launch.sh': 1,\n",
       " 'PFS/porq1_256k/cp2k_CMG/asi413cp2k_launch.sh': 1,\n",
       " 'PFS/porq1_256k/cp2k_CMG/asi414cp2k_launch.sh': 1,\n",
       " 'PFS/porq1_256k/cp2k_CMG/asi415cp2k_launch.sh': 1,\n",
       " 'PFS/porq1_256k/cp2k_CMG/asi416cp2k_launch.sh': 1,\n",
       " 'PFS/porq1_256k/cp2k_CMG/asi417cp2k_launch.sh': 1,\n",
       " 'PFS/porq1_256k/cp2k_CMG/asi418cp2k_launch.sh': 1,\n",
       " 'PFS/porq1_256k/cp2k_CMG/asi419cp2k_launch.sh': 1,\n",
       " 'PFS/porq1_256k/cp2k_CMG/asi42/cp2k_launch.sh': 2,\n",
       " 'PFS/porq1_256k/cp2k_CMG/asi420cp2k_launch.sh': 1,\n",
       " 'PFS/porq1_256k/cp2k_CMG/asi421cp2k_launch.sh': 1,\n",
       " 'PFS/porq1_256k/cp2k_CMG/asi422cp2k_launch.sh': 1,\n",
       " 'PFS/porq1_256k/cp2k_CMG/asi423cp2k_launch.sh': 1,\n",
       " 'PFS/porq1_256k/cp2k_CMG/asi424cp2k_launch.sh': 1,\n",
       " 'PFS/porq1_256k/cp2k_CMG/asi425cp2k_launch.sh': 1,\n",
       " 'PFS/porq1_256k/cp2k_CMG/asi426cp2k_launch.sh': 1,\n",
       " 'PFS/porq1_256k/cp2k_CMG/asi427cp2k_launch.sh': 1,\n",
       " 'PFS/porq1_256k/cp2k_CMG/asi428cp2k_launch.sh': 1,\n",
       " 'PFS/porq1_256k/cp2k_CMG/asi429cp2k_launch.sh': 1,\n",
       " 'PFS/porq1_256k/cp2k_CMG/asi43/cp2k_launch.sh': 2,\n",
       " 'PFS/porq1_256k/cp2k_CMG/asi430cp2k_launch.sh': 1,\n",
       " 'PFS/porq1_256k/cp2k_CMG/asi431cp2k_launch.sh': 1,\n",
       " 'PFS/porq1_256k/cp2k_CMG/asi432cp2k_launch.sh': 1,\n",
       " 'PFS/porq1_256k/cp2k_CMG/asi433cp2k_launch.sh': 1,\n",
       " 'PFS/porq1_256k/cp2k_CMG/asi434cp2k_launch.sh': 1,\n",
       " 'PFS/porq1_256k/cp2k_CMG/asi435cp2k_launch.sh': 1,\n",
       " 'PFS/porq1_256k/cp2k_CMG/asi436cp2k_launch.sh': 1,\n",
       " 'PFS/porq1_256k/cp2k_CMG/asi437cp2k_launch.sh': 1,\n",
       " 'PFS/porq1_256k/cp2k_CMG/asi438cp2k_launch.sh': 1,\n",
       " 'PFS/porq1_256k/cp2k_CMG/asi439cp2k_launch.sh': 1,\n",
       " 'PFS/porq1_256k/cp2k_CMG/asi44/cp2k_launch.sh': 2,\n",
       " 'PFS/porq1_256k/cp2k_CMG/asi440cp2k_launch.sh': 1,\n",
       " 'PFS/porq1_256k/cp2k_CMG/asi441cp2k_launch.sh': 1,\n",
       " 'PFS/porq1_256k/cp2k_CMG/asi442cp2k_launch.sh': 1,\n",
       " 'PFS/porq1_256k/cp2k_CMG/asi443cp2k_launch.sh': 1,\n",
       " 'PFS/porq1_256k/cp2k_CMG/asi444cp2k_launch.sh': 1,\n",
       " 'PFS/porq1_256k/cp2k_CMG/asi445cp2k_launch.sh': 1,\n",
       " 'PFS/porq1_256k/cp2k_CMG/asi446cp2k_launch.sh': 1,\n",
       " 'PFS/porq1_256k/cp2k_CMG/asi447cp2k_launch.sh': 1,\n",
       " 'PFS/porq1_256k/cp2k_CMG/asi448cp2k_launch.sh': 1,\n",
       " 'PFS/porq1_256k/cp2k_CMG/asi449cp2k_launch.sh': 1,\n",
       " 'PFS/porq1_256k/cp2k_CMG/asi45/cp2k_launch.sh': 2,\n",
       " 'PFS/porq1_256k/cp2k_CMG/asi450cp2k_launch.sh': 1,\n",
       " 'PFS/porq1_256k/cp2k_CMG/asi451cp2k_launch.sh': 1,\n",
       " 'PFS/porq1_256k/cp2k_CMG/asi452cp2k_launch.sh': 1,\n",
       " 'PFS/porq1_256k/cp2k_CMG/asi453cp2k_launch.sh': 1,\n",
       " 'PFS/porq1_256k/cp2k_CMG/asi454cp2k_launch.sh': 1,\n",
       " 'PFS/porq1_256k/cp2k_CMG/asi455cp2k_launch.sh': 1,\n",
       " 'PFS/porq1_256k/cp2k_CMG/asi456cp2k_launch.sh': 1,\n",
       " 'PFS/porq1_256k/cp2k_CMG/asi457cp2k_launch.sh': 1,\n",
       " 'PFS/porq1_256k/cp2k_CMG/asi458cp2k_launch.sh': 1,\n",
       " 'PFS/porq1_256k/cp2k_CMG/asi459cp2k_launch.sh': 1,\n",
       " 'PFS/porq1_256k/cp2k_CMG/asi46/cp2k_launch.sh': 2,\n",
       " 'PFS/porq1_256k/cp2k_CMG/asi460cp2k_launch.sh': 1,\n",
       " 'PFS/porq1_256k/cp2k_CMG/asi461cp2k_launch.sh': 1,\n",
       " 'PFS/porq1_256k/cp2k_CMG/asi462cp2k_launch.sh': 1,\n",
       " 'PFS/porq1_256k/cp2k_CMG/asi463cp2k_launch.sh': 1,\n",
       " 'PFS/porq1_256k/cp2k_CMG/asi464cp2k_launch.sh': 1,\n",
       " 'PFS/porq1_256k/cp2k_CMG/asi465cp2k_launch.sh': 1,\n",
       " 'PFS/porq1_256k/cp2k_CMG/asi466cp2k_launch.sh': 1,\n",
       " 'PFS/porq1_256k/cp2k_CMG/asi467cp2k_launch.sh': 1,\n",
       " 'PFS/porq1_256k/cp2k_CMG/asi468cp2k_launch.sh': 1,\n",
       " 'PFS/porq1_256k/cp2k_CMG/asi469cp2k_launch.sh': 1,\n",
       " 'PFS/porq1_256k/cp2k_CMG/asi47/cp2k_launch.sh': 2,\n",
       " 'PFS/porq1_256k/cp2k_CMG/asi470cp2k_launch.sh': 1,\n",
       " 'PFS/porq1_256k/cp2k_CMG/asi471cp2k_launch.sh': 1,\n",
       " 'PFS/porq1_256k/cp2k_CMG/asi472cp2k_launch.sh': 1,\n",
       " 'PFS/porq1_256k/cp2k_CMG/asi473cp2k_launch.sh': 1,\n",
       " 'PFS/porq1_256k/cp2k_CMG/asi474cp2k_launch.sh': 1,\n",
       " 'PFS/porq1_256k/cp2k_CMG/asi475cp2k_launch.sh': 1,\n",
       " 'PFS/porq1_256k/cp2k_CMG/asi476cp2k_launch.sh': 1,\n",
       " 'PFS/porq1_256k/cp2k_CMG/asi477cp2k_launch.sh': 1,\n",
       " 'PFS/porq1_256k/cp2k_CMG/asi478cp2k_launch.sh': 1,\n",
       " 'PFS/porq1_256k/cp2k_CMG/asi479cp2k_launch.sh': 1,\n",
       " 'PFS/porq1_256k/cp2k_CMG/asi48/cp2k_launch.sh': 2,\n",
       " 'PFS/porq1_256k/cp2k_CMG/asi480cp2k_launch.sh': 1,\n",
       " 'PFS/porq1_256k/cp2k_CMG/asi481cp2k_launch.sh': 1,\n",
       " 'PFS/porq1_256k/cp2k_CMG/asi482cp2k_launch.sh': 1,\n",
       " 'PFS/porq1_256k/cp2k_CMG/asi483cp2k_launch.sh': 1,\n",
       " 'PFS/porq1_256k/cp2k_CMG/asi484cp2k_launch.sh': 1,\n",
       " 'PFS/porq1_256k/cp2k_CMG/asi485cp2k_launch.sh': 1,\n",
       " 'PFS/porq1_256k/cp2k_CMG/asi486cp2k_launch.sh': 1,\n",
       " 'PFS/porq1_256k/cp2k_CMG/asi487cp2k_launch.sh': 1,\n",
       " 'PFS/porq1_256k/cp2k_CMG/asi488cp2k_launch.sh': 1,\n",
       " 'PFS/porq1_256k/cp2k_CMG/asi489cp2k_launch.sh': 1,\n",
       " 'PFS/porq1_256k/cp2k_CMG/asi49/cp2k_launch.sh': 2,\n",
       " 'PFS/porq1_256k/cp2k_CMG/asi490cp2k_launch.sh': 1,\n",
       " 'PFS/porq1_256k/cp2k_CMG/asi491cp2k_launch.sh': 1,\n",
       " 'PFS/porq1_256k/cp2k_CMG/asi492cp2k_launch.sh': 1,\n",
       " 'PFS/porq1_256k/cp2k_CMG/asi493cp2k_launch.sh': 1,\n",
       " 'PFS/porq1_256k/cp2k_CMG/asi494cp2k_launch.sh': 1,\n",
       " 'PFS/porq1_256k/cp2k_CMG/asi495cp2k_launch.sh': 1,\n",
       " 'PFS/porq1_256k/cp2k_CMG/asi496cp2k_launch.sh': 1,\n",
       " 'PFS/porq1_256k/cp2k_CMG/asi497cp2k_launch.sh': 1,\n",
       " 'PFS/porq1_256k/cp2k_CMG/asi498cp2k_launch.sh': 1,\n",
       " 'PFS/porq1_256k/cp2k_CMG/asi499cp2k_launch.sh': 1,\n",
       " 'PFS/porq1_256k/cp2k_CMG/asi5/Mcp2k_launch.sh': 2,\n",
       " 'PFS/porq1_256k/cp2k_CMG/asi50/cp2k_launch.sh': 2,\n",
       " 'PFS/porq1_256k/cp2k_CMG/asi500cp2k_launch.sh': 1,\n",
       " 'PFS/porq1_256k/cp2k_CMG/asi51/cp2k_launch.sh': 2,\n",
       " 'PFS/porq1_256k/cp2k_CMG/asi52/cp2k_launch.sh': 2,\n",
       " 'PFS/porq1_256k/cp2k_CMG/asi53/cp2k_launch.sh': 2,\n",
       " 'PFS/porq1_256k/cp2k_CMG/asi54/cp2k_launch.sh': 2,\n",
       " 'PFS/porq1_256k/cp2k_CMG/asi55/cp2k_launch.sh': 2,\n",
       " 'PFS/porq1_256k/cp2k_CMG/asi56/cp2k_launch.sh': 2,\n",
       " 'PFS/porq1_256k/cp2k_CMG/asi57/cp2k_launch.sh': 2,\n",
       " 'PFS/porq1_256k/cp2k_CMG/asi58/cp2k_launch.sh': 2,\n",
       " 'PFS/porq1_256k/cp2k_CMG/asi59/cp2k_launch.sh': 2,\n",
       " 'PFS/porq1_256k/cp2k_CMG/asi6/Mcp2k_launch.sh': 2,\n",
       " 'PFS/porq1_256k/cp2k_CMG/asi60/cp2k_launch.sh': 2,\n",
       " 'PFS/porq1_256k/cp2k_CMG/asi61/cp2k_launch.sh': 2,\n",
       " 'PFS/porq1_256k/cp2k_CMG/asi62/cp2k_launch.sh': 2,\n",
       " 'PFS/porq1_256k/cp2k_CMG/asi63/cp2k_launch.sh': 2,\n",
       " 'PFS/porq1_256k/cp2k_CMG/asi64/cp2k_launch.sh': 2,\n",
       " 'PFS/porq1_256k/cp2k_CMG/asi65/cp2k_launch.sh': 2,\n",
       " 'PFS/porq1_256k/cp2k_CMG/asi66/cp2k_launch.sh': 2,\n",
       " 'PFS/porq1_256k/cp2k_CMG/asi67/cp2k_launch.sh': 2,\n",
       " 'PFS/porq1_256k/cp2k_CMG/asi68/cp2k_launch.sh': 2,\n",
       " 'PFS/porq1_256k/cp2k_CMG/asi69/cp2k_launch.sh': 2,\n",
       " 'PFS/porq1_256k/cp2k_CMG/asi7/Mcp2k_launch.sh': 2,\n",
       " 'PFS/porq1_256k/cp2k_CMG/asi70/cp2k_launch.sh': 2,\n",
       " 'PFS/porq1_256k/cp2k_CMG/asi71/cp2k_launch.sh': 2,\n",
       " 'PFS/porq1_256k/cp2k_CMG/asi72/cp2k_launch.sh': 2,\n",
       " 'PFS/porq1_256k/cp2k_CMG/asi73/cp2k_launch.sh': 2,\n",
       " 'PFS/porq1_256k/cp2k_CMG/asi74/cp2k_launch.sh': 2,\n",
       " 'PFS/porq1_256k/cp2k_CMG/asi75/cp2k_launch.sh': 2,\n",
       " 'PFS/porq1_256k/cp2k_CMG/asi76/cp2k_launch.sh': 2,\n",
       " 'PFS/porq1_256k/cp2k_CMG/asi77/cp2k_launch.sh': 2,\n",
       " 'PFS/porq1_256k/cp2k_CMG/asi78/cp2k_launch.sh': 2,\n",
       " 'PFS/porq1_256k/cp2k_CMG/asi79/cp2k_launch.sh': 2,\n",
       " 'PFS/porq1_256k/cp2k_CMG/asi8/Mcp2k_launch.sh': 2,\n",
       " 'PFS/porq1_256k/cp2k_CMG/asi80/cp2k_launch.sh': 2,\n",
       " 'PFS/porq1_256k/cp2k_CMG/asi81/cp2k_launch.sh': 2,\n",
       " 'PFS/porq1_256k/cp2k_CMG/asi82/cp2k_launch.sh': 2,\n",
       " 'PFS/porq1_256k/cp2k_CMG/asi83/cp2k_launch.sh': 2,\n",
       " 'PFS/porq1_256k/cp2k_CMG/asi84/cp2k_launch.sh': 2,\n",
       " 'PFS/porq1_256k/cp2k_CMG/asi85/cp2k_launch.sh': 2,\n",
       " 'PFS/porq1_256k/cp2k_CMG/asi86/cp2k_launch.sh': 2,\n",
       " 'PFS/porq1_256k/cp2k_CMG/asi87/cp2k_launch.sh': 2,\n",
       " 'PFS/porq1_256k/cp2k_CMG/asi88/cp2k_launch.sh': 2,\n",
       " 'PFS/porq1_256k/cp2k_CMG/asi89/cp2k_launch.sh': 2,\n",
       " 'PFS/porq1_256k/cp2k_CMG/asi9/Mcp2k_launch.sh': 2,\n",
       " 'PFS/porq1_256k/cp2k_CMG/asi90/cp2k_launch.sh': 2,\n",
       " 'PFS/porq1_256k/cp2k_CMG/asi91/cp2k_launch.sh': 2,\n",
       " 'PFS/porq1_256k/cp2k_CMG/asi92/cp2k_launch.sh': 2,\n",
       " 'PFS/porq1_256k/cp2k_CMG/asi93/cp2k_launch.sh': 2,\n",
       " 'PFS/porq1_256k/cp2k_CMG/asi94/cp2k_launch.sh': 2,\n",
       " 'PFS/porq1_256k/cp2k_CMG/asi95/cp2k_launch.sh': 2,\n",
       " 'PFS/porq1_256k/cp2k_CMG/asi96/cp2k_launch.sh': 2,\n",
       " 'PFS/porq1_256k/cp2k_CMG/asi97/cp2k_launch.sh': 2,\n",
       " 'PFS/porq1_256k/cp2k_CMG/asi98/cp2k_launch.sh': 2,\n",
       " 'PFS/porq1_256k/cp2k_CMG/asi99/cp2k_launch.sh': 2,\n",
       " 'PFS/porq1_256k/mtrace/mtrace_2./mtrace.sh': 6,\n",
       " 'PFS/porq1_256k/porous_ss3/afs/enea.it/project/neptunius': 12,\n",
       " 'PFS/porq1_256k/prova_por/afs/enea.it/project/neptunius': 4,\n",
       " 'PFS/tmp/Provacresco3_72h24': 1,\n",
       " 'PFS/tmp/Provacresco3_h144': 1,\n",
       " 'PORT_INTEGRATION/Advantg/TNSM_blaunch_mcnp': 14,\n",
       " 'QE/InGaN/288_15In/random_0qe6.0.0_par': 4,\n",
       " 'QE/InGaN/288_29In/random_0qe6.0.0_par': 5,\n",
       " 'QE/InGaNqe6.0.0_par': 2,\n",
       " 'QualeAria/mario/prove2/tmpNCPUS=1': 2,\n",
       " 'REz_multiple_scatblaunch_mcnp': 5,\n",
       " 'RezSubblaunch_mcnp': 8,\n",
       " 'Rez_proton_beam/Test_sourceblaunch_mcnp': 1,\n",
       " 'Rez_proton_beamblaunch_mcnp': 3,\n",
       " 'TNSM_exportblaunch_mcnp': 11,\n",
       " 'TNSM_inportblaunch_mcnp': 3,\n",
       " 'WORK_SAROTTO/MYRTHE/CC10/ECCO//afs/enea.it/bol/user/sarotto/': 25,\n",
       " 'WORK_SAROTTO/MYRTHE/CC10/TGV/E/afs/enea.it/bol/user/sarotto/': 19,\n",
       " 'WORK_SAROTTO/MYRTHE/CC10/TGV/J/afs/enea.it/bol/user/sarotto/': 19,\n",
       " 'activation_foilblaunch_mcnp': 1,\n",
       " 'cresco4s./mpirun_wrap3.lsf': 9,\n",
       " 'cresco4sm01.portici.enea.itcresco4x004.portici.enea.it': 7,\n",
       " 'cresco4sm01.portici.enea.itcresco4x005.portici.enea.it': 9,\n",
       " 'cresco4sm01.portici.enea.itcresco4x006.portici.enea.it': 10,\n",
       " 'cresco4sm01.portici.enea.itcresco4x007.portici.enea.it': 12,\n",
       " 'cresco4sm01.portici.enea.itcresco4x009.portici.enea.it': 15,\n",
       " 'cresco4sm01.portici.enea.itcresco4x010.portici.enea.it': 11,\n",
       " 'cresco4sm01.portici.enea.itcresco4x011.portici.enea.it': 16,\n",
       " 'cresco4sm01.portici.enea.itcresco4x012.portici.enea.it': 17,\n",
       " 'cresco4sm01.portici.enea.itcresco4x014.portici.enea.it': 10,\n",
       " 'cresco4sm01.portici.enea.itcresco4x016.portici.enea.it': 12,\n",
       " 'cresco4sm01.portici.enea.itcresco4x026.portici.enea.it': 2,\n",
       " 'cresco4sm01.portici.enea.itcresco4x038.portici.enea.it': 1,\n",
       " 'cresco4sm01.portici.enea.itcresco4x040.portici.enea.it': 1,\n",
       " 'cresco4sm01.portici.enea.itcresco4x046.portici.enea.it': 2,\n",
       " 'cresco4sm01.portici.enea.itcresco4x047.portici.enea.it': 1,\n",
       " 'cresco4sm01.portici.enea.itcresco4x052.portici.enea.it': 1,\n",
       " 'cresco4sm01.portici.enea.itcresco4x053.portici.enea.it': 2,\n",
       " 'cresco4sm01.portici.enea.itcresco4x055.portici.enea.it': 2,\n",
       " 'cresco4sm01.portici.enea.itcresco4x056.portici.enea.it': 2,\n",
       " 'cresco4sm01.portici.enea.itcresco4x069.portici.enea.it': 1,\n",
       " 'cresco4sm01.portici.enea.itcresco4x075.portici.enea.it': 1,\n",
       " 'cresco4sm01.portici.enea.itcresco4x083.portici.enea.it': 2,\n",
       " 'cresco4sm01.portici.enea.itcresco4x087.portici.enea.it': 1,\n",
       " 'cresco4sm01.portici.enea.itcresco4x093.portici.enea.it': 1,\n",
       " 'cresco4sm01.portici.enea.itcresco4x099.portici.enea.it': 1,\n",
       " 'cresco4sm01.portici.enea.itcresco4x102.portici.enea.it': 1,\n",
       " 'cresco4sm01.portici.enea.itcresco4x108.portici.enea.it': 1,\n",
       " 'cresco4sm01.portici.enea.itcresco4x109.portici.enea.it': 1,\n",
       " 'cresco4sm01.portici.enea.itcresco4x110.portici.enea.it': 1,\n",
       " 'cresco4sm01.portici.enea.itcresco4x112.portici.enea.it': 1,\n",
       " 'cresco4sm01.portici.enea.itcresco4x116.portici.enea.it': 2,\n",
       " 'cresco4sm01.portici.enea.itcresco4x175.portici.enea.it': 1,\n",
       " 'cresco4sm01.portici.enea.itcresco4x191.portici.enea.it': 1,\n",
       " 'cresco4sm01.portici.enea.itcresco4x257.portici.enea.it': 1,\n",
       " 'cresco4sm01.portici.enea.itcresco4x271.portici.enea.it': 1,\n",
       " 'cresco4sm01.portici.enea.itcresco4x278.portici.enea.it': 1,\n",
       " 'cresco4sm01.portici.enea.itcresco4x279.portici.enea.it': 1,\n",
       " 'cresco4sm01.portici.enea.itcresco4x281.portici.enea.it': 1,\n",
       " 'cresco4sm01.portici.enea.itcresco4x289.portici.enea.it': 2,\n",
       " 'cresco4x001.portici.enea.it./submit.sh': 7,\n",
       " 'cresco4x001.portici.enea.itcresco4x024.portici.enea.it': 1,\n",
       " 'cresco4x001.portici.enea.itcresco4x029.portici.enea.it': 1,\n",
       " 'cresco4x001.portici.enea.itcresco4x033.portici.enea.it': 3,\n",
       " 'cresco4x001.portici.enea.itcresco4x038.portici.enea.it': 2,\n",
       " 'cresco4x001.portici.enea.itcresco4x039.portici.enea.it': 1,\n",
       " 'cresco4x001.portici.enea.itcresco4x040.portici.enea.it': 1,\n",
       " 'cresco4x001.portici.enea.itcresco4x044.portici.enea.it': 1,\n",
       " 'cresco4x001.portici.enea.itcresco4x047.portici.enea.it': 4,\n",
       " 'cresco4x001.portici.enea.itcresco4x049.portici.enea.it': 3,\n",
       " 'cresco4x001.portici.enea.itcresco4x050.portici.enea.it': 1,\n",
       " 'cresco4x001.portici.enea.itcresco4x053.portici.enea.it': 3,\n",
       " 'cresco4x001.portici.enea.itcresco4x056.portici.enea.it': 1,\n",
       " 'cresco4x001.portici.enea.itcresco4x058.portici.enea.it': 3,\n",
       " 'cresco4x001.portici.enea.itcresco4x059.portici.enea.it': 1,\n",
       " 'cresco4x001.portici.enea.itcresco4x060.portici.enea.it': 1,\n",
       " 'cresco4x001.portici.enea.itcresco4x064.portici.enea.it': 2,\n",
       " 'cresco4x001.portici.enea.itcresco4x066.portici.enea.it': 1,\n",
       " 'cresco4x001.portici.enea.itcresco4x067.portici.enea.it': 3,\n",
       " 'cresco4x001.portici.enea.itcresco4x073.portici.enea.it': 2,\n",
       " 'cresco4x001.portici.enea.itcresco4x077.portici.enea.it': 1,\n",
       " 'cresco4x001.portici.enea.itcresco4x081.portici.enea.it': 1,\n",
       " 'cresco4x001.portici.enea.itcresco4x084.portici.enea.it': 1,\n",
       " 'cresco4x001.portici.enea.itcresco4x086.portici.enea.it': 1,\n",
       " 'cresco4x001.portici.enea.itcresco4x087.portici.enea.it': 3,\n",
       " 'cresco4x001.portici.enea.itcresco4x093.portici.enea.it': 2,\n",
       " 'cresco4x001.portici.enea.itcresco4x098.portici.enea.it': 2,\n",
       " 'cresco4x001.portici.enea.itcresco4x111.portici.enea.it': 1,\n",
       " 'cresco4x001.portici.enea.itcresco4x115.portici.enea.it': 1,\n",
       " 'cresco4x001.portici.enea.itcresco4x131.portici.enea.it': 2,\n",
       " 'cresco4x001.portici.enea.itcresco4x136.portici.enea.it': 2,\n",
       " 'cresco4x001.portici.enea.itcresco4x142.portici.enea.it': 1,\n",
       " 'cresco4x001.portici.enea.itcresco4x171.portici.enea.it': 2,\n",
       " 'cresco4x001.portici.enea.itcresco4x176.portici.enea.it': 1,\n",
       " 'cresco4x001.portici.enea.itcresco4x181.portici.enea.it': 1,\n",
       " 'cresco4x001.portici.enea.itcresco4x185.portici.enea.it': 1,\n",
       " 'cresco4x001.portici.enea.itcresco4x189.portici.enea.it': 1,\n",
       " 'cresco4x001.portici.enea.itcresco4x234.portici.enea.it': 4,\n",
       " 'cresco4x001.portici.enea.itcresco4x240.portici.enea.it': 1,\n",
       " 'cresco4x001.portici.enea.itcresco4x251.portici.enea.it': 1,\n",
       " 'cresco4x001.portici.enea.itcresco4x265.portici.enea.it': 2,\n",
       " 'cresco4x001.portici.enea.itcresco4x268.portici.enea.it': 2,\n",
       " 'cresco4x001.portici.enea.itcresco4x280.portici.enea.it': 1,\n",
       " 'cresco4x001.portici.enea.itcresco4x294.portici.enea.it': 1,\n",
       " 'cresco4x002.portici.enea.itcresco4x004.portici.enea.it': 1,\n",
       " 'cresco4x002.portici.enea.itcresco4x005.portici.enea.it': 1,\n",
       " 'cresco4x002.portici.enea.itcresco4x006.portici.enea.it': 1,\n",
       " 'cresco4x002.portici.enea.itcresco4x007.portici.enea.it': 3,\n",
       " 'cresco4x002.portici.enea.itcresco4x009.portici.enea.it': 1,\n",
       " 'cresco4x002.portici.enea.itcresco4x010.portici.enea.it': 2,\n",
       " 'cresco4x002.portici.enea.itcresco4x011.portici.enea.it': 1,\n",
       " 'cresco4x002.portici.enea.itcresco4x012.portici.enea.it': 1,\n",
       " 'cresco4x002.portici.enea.itcresco4x014.portici.enea.it': 1,\n",
       " 'cresco4x002.portici.enea.itcresco4x016.portici.enea.it': 1,\n",
       " 'cresco4x002.portici.enea.itcresco4x024.portici.enea.it': 1,\n",
       " 'cresco4x002.portici.enea.itcresco4x030.portici.enea.it': 1,\n",
       " 'cresco4x002.portici.enea.itcresco4x043.portici.enea.it': 1,\n",
       " 'cresco4x002.portici.enea.itcresco4x044.portici.enea.it': 1,\n",
       " 'cresco4x002.portici.enea.itcresco4x047.portici.enea.it': 5,\n",
       " 'cresco4x002.portici.enea.itcresco4x051.portici.enea.it': 1,\n",
       " 'cresco4x002.portici.enea.itcresco4x058.portici.enea.it': 2,\n",
       " 'cresco4x002.portici.enea.itcresco4x064.portici.enea.it': 1,\n",
       " 'cresco4x002.portici.enea.itcresco4x067.portici.enea.it': 4,\n",
       " 'cresco4x002.portici.enea.itcresco4x072.portici.enea.it': 1,\n",
       " 'cresco4x002.portici.enea.itcresco4x073.portici.enea.it': 6,\n",
       " 'cresco4x002.portici.enea.itcresco4x078.portici.enea.it': 1,\n",
       " 'cresco4x002.portici.enea.itcresco4x087.portici.enea.it': 1,\n",
       " 'cresco4x002.portici.enea.itcresco4x089.portici.enea.it': 1,\n",
       " 'cresco4x002.portici.enea.itcresco4x093.portici.enea.it': 2,\n",
       " 'cresco4x002.portici.enea.itcresco4x098.portici.enea.it': 2,\n",
       " 'cresco4x002.portici.enea.itcresco4x102.portici.enea.it': 1,\n",
       " 'cresco4x002.portici.enea.itcresco4x116.portici.enea.it': 2,\n",
       " 'cresco4x002.portici.enea.itcresco4x142.portici.enea.it': 1,\n",
       " 'cresco4x002.portici.enea.itcresco4x178.portici.enea.it': 2,\n",
       " 'cresco4x002.portici.enea.itcresco4x182.portici.enea.it': 1,\n",
       " 'cresco4x002.portici.enea.itcresco4x219.portici.enea.it': 1,\n",
       " 'cresco4x002.portici.enea.itcresco4x220.portici.enea.it': 1,\n",
       " 'cresco4x002.portici.enea.itcresco4x224.portici.enea.it': 1,\n",
       " 'cresco4x002.portici.enea.itcresco4x225.portici.enea.it': 1,\n",
       " 'cresco4x002.portici.enea.itcresco4x228.portici.enea.it': 3,\n",
       " 'cresco4x002.portici.enea.itcresco4x234.portici.enea.it': 1,\n",
       " 'cresco4x002.portici.enea.itcresco4x239.portici.enea.it': 1,\n",
       " 'cresco4x002.portici.enea.itcresco4x245.portici.enea.it': 1,\n",
       " 'cresco4x002.portici.enea.itcresco4x254.portici.enea.it': 1,\n",
       " 'cresco4x002.portici.enea.itcresco4x265.portici.enea.it': 1,\n",
       " 'cresco4x002.portici.enea.itcresco4x271.portici.enea.it': 2,\n",
       " 'cresco4x002.portici.enea.itcresco4x279.portici.enea.it': 1,\n",
       " 'cresco4x002.portici.enea.itcresco4x280.portici.enea.it': 1,\n",
       " 'cresco4x002.portici.enea.itcresco4x294.portici.enea.it': 1,\n",
       " 'cresco4x002.portici.enea.itcresco4x299.portici.enea.it': 1,\n",
       " 'cresco4x132.portici.enea.it': 1,\n",
       " 'cresco4x262.portici.enea.it': 1,\n",
       " 'cresco5x002.portici.enea.itcresco4x026.portici.enea.it': 3,\n",
       " 'cresco5x002.portici.enea.itcresco4x038.portici.enea.it': 3,\n",
       " 'cresco5x002.portici.enea.itcresco4x046.portici.enea.it': 4,\n",
       " 'cresco5x002.portici.enea.itcresco4x047.portici.enea.it': 7,\n",
       " 'cresco5x002.portici.enea.itcresco4x051.portici.enea.it': 4,\n",
       " 'cresco5x002.portici.enea.itcresco4x053.portici.enea.it': 8,\n",
       " 'cresco5x002.portici.enea.itcresco4x055.portici.enea.it': 1,\n",
       " 'cresco5x002.portici.enea.itcresco4x056.portici.enea.it': 5,\n",
       " 'cresco5x002.portici.enea.itcresco4x061.portici.enea.it': 1,\n",
       " 'cresco5x002.portici.enea.itcresco4x067.portici.enea.it': 8,\n",
       " 'cresco5x002.portici.enea.itcresco4x069.portici.enea.it': 5,\n",
       " 'cresco5x002.portici.enea.itcresco4x073.portici.enea.it': 5,\n",
       " 'cresco5x002.portici.enea.itcresco4x075.portici.enea.it': 3,\n",
       " 'cresco5x002.portici.enea.itcresco4x087.portici.enea.it': 9,\n",
       " 'cresco5x002.portici.enea.itcresco4x089.portici.enea.it': 1,\n",
       " 'cresco5x002.portici.enea.itcresco4x093.portici.enea.it': 1,\n",
       " 'cresco5x002.portici.enea.itcresco4x094.portici.enea.it': 1,\n",
       " 'cresco5x002.portici.enea.itcresco4x098.portici.enea.it': 2,\n",
       " 'cresco5x002.portici.enea.itcresco4x099.portici.enea.it': 2,\n",
       " 'cresco5x002.portici.enea.itcresco4x102.portici.enea.it': 4,\n",
       " 'cresco5x002.portici.enea.itcresco4x106.portici.enea.it': 2,\n",
       " 'cresco5x002.portici.enea.itcresco4x108.portici.enea.it': 5,\n",
       " 'cresco5x002.portici.enea.itcresco4x109.portici.enea.it': 3,\n",
       " 'cresco5x002.portici.enea.itcresco4x110.portici.enea.it': 2,\n",
       " 'cresco5x002.portici.enea.itcresco4x111.portici.enea.it': 1,\n",
       " 'cresco5x002.portici.enea.itcresco4x112.portici.enea.it': 5,\n",
       " 'cresco5x002.portici.enea.itcresco4x113.portici.enea.it': 1,\n",
       " 'cresco5x002.portici.enea.itcresco4x116.portici.enea.it': 4,\n",
       " 'cresco5x002.portici.enea.itcresco4x119.portici.enea.it': 3,\n",
       " 'cresco5x002.portici.enea.itcresco4x120.portici.enea.it': 4,\n",
       " 'cresco5x002.portici.enea.itcresco4x124.portici.enea.it': 4,\n",
       " 'cresco5x002.portici.enea.itcresco4x136.portici.enea.it': 2,\n",
       " 'cresco5x002.portici.enea.itcresco4x142.portici.enea.it': 7,\n",
       " 'cresco5x002.portici.enea.itcresco4x143.portici.enea.it': 2,\n",
       " 'cresco5x002.portici.enea.itcresco4x171.portici.enea.it': 1,\n",
       " 'cresco5x002.portici.enea.itcresco4x175.portici.enea.it': 5,\n",
       " 'cresco5x002.portici.enea.itcresco4x183.portici.enea.it': 2,\n",
       " 'cresco5x002.portici.enea.itcresco4x191.portici.enea.it': 3,\n",
       " 'cresco5x002.portici.enea.itcresco4x227.portici.enea.it': 1,\n",
       " 'cresco5x002.portici.enea.itcresco4x228.portici.enea.it': 4,\n",
       " 'cresco5x002.portici.enea.itcresco4x247.portici.enea.it': 1,\n",
       " 'cresco5x002.portici.enea.itcresco4x252.portici.enea.it': 4,\n",
       " 'cresco5x002.portici.enea.itcresco4x254.portici.enea.it': 1,\n",
       " 'cresco5x002.portici.enea.itcresco4x257.portici.enea.it': 7,\n",
       " 'cresco5x002.portici.enea.itcresco4x267.portici.enea.it': 4,\n",
       " 'cresco5x002.portici.enea.itcresco4x271.portici.enea.it': 6,\n",
       " 'cresco5x002.portici.enea.itcresco4x278.portici.enea.it': 6,\n",
       " 'cresco5x002.portici.enea.itcresco4x279.portici.enea.it': 4,\n",
       " 'cresco5x002.portici.enea.itcresco4x281.portici.enea.it': 5,\n",
       " 'cresco5x002.portici.enea.itcresco4x283.portici.enea.it': 6,\n",
       " 'cresco5x002.portici.enea.itcresco4x289.portici.enea.it': 3,\n",
       " 'df': 2,\n",
       " 'epr/transient2./mcnp6_1script': 2,\n",
       " 'faccioprova./mcnp6_1script': 2,\n",
       " 'hname==cresco4sm02]./prova.sh': 1,\n",
       " 'hname==cresco4sm02]/afs/.enea.it/project/ha_forec': 99,\n",
       " 'hostname': 2,\n",
       " 'irsn/mcnp5.mpi/real/DISCOM/run./my_script.plm.cresco4.sh': 60,\n",
       " 'ls': 1,\n",
       " 'minnirams/out/anal/CAMPANIA1km./history.sh': 5,\n",
       " 'minnirams/out/anal/IT4km0/2004./history.sh': 3,\n",
       " 'minnirams/soft/script/rams/gporq1_minni2/gpor_minni0/min': 1,\n",
       " 'minnirams/soft/script/rams10': 8,\n",
       " 'minnirams/soft/script/rams370': 2,\n",
       " 'minnirams/soft/script/rams80': 3,\n",
       " 'minnirams/soft/script/ramscresco4x035.portici.enea.it': 1,\n",
       " 'minnirams/soft/script/ramscresco4x058.portici.enea.it': 1,\n",
       " 'minnirams/soft/script/ramscresco4x100.portici.enea.it': 1,\n",
       " 'minnirams/soft/script/ramscresco4x109.portici.enea.it': 1,\n",
       " 'minnirams/soft/script/ramscresco4x114.portici.enea.it': 1,\n",
       " 'minnirams/soft/script/ramscresco4x136.portici.enea.it': 1,\n",
       " 'minnirams/soft/script/ramscresco4x140.portici.enea.it': 1,\n",
       " 'minnirams/soft/script/ramscresco4x144.portici.enea.it': 1,\n",
       " 'minnirams/soft/script/ramscresco4x145.portici.enea.it': 1,\n",
       " 'minnirams/soft/script/ramscresco4x176.portici.enea.it': 1,\n",
       " 'minnirams/soft/script/ramscresco4x181.portici.enea.it': 1,\n",
       " 'minnirams/soft/script/ramscresco4x183.portici.enea.it': 1,\n",
       " 'minnirams/soft/script/ramscresco4x227.portici.enea.it': 2,\n",
       " 'minnirams/soft/script/ramscresco4x228.portici.enea.it': 1,\n",
       " 'minnirams/soft/script/ramscresco4x235.portici.enea.it': 1,\n",
       " 'minnirams/soft/script/ramscresco4x242.portici.enea.it': 1,\n",
       " 'minnirams/soft/script/ramscresco4x256.portici.enea.it': 1,\n",
       " 'minnirams/soft/script/ramscresco4x261.portici.enea.it': 1,\n",
       " 'minnirams/soft/script/ramscresco4x262.portici.enea.it': 1,\n",
       " 'minnirams/soft/script/ramscresco4x290.portici.enea.it': 1,\n",
       " 'minnirams/soft/script/ramscresco4x294.portici.enea.it': 2,\n",
       " 'minnirams/soft/script/ramscresco4x296.portici.enea.it': 1,\n",
       " 'node_up./mpirun_wrap.lsf': 24,\n",
       " 'private/Am-241-(50mm-30d)/III-./VAI_mcnpx.sh': 17,\n",
       " 'private/MCNP/MCNP_CALCULATION/./RUN.sh': 17,\n",
       " 'private/q_e/GaSeqe5.4.0_par': 2,\n",
       " 'private/q_e/GaSeqe6.0.0_par': 4,\n",
       " 'private/q_e/clphlene/Mg.3x3/pbqe5.4.0_par': 5,\n",
       " 'private/q_e/clphlene/Mg.3x3/pbqe6.0.0_par': 3,\n",
       " 'private/q_e/clphlene/Mg.3x3/pwqe6.0.0_par': 3,\n",
       " 'private/q_e/clphlene/Mg.4x4/pbqe6.0.0_par': 33,\n",
       " 'private/q_e/clphlene/cloroph/Sqe5.4.0_par': 3,\n",
       " 'private/q_e/formation/H2/aloneqe6.0.0_par': 21,\n",
       " 'private/q_e/formation/graphaneqe5.4.0_par': 8,\n",
       " 'private/q_e/formation/grapheneqe5.4.0_par': 1,\n",
       " 'private/q_e/formation/grapheneqe6.0.0_par': 12,\n",
       " 'sims/c2/j1a.out': 1,\n",
       " 'sims/c2/j2a.out': 1,\n",
       " 'sims/c2/j3a.out': 1,\n",
       " 'sims/c2a.out': 1,\n",
       " 'sims/c3/j1a.out': 1,\n",
       " 'sims/c3/j2a.out': 1,\n",
       " 'sims/c3/j3a.out': 1,\n",
       " 'sims/c3a.out': 1,\n",
       " 'sims/gdv/c10a.out': 2,\n",
       " 'sims/gdv/c11a.out': 1,\n",
       " 'sims/gdv/c12a.out': 1,\n",
       " 'sims/gdv/c13a.out': 1,\n",
       " 'sims/gdv/c1a.out': 3,\n",
       " 'sims/gdv/c2a.out': 3,\n",
       " 'sims/gdv/c3a.out': 2,\n",
       " 'sims/gdv/c4a.out': 2,\n",
       " 'sims/gdv/c5a.out': 2,\n",
       " 'sims/gdv/c6a.out': 2,\n",
       " 'sims/gdv/c7a.out': 2,\n",
       " 'sims/gdv/c8a.out': 2,\n",
       " 'sims/gdv/c9a.out': 2,\n",
       " 'sims/overlap/00a.out': 1,\n",
       " 'sims/overlap/01a.out': 4,\n",
       " 'sims/overlap/02a.out': 4,\n",
       " 'sims/overlap/03a.out': 4,\n",
       " 'sims/overlap/04a.out': 4,\n",
       " 'sims/overlap/05a.out': 2,\n",
       " 'sims/overlap/06a.out': 1,\n",
       " 'sims/overlap/ERF/c2a.out': 1,\n",
       " 'sims/overlap/c00a.out': 1,\n",
       " 'sims/overlap/c1a.out': 1,\n",
       " 'sims/overlap/c2a.out': 1,\n",
       " 'sims/overlap/c3/j2a.out': 1,\n",
       " 'sims/overlap/c3a.out': 1,\n",
       " 'sims/overlap/j1a.out': 1,\n",
       " 'sims/overlap/j2a.out': 1,\n",
       " 'sims/overlap/j3a.out': 1,\n",
       " 'sims/overlap/linear/c00/j10a.out': 1,\n",
       " 'sims/overlap/linear/c00/j11a.out': 1,\n",
       " 'sims/overlap/linear/c00/j12a.out': 1,\n",
       " 'sims/overlap/linear/c00/j13a.out': 1,\n",
       " 'sims/overlap/linear/c00/j14a.out': 1,\n",
       " 'sims/overlap/linear/c00/j15a.out': 1,\n",
       " 'sims/overlap/linear/c00/j1a.out': 1,\n",
       " 'sims/overlap/linear/c00/j2a.out': 1,\n",
       " 'sims/overlap/linear/c00/j3a.out': 1,\n",
       " 'sims/overlap/linear/c00/j4a.out': 1,\n",
       " 'sims/overlap/linear/c00/j5a.out': 1,\n",
       " 'sims/overlap/linear/c00/j6a.out': 1,\n",
       " 'sims/overlap/linear/c00/j7a.out': 1,\n",
       " 'sims/overlap/linear/c00/j8a.out': 1,\n",
       " 'sims/overlap/linear/c00/j9a.out': 1,\n",
       " 'sims/overlap/linear/c01/j10a.out': 1,\n",
       " 'sims/overlap/linear/c01/j11a.out': 1,\n",
       " 'sims/overlap/linear/c01/j12a.out': 1,\n",
       " 'sims/overlap/linear/c01/j13a.out': 1,\n",
       " 'sims/overlap/linear/c01/j14a.out': 1,\n",
       " 'sims/overlap/linear/c01/j15a.out': 1,\n",
       " 'sims/overlap/linear/c01/j1a.out': 1,\n",
       " 'sims/overlap/linear/c01/j2a.out': 1,\n",
       " 'sims/overlap/linear/c01/j3a.out': 1,\n",
       " 'sims/overlap/linear/c01/j4a.out': 1,\n",
       " 'sims/overlap/linear/c01/j5a.out': 1,\n",
       " 'sims/overlap/linear/c01/j6a.out': 1,\n",
       " 'sims/overlap/linear/c01/j7a.out': 1,\n",
       " 'sims/overlap/linear/c01/j8a.out': 1,\n",
       " 'sims/overlap/linear/c01/j9a.out': 1,\n",
       " 'sims/overlap/linear/c01a.out': 1,\n",
       " 'sims/overlap/linear/c4/j1a.out': 1,\n",
       " 'sims/overlap/linear/c4/j2a.out': 1,\n",
       " 'sims/overlap/linear/c4/j3a.out': 1,\n",
       " 'sims/overlap/linear/c4a.out': 1,\n",
       " 'sims/overlap/linear/c5/j1a.out': 1,\n",
       " 'sims/overlap/linear/c5/j2a.out': 1,\n",
       " 'sims/overlap/linear/c5/j3a.out': 1,\n",
       " 'sims/overlap/linear/c5a.out': 1,\n",
       " 'sleep': 5,\n",
       " 'tapiro-aosta/tapiro-aosta-osmo./mcnp6_1script': 1,\n",
       " 'tapiro-aosta/tapiro-aosta-osmo./mcnp6_1script_cont': 1,\n",
       " 'tapiro-aosta/test./mcnp6_1script': 3}"
      ]
     },
     "execution_count": 19,
     "metadata": {},
     "output_type": "execute_result"
    }
   ],
   "source": [
    "l = list(lsf_month_df.executable_full_name)\n",
    "dict((x,l.count(x)) for x in l)"
   ]
  },
  {
   "cell_type": "markdown",
   "metadata": {},
   "source": [
    "### Undetermined SLAE $Aq = f$ to be solved with unknown q\n",
    "A - weight matrix ($a_{ij} = $  required cores $\\cdot$ time in seconds of job working this hour)\n",
    "\n",
    "i - job number\n",
    "\n",
    "j - hour number\n",
    "\n",
    "q - power required by a job (process) per core per second\n",
    "\n",
    "f - energy = avg power * 1 hour [here in Wh]\n",
    "\n",
    "#### Tikhonov method and gradient method with regularisation parameter of minimal errors"
   ]
  },
  {
   "cell_type": "code",
   "execution_count": 228,
   "metadata": {
    "collapsed": true
   },
   "outputs": [],
   "source": [
    "A = proc_df.as_matrix()\n",
    "A = np.asmatrix(A,dtype='float')\n",
    "At = np.transpose(A)\n",
    "f = zabbix_month_df['energy_avg (kWh)'].as_matrix()*1000\n",
    "Af = np.transpose(np.dot(At, f))\n",
    "B = At * A\n",
    "# print(type(A), type(At))\n",
    "# print(type(A[0,0]))\n",
    "# print(A[0,0])"
   ]
  },
  {
   "cell_type": "code",
   "execution_count": 118,
   "metadata": {},
   "outputs": [
    {
     "data": {
      "image/png": "[encoded data removed]",
      "text/plain": [
       "<matplotlib.figure.Figure at 0x1bbaf3b5780>"
      ]
     },
     "metadata": {},
     "output_type": "display_data"
    }
   ],
   "source": [
    "plt.imshow(np.uint8(A), cmap='Blues')\n",
    "plt.show()"
   ]
  },
  {
   "cell_type": "markdown",
   "metadata": {},
   "source": [
    "Percentage of non-zero elements"
   ]
  },
  {
   "cell_type": "code",
   "execution_count": 119,
   "metadata": {},
   "outputs": [
    {
     "data": {
      "text/plain": [
       "2.7506891588602653"
      ]
     },
     "execution_count": 119,
     "metadata": {},
     "output_type": "execute_result"
    }
   ],
   "source": [
    "np.count_nonzero(A)/(A.shape[0]*A.shape[1])*100"
   ]
  },
  {
   "cell_type": "markdown",
   "metadata": {},
   "source": [
    "SVD analysis"
   ]
  },
  {
   "cell_type": "code",
   "execution_count": 120,
   "metadata": {
    "collapsed": true
   },
   "outputs": [],
   "source": [
    "u,s,v = np.linalg.svd(A)"
   ]
  },
  {
   "cell_type": "code",
   "execution_count": 121,
   "metadata": {},
   "outputs": [
    {
     "name": "stdout",
     "output_type": "stream",
     "text": [
      "2.31057429856e+16\n",
      "10057.0720698\n",
      "76868.9613757 3.3268335679e-12\n"
     ]
    }
   ],
   "source": [
    "print(s[0]/s[s.shape[0]-1])\n",
    "print(s[0]/s[int(s.shape[0]/4)-1])\n",
    "print(s.max(), s.min())"
   ]
  },
  {
   "cell_type": "markdown",
   "metadata": {},
   "source": [
    "Normal system of equatrions for the initial system"
   ]
  },
  {
   "cell_type": "code",
   "execution_count": 123,
   "metadata": {
    "collapsed": true
   },
   "outputs": [],
   "source": [
    "B = At * A"
   ]
  },
  {
   "cell_type": "code",
   "execution_count": 124,
   "metadata": {
    "collapsed": true
   },
   "outputs": [],
   "source": [
    "# a = np.matrix([[1,2],[0,3],[0,0]])\n",
    "# # b = np.matrix([[3,4],[1,2]])\n",
    "# b = np.matrix([4,1])\n",
    "# print(type(b))\n",
    "# print(b.shape, np.transpose(b).shape)\n",
    "# c = np.dot(a,np.transpose(b))\n",
    "# print(c, '\\n',c.shape)"
   ]
  },
  {
   "cell_type": "markdown",
   "metadata": {},
   "source": [
    "### OLS"
   ]
  },
  {
   "cell_type": "code",
   "execution_count": 153,
   "metadata": {},
   "outputs": [
    {
     "name": "stdout",
     "output_type": "stream",
     "text": [
      "norm(Aq-f)/norm(f) 4.48573313842\n"
     ]
    }
   ],
   "source": [
    "reg = linear_model.LinearRegression()\n",
    "reg.fit(B, Af)\n",
    "q_lin_regr = reg.coef_\n",
    "# print(q_lin_regr.shape)\n",
    "print(r'norm(Aq-f)/norm(f)',np.linalg.norm(np.dot(A,np.transpose(q_lin_regr)) - f)/np.linalg.norm(f))"
   ]
  },
  {
   "cell_type": "code",
   "execution_count": 150,
   "metadata": {},
   "outputs": [
    {
     "name": "stdout",
     "output_type": "stream",
     "text": [
      "norm(Aq-f)/norm(f) 0.945194781838\n"
     ]
    }
   ],
   "source": [
    "reg.fit(A,f)\n",
    "q_lin_regr_2 = reg.coef_\n",
    "# print(q_lin_regr_2)\n",
    "print(r'norm(Aq-f)/norm(f)',np.linalg.norm(np.dot(A,q_lin_regr_2) - f)/np.linalg.norm(f))"
   ]
  },
  {
   "cell_type": "markdown",
   "metadata": {},
   "source": [
    "### Tikhonov"
   ]
  },
  {
   "cell_type": "code",
   "execution_count": 148,
   "metadata": {},
   "outputs": [
    {
     "name": "stdout",
     "output_type": "stream",
     "text": [
      "zero elements 925\n",
      "norm(Aq-f) 0.869079938877\n"
     ]
    }
   ],
   "source": [
    "clf = linear_model.Lasso(alpha=10, positive = True,max_iter=100000)\n",
    "clf.fit(A,f)\n",
    "q_lasso = clf.coef_\n",
    "u, counts = np.unique(q_lasso, return_counts=True)\n",
    "print('zero elements',counts[0])\n",
    "print(r'norm(Aq-f)/norm(f)',np.linalg.norm(np.dot(A,q_lasso) - f)/np.linalg.norm(f))"
   ]
  },
  {
   "cell_type": "code",
   "execution_count": 157,
   "metadata": {},
   "outputs": [
    {
     "name": "stdout",
     "output_type": "stream",
     "text": [
      "zero elements 847\n",
      "norm(Aq-f)/norm(f) 0.671314395165\n"
     ]
    }
   ],
   "source": [
    "clf = linear_model.Lasso(alpha=0.01, positive = True,max_iter=100000)\n",
    "clf.fit(B,Af)\n",
    "q_lasso = clf.coef_\n",
    "u, counts = np.unique(q_lasso, return_counts=True)\n",
    "print('zero elements',counts[0])\n",
    "print(r'norm(Aq-f)/norm(f)',np.linalg.norm(np.dot(A,q_lasso) - f)/np.linalg.norm(f))"
   ]
  },
  {
   "cell_type": "markdown",
   "metadata": {},
   "source": [
    "### Tikhonov + angular"
   ]
  },
  {
   "cell_type": "code",
   "execution_count": 167,
   "metadata": {},
   "outputs": [
    {
     "name": "stdout",
     "output_type": "stream",
     "text": [
      "zero elements 914\n",
      "norm(Aq-f)/norm(f) 0.891871249567\n"
     ]
    }
   ],
   "source": [
    "clf_ll = linear_model.LassoLars(alpha=0.7, positive = True,max_iter=10000,copy_X=True)\n",
    "clf_ll.fit(A,f)\n",
    "q_lasso_lars = clf_ll.coef_\n",
    "u, counts = np.unique(q_lasso_lars, return_counts=True)\n",
    "print('zero elements',counts[0])\n",
    "print(r'norm(Aq-f)/norm(f)',np.linalg.norm(np.dot(A,q_lasso_lars) - f)/np.linalg.norm(f))"
   ]
  },
  {
   "cell_type": "code",
   "execution_count": 168,
   "metadata": {},
   "outputs": [
    {
     "name": "stdout",
     "output_type": "stream",
     "text": [
      "zero elements 905\n",
      "norm(Aq-f)/norm(f) 0.538279178205\n"
     ]
    }
   ],
   "source": [
    "clf_ll = linear_model.LassoLars(alpha=100, positive = True,max_iter=10000,copy_X=True)\n",
    "clf_ll.fit(B,Af)\n",
    "q_lasso_lars = clf_ll.coef_\n",
    "u, counts = np.unique(q_lasso_lars, return_counts=True)\n",
    "print('zero elements',counts[0])\n",
    "# print(f.shape, np.dot(A,q_lasso_lars).shape, np.dot(A,q_lasso_lars) - np.transpose(f))\n",
    "print(r'norm(Aq-f)/norm(f)',np.linalg.norm(np.dot(A,q_lasso_lars) - f)/np.linalg.norm(f))"
   ]
  },
  {
   "cell_type": "markdown",
   "metadata": {},
   "source": [
    "### LassoLarsCV"
   ]
  },
  {
   "cell_type": "code",
   "execution_count": 170,
   "metadata": {},
   "outputs": [
    {
     "name": "stdout",
     "output_type": "stream",
     "text": [
      "zero elements 976\n",
      "norm(Aq-f) 1.0\n"
     ]
    }
   ],
   "source": [
    "clf_ll_cv = linear_model.LassoLarsCV(max_n_alphas=10000, positive = True,max_iter=100000,copy_X=True)\n",
    "clf_ll_cv.fit(A,f)\n",
    "q_lasso_lars_cv = clf_ll_cv.coef_\n",
    "u, counts = np.unique(q_lasso_lars_cv, return_counts=True)\n",
    "print('zero elements',counts[0])\n",
    "print(r'norm(Aq-f)/norm(f)',np.linalg.norm(np.dot(A,q_lasso_lars_cv) - f)/np.linalg.norm(f))"
   ]
  },
  {
   "cell_type": "code",
   "execution_count": 171,
   "metadata": {},
   "outputs": [
    {
     "name": "stdout",
     "output_type": "stream",
     "text": [
      "zero elements 905\n",
      "norm(Aq-f)/norm(f) 0.538279178205\n"
     ]
    }
   ],
   "source": [
    "clf_ll_cv = linear_model.LassoLarsCV(max_n_alphas=10000, positive = True,max_iter=100000,copy_X=True)\n",
    "clf_ll_cv.fit(B,Af)\n",
    "q_lasso_lars_cv = clf_ll_cv.coef_\n",
    "u, counts = np.unique(q_lasso_lars_cv, return_counts=True)\n",
    "print('zero elements',counts[0])\n",
    "print(r'norm(Aq-f)/norm(f)',np.linalg.norm(np.dot(A,q_lasso_lars_cv) - f)/np.linalg.norm(f))"
   ]
  },
  {
   "cell_type": "code",
   "execution_count": null,
   "metadata": {
    "collapsed": true
   },
   "outputs": [],
   "source": []
  },
  {
   "cell_type": "code",
   "execution_count": 260,
   "metadata": {},
   "outputs": [
    {
     "data": {
      "text/plain": [
       "2.616516637392662"
      ]
     },
     "execution_count": 260,
     "metadata": {},
     "output_type": "execute_result"
    }
   ],
   "source": [
    "A_end = proc_max_df.as_matrix()\n",
    "A_end = np.asmatrix(A_end,dtype='float')\n",
    "np.count_nonzero(A_end)/(A_end.shape[0]*A_end.shape[1])*100"
   ]
  },
  {
   "cell_type": "code",
   "execution_count": 136,
   "metadata": {},
   "outputs": [
    {
     "data": {
      "image/png": "[encoded data removed]",
      "text/plain": [
       "<matplotlib.figure.Figure at 0x1bbb3f1f828>"
      ]
     },
     "metadata": {},
     "output_type": "display_data"
    }
   ],
   "source": [
    "plt.imshow(np.uint8(A_end), cmap='Blues')\n",
    "plt.show()"
   ]
  },
  {
   "cell_type": "code",
   "execution_count": 138,
   "metadata": {},
   "outputs": [
    {
     "data": {
      "text/plain": [
       "array(['Start_Timestamp (1h interval)', 'min_power', 'avg_power',\n",
       "       'max_power', 'measure time in seconds', 'date_py', 'time_py',\n",
       "       'timestamp_py', 'energy_avg (kWh)', 'energy_min (kWh)',\n",
       "       'energy_max (kWh)'], dtype=object)"
      ]
     },
     "execution_count": 138,
     "metadata": {},
     "output_type": "execute_result"
    }
   ],
   "source": [
    "zabbix_month_df.columns.values"
   ]
  },
  {
   "cell_type": "code",
   "execution_count": 261,
   "metadata": {
    "collapsed": true
   },
   "outputs": [],
   "source": [
    "f_end = zabbix_month_df.max_power.as_matrix()"
   ]
  },
  {
   "cell_type": "code",
   "execution_count": 140,
   "metadata": {},
   "outputs": [
    {
     "name": "stdout",
     "output_type": "stream",
     "text": [
      "(1344, 976)\n"
     ]
    }
   ],
   "source": [
    "A_full = np.concatenate((A, A_end), axis=0)\n",
    "print(A_full.shape)"
   ]
  },
  {
   "cell_type": "markdown",
   "metadata": {},
   "source": [
    "### Later: concatenate only rows with big singular values"
   ]
  },
  {
   "cell_type": "code",
   "execution_count": 267,
   "metadata": {},
   "outputs": [
    {
     "name": "stdout",
     "output_type": "stream",
     "text": [
      "(672, 976)\n",
      "(1344, 976)\n"
     ]
    }
   ],
   "source": [
    "# A q = f\n",
    "print(A.shape)\n",
    "A = A_full\n",
    "print(A.shape)\n",
    "At = np.transpose(A)\n",
    "f = np.concatenate((f,f_end), axis=0)\n",
    "# B q = At A q = At f\n",
    "B = At * A\n",
    "Af = np.transpose(np.dot(At, f))"
   ]
  },
  {
   "cell_type": "markdown",
   "metadata": {},
   "source": [
    "### SVD truncation of A_full = (A, A_end)"
   ]
  },
  {
   "cell_type": "code",
   "execution_count": 270,
   "metadata": {
    "collapsed": true
   },
   "outputs": [],
   "source": [
    "u,s,v = np.linalg.svd(A)"
   ]
  },
  {
   "cell_type": "code",
   "execution_count": 278,
   "metadata": {},
   "outputs": [
    {
     "name": "stdout",
     "output_type": "stream",
     "text": [
      "2.86883781045e+16\n",
      "964835.176835\n",
      "256\n"
     ]
    }
   ],
   "source": [
    "print(s[0]/s[s.shape[0]-1])\n",
    "sing_val_num = int(s.shape[0]/3.8)\n",
    "print(s[0]/s[sing_val_num-1])\n",
    "print(sing_val_num)\n",
    "# print(s.max(), s.min())"
   ]
  },
  {
   "cell_type": "code",
   "execution_count": 279,
   "metadata": {
    "collapsed": true
   },
   "outputs": [],
   "source": [
    "s_begin = np.zeros((u.shape[0], v.shape[0]))\n",
    "s_begin[:256, :256] = np.diag(s[:256])\n",
    "A_svd=np.dot(u, np.dot(s_begin, v))\n",
    "# A_begin"
   ]
  },
  {
   "cell_type": "code",
   "execution_count": 280,
   "metadata": {
    "collapsed": true
   },
   "outputs": [],
   "source": [
    "A = A_svd"
   ]
  },
  {
   "cell_type": "markdown",
   "metadata": {},
   "source": [
    "### OLS"
   ]
  },
  {
   "cell_type": "code",
   "execution_count": 282,
   "metadata": {},
   "outputs": [
    {
     "name": "stdout",
     "output_type": "stream",
     "text": [
      "norm(Aq-f)/norm(f) 25.9861933569\n"
     ]
    }
   ],
   "source": [
    "reg = linear_model.LinearRegression()\n",
    "reg.fit(B, Af)\n",
    "q_lin_regr = reg.coef_\n",
    "# print(q_lin_regr.shape)\n",
    "print(r'norm(Aq-f)/norm(f)',np.linalg.norm(np.dot(A,np.transpose(q_lin_regr)) - f)/np.linalg.norm(f))"
   ]
  },
  {
   "cell_type": "code",
   "execution_count": 283,
   "metadata": {},
   "outputs": [
    {
     "name": "stdout",
     "output_type": "stream",
     "text": [
      "norm(Aq-f)/norm(f) 1.01807616379\n"
     ]
    }
   ],
   "source": [
    "reg.fit(A,f)\n",
    "q_lin_regr_2 = reg.coef_\n",
    "# print(q_lin_regr_2)\n",
    "print(r'norm(Aq-f)/norm(f)',np.linalg.norm(np.dot(A,q_lin_regr_2) - f)/np.linalg.norm(f))"
   ]
  },
  {
   "cell_type": "markdown",
   "metadata": {},
   "source": [
    "### Tikhonov"
   ]
  },
  {
   "cell_type": "code",
   "execution_count": 284,
   "metadata": {},
   "outputs": [
    {
     "name": "stdout",
     "output_type": "stream",
     "text": [
      "zero elements 945\n",
      "norm(Aq-f)/norm(f) 0.982799465856\n"
     ]
    }
   ],
   "source": [
    "clf = linear_model.Lasso(alpha=10, positive = True,max_iter=100000)\n",
    "clf.fit(A,f)\n",
    "q_lasso = clf.coef_\n",
    "u, counts = np.unique(q_lasso, return_counts=True)\n",
    "print('zero elements',counts[0])\n",
    "print(r'norm(Aq-f)/norm(f)',np.linalg.norm(np.dot(A,q_lasso) - f)/np.linalg.norm(f))"
   ]
  },
  {
   "cell_type": "code",
   "execution_count": 285,
   "metadata": {},
   "outputs": [
    {
     "name": "stdout",
     "output_type": "stream",
     "text": [
      "zero elements 847\n",
      "norm(Aq-f)/norm(f) 0.79443604796\n"
     ]
    }
   ],
   "source": [
    "clf = linear_model.Lasso(alpha=0.01, positive = True,max_iter=100000)\n",
    "clf.fit(B,Af)\n",
    "q_lasso = clf.coef_\n",
    "u, counts = np.unique(q_lasso, return_counts=True)\n",
    "print('zero elements',counts[0])\n",
    "print(r'norm(Aq-f)/norm(f)',np.linalg.norm(np.dot(A,q_lasso) - f)/np.linalg.norm(f))"
   ]
  },
  {
   "cell_type": "markdown",
   "metadata": {},
   "source": [
    "### Tikhonov + angular"
   ]
  },
  {
   "cell_type": "code",
   "execution_count": 286,
   "metadata": {},
   "outputs": [
    {
     "name": "stdout",
     "output_type": "stream",
     "text": [
      "zero elements 924\n",
      "norm(Aq-f)/norm(f) 0.980631359141\n"
     ]
    }
   ],
   "source": [
    "clf_ll = linear_model.LassoLars(alpha=0.7, positive = True,max_iter=10000,copy_X=True)\n",
    "clf_ll.fit(A,f)\n",
    "q_lasso_lars = clf_ll.coef_\n",
    "u, counts = np.unique(q_lasso_lars, return_counts=True)\n",
    "print('zero elements',counts[0])\n",
    "print(r'norm(Aq-f)/norm(f)',np.linalg.norm(np.dot(A,q_lasso_lars) - f)/np.linalg.norm(f))"
   ]
  },
  {
   "cell_type": "code",
   "execution_count": 287,
   "metadata": {},
   "outputs": [
    {
     "name": "stdout",
     "output_type": "stream",
     "text": [
      "zero elements 1\n",
      "norm(Aq-f)/norm(f) 0.79781521197\n"
     ]
    }
   ],
   "source": [
    "clf_ll = linear_model.LassoLars(alpha=100, positive = True,max_iter=10000,copy_X=True)\n",
    "clf_ll.fit(B,Af)\n",
    "q_lasso_lars = clf_ll.coef_\n",
    "u, counts = np.unique(q_lasso_lars, return_counts=True)\n",
    "print('zero elements',counts[0])\n",
    "# print(f.shape, np.dot(A,q_lasso_lars).shape, np.dot(A,q_lasso_lars) - np.transpose(f))\n",
    "print(r'norm(Aq-f)/norm(f)',np.linalg.norm(np.dot(A,q_lasso_lars) - f)/np.linalg.norm(f))"
   ]
  },
  {
   "cell_type": "markdown",
   "metadata": {},
   "source": [
    "### LassoLarsCV"
   ]
  },
  {
   "cell_type": "code",
   "execution_count": 288,
   "metadata": {},
   "outputs": [
    {
     "ename": "ValueError",
     "evalue": "A value in x_new is below the interpolation range.",
     "output_type": "error",
     "traceback": [
      "\u001b[0;31m---------------------------------------------------------------------------\u001b[0m",
      "\u001b[0;31mValueError\u001b[0m                                Traceback (most recent call last)",
      "\u001b[0;32m<ipython-input-288-b671a2baaef9>\u001b[0m in \u001b[0;36m<module>\u001b[0;34m()\u001b[0m\n\u001b[1;32m      1\u001b[0m \u001b[0mclf_ll_cv\u001b[0m \u001b[1;33m=\u001b[0m \u001b[0mlinear_model\u001b[0m\u001b[1;33m.\u001b[0m\u001b[0mLassoLarsCV\u001b[0m\u001b[1;33m(\u001b[0m\u001b[0mmax_n_alphas\u001b[0m\u001b[1;33m=\u001b[0m\u001b[1;36m10000\u001b[0m\u001b[1;33m,\u001b[0m \u001b[0mpositive\u001b[0m \u001b[1;33m=\u001b[0m \u001b[1;32mTrue\u001b[0m\u001b[1;33m,\u001b[0m\u001b[0mmax_iter\u001b[0m\u001b[1;33m=\u001b[0m\u001b[1;36m100000\u001b[0m\u001b[1;33m,\u001b[0m\u001b[0mcopy_X\u001b[0m\u001b[1;33m=\u001b[0m\u001b[1;32mTrue\u001b[0m\u001b[1;33m)\u001b[0m\u001b[1;33m\u001b[0m\u001b[0m\n\u001b[0;32m----> 2\u001b[0;31m \u001b[0mclf_ll_cv\u001b[0m\u001b[1;33m.\u001b[0m\u001b[0mfit\u001b[0m\u001b[1;33m(\u001b[0m\u001b[0mA\u001b[0m\u001b[1;33m,\u001b[0m\u001b[0mf\u001b[0m\u001b[1;33m)\u001b[0m\u001b[1;33m\u001b[0m\u001b[0m\n\u001b[0m\u001b[1;32m      3\u001b[0m \u001b[0mq_lasso_lars_cv\u001b[0m \u001b[1;33m=\u001b[0m \u001b[0mclf_ll_cv\u001b[0m\u001b[1;33m.\u001b[0m\u001b[0mcoef_\u001b[0m\u001b[1;33m\u001b[0m\u001b[0m\n\u001b[1;32m      4\u001b[0m \u001b[0mu\u001b[0m\u001b[1;33m,\u001b[0m \u001b[0mcounts\u001b[0m \u001b[1;33m=\u001b[0m \u001b[0mnp\u001b[0m\u001b[1;33m.\u001b[0m\u001b[0munique\u001b[0m\u001b[1;33m(\u001b[0m\u001b[0mq_lasso_lars_cv\u001b[0m\u001b[1;33m,\u001b[0m \u001b[0mreturn_counts\u001b[0m\u001b[1;33m=\u001b[0m\u001b[1;32mTrue\u001b[0m\u001b[1;33m)\u001b[0m\u001b[1;33m\u001b[0m\u001b[0m\n\u001b[1;32m      5\u001b[0m \u001b[0mprint\u001b[0m\u001b[1;33m(\u001b[0m\u001b[1;34m'zero elements'\u001b[0m\u001b[1;33m,\u001b[0m\u001b[0mcounts\u001b[0m\u001b[1;33m[\u001b[0m\u001b[1;36m0\u001b[0m\u001b[1;33m]\u001b[0m\u001b[1;33m)\u001b[0m\u001b[1;33m\u001b[0m\u001b[0m\n",
      "\u001b[0;32mC:\\Users\\aagri\\Anaconda3\\lib\\site-packages\\sklearn\\linear_model\\least_angle.py\u001b[0m in \u001b[0;36mfit\u001b[0;34m(self, X, y)\u001b[0m\n\u001b[1;32m   1139\u001b[0m             this_residues = interpolate.interp1d(alphas,\n\u001b[1;32m   1140\u001b[0m                                                  \u001b[0mresidues\u001b[0m\u001b[1;33m,\u001b[0m\u001b[1;33m\u001b[0m\u001b[0m\n\u001b[0;32m-> 1141\u001b[0;31m                                                  axis=0)(all_alphas)\n\u001b[0m\u001b[1;32m   1142\u001b[0m             \u001b[0mthis_residues\u001b[0m \u001b[1;33m**=\u001b[0m \u001b[1;36m2\u001b[0m\u001b[1;33m\u001b[0m\u001b[0m\n\u001b[1;32m   1143\u001b[0m             \u001b[0mmse_path\u001b[0m\u001b[1;33m[\u001b[0m\u001b[1;33m:\u001b[0m\u001b[1;33m,\u001b[0m \u001b[0mindex\u001b[0m\u001b[1;33m]\u001b[0m \u001b[1;33m=\u001b[0m \u001b[0mnp\u001b[0m\u001b[1;33m.\u001b[0m\u001b[0mmean\u001b[0m\u001b[1;33m(\u001b[0m\u001b[0mthis_residues\u001b[0m\u001b[1;33m,\u001b[0m \u001b[0maxis\u001b[0m\u001b[1;33m=\u001b[0m\u001b[1;33m-\u001b[0m\u001b[1;36m1\u001b[0m\u001b[1;33m)\u001b[0m\u001b[1;33m\u001b[0m\u001b[0m\n",
      "\u001b[0;32mC:\\Users\\aagri\\Anaconda3\\lib\\site-packages\\scipy\\interpolate\\polyint.py\u001b[0m in \u001b[0;36m__call__\u001b[0;34m(self, x)\u001b[0m\n\u001b[1;32m     77\u001b[0m         \"\"\"\n\u001b[1;32m     78\u001b[0m         \u001b[0mx\u001b[0m\u001b[1;33m,\u001b[0m \u001b[0mx_shape\u001b[0m \u001b[1;33m=\u001b[0m \u001b[0mself\u001b[0m\u001b[1;33m.\u001b[0m\u001b[0m_prepare_x\u001b[0m\u001b[1;33m(\u001b[0m\u001b[0mx\u001b[0m\u001b[1;33m)\u001b[0m\u001b[1;33m\u001b[0m\u001b[0m\n\u001b[0;32m---> 79\u001b[0;31m         \u001b[0my\u001b[0m \u001b[1;33m=\u001b[0m \u001b[0mself\u001b[0m\u001b[1;33m.\u001b[0m\u001b[0m_evaluate\u001b[0m\u001b[1;33m(\u001b[0m\u001b[0mx\u001b[0m\u001b[1;33m)\u001b[0m\u001b[1;33m\u001b[0m\u001b[0m\n\u001b[0m\u001b[1;32m     80\u001b[0m         \u001b[1;32mreturn\u001b[0m \u001b[0mself\u001b[0m\u001b[1;33m.\u001b[0m\u001b[0m_finish_y\u001b[0m\u001b[1;33m(\u001b[0m\u001b[0my\u001b[0m\u001b[1;33m,\u001b[0m \u001b[0mx_shape\u001b[0m\u001b[1;33m)\u001b[0m\u001b[1;33m\u001b[0m\u001b[0m\n\u001b[1;32m     81\u001b[0m \u001b[1;33m\u001b[0m\u001b[0m\n",
      "\u001b[0;32mC:\\Users\\aagri\\Anaconda3\\lib\\site-packages\\scipy\\interpolate\\interpolate.py\u001b[0m in \u001b[0;36m_evaluate\u001b[0;34m(self, x_new)\u001b[0m\n\u001b[1;32m    608\u001b[0m         \u001b[0my_new\u001b[0m \u001b[1;33m=\u001b[0m \u001b[0mself\u001b[0m\u001b[1;33m.\u001b[0m\u001b[0m_call\u001b[0m\u001b[1;33m(\u001b[0m\u001b[0mself\u001b[0m\u001b[1;33m,\u001b[0m \u001b[0mx_new\u001b[0m\u001b[1;33m)\u001b[0m\u001b[1;33m\u001b[0m\u001b[0m\n\u001b[1;32m    609\u001b[0m         \u001b[1;32mif\u001b[0m \u001b[1;32mnot\u001b[0m \u001b[0mself\u001b[0m\u001b[1;33m.\u001b[0m\u001b[0m_extrapolate\u001b[0m\u001b[1;33m:\u001b[0m\u001b[1;33m\u001b[0m\u001b[0m\n\u001b[0;32m--> 610\u001b[0;31m             \u001b[0mbelow_bounds\u001b[0m\u001b[1;33m,\u001b[0m \u001b[0mabove_bounds\u001b[0m \u001b[1;33m=\u001b[0m \u001b[0mself\u001b[0m\u001b[1;33m.\u001b[0m\u001b[0m_check_bounds\u001b[0m\u001b[1;33m(\u001b[0m\u001b[0mx_new\u001b[0m\u001b[1;33m)\u001b[0m\u001b[1;33m\u001b[0m\u001b[0m\n\u001b[0m\u001b[1;32m    611\u001b[0m             \u001b[1;32mif\u001b[0m \u001b[0mlen\u001b[0m\u001b[1;33m(\u001b[0m\u001b[0my_new\u001b[0m\u001b[1;33m)\u001b[0m \u001b[1;33m>\u001b[0m \u001b[1;36m0\u001b[0m\u001b[1;33m:\u001b[0m\u001b[1;33m\u001b[0m\u001b[0m\n\u001b[1;32m    612\u001b[0m                 \u001b[1;31m# Note fill_value must be broadcast up to the proper size\u001b[0m\u001b[1;33m\u001b[0m\u001b[1;33m\u001b[0m\u001b[0m\n",
      "\u001b[0;32mC:\\Users\\aagri\\Anaconda3\\lib\\site-packages\\scipy\\interpolate\\interpolate.py\u001b[0m in \u001b[0;36m_check_bounds\u001b[0;34m(self, x_new)\u001b[0m\n\u001b[1;32m    637\u001b[0m         \u001b[1;31m# !! Could provide more information about which values are out of bounds\u001b[0m\u001b[1;33m\u001b[0m\u001b[1;33m\u001b[0m\u001b[0m\n\u001b[1;32m    638\u001b[0m         \u001b[1;32mif\u001b[0m \u001b[0mself\u001b[0m\u001b[1;33m.\u001b[0m\u001b[0mbounds_error\u001b[0m \u001b[1;32mand\u001b[0m \u001b[0mbelow_bounds\u001b[0m\u001b[1;33m.\u001b[0m\u001b[0many\u001b[0m\u001b[1;33m(\u001b[0m\u001b[1;33m)\u001b[0m\u001b[1;33m:\u001b[0m\u001b[1;33m\u001b[0m\u001b[0m\n\u001b[0;32m--> 639\u001b[0;31m             raise ValueError(\"A value in x_new is below the interpolation \"\n\u001b[0m\u001b[1;32m    640\u001b[0m                              \"range.\")\n\u001b[1;32m    641\u001b[0m         \u001b[1;32mif\u001b[0m \u001b[0mself\u001b[0m\u001b[1;33m.\u001b[0m\u001b[0mbounds_error\u001b[0m \u001b[1;32mand\u001b[0m \u001b[0mabove_bounds\u001b[0m\u001b[1;33m.\u001b[0m\u001b[0many\u001b[0m\u001b[1;33m(\u001b[0m\u001b[1;33m)\u001b[0m\u001b[1;33m:\u001b[0m\u001b[1;33m\u001b[0m\u001b[0m\n",
      "\u001b[0;31mValueError\u001b[0m: A value in x_new is below the interpolation range."
     ]
    }
   ],
   "source": [
    "clf_ll_cv = linear_model.LassoLarsCV(max_n_alphas=10000, positive = True,max_iter=100000,copy_X=True)\n",
    "clf_ll_cv.fit(A,f)\n",
    "q_lasso_lars_cv = clf_ll_cv.coef_\n",
    "u, counts = np.unique(q_lasso_lars_cv, return_counts=True)\n",
    "print('zero elements',counts[0])\n",
    "print(r'norm(Aq-f)/norm(f)',np.linalg.norm(np.dot(A,q_lasso_lars_cv) - f)/np.linalg.norm(f))"
   ]
  },
  {
   "cell_type": "code",
   "execution_count": 289,
   "metadata": {},
   "outputs": [
    {
     "name": "stdout",
     "output_type": "stream",
     "text": [
      "zero elements 1\n",
      "norm(Aq-f)/norm(f) 0.832632735022\n"
     ]
    }
   ],
   "source": [
    "clf_ll_cv = linear_model.LassoLarsCV(max_n_alphas=10000, positive = True,max_iter=100000,copy_X=True)\n",
    "clf_ll_cv.fit(B,Af)\n",
    "q_lasso_lars_cv = clf_ll_cv.coef_\n",
    "u, counts = np.unique(q_lasso_lars_cv, return_counts=True)\n",
    "print('zero elements',counts[0])\n",
    "print(r'norm(Aq-f)/norm(f)',np.linalg.norm(np.dot(A,q_lasso_lars_cv) - f)/np.linalg.norm(f))"
   ]
  },
  {
   "cell_type": "markdown",
   "metadata": {},
   "source": [
    "### A, A_end - SVD truncation, then merge to A_full - will not work, because cond number of matrices is not linear for summation"
   ]
  },
  {
   "cell_type": "markdown",
   "metadata": {},
   "source": [
    "-----"
   ]
  },
  {
   "cell_type": "markdown",
   "metadata": {},
   "source": [
    "### Sum of coefficients * x = avg energy each hour\n",
    "Same for maximum\n",
    "\n",
    "Same for minimum\n",
    "\n",
    "Find x, take avg of all x"
   ]
  },
  {
   "cell_type": "code",
   "execution_count": 58,
   "metadata": {
    "collapsed": true
   },
   "outputs": [],
   "source": [
    "f = zabbix_month_df['energy_avg (kWh)'].as_matrix()*1000\n",
    "# f_max = zabbix_month_df['energy_max (kWh)'].as_matrix()#*1000\n",
    "# f_min = zabbix_month_df['energy_min (kWh)'].as_matrix()#*1000\n",
    "# f_max = zabbix_month_df.max_power.as_matrix()\n",
    "# f_min = zabbix_month_df.min_power.as_matrix()"
   ]
  },
  {
   "cell_type": "code",
   "execution_count": 59,
   "metadata": {
    "collapsed": true
   },
   "outputs": [],
   "source": [
    "sum_coeff_avg = proc_df.sum(axis=1)\n",
    "# sum_coeff_max = proc_max_df.sum(axis=1)/3600\n",
    "# sum_coeff_min = proc_min_df.sum(axis=1)/3600\n",
    "# lsf_df[\"start unixtime\"].apply(lambda x: datetime.datetime.utcfromtimestamp(x).date())"
   ]
  },
  {
   "cell_type": "code",
   "execution_count": 60,
   "metadata": {
    "collapsed": true
   },
   "outputs": [],
   "source": [
    "x_avg = f/sum_coeff_avg\n",
    "# x_min = f_max/sum_coeff_max\n",
    "# x_max = f_min/sum_coeff_min"
   ]
  },
  {
   "cell_type": "code",
   "execution_count": 61,
   "metadata": {},
   "outputs": [
    {
     "name": "stdout",
     "output_type": "stream",
     "text": [
      "Power used by one app per one core during one second = 7.719591136029194 W\n"
     ]
    }
   ],
   "source": [
    "# x = (np.mean(x_avg) + np.mean(x_max) + np.mean(x_min))/3.\n",
    "x = np.mean(x_avg)\n",
    "print('Power used by one app per one core during one second =', x, 'W')\n",
    "# print(np.mean(x_avg), np.mean(x_max),  np.mean(x_min))"
   ]
  },
  {
   "cell_type": "code",
   "execution_count": 62,
   "metadata": {},
   "outputs": [
    {
     "name": "stdout",
     "output_type": "stream",
     "text": [
      "Power used during the month:  31140764.4167 Wh\n"
     ]
    }
   ],
   "source": [
    "print('Power used during the month: ', f.sum(), 'Wh')"
   ]
  },
  {
   "cell_type": "markdown",
   "metadata": {},
   "source": [
    "----\n",
    "### With the setimation of power used per app per second per core (above) make estimations on energy consumption: monthly energy loss for \"exit\" jobs, monthly energy consupmtion rate, etc"
   ]
  },
  {
   "cell_type": "markdown",
   "metadata": {},
   "source": [
    "-----------------"
   ]
  },
  {
   "cell_type": "markdown",
   "metadata": {},
   "source": [
    "### Percent of not finished jobs"
   ]
  },
  {
   "cell_type": "code",
   "execution_count": null,
   "metadata": {
    "collapsed": true
   },
   "outputs": [],
   "source": [
    "exit_jobs = sum(1 for item in lsf_df['job status'] if item.lower() == \"exit\")\n",
    "exit_jobs/lsf_df.shape[0]*100"
   ]
  },
  {
   "cell_type": "markdown",
   "metadata": {},
   "source": [
    "### Percent of not finished jobs in the period 19.02.2017-19.03.2017 "
   ]
  },
  {
   "cell_type": "code",
   "execution_count": null,
   "metadata": {
    "collapsed": true
   },
   "outputs": [],
   "source": [
    "exit_jobs_month = sum(1 for item in lsf_month_df['job status'] if item.lower() == \"exit\")\n",
    "exit_jobs_month/lsf_month_df.shape[0]*100"
   ]
  },
  {
   "cell_type": "markdown",
   "metadata": {},
   "source": [
    "### Percent of not finished jobs for which directory was \"NaN\" in the whole dataset"
   ]
  },
  {
   "cell_type": "code",
   "execution_count": null,
   "metadata": {
    "collapsed": true
   },
   "outputs": [],
   "source": [
    "exit_jobs_no_dir = sum(1 for index, row in lsf_df.iterrows() if (row['job status'].lower() == \"exit\" and \\\n",
    "                      str(row['directory of running executable']).lower() == 'nan' ))"
   ]
  },
  {
   "cell_type": "code",
   "execution_count": null,
   "metadata": {
    "collapsed": true
   },
   "outputs": [],
   "source": [
    "exit_jobs_no_dir/lsf_df.shape[0]*100"
   ]
  },
  {
   "cell_type": "markdown",
   "metadata": {},
   "source": [
    "### Percent of not finished jobs for which name of executable was NaN in the whole dataset "
   ]
  },
  {
   "cell_type": "code",
   "execution_count": null,
   "metadata": {
    "collapsed": true
   },
   "outputs": [],
   "source": [
    "exit_jobs_no_name = sum(1 for index, row in lsf_df.iterrows() if (row['job status'].lower() == \"exit\" and \\\n",
    "                      str(row['name of executable']).lower() == 'nan' ))\n",
    "exit_jobs_no_name/lsf_df.shape[0]*100"
   ]
  },
  {
   "cell_type": "markdown",
   "metadata": {},
   "source": [
    "-------------------"
   ]
  },
  {
   "cell_type": "markdown",
   "metadata": {},
   "source": [
    "### Cresco4 description from DC4Cities D7.2 "
   ]
  },
  {
   "cell_type": "markdown",
   "metadata": {},
   "source": [
    "\n",
    "The system is composed of 38 Supermicro F617R3–FT chassis, each hosting 8 dual CPU nodes. Each CPU, specifically an Intel E5–2670, hosts 8 cores, for a total number of 4864 cores. These operate at a clock frequency of 2.6 GHz. The system is provided with a RAM memory of 4 GB per core."
   ]
  },
  {
   "cell_type": "markdown",
   "metadata": {},
   "source": [
    "\n",
    "----------------"
   ]
  },
  {
   "cell_type": "markdown",
   "metadata": {},
   "source": [
    "## How much energy is consumed by one core"
   ]
  },
  {
   "cell_type": "markdown",
   "metadata": {},
   "source": [
    "#### Fristly, how many cores were running per hour - impossible to say exactly.\n",
    "There are situations when an application used only one core, whereas another application used 4000 cores. The core used for the first application may be within the number of 4000 cores used for the second application or another extra core - equally"
   ]
  },
  {
   "cell_type": "markdown",
   "metadata": {},
   "source": [
    "----------------"
   ]
  },
  {
   "cell_type": "markdown",
   "metadata": {},
   "source": [
    "#### Check that each line in lsf correspond to one application, unlike in previous dataset, when <=4 consequtive lines corresponded to one app and showed different stages"
   ]
  },
  {
   "cell_type": "markdown",
   "metadata": {},
   "source": [
    "#### Add number of cores: avg, min, max at a time which a process required during this hour "
   ]
  },
  {
   "cell_type": "code",
   "execution_count": null,
   "metadata": {
    "collapsed": true
   },
   "outputs": [],
   "source": [
    "len(lsf_month_df['jobid'].unique()) == lsf_month_df.shape[0]"
   ]
  },
  {
   "cell_type": "markdown",
   "metadata": {},
   "source": [
    "----------"
   ]
  },
  {
   "cell_type": "markdown",
   "metadata": {},
   "source": [
    "### Power per application - rough estimation"
   ]
  },
  {
   "cell_type": "code",
   "execution_count": null,
   "metadata": {
    "collapsed": true
   },
   "outputs": [],
   "source": [
    "import matplotlib.pyplot as plt\n",
    "\n",
    "#define font size\n",
    "plt.rc('font', family='serif', serif='Times New Roman', size = '16' )\n",
    "\n",
    "fig = plt.figure(figsize=(10, 8), dpi=500)\n",
    "\n",
    "plt.plot(apps_at_time_df.timestamp_py, apps_at_time_df.power_avg/apps_at_time_df.apps_running, \\\n",
    "                 linestyle=\"-\", \\\n",
    "                 linewidth=2, color = \"k\")\n",
    "# beautify the x-labels\n",
    "plt.gcf().autofmt_xdate()\n",
    "#labels\n",
    "plt.xlabel(\"Timestamp\", size = 16 )\n",
    "plt.ylabel(\"Power, Wt\", size = 16)\n",
    "\n",
    "plt.show()\n",
    "fig.savefig( Working_dir + \"//power_per_apps_time.png\" )"
   ]
  },
  {
   "cell_type": "code",
   "execution_count": null,
   "metadata": {
    "collapsed": true
   },
   "outputs": [],
   "source": [
    "#define font size\n",
    "plt.rc('font', family='serif', serif='Times New Roman', size = '16' )\n",
    "\n",
    "fig = plt.figure(figsize=(10, 8), dpi=500)\n",
    "\n",
    "plt.scatter(apps_at_time_df.apps_running-apps_at_time_df.apps_ended_this_hour, \\\n",
    "            apps_at_time_df.power_avg,\\\n",
    "            color = \"b\")\n",
    "# beautify the x-labels\n",
    "plt.gcf().autofmt_xdate()\n",
    "#labels\n",
    "plt.xlabel(\"No of apps\", size = 16 )\n",
    "plt.ylabel(\"Power, Wt\", size = 16)\n",
    "\n",
    "plt.show()\n",
    "fig.savefig( Working_dir + \"//power_vs_apps.png\" )"
   ]
  },
  {
   "cell_type": "code",
   "execution_count": null,
   "metadata": {
    "collapsed": true
   },
   "outputs": [],
   "source": [
    "apps_at_time_df.apps_ended_this_hour.max()"
   ]
  },
  {
   "cell_type": "markdown",
   "metadata": {},
   "source": [
    "-------------"
   ]
  },
  {
   "cell_type": "markdown",
   "metadata": {},
   "source": [
    "## Apps names and consumption analysis"
   ]
  },
  {
   "cell_type": "code",
   "execution_count": null,
   "metadata": {
    "collapsed": true
   },
   "outputs": [],
   "source": [
    "lsf_month_df.columns.values"
   ]
  },
  {
   "cell_type": "code",
   "execution_count": null,
   "metadata": {
    "collapsed": true
   },
   "outputs": [],
   "source": [
    "apps_names_df = lsf_month_df.iloc[:, 4:6]\n",
    "apps_names_df.head()"
   ]
  },
  {
   "cell_type": "code",
   "execution_count": null,
   "metadata": {
    "collapsed": true
   },
   "outputs": [],
   "source": [
    "apps_names_df[['start_date_py', 'start_time_py', 'end_date_py', 'end_time_py']] = lsf_month_df[['start_date_py', 'start_time_py', 'end_date_py', 'end_time_py']]"
   ]
  },
  {
   "cell_type": "code",
   "execution_count": null,
   "metadata": {
    "collapsed": true
   },
   "outputs": [],
   "source": [
    "apps_names_df.head()"
   ]
  },
  {
   "cell_type": "code",
   "execution_count": null,
   "metadata": {
    "collapsed": true
   },
   "outputs": [],
   "source": [
    "apps_names_df.sort_values(['name of executable', 'directory of running executable'])"
   ]
  },
  {
   "cell_type": "markdown",
   "metadata": {},
   "source": [
    "---------------"
   ]
  },
  {
   "cell_type": "markdown",
   "metadata": {},
   "source": [
    "Simple statistic about Zabbix datasheet"
   ]
  },
  {
   "cell_type": "code",
   "execution_count": null,
   "metadata": {
    "collapsed": true
   },
   "outputs": [],
   "source": [
    "zabbix_month_df.describe()"
   ]
  },
  {
   "cell_type": "markdown",
   "metadata": {},
   "source": [
    "Simple statistics about LSF datasheet"
   ]
  },
  {
   "cell_type": "code",
   "execution_count": null,
   "metadata": {
    "collapsed": true
   },
   "outputs": [],
   "source": [
    "lsf_month_df.describe()"
   ]
  },
  {
   "cell_type": "markdown",
   "metadata": {},
   "source": [
    "----------"
   ]
  }
 ],
 "metadata": {
  "kernelspec": {
   "display_name": "Python 3",
   "language": "python",
   "name": "python3"
  },
  "language_info": {
   "codemirror_mode": {
    "name": "ipython",
    "version": 3
   },
   "file_extension": ".py",
   "mimetype": "text/x-python",
   "name": "python",
   "nbconvert_exporter": "python",
   "pygments_lexer": "ipython3",
   "version": "3.6.0"
  }
 },
 "nbformat": 4,
 "nbformat_minor": 2
}

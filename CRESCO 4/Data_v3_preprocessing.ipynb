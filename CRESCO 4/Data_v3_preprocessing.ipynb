{
 "cells": [
  {
   "cell_type": "markdown",
   "metadata": {},
   "source": [
    "## Read data"
   ]
  },
  {
   "cell_type": "code",
   "execution_count": 1,
   "metadata": {
    "collapsed": true
   },
   "outputs": [],
   "source": [
    "import pandas as pd\n",
    "import csv\n",
    "import os\n",
    "import numpy as np\n",
    "import datetime\n",
    "from xlsxwriter.workbook import Workbook\n",
    "from xlsxwriter import Workbook\n",
    "import time\n",
    "Working_dir = os.getcwd()"
   ]
  },
  {
   "cell_type": "code",
   "execution_count": 2,
   "metadata": {
    "collapsed": true
   },
   "outputs": [],
   "source": [
    "zabbix_df = pd.read_excel( os.path.join( Working_dir, \"zabbix_v2_init.xlsx\" ) )"
   ]
  },
  {
   "cell_type": "code",
   "execution_count": 2,
   "metadata": {
    "collapsed": true
   },
   "outputs": [],
   "source": [
    "lsf_df = pd.read_excel( os.path.join( Working_dir, \"ultimate_eleboration_job_cresco4.xlsx\" ), header=None )"
   ]
  },
  {
   "cell_type": "code",
   "execution_count": 5,
   "metadata": {
    "collapsed": true
   },
   "outputs": [],
   "source": [
    "lsf_df_long_jobs = pd.read_excel( os.path.join( Working_dir, \"lsf_v3_long_jobs_py.xlsx\" ) )"
   ]
  },
  {
   "cell_type": "code",
   "execution_count": 4,
   "metadata": {
    "collapsed": true
   },
   "outputs": [],
   "source": [
    "lsf_df_short_long_jobs = pd.read_excel( os.path.join( Working_dir, \"lsf_v3_short_and_long_jobs_py.xlsx\" ) )"
   ]
  },
  {
   "cell_type": "markdown",
   "metadata": {},
   "source": [
    "Create Python date and time in comparable format (UTC)"
   ]
  },
  {
   "cell_type": "code",
   "execution_count": 4,
   "metadata": {},
   "outputs": [
    {
     "name": "stdout",
     "output_type": "stream",
     "text": [
      "['Start_Timestamp (1h interval)' 'min_power' 'avg_power' 'max_power'\n",
      " 'measure time in seconds']\n",
      "[ 0  1  2  3  4  5  6  7  8  9 10 11 12 13 14 15]\n"
     ]
    }
   ],
   "source": [
    "print(zabbix_df.columns.values)\n",
    "print(lsf_df.columns.values)"
   ]
  },
  {
   "cell_type": "code",
   "execution_count": 5,
   "metadata": {
    "collapsed": true
   },
   "outputs": [],
   "source": [
    "lsf_df.columns =(['row_counter',\\\n",
    "                         'job_id',\\\n",
    "                         'number_of_cores_used',\\\n",
    "                         'user_name',\\\n",
    "                         'queue_len_hours',\\\n",
    "                         'queue_name',\\\n",
    "                         'directory_of_running_executable',\\\n",
    "                         'name_of_executable',\\\n",
    "                         'job_status',\\\n",
    "                         'start_unixtime',\\\n",
    "                         'stop_unixtime',\\\n",
    "                         'job_duration_sec',\\\n",
    "                         'queue_duration_sec',\\\n",
    "                         'percentage_of_usage_of_queue',\\\n",
    "                         'residual_time_of_queue',\\\n",
    "                         'application_performed_and_scope'])"
   ]
  },
  {
   "cell_type": "code",
   "execution_count": 6,
   "metadata": {},
   "outputs": [
    {
     "name": "stdout",
     "output_type": "stream",
     "text": [
      "['row_counter' 'job_id' 'number_of_cores_used' 'user_name'\n",
      " 'queue_len_hours' 'queue_name' 'directory_of_running_executable'\n",
      " 'name_of_executable' 'job_status' 'start_unixtime' 'stop_unixtime'\n",
      " 'job_duration_sec' 'queue_duration_sec' 'percentage_of_usage_of_queue'\n",
      " 'residual_time_of_queue' 'application_performed_and_scope']\n"
     ]
    }
   ],
   "source": [
    "print(lsf_df.columns.values)"
   ]
  },
  {
   "cell_type": "code",
   "execution_count": 7,
   "metadata": {
    "collapsed": true
   },
   "outputs": [],
   "source": [
    "zabbix_df[\"date_py\"] = zabbix_df[\"Start_Timestamp (1h interval)\"].apply(lambda x: datetime.datetime.utcfromtimestamp(x).date())\n",
    "zabbix_df[\"time_py\"] = zabbix_df[\"Start_Timestamp (1h interval)\"].apply(lambda x: datetime.datetime.utcfromtimestamp(x).time())\n",
    "zabbix_df[\"timestamp_py\"] = zabbix_df[\"Start_Timestamp (1h interval)\"].apply(lambda x: datetime.datetime.utcfromtimestamp(x))"
   ]
  },
  {
   "cell_type": "code",
   "execution_count": 8,
   "metadata": {
    "collapsed": true
   },
   "outputs": [],
   "source": [
    "lsf_df[\"start_timestamp_py\"] = lsf_df[\"start_unixtime\"].apply(lambda x: datetime.datetime.utcfromtimestamp(x))\n",
    "lsf_df[\"stop_timestamp_py\"] = lsf_df[\"stop_unixtime\"].apply(lambda x: datetime.datetime.utcfromtimestamp(x))\n",
    "lsf_df['directory_of_running_executable'] = lsf_df['directory_of_running_executable'].fillna('')\n",
    "lsf_df['name_of_executable'] = lsf_df['name_of_executable'].fillna('')"
   ]
  },
  {
   "cell_type": "code",
   "execution_count": 9,
   "metadata": {
    "collapsed": true
   },
   "outputs": [],
   "source": [
    "lsf_df['executable_full_name'] = lsf_df['directory_of_running_executable'].apply(lambda x: \\\n",
    "                                                                                            str(x) if type(x) == int else x ) + \\\n",
    "lsf_df[\"name_of_executable\"].apply( lambda x: str(x) if type(x) == int else \\\n",
    "                                    (x.strftime('%H-%M-%S') if type(x)==datetime.time else x) )"
   ]
  },
  {
   "cell_type": "code",
   "execution_count": 10,
   "metadata": {
    "collapsed": true
   },
   "outputs": [],
   "source": [
    "zabbix_df['energy_avg (kWh)']=zabbix_df['avg_power'].copy()*zabbix_df['measure time in seconds'].copy()/60000.\n",
    "zabbix_df['energy_min (kWh)']=zabbix_df['min_power'].copy()*zabbix_df['measure time in seconds'].copy()/60000.\n",
    "zabbix_df['energy_max (kWh)']=zabbix_df['max_power'].copy()*zabbix_df['measure time in seconds'].copy()/60000."
   ]
  },
  {
   "cell_type": "code",
   "execution_count": 11,
   "metadata": {},
   "outputs": [
    {
     "data": {
      "text/html": [
       "<div>\n",
       "<style>\n",
       "    .dataframe thead tr:only-child th {\n",
       "        text-align: right;\n",
       "    }\n",
       "\n",
       "    .dataframe thead th {\n",
       "        text-align: left;\n",
       "    }\n",
       "\n",
       "    .dataframe tbody tr th {\n",
       "        vertical-align: top;\n",
       "    }\n",
       "</style>\n",
       "<table border=\"1\" class=\"dataframe\">\n",
       "  <thead>\n",
       "    <tr style=\"text-align: right;\">\n",
       "      <th></th>\n",
       "      <th>Start_Timestamp (1h interval)</th>\n",
       "      <th>min_power</th>\n",
       "      <th>avg_power</th>\n",
       "      <th>max_power</th>\n",
       "      <th>measure time in seconds</th>\n",
       "      <th>date_py</th>\n",
       "      <th>time_py</th>\n",
       "      <th>timestamp_py</th>\n",
       "      <th>energy_avg (kWh)</th>\n",
       "      <th>energy_min (kWh)</th>\n",
       "      <th>energy_max (kWh)</th>\n",
       "    </tr>\n",
       "  </thead>\n",
       "  <tbody>\n",
       "    <tr>\n",
       "      <th>0</th>\n",
       "      <td>1487505600</td>\n",
       "      <td>38600</td>\n",
       "      <td>40637</td>\n",
       "      <td>41500</td>\n",
       "      <td>60.00</td>\n",
       "      <td>2017-02-19</td>\n",
       "      <td>12:00:00</td>\n",
       "      <td>2017-02-19 12:00:00</td>\n",
       "      <td>40.637000</td>\n",
       "      <td>38.600000</td>\n",
       "      <td>41.500000</td>\n",
       "    </tr>\n",
       "    <tr>\n",
       "      <th>1</th>\n",
       "      <td>1487509200</td>\n",
       "      <td>40010</td>\n",
       "      <td>40863</td>\n",
       "      <td>41530</td>\n",
       "      <td>60.00</td>\n",
       "      <td>2017-02-19</td>\n",
       "      <td>13:00:00</td>\n",
       "      <td>2017-02-19 13:00:00</td>\n",
       "      <td>40.863000</td>\n",
       "      <td>40.010000</td>\n",
       "      <td>41.530000</td>\n",
       "    </tr>\n",
       "    <tr>\n",
       "      <th>2</th>\n",
       "      <td>1487512800</td>\n",
       "      <td>37740</td>\n",
       "      <td>39971</td>\n",
       "      <td>41430</td>\n",
       "      <td>59.75</td>\n",
       "      <td>2017-02-19</td>\n",
       "      <td>14:00:00</td>\n",
       "      <td>2017-02-19 14:00:00</td>\n",
       "      <td>39.804454</td>\n",
       "      <td>37.582750</td>\n",
       "      <td>41.257375</td>\n",
       "    </tr>\n",
       "    <tr>\n",
       "      <th>3</th>\n",
       "      <td>1487516400</td>\n",
       "      <td>36190</td>\n",
       "      <td>38517</td>\n",
       "      <td>39470</td>\n",
       "      <td>60.25</td>\n",
       "      <td>2017-02-19</td>\n",
       "      <td>15:00:00</td>\n",
       "      <td>2017-02-19 15:00:00</td>\n",
       "      <td>38.677487</td>\n",
       "      <td>36.340792</td>\n",
       "      <td>39.634458</td>\n",
       "    </tr>\n",
       "    <tr>\n",
       "      <th>4</th>\n",
       "      <td>1487520000</td>\n",
       "      <td>38330</td>\n",
       "      <td>38735</td>\n",
       "      <td>39200</td>\n",
       "      <td>60.00</td>\n",
       "      <td>2017-02-19</td>\n",
       "      <td>16:00:00</td>\n",
       "      <td>2017-02-19 16:00:00</td>\n",
       "      <td>38.735000</td>\n",
       "      <td>38.330000</td>\n",
       "      <td>39.200000</td>\n",
       "    </tr>\n",
       "  </tbody>\n",
       "</table>\n",
       "</div>"
      ],
      "text/plain": [
       "   Start_Timestamp (1h interval)  min_power  avg_power  max_power  \\\n",
       "0                     1487505600      38600      40637      41500   \n",
       "1                     1487509200      40010      40863      41530   \n",
       "2                     1487512800      37740      39971      41430   \n",
       "3                     1487516400      36190      38517      39470   \n",
       "4                     1487520000      38330      38735      39200   \n",
       "\n",
       "   measure time in seconds     date_py   time_py        timestamp_py  \\\n",
       "0                    60.00  2017-02-19  12:00:00 2017-02-19 12:00:00   \n",
       "1                    60.00  2017-02-19  13:00:00 2017-02-19 13:00:00   \n",
       "2                    59.75  2017-02-19  14:00:00 2017-02-19 14:00:00   \n",
       "3                    60.25  2017-02-19  15:00:00 2017-02-19 15:00:00   \n",
       "4                    60.00  2017-02-19  16:00:00 2017-02-19 16:00:00   \n",
       "\n",
       "   energy_avg (kWh)  energy_min (kWh)  energy_max (kWh)  \n",
       "0         40.637000         38.600000         41.500000  \n",
       "1         40.863000         40.010000         41.530000  \n",
       "2         39.804454         37.582750         41.257375  \n",
       "3         38.677487         36.340792         39.634458  \n",
       "4         38.735000         38.330000         39.200000  "
      ]
     },
     "execution_count": 11,
     "metadata": {},
     "output_type": "execute_result"
    }
   ],
   "source": [
    "zabbix_df.head()"
   ]
  },
  {
   "cell_type": "markdown",
   "metadata": {},
   "source": [
    "#### Different processes names can be identifiers, so we form the full names in lsf table \n",
    "Number of different job names (\"folder+name\")"
   ]
  },
  {
   "cell_type": "code",
   "execution_count": 12,
   "metadata": {},
   "outputs": [
    {
     "name": "stdout",
     "output_type": "stream",
     "text": [
      "Unique names of jobs in a year:  11530\n",
      "Jobs done in a year (including repetitions of the same jobs):  529512\n"
     ]
    }
   ],
   "source": [
    "print('Unique names of jobs in a year: ',len(lsf_df.executable_full_name.unique()))\n",
    "print('Jobs done in a year (including repetitions of the same jobs): ', lsf_df.shape[0])"
   ]
  },
  {
   "cell_type": "markdown",
   "metadata": {},
   "source": [
    "User names"
   ]
  },
  {
   "cell_type": "code",
   "execution_count": 13,
   "metadata": {},
   "outputs": [
    {
     "name": "stdout",
     "output_type": "stream",
     "text": [
      "Unique user names in a year:  119\n"
     ]
    }
   ],
   "source": [
    "print('Unique user names in a year: ',len(lsf_df['user_name'].unique()))"
   ]
  },
  {
   "cell_type": "code",
   "execution_count": 14,
   "metadata": {},
   "outputs": [
    {
     "data": {
      "text/html": [
       "<div>\n",
       "<style>\n",
       "    .dataframe thead tr:only-child th {\n",
       "        text-align: right;\n",
       "    }\n",
       "\n",
       "    .dataframe thead th {\n",
       "        text-align: left;\n",
       "    }\n",
       "\n",
       "    .dataframe tbody tr th {\n",
       "        vertical-align: top;\n",
       "    }\n",
       "</style>\n",
       "<table border=\"1\" class=\"dataframe\">\n",
       "  <thead>\n",
       "    <tr style=\"text-align: right;\">\n",
       "      <th></th>\n",
       "      <th>row_counter</th>\n",
       "      <th>job_id</th>\n",
       "      <th>number_of_cores_used</th>\n",
       "      <th>user_name</th>\n",
       "      <th>queue_len_hours</th>\n",
       "      <th>queue_name</th>\n",
       "      <th>directory_of_running_executable</th>\n",
       "      <th>name_of_executable</th>\n",
       "      <th>job_status</th>\n",
       "      <th>start_unixtime</th>\n",
       "      <th>stop_unixtime</th>\n",
       "      <th>job_duration_sec</th>\n",
       "      <th>queue_duration_sec</th>\n",
       "      <th>percentage_of_usage_of_queue</th>\n",
       "      <th>residual_time_of_queue</th>\n",
       "      <th>application_performed_and_scope</th>\n",
       "      <th>start_timestamp_py</th>\n",
       "      <th>stop_timestamp_py</th>\n",
       "      <th>executable_full_name</th>\n",
       "    </tr>\n",
       "  </thead>\n",
       "  <tbody>\n",
       "    <tr>\n",
       "      <th>0</th>\n",
       "      <td>1</td>\n",
       "      <td>967084</td>\n",
       "      <td>32</td>\n",
       "      <td>gusso</td>\n",
       "      <td>6.0</td>\n",
       "      <td>cresco4_h6</td>\n",
       "      <td>PFS/porq1_1M/SiH/Grossman/cp2k/asi561/UnCharge...</td>\n",
       "      <td>cp2k_launch.sh</td>\n",
       "      <td>DONE</td>\n",
       "      <td>1483190848</td>\n",
       "      <td>1.483212e+09</td>\n",
       "      <td>21245.0</td>\n",
       "      <td>21600.0</td>\n",
       "      <td>98.356481</td>\n",
       "      <td>355.0</td>\n",
       "      <td>CP2K atomistic simulations of solid state, liq...</td>\n",
       "      <td>2016-12-31 13:27:28</td>\n",
       "      <td>2016-12-31 19:21:33</td>\n",
       "      <td>PFS/porq1_1M/SiH/Grossman/cp2k/asi561/UnCharge...</td>\n",
       "    </tr>\n",
       "    <tr>\n",
       "      <th>1</th>\n",
       "      <td>2</td>\n",
       "      <td>967085</td>\n",
       "      <td>32</td>\n",
       "      <td>gusso</td>\n",
       "      <td>6.0</td>\n",
       "      <td>cresco4_h6</td>\n",
       "      <td>PFS/porq1_1M/SiH/Grossman/cp2k/asi561/UnCharge...</td>\n",
       "      <td>cp2k_launch.sh</td>\n",
       "      <td>DONE</td>\n",
       "      <td>1483190848</td>\n",
       "      <td>1.483212e+09</td>\n",
       "      <td>21286.0</td>\n",
       "      <td>21600.0</td>\n",
       "      <td>98.546296</td>\n",
       "      <td>314.0</td>\n",
       "      <td>CP2K atomistic simulations of solid state, liq...</td>\n",
       "      <td>2016-12-31 13:27:28</td>\n",
       "      <td>2016-12-31 19:22:14</td>\n",
       "      <td>PFS/porq1_1M/SiH/Grossman/cp2k/asi561/UnCharge...</td>\n",
       "    </tr>\n",
       "    <tr>\n",
       "      <th>2</th>\n",
       "      <td>3</td>\n",
       "      <td>967086</td>\n",
       "      <td>32</td>\n",
       "      <td>gusso</td>\n",
       "      <td>6.0</td>\n",
       "      <td>cresco4_h6</td>\n",
       "      <td>PFS/porq1_1M/SiH/Grossman/cp2k/asi561/UnCharge...</td>\n",
       "      <td>cp2k_launch.sh</td>\n",
       "      <td>DONE</td>\n",
       "      <td>1483190848</td>\n",
       "      <td>1.483212e+09</td>\n",
       "      <td>21145.0</td>\n",
       "      <td>21600.0</td>\n",
       "      <td>97.893519</td>\n",
       "      <td>455.0</td>\n",
       "      <td>CP2K atomistic simulations of solid state, liq...</td>\n",
       "      <td>2016-12-31 13:27:28</td>\n",
       "      <td>2016-12-31 19:19:53</td>\n",
       "      <td>PFS/porq1_1M/SiH/Grossman/cp2k/asi561/UnCharge...</td>\n",
       "    </tr>\n",
       "    <tr>\n",
       "      <th>3</th>\n",
       "      <td>4</td>\n",
       "      <td>967087</td>\n",
       "      <td>32</td>\n",
       "      <td>gusso</td>\n",
       "      <td>6.0</td>\n",
       "      <td>cresco4_h6</td>\n",
       "      <td>PFS/porq1_1M/SiH/Grossman/cp2k/asi561/UnCharge...</td>\n",
       "      <td>cp2k_launch.sh</td>\n",
       "      <td>DONE</td>\n",
       "      <td>1483190848</td>\n",
       "      <td>1.483212e+09</td>\n",
       "      <td>21150.0</td>\n",
       "      <td>21600.0</td>\n",
       "      <td>97.916667</td>\n",
       "      <td>450.0</td>\n",
       "      <td>CP2K atomistic simulations of solid state, liq...</td>\n",
       "      <td>2016-12-31 13:27:28</td>\n",
       "      <td>2016-12-31 19:19:58</td>\n",
       "      <td>PFS/porq1_1M/SiH/Grossman/cp2k/asi561/UnCharge...</td>\n",
       "    </tr>\n",
       "    <tr>\n",
       "      <th>4</th>\n",
       "      <td>5</td>\n",
       "      <td>967088</td>\n",
       "      <td>32</td>\n",
       "      <td>gusso</td>\n",
       "      <td>6.0</td>\n",
       "      <td>cresco4_h6</td>\n",
       "      <td>PFS/porq1_1M/SiH/Grossman/cp2k/asi561/UnCharge...</td>\n",
       "      <td>cp2k_launch.sh</td>\n",
       "      <td>DONE</td>\n",
       "      <td>1483190848</td>\n",
       "      <td>1.483212e+09</td>\n",
       "      <td>21286.0</td>\n",
       "      <td>21600.0</td>\n",
       "      <td>98.546296</td>\n",
       "      <td>314.0</td>\n",
       "      <td>CP2K atomistic simulations of solid state, liq...</td>\n",
       "      <td>2016-12-31 13:27:28</td>\n",
       "      <td>2016-12-31 19:22:14</td>\n",
       "      <td>PFS/porq1_1M/SiH/Grossman/cp2k/asi561/UnCharge...</td>\n",
       "    </tr>\n",
       "  </tbody>\n",
       "</table>\n",
       "</div>"
      ],
      "text/plain": [
       "   row_counter  job_id  number_of_cores_used user_name  queue_len_hours  \\\n",
       "0            1  967084                    32     gusso              6.0   \n",
       "1            2  967085                    32     gusso              6.0   \n",
       "2            3  967086                    32     gusso              6.0   \n",
       "3            4  967087                    32     gusso              6.0   \n",
       "4            5  967088                    32     gusso              6.0   \n",
       "\n",
       "   queue_name                    directory_of_running_executable  \\\n",
       "0  cresco4_h6  PFS/porq1_1M/SiH/Grossman/cp2k/asi561/UnCharge...   \n",
       "1  cresco4_h6  PFS/porq1_1M/SiH/Grossman/cp2k/asi561/UnCharge...   \n",
       "2  cresco4_h6  PFS/porq1_1M/SiH/Grossman/cp2k/asi561/UnCharge...   \n",
       "3  cresco4_h6  PFS/porq1_1M/SiH/Grossman/cp2k/asi561/UnCharge...   \n",
       "4  cresco4_h6  PFS/porq1_1M/SiH/Grossman/cp2k/asi561/UnCharge...   \n",
       "\n",
       "  name_of_executable job_status  start_unixtime  stop_unixtime  \\\n",
       "0     cp2k_launch.sh       DONE      1483190848   1.483212e+09   \n",
       "1     cp2k_launch.sh       DONE      1483190848   1.483212e+09   \n",
       "2     cp2k_launch.sh       DONE      1483190848   1.483212e+09   \n",
       "3     cp2k_launch.sh       DONE      1483190848   1.483212e+09   \n",
       "4     cp2k_launch.sh       DONE      1483190848   1.483212e+09   \n",
       "\n",
       "   job_duration_sec  queue_duration_sec  percentage_of_usage_of_queue  \\\n",
       "0           21245.0             21600.0                     98.356481   \n",
       "1           21286.0             21600.0                     98.546296   \n",
       "2           21145.0             21600.0                     97.893519   \n",
       "3           21150.0             21600.0                     97.916667   \n",
       "4           21286.0             21600.0                     98.546296   \n",
       "\n",
       "   residual_time_of_queue                    application_performed_and_scope  \\\n",
       "0                   355.0  CP2K atomistic simulations of solid state, liq...   \n",
       "1                   314.0  CP2K atomistic simulations of solid state, liq...   \n",
       "2                   455.0  CP2K atomistic simulations of solid state, liq...   \n",
       "3                   450.0  CP2K atomistic simulations of solid state, liq...   \n",
       "4                   314.0  CP2K atomistic simulations of solid state, liq...   \n",
       "\n",
       "   start_timestamp_py   stop_timestamp_py  \\\n",
       "0 2016-12-31 13:27:28 2016-12-31 19:21:33   \n",
       "1 2016-12-31 13:27:28 2016-12-31 19:22:14   \n",
       "2 2016-12-31 13:27:28 2016-12-31 19:19:53   \n",
       "3 2016-12-31 13:27:28 2016-12-31 19:19:58   \n",
       "4 2016-12-31 13:27:28 2016-12-31 19:22:14   \n",
       "\n",
       "                                executable_full_name  \n",
       "0  PFS/porq1_1M/SiH/Grossman/cp2k/asi561/UnCharge...  \n",
       "1  PFS/porq1_1M/SiH/Grossman/cp2k/asi561/UnCharge...  \n",
       "2  PFS/porq1_1M/SiH/Grossman/cp2k/asi561/UnCharge...  \n",
       "3  PFS/porq1_1M/SiH/Grossman/cp2k/asi561/UnCharge...  \n",
       "4  PFS/porq1_1M/SiH/Grossman/cp2k/asi561/UnCharge...  "
      ]
     },
     "execution_count": 14,
     "metadata": {},
     "output_type": "execute_result"
    }
   ],
   "source": [
    "lsf_df.head()"
   ]
  },
  {
   "cell_type": "code",
   "execution_count": 15,
   "metadata": {},
   "outputs": [
    {
     "name": "stdout",
     "output_type": "stream",
     "text": [
      "['Start_Timestamp (1h interval)' 'min_power' 'avg_power' 'max_power'\n",
      " 'measure time in seconds' 'date_py' 'time_py' 'timestamp_py'\n",
      " 'energy_avg (kWh)' 'energy_min (kWh)' 'energy_max (kWh)'] \n",
      "\n",
      "['row_counter' 'job_id' 'number_of_cores_used' 'user_name'\n",
      " 'queue_len_hours' 'queue_name' 'directory_of_running_executable'\n",
      " 'name_of_executable' 'job_status' 'start_unixtime' 'stop_unixtime'\n",
      " 'job_duration_sec' 'queue_duration_sec' 'percentage_of_usage_of_queue'\n",
      " 'residual_time_of_queue' 'application_performed_and_scope'\n",
      " 'start_timestamp_py' 'stop_timestamp_py' 'executable_full_name']\n"
     ]
    }
   ],
   "source": [
    "print(zabbix_df.columns.values, \"\\n\")\n",
    "print(lsf_df.columns.values)"
   ]
  },
  {
   "cell_type": "code",
   "execution_count": 16,
   "metadata": {},
   "outputs": [
    {
     "name": "stdout",
     "output_type": "stream",
     "text": [
      "(8763, 11)\n",
      "(529512, 19)\n"
     ]
    }
   ],
   "source": [
    "print(zabbix_df.shape)\n",
    "print(lsf_df.shape)"
   ]
  },
  {
   "cell_type": "code",
   "execution_count": 17,
   "metadata": {
    "collapsed": true
   },
   "outputs": [],
   "source": [
    "excel_writer_zabbix = pd.ExcelWriter( os.path.join( Working_dir, \"zabbix_v3_py.xlsx\"))\n",
    "zabbix_df.to_excel(excel_writer_zabbix)\n",
    "excel_writer_zabbix.save()"
   ]
  },
  {
   "cell_type": "code",
   "execution_count": 18,
   "metadata": {
    "collapsed": true
   },
   "outputs": [],
   "source": [
    "lsf_df = lsf_df.sort_values('stop_timestamp_py')"
   ]
  },
  {
   "cell_type": "code",
   "execution_count": 19,
   "metadata": {
    "collapsed": true
   },
   "outputs": [],
   "source": [
    "excel_writer_lsf = pd.ExcelWriter( os.path.join( Working_dir, \"lsf_v3_py.xlsx\" ))\n",
    "lsf_df.to_excel(excel_writer_lsf)\n",
    "excel_writer_lsf.save()"
   ]
  },
  {
   "cell_type": "markdown",
   "metadata": {},
   "source": [
    "-----"
   ]
  },
  {
   "cell_type": "markdown",
   "metadata": {},
   "source": [
    "### Queue - long jobs\n",
    "### Preprocessing for the analysis of jobs which quitted their queues with error beacause they were running longer than the queue permitted\n",
    "- Create lsf_v3.1 where all jobs which were running longer than their queue duration will be separated into two lines with corresponding statuses \"done_long\" and \"exit_long\". \n",
    "- The first will be reported to work within the queue duration and produce useful work, the second will refer to the processing of the job which exceeded queue time. \n",
    "- Start and stop time moments will be updated as well as the percentage of the queue usage."
   ]
  },
  {
   "cell_type": "code",
   "execution_count": 21,
   "metadata": {
    "collapsed": true
   },
   "outputs": [],
   "source": [
    "lsf_df_in_case = lsf_df.copy()"
   ]
  },
  {
   "cell_type": "code",
   "execution_count": 22,
   "metadata": {
    "collapsed": true
   },
   "outputs": [],
   "source": [
    "lsf_df_long_jobs = lsf_df.copy()"
   ]
  },
  {
   "cell_type": "code",
   "execution_count": 109,
   "metadata": {
    "collapsed": true
   },
   "outputs": [],
   "source": [
    "long_jobs_ix_0 = lsf_df[lsf_df.job_duration_sec > lsf_df.queue_duration_sec].index\n",
    "long_jobs_ix_1 = lsf_df_long_jobs[lsf_df_long_jobs.job_duration_sec == lsf_df_long_jobs.queue_duration_sec].index"
   ]
  },
  {
   "cell_type": "code",
   "execution_count": 120,
   "metadata": {},
   "outputs": [
    {
     "name": "stdout",
     "output_type": "stream",
     "text": [
      "100\n",
      "200\n",
      "300\n",
      "400\n",
      "500\n",
      "600\n",
      "700\n",
      "800\n",
      "900\n",
      "1000\n",
      "1100\n"
     ]
    }
   ],
   "source": [
    "i=0\n",
    "while not(lsf_df_long_jobs[lsf_df_long_jobs.job_duration_sec > lsf_df_long_jobs.queue_duration_sec].empty):\n",
    "    index = lsf_df_long_jobs[lsf_df_long_jobs.job_duration_sec > lsf_df_long_jobs.queue_duration_sec].index[0]\n",
    "    line = lsf_df_long_jobs.loc[index]\n",
    "\n",
    "    line_done = line.copy()\n",
    "    line_exit = line.copy()\n",
    "\n",
    "    line_done.job_status = 'done_long'\n",
    "    line_exit.job_status = 'exit_long'\n",
    "    \n",
    "    line_done.job_duration_sec = line.queue_duration_sec\n",
    "    line_exit.job_duration_sec = line.job_duration_sec - line.queue_duration_sec\n",
    "\n",
    "    line_done.stop_unixtime = line.start_unixtime + line_done.job_duration_sec\n",
    "    line_done.stop_timestamp_py = datetime.datetime.utcfromtimestamp(line_done.stop_unixtime)\n",
    "\n",
    "    line_exit.start_unixtime = line_done.stop_unixtime\n",
    "    line_exit.start_timestamp_py = datetime.datetime.utcfromtimestamp(line_exit.start_unixtime)\n",
    "\n",
    "    line_done.residual_time_of_queue = 0\n",
    "    line_exit.residual_time_of_queue = None\n",
    "    \n",
    "    line_done.percentage_of_usage_of_queue = 100.\n",
    "    line_exit.percentage_of_usage_of_queue  = line.percentage_of_usage_of_queue - 100.\n",
    "\n",
    "    lsf_df_long_jobs.loc[index] = line_done\n",
    "\n",
    "    lsf_df_long_jobs = lsf_df_long_jobs.append(line_exit)\n",
    "    i+=1\n",
    "    if i%100==0:\n",
    "        print(i)\n",
    "    if i>lsf_df.shape[0]:\n",
    "        break"
   ]
  },
  {
   "cell_type": "code",
   "execution_count": 121,
   "metadata": {},
   "outputs": [
    {
     "data": {
      "text/plain": [
       "1156"
      ]
     },
     "execution_count": 121,
     "metadata": {},
     "output_type": "execute_result"
    }
   ],
   "source": [
    "i"
   ]
  },
  {
   "cell_type": "code",
   "execution_count": 124,
   "metadata": {},
   "outputs": [
    {
     "name": "stdout",
     "output_type": "stream",
     "text": [
      "530668 530668 529512 1156\n"
     ]
    }
   ],
   "source": [
    "print(lsf_df.shape[0] + len(long_jobs_ix_0), lsf_df_long_jobs.shape[0], lsf_df.shape[0], len(long_jobs_ix_0))"
   ]
  },
  {
   "cell_type": "code",
   "execution_count": 125,
   "metadata": {
    "collapsed": true
   },
   "outputs": [],
   "source": [
    "excel_writer_lsf = pd.ExcelWriter( os.path.join( Working_dir, \"lsf_v3_long_jobs_py.xlsx\" ))\n",
    "lsf_df_long_jobs.to_excel(excel_writer_lsf)\n",
    "excel_writer_lsf.save()"
   ]
  },
  {
   "cell_type": "markdown",
   "metadata": {},
   "source": [
    "------\n",
    "### Short jobs, <=30 sec\n",
    "- Add marker \"exit_short\" to job_status column for short jobs"
   ]
  },
  {
   "cell_type": "code",
   "execution_count": 126,
   "metadata": {
    "collapsed": true
   },
   "outputs": [],
   "source": [
    "lsf_df_short_long_jobs = lsf_df_long_jobs.copy()"
   ]
  },
  {
   "cell_type": "code",
   "execution_count": 127,
   "metadata": {
    "collapsed": true
   },
   "outputs": [],
   "source": [
    "index_short = lsf_df_short_long_jobs[(lsf_df_short_long_jobs.job_duration_sec <= 30)\\\n",
    "                                    &(lsf_df_short_long_jobs.job_status!='exit_long')].index\n",
    "\n",
    "lsf_df_short_long_jobs.loc[index_short, 'job_status'] = \"exit_short_30_sec\""
   ]
  },
  {
   "cell_type": "code",
   "execution_count": 91,
   "metadata": {},
   "outputs": [
    {
     "data": {
      "text/plain": [
       "(101843, 19)"
      ]
     },
     "execution_count": 91,
     "metadata": {},
     "output_type": "execute_result"
    }
   ],
   "source": [
    "lsf_df_short_long_jobs[lsf_df_short_long_jobs.job_status=='exit_short_30_sec'].shape"
   ]
  },
  {
   "cell_type": "code",
   "execution_count": 128,
   "metadata": {
    "collapsed": true
   },
   "outputs": [],
   "source": [
    "excel_writer_lsf = pd.ExcelWriter( os.path.join( Working_dir, \"lsf_v3_short_and_long_jobs_py.xlsx\" ))\n",
    "lsf_df_short_long_jobs.to_excel(excel_writer_lsf)\n",
    "excel_writer_lsf.save()"
   ]
  },
  {
   "cell_type": "markdown",
   "metadata": {},
   "source": [
    "---------------"
   ]
  },
  {
   "cell_type": "markdown",
   "metadata": {},
   "source": [
    "### Sorting values, updating indices to be unique and saving for division into months"
   ]
  },
  {
   "cell_type": "code",
   "execution_count": 36,
   "metadata": {
    "collapsed": true
   },
   "outputs": [],
   "source": [
    "lsf_df_long_jobs_s = lsf_df_long_jobs.copy()\n",
    "lsf_df_short_long_jobs_s = lsf_df_short_long_jobs.copy()"
   ]
  },
  {
   "cell_type": "code",
   "execution_count": 37,
   "metadata": {},
   "outputs": [
    {
     "data": {
      "text/html": [
       "<div>\n",
       "<style>\n",
       "    .dataframe thead tr:only-child th {\n",
       "        text-align: right;\n",
       "    }\n",
       "\n",
       "    .dataframe thead th {\n",
       "        text-align: left;\n",
       "    }\n",
       "\n",
       "    .dataframe tbody tr th {\n",
       "        vertical-align: top;\n",
       "    }\n",
       "</style>\n",
       "<table border=\"1\" class=\"dataframe\">\n",
       "  <thead>\n",
       "    <tr style=\"text-align: right;\">\n",
       "      <th></th>\n",
       "      <th>row_counter</th>\n",
       "      <th>job_id</th>\n",
       "      <th>number_of_cores_used</th>\n",
       "      <th>user_name</th>\n",
       "      <th>queue_len_hours</th>\n",
       "      <th>queue_name</th>\n",
       "      <th>directory_of_running_executable</th>\n",
       "      <th>name_of_executable</th>\n",
       "      <th>job_status</th>\n",
       "      <th>start_unixtime</th>\n",
       "      <th>stop_unixtime</th>\n",
       "      <th>job_duration_sec</th>\n",
       "      <th>queue_duration_sec</th>\n",
       "      <th>percentage_of_usage_of_queue</th>\n",
       "      <th>residual_time_of_queue</th>\n",
       "      <th>application_performed_and_scope</th>\n",
       "      <th>start_timestamp_py</th>\n",
       "      <th>stop_timestamp_py</th>\n",
       "      <th>executable_full_name</th>\n",
       "    </tr>\n",
       "  </thead>\n",
       "  <tbody>\n",
       "    <tr>\n",
       "      <th>583</th>\n",
       "      <td>646</td>\n",
       "      <td>953307</td>\n",
       "      <td>12</td>\n",
       "      <td>aprea</td>\n",
       "      <td>144.0</td>\n",
       "      <td>cresco4_h144</td>\n",
       "      <td>NaN</td>\n",
       "      <td>./assembly.sh</td>\n",
       "      <td>done_long</td>\n",
       "      <td>1.478886e+09</td>\n",
       "      <td>1.479404e+09</td>\n",
       "      <td>518400.0</td>\n",
       "      <td>518400.0</td>\n",
       "      <td>100.000000</td>\n",
       "      <td>0.0</td>\n",
       "      <td>genetic analysis</td>\n",
       "      <td>2016-11-11 17:38:05</td>\n",
       "      <td>2016-11-17 17:38:05</td>\n",
       "      <td>./assembly.sh</td>\n",
       "    </tr>\n",
       "    <tr>\n",
       "      <th>583</th>\n",
       "      <td>646</td>\n",
       "      <td>953307</td>\n",
       "      <td>12</td>\n",
       "      <td>aprea</td>\n",
       "      <td>144.0</td>\n",
       "      <td>cresco4_h144</td>\n",
       "      <td>NaN</td>\n",
       "      <td>./assembly.sh</td>\n",
       "      <td>exit_long</td>\n",
       "      <td>1.479404e+09</td>\n",
       "      <td>1.479405e+09</td>\n",
       "      <td>586.0</td>\n",
       "      <td>518400.0</td>\n",
       "      <td>0.113040</td>\n",
       "      <td>NaN</td>\n",
       "      <td>genetic analysis</td>\n",
       "      <td>2016-11-17 17:38:05</td>\n",
       "      <td>2016-11-17 17:47:51</td>\n",
       "      <td>./assembly.sh</td>\n",
       "    </tr>\n",
       "    <tr>\n",
       "      <th>584</th>\n",
       "      <td>647</td>\n",
       "      <td>953308</td>\n",
       "      <td>12</td>\n",
       "      <td>aprea</td>\n",
       "      <td>144.0</td>\n",
       "      <td>cresco4_h144</td>\n",
       "      <td>NaN</td>\n",
       "      <td>./assembly.sh</td>\n",
       "      <td>done_long</td>\n",
       "      <td>1.478886e+09</td>\n",
       "      <td>1.479404e+09</td>\n",
       "      <td>518400.0</td>\n",
       "      <td>518400.0</td>\n",
       "      <td>100.000000</td>\n",
       "      <td>0.0</td>\n",
       "      <td>genetic analysis</td>\n",
       "      <td>2016-11-11 17:38:05</td>\n",
       "      <td>2016-11-17 17:38:05</td>\n",
       "      <td>./assembly.sh</td>\n",
       "    </tr>\n",
       "    <tr>\n",
       "      <th>584</th>\n",
       "      <td>647</td>\n",
       "      <td>953308</td>\n",
       "      <td>12</td>\n",
       "      <td>aprea</td>\n",
       "      <td>144.0</td>\n",
       "      <td>cresco4_h144</td>\n",
       "      <td>NaN</td>\n",
       "      <td>./assembly.sh</td>\n",
       "      <td>exit_long</td>\n",
       "      <td>1.479404e+09</td>\n",
       "      <td>1.479405e+09</td>\n",
       "      <td>506.0</td>\n",
       "      <td>518400.0</td>\n",
       "      <td>0.097608</td>\n",
       "      <td>NaN</td>\n",
       "      <td>genetic analysis</td>\n",
       "      <td>2016-11-17 17:38:05</td>\n",
       "      <td>2016-11-17 17:46:31</td>\n",
       "      <td>./assembly.sh</td>\n",
       "    </tr>\n",
       "    <tr>\n",
       "      <th>751</th>\n",
       "      <td>868</td>\n",
       "      <td>967910</td>\n",
       "      <td>32</td>\n",
       "      <td>gusso</td>\n",
       "      <td>6.0</td>\n",
       "      <td>cresco4_h6</td>\n",
       "      <td>PFS/porq1_1M/SiH/Grossman/cp2k/asi632/UnCharge...</td>\n",
       "      <td>cp2k_launch.sh</td>\n",
       "      <td>exit_long</td>\n",
       "      <td>1.483320e+09</td>\n",
       "      <td>1.483321e+09</td>\n",
       "      <td>539.0</td>\n",
       "      <td>21600.0</td>\n",
       "      <td>2.495370</td>\n",
       "      <td>NaN</td>\n",
       "      <td>CP2K atomistic simulations of solid state, liq...</td>\n",
       "      <td>2017-01-02 01:26:35</td>\n",
       "      <td>2017-01-02 01:35:34</td>\n",
       "      <td>PFS/porq1_1M/SiH/Grossman/cp2k/asi632/UnCharge...</td>\n",
       "    </tr>\n",
       "  </tbody>\n",
       "</table>\n",
       "</div>"
      ],
      "text/plain": [
       "     row_counter  job_id  number_of_cores_used user_name  queue_len_hours  \\\n",
       "583          646  953307                    12     aprea            144.0   \n",
       "583          646  953307                    12     aprea            144.0   \n",
       "584          647  953308                    12     aprea            144.0   \n",
       "584          647  953308                    12     aprea            144.0   \n",
       "751          868  967910                    32     gusso              6.0   \n",
       "\n",
       "       queue_name                    directory_of_running_executable  \\\n",
       "583  cresco4_h144                                                NaN   \n",
       "583  cresco4_h144                                                NaN   \n",
       "584  cresco4_h144                                                NaN   \n",
       "584  cresco4_h144                                                NaN   \n",
       "751    cresco4_h6  PFS/porq1_1M/SiH/Grossman/cp2k/asi632/UnCharge...   \n",
       "\n",
       "    name_of_executable job_status  start_unixtime  stop_unixtime  \\\n",
       "583      ./assembly.sh  done_long    1.478886e+09   1.479404e+09   \n",
       "583      ./assembly.sh  exit_long    1.479404e+09   1.479405e+09   \n",
       "584      ./assembly.sh  done_long    1.478886e+09   1.479404e+09   \n",
       "584      ./assembly.sh  exit_long    1.479404e+09   1.479405e+09   \n",
       "751     cp2k_launch.sh  exit_long    1.483320e+09   1.483321e+09   \n",
       "\n",
       "     job_duration_sec  queue_duration_sec  percentage_of_usage_of_queue  \\\n",
       "583          518400.0            518400.0                    100.000000   \n",
       "583             586.0            518400.0                      0.113040   \n",
       "584          518400.0            518400.0                    100.000000   \n",
       "584             506.0            518400.0                      0.097608   \n",
       "751             539.0             21600.0                      2.495370   \n",
       "\n",
       "     residual_time_of_queue  \\\n",
       "583                     0.0   \n",
       "583                     NaN   \n",
       "584                     0.0   \n",
       "584                     NaN   \n",
       "751                     NaN   \n",
       "\n",
       "                       application_performed_and_scope  start_timestamp_py  \\\n",
       "583                                   genetic analysis 2016-11-11 17:38:05   \n",
       "583                                   genetic analysis 2016-11-17 17:38:05   \n",
       "584                                   genetic analysis 2016-11-11 17:38:05   \n",
       "584                                   genetic analysis 2016-11-17 17:38:05   \n",
       "751  CP2K atomistic simulations of solid state, liq... 2017-01-02 01:26:35   \n",
       "\n",
       "      stop_timestamp_py                               executable_full_name  \n",
       "583 2016-11-17 17:38:05                                      ./assembly.sh  \n",
       "583 2016-11-17 17:47:51                                      ./assembly.sh  \n",
       "584 2016-11-17 17:38:05                                      ./assembly.sh  \n",
       "584 2016-11-17 17:46:31                                      ./assembly.sh  \n",
       "751 2017-01-02 01:35:34  PFS/porq1_1M/SiH/Grossman/cp2k/asi632/UnCharge...  "
      ]
     },
     "execution_count": 37,
     "metadata": {},
     "output_type": "execute_result"
    }
   ],
   "source": [
    "lsf_df_long_jobs_s.sort_index(inplace=True)\n",
    "lsf_df_short_long_jobs_s.sort_index(inplace=True)\n",
    "\n",
    "lsf_df_long_jobs_s[ (lsf_df_long_jobs_s.job_status=='exit_long') | (lsf_df_long_jobs_s.job_status=='done_long') ].head()"
   ]
  },
  {
   "cell_type": "code",
   "execution_count": 38,
   "metadata": {},
   "outputs": [
    {
     "data": {
      "text/html": [
       "<div>\n",
       "<style>\n",
       "    .dataframe thead tr:only-child th {\n",
       "        text-align: right;\n",
       "    }\n",
       "\n",
       "    .dataframe thead th {\n",
       "        text-align: left;\n",
       "    }\n",
       "\n",
       "    .dataframe tbody tr th {\n",
       "        vertical-align: top;\n",
       "    }\n",
       "</style>\n",
       "<table border=\"1\" class=\"dataframe\">\n",
       "  <thead>\n",
       "    <tr style=\"text-align: right;\">\n",
       "      <th></th>\n",
       "      <th>row_counter</th>\n",
       "      <th>job_id</th>\n",
       "      <th>number_of_cores_used</th>\n",
       "      <th>user_name</th>\n",
       "      <th>queue_len_hours</th>\n",
       "      <th>queue_name</th>\n",
       "      <th>directory_of_running_executable</th>\n",
       "      <th>name_of_executable</th>\n",
       "      <th>job_status</th>\n",
       "      <th>start_unixtime</th>\n",
       "      <th>stop_unixtime</th>\n",
       "      <th>job_duration_sec</th>\n",
       "      <th>queue_duration_sec</th>\n",
       "      <th>percentage_of_usage_of_queue</th>\n",
       "      <th>residual_time_of_queue</th>\n",
       "      <th>application_performed_and_scope</th>\n",
       "      <th>start_timestamp_py</th>\n",
       "      <th>stop_timestamp_py</th>\n",
       "      <th>executable_full_name</th>\n",
       "    </tr>\n",
       "  </thead>\n",
       "  <tbody>\n",
       "    <tr>\n",
       "      <th>583</th>\n",
       "      <td>646</td>\n",
       "      <td>953307</td>\n",
       "      <td>12</td>\n",
       "      <td>aprea</td>\n",
       "      <td>144.0</td>\n",
       "      <td>cresco4_h144</td>\n",
       "      <td>NaN</td>\n",
       "      <td>./assembly.sh</td>\n",
       "      <td>done_long</td>\n",
       "      <td>1.478886e+09</td>\n",
       "      <td>1.479404e+09</td>\n",
       "      <td>518400.0</td>\n",
       "      <td>518400.0</td>\n",
       "      <td>100.000000</td>\n",
       "      <td>0.0</td>\n",
       "      <td>genetic analysis</td>\n",
       "      <td>2016-11-11 17:38:05</td>\n",
       "      <td>2016-11-17 17:38:05</td>\n",
       "      <td>./assembly.sh</td>\n",
       "    </tr>\n",
       "    <tr>\n",
       "      <th>584</th>\n",
       "      <td>646</td>\n",
       "      <td>953307</td>\n",
       "      <td>12</td>\n",
       "      <td>aprea</td>\n",
       "      <td>144.0</td>\n",
       "      <td>cresco4_h144</td>\n",
       "      <td>NaN</td>\n",
       "      <td>./assembly.sh</td>\n",
       "      <td>exit_long</td>\n",
       "      <td>1.479404e+09</td>\n",
       "      <td>1.479405e+09</td>\n",
       "      <td>586.0</td>\n",
       "      <td>518400.0</td>\n",
       "      <td>0.113040</td>\n",
       "      <td>NaN</td>\n",
       "      <td>genetic analysis</td>\n",
       "      <td>2016-11-17 17:38:05</td>\n",
       "      <td>2016-11-17 17:47:51</td>\n",
       "      <td>./assembly.sh</td>\n",
       "    </tr>\n",
       "    <tr>\n",
       "      <th>585</th>\n",
       "      <td>647</td>\n",
       "      <td>953308</td>\n",
       "      <td>12</td>\n",
       "      <td>aprea</td>\n",
       "      <td>144.0</td>\n",
       "      <td>cresco4_h144</td>\n",
       "      <td>NaN</td>\n",
       "      <td>./assembly.sh</td>\n",
       "      <td>done_long</td>\n",
       "      <td>1.478886e+09</td>\n",
       "      <td>1.479404e+09</td>\n",
       "      <td>518400.0</td>\n",
       "      <td>518400.0</td>\n",
       "      <td>100.000000</td>\n",
       "      <td>0.0</td>\n",
       "      <td>genetic analysis</td>\n",
       "      <td>2016-11-11 17:38:05</td>\n",
       "      <td>2016-11-17 17:38:05</td>\n",
       "      <td>./assembly.sh</td>\n",
       "    </tr>\n",
       "    <tr>\n",
       "      <th>586</th>\n",
       "      <td>647</td>\n",
       "      <td>953308</td>\n",
       "      <td>12</td>\n",
       "      <td>aprea</td>\n",
       "      <td>144.0</td>\n",
       "      <td>cresco4_h144</td>\n",
       "      <td>NaN</td>\n",
       "      <td>./assembly.sh</td>\n",
       "      <td>exit_long</td>\n",
       "      <td>1.479404e+09</td>\n",
       "      <td>1.479405e+09</td>\n",
       "      <td>506.0</td>\n",
       "      <td>518400.0</td>\n",
       "      <td>0.097608</td>\n",
       "      <td>NaN</td>\n",
       "      <td>genetic analysis</td>\n",
       "      <td>2016-11-17 17:38:05</td>\n",
       "      <td>2016-11-17 17:46:31</td>\n",
       "      <td>./assembly.sh</td>\n",
       "    </tr>\n",
       "    <tr>\n",
       "      <th>753</th>\n",
       "      <td>868</td>\n",
       "      <td>967910</td>\n",
       "      <td>32</td>\n",
       "      <td>gusso</td>\n",
       "      <td>6.0</td>\n",
       "      <td>cresco4_h6</td>\n",
       "      <td>PFS/porq1_1M/SiH/Grossman/cp2k/asi632/UnCharge...</td>\n",
       "      <td>cp2k_launch.sh</td>\n",
       "      <td>exit_long</td>\n",
       "      <td>1.483320e+09</td>\n",
       "      <td>1.483321e+09</td>\n",
       "      <td>539.0</td>\n",
       "      <td>21600.0</td>\n",
       "      <td>2.495370</td>\n",
       "      <td>NaN</td>\n",
       "      <td>CP2K atomistic simulations of solid state, liq...</td>\n",
       "      <td>2017-01-02 01:26:35</td>\n",
       "      <td>2017-01-02 01:35:34</td>\n",
       "      <td>PFS/porq1_1M/SiH/Grossman/cp2k/asi632/UnCharge...</td>\n",
       "    </tr>\n",
       "  </tbody>\n",
       "</table>\n",
       "</div>"
      ],
      "text/plain": [
       "     row_counter  job_id  number_of_cores_used user_name  queue_len_hours  \\\n",
       "583          646  953307                    12     aprea            144.0   \n",
       "584          646  953307                    12     aprea            144.0   \n",
       "585          647  953308                    12     aprea            144.0   \n",
       "586          647  953308                    12     aprea            144.0   \n",
       "753          868  967910                    32     gusso              6.0   \n",
       "\n",
       "       queue_name                    directory_of_running_executable  \\\n",
       "583  cresco4_h144                                                NaN   \n",
       "584  cresco4_h144                                                NaN   \n",
       "585  cresco4_h144                                                NaN   \n",
       "586  cresco4_h144                                                NaN   \n",
       "753    cresco4_h6  PFS/porq1_1M/SiH/Grossman/cp2k/asi632/UnCharge...   \n",
       "\n",
       "    name_of_executable job_status  start_unixtime  stop_unixtime  \\\n",
       "583      ./assembly.sh  done_long    1.478886e+09   1.479404e+09   \n",
       "584      ./assembly.sh  exit_long    1.479404e+09   1.479405e+09   \n",
       "585      ./assembly.sh  done_long    1.478886e+09   1.479404e+09   \n",
       "586      ./assembly.sh  exit_long    1.479404e+09   1.479405e+09   \n",
       "753     cp2k_launch.sh  exit_long    1.483320e+09   1.483321e+09   \n",
       "\n",
       "     job_duration_sec  queue_duration_sec  percentage_of_usage_of_queue  \\\n",
       "583          518400.0            518400.0                    100.000000   \n",
       "584             586.0            518400.0                      0.113040   \n",
       "585          518400.0            518400.0                    100.000000   \n",
       "586             506.0            518400.0                      0.097608   \n",
       "753             539.0             21600.0                      2.495370   \n",
       "\n",
       "     residual_time_of_queue  \\\n",
       "583                     0.0   \n",
       "584                     NaN   \n",
       "585                     0.0   \n",
       "586                     NaN   \n",
       "753                     NaN   \n",
       "\n",
       "                       application_performed_and_scope  start_timestamp_py  \\\n",
       "583                                   genetic analysis 2016-11-11 17:38:05   \n",
       "584                                   genetic analysis 2016-11-17 17:38:05   \n",
       "585                                   genetic analysis 2016-11-11 17:38:05   \n",
       "586                                   genetic analysis 2016-11-17 17:38:05   \n",
       "753  CP2K atomistic simulations of solid state, liq... 2017-01-02 01:26:35   \n",
       "\n",
       "      stop_timestamp_py                               executable_full_name  \n",
       "583 2016-11-17 17:38:05                                      ./assembly.sh  \n",
       "584 2016-11-17 17:47:51                                      ./assembly.sh  \n",
       "585 2016-11-17 17:38:05                                      ./assembly.sh  \n",
       "586 2016-11-17 17:46:31                                      ./assembly.sh  \n",
       "753 2017-01-02 01:35:34  PFS/porq1_1M/SiH/Grossman/cp2k/asi632/UnCharge...  "
      ]
     },
     "execution_count": 38,
     "metadata": {},
     "output_type": "execute_result"
    }
   ],
   "source": [
    "lsf_df_long_jobs_s.reset_index(inplace=True, drop=True)\n",
    "lsf_df_short_long_jobs_s.reset_index(inplace=True, drop=True)\n",
    "\n",
    "lsf_df_long_jobs_s[ (lsf_df_long_jobs_s.job_status=='exit_long') | (lsf_df_long_jobs_s.job_status=='done_long') ].head()"
   ]
  },
  {
   "cell_type": "code",
   "execution_count": 39,
   "metadata": {},
   "outputs": [
    {
     "name": "stdout",
     "output_type": "stream",
     "text": [
      "(530668, 19) (530668, 19)\n"
     ]
    }
   ],
   "source": [
    "print(lsf_df_long_jobs_s.shape, lsf_df_short_long_jobs_s.shape)"
   ]
  },
  {
   "cell_type": "code",
   "execution_count": 40,
   "metadata": {
    "collapsed": true
   },
   "outputs": [],
   "source": [
    "lsf_df_long_jobs_s.sort_values('stop_timestamp_py', inplace=True)\n",
    "lsf_df_short_long_jobs_s.sort_values('stop_timestamp_py', inplace=True)"
   ]
  },
  {
   "cell_type": "code",
   "execution_count": 41,
   "metadata": {
    "collapsed": true
   },
   "outputs": [],
   "source": [
    "excel_writer_lsf = pd.ExcelWriter( os.path.join( Working_dir, \"lsf_v3_short_and_long_jobs_sorted_py.xlsx\" ))\n",
    "lsf_df_short_long_jobs_s.to_excel(excel_writer_lsf)\n",
    "excel_writer_lsf.save()"
   ]
  },
  {
   "cell_type": "code",
   "execution_count": 34,
   "metadata": {
    "collapsed": true
   },
   "outputs": [],
   "source": [
    "excel_writer_lsf = pd.ExcelWriter( os.path.join( Working_dir, \"lsf_v3_long_jobs_sorted_py.xlsx\" ))\n",
    "lsf_df_long_jobs_s.to_excel(excel_writer_lsf)\n",
    "excel_writer_lsf.save()"
   ]
  },
  {
   "cell_type": "markdown",
   "metadata": {},
   "source": [
    "### Check date ranges for zabbix and new lsf file (version 3)"
   ]
  },
  {
   "cell_type": "code",
   "execution_count": 22,
   "metadata": {},
   "outputs": [
    {
     "name": "stdout",
     "output_type": "stream",
     "text": [
      "lsf range:  2016-11-11 17:38:05 2018-01-25 04:07:31\n",
      "zabbix range:  2017-02-19 12:00:00 2018-02-19 14:00:00\n"
     ]
    }
   ],
   "source": [
    "print('lsf range: ', lsf_df.start_timestamp_py.min(), lsf_df.start_timestamp_py.max())\n",
    "print('zabbix range: ', zabbix_df.timestamp_py.min(), zabbix_df.timestamp_py.max())"
   ]
  },
  {
   "cell_type": "markdown",
   "metadata": {},
   "source": [
    "### Create new column in \"lsf_v3_short_and_long_jobs_sorted_py\": parallel / serial jobs marker"
   ]
  },
  {
   "cell_type": "code",
   "execution_count": 2,
   "metadata": {
    "collapsed": true
   },
   "outputs": [],
   "source": [
    "lsf_df = pd.read_excel( os.path.join( Working_dir, \"lsf_v3_short_and_long_jobs_sorted_py.xlsx\" ) )"
   ]
  },
  {
   "cell_type": "code",
   "execution_count": 7,
   "metadata": {
    "collapsed": true
   },
   "outputs": [],
   "source": [
    "# lsf_df_in_case = lsf_df.copy()"
   ]
  },
  {
   "cell_type": "code",
   "execution_count": 10,
   "metadata": {},
   "outputs": [],
   "source": [
    "lsf_df['parallel_serial'] = lsf_df['number_of_cores_used'].apply( lambda x: 'serial' if x==1 else 'parallel' )"
   ]
  },
  {
   "cell_type": "markdown",
   "metadata": {},
   "source": [
    "#### Number of jobs that were executed as parallel and serial within the whole time period. "
   ]
  },
  {
   "cell_type": "code",
   "execution_count": 35,
   "metadata": {},
   "outputs": [
    {
     "name": "stdout",
     "output_type": "stream",
     "text": [
      "111\n"
     ]
    }
   ],
   "source": [
    "a = set(lsf_df[lsf_df.parallel_serial=='parallel']['executable_full_name'].unique())\n",
    "b = set(lsf_df[lsf_df.parallel_serial=='serial']['executable_full_name'].unique())\n",
    "print(len(a.intersection(b)))"
   ]
  },
  {
   "cell_type": "markdown",
   "metadata": {},
   "source": [
    "#### Drop unnecessary jobs which do not affect 19.02.2017 - 25.01.2018"
   ]
  },
  {
   "cell_type": "code",
   "execution_count": 27,
   "metadata": {},
   "outputs": [
    {
     "name": "stdout",
     "output_type": "stream",
     "text": [
      "lsf range:  2017-02-16 09:48:21 2018-01-25 04:07:31\n"
     ]
    }
   ],
   "source": [
    "left_time_border = datetime.datetime(2017,2,19,12,0)\n",
    "\n",
    "lsf_df = lsf_df.drop(lsf_df[lsf_df.stop_timestamp_py < left_time_border].index )\n",
    "print('lsf range: ', lsf_df.start_timestamp_py.min(), lsf_df.start_timestamp_py.max())"
   ]
  },
  {
   "cell_type": "code",
   "execution_count": 38,
   "metadata": {},
   "outputs": [
    {
     "name": "stdout",
     "output_type": "stream",
     "text": [
      "(38816, 20) (8006,)\n"
     ]
    }
   ],
   "source": [
    "print(lsf_df[lsf_df.parallel_serial=='parallel'].shape, lsf_df[lsf_df.parallel_serial=='parallel']['executable_full_name'].unique().shape)"
   ]
  },
  {
   "cell_type": "code",
   "execution_count": 28,
   "metadata": {
    "collapsed": true
   },
   "outputs": [],
   "source": [
    "excel_writer_lsf = pd.ExcelWriter( os.path.join( Working_dir, \"lsf_v3_short_and_long_jobs_sorted_py.xlsx\" ))\n",
    "lsf_df.to_excel(excel_writer_lsf)\n",
    "excel_writer_lsf.save()"
   ]
  }
 ],
 "metadata": {
  "kernelspec": {
   "display_name": "Python 3",
   "language": "python",
   "name": "python3"
  },
  "language_info": {
   "codemirror_mode": {
    "name": "ipython",
    "version": 3
   },
   "file_extension": ".py",
   "mimetype": "text/x-python",
   "name": "python",
   "nbconvert_exporter": "python",
   "pygments_lexer": "ipython3",
   "version": "3.6.0"
  }
 },
 "nbformat": 4,
 "nbformat_minor": 2
}

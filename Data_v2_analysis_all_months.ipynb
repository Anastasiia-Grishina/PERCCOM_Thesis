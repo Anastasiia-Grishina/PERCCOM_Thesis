{
 "cells": [
  {
   "cell_type": "code",
   "execution_count": 1,
   "metadata": {
    "collapsed": true
   },
   "outputs": [],
   "source": [
    "import pandas as pd\n",
    "import matplotlib.pyplot as plt\n",
    "import csv\n",
    "import os\n",
    "import numpy as np\n",
    "from sklearn import datasets, linear_model\n",
    "import datetime\n",
    "import time\n",
    "from sklearn.cluster import DBSCAN\n",
    "import warnings\n",
    "warnings.filterwarnings(action='ignore')\n",
    "Working_dir = os.getcwd()"
   ]
  },
  {
   "cell_type": "code",
   "execution_count": 26,
   "metadata": {
    "collapsed": true
   },
   "outputs": [],
   "source": [
    "zabbix_df = pd.read_excel( os.path.join( Working_dir, \"zabbix_v2_py.xlsx\" ) )\n",
    "lsf_df = pd.read_excel( os.path.join( Working_dir, \"lsf_v2_py.xlsx\" ) )\n",
    "# zabbix_month_df = pd.read_excel( os.path.join( Working_dir, \"zabbix_month_py.xlsx\" ) )\n",
    "# lsf_month_df = pd.read_excel( os.path.join( Working_dir, \"lsf_month_py.xlsx\" ) )"
   ]
  },
  {
   "cell_type": "markdown",
   "metadata": {},
   "source": [
    "### Extract data for 19, February, 2017, 12:00 - 19, March, 2017, 12:00 and so on each month"
   ]
  },
  {
   "cell_type": "code",
   "execution_count": null,
   "metadata": {
    "collapsed": true
   },
   "outputs": [],
   "source": [
    "print('The earliest timestamp in each table')\n",
    "print(zabbix_df.timestamp_py.min(), '\\n',datetime.datetime.utcfromtimestamp(lsf_df['start unixtime'].min()),'\\n') \n",
    "\n",
    "print('The latest timestamp in each table')\n",
    "print(zabbix_df.timestamp_py.max(), '\\n',datetime.datetime.utcfromtimestamp(lsf_df['stop unixtime'].max())) "
   ]
  },
  {
   "cell_type": "code",
   "execution_count": null,
   "metadata": {
    "collapsed": true
   },
   "outputs": [],
   "source": [
    "def lsf_one_month( lsf_df, zabbix_df, start_moment, end_moment, folder_name ):\n",
    "    lsf_month_df = pd.DataFrame(columns = lsf_df.columns.values)\n",
    "    \n",
    "    lsf_month_df = lsf_df[((lsf_df.start_timestamp_py >= start_moment)   & (lsf_df.stop_timestamp_py <= end_moment) \\\n",
    "       | (lsf_df.start_timestamp_py <= start_moment) & (lsf_df.stop_timestamp_py >= start_moment) \\\n",
    "       | (lsf_df.start_timestamp_py <= end_moment  ) & (lsf_df.stop_timestamp_py  >= end_moment) \\\n",
    "       | (lsf_df.start_timestamp_py <= start_moment) & (lsf_df.stop_timestamp_py  >= end_moment))].copy()\n",
    "        \n",
    "    excel_writer_lsf_month = pd.ExcelWriter( os.path.join( folder_name, 'lsf_month_py.xlsx') )\n",
    "    lsf_month_df.to_excel(excel_writer_lsf_month)\n",
    "    excel_writer_lsf_month.save()\n",
    "    \n",
    "    return lsf_month_df"
   ]
  },
  {
   "cell_type": "code",
   "execution_count": null,
   "metadata": {
    "collapsed": true
   },
   "outputs": [],
   "source": [
    "def zabbix_one_month( lsf_df, zabbix_df, start_datetime, end_datetime, folder_name ):\n",
    "\n",
    "    zabbix_month_df = pd.DataFrame(columns = zabbix_df.columns.values)\n",
    "    \n",
    "    zabbix_month_df = zabbix_df[((zabbix_df.timestamp_py >= start_datetime) & \\\n",
    "                                 (zabbix_df.timestamp_py < end_datetime))].copy()\n",
    "    \n",
    "    return zabbix_month_df"
   ]
  },
  {
   "cell_type": "code",
   "execution_count": null,
   "metadata": {
    "collapsed": true
   },
   "outputs": [],
   "source": [
    "def process_matrix_one_month ( zabbix_month_df, lsf_month_df, folder_name ):\n",
    "    proc_df = pd.DataFrame(columns = lsf_month_df.executable_full_name.unique(), index=zabbix_month_df.timestamp_py)\n",
    "\n",
    "    min_time = zabbix_month_df.timestamp_py.iloc[0]\n",
    "    max_time = zabbix_month_df.timestamp_py.iloc[zabbix_month_df.shape[0]-1] + datetime.timedelta(minutes = 59, seconds = 59)\n",
    "    max_cores = lsf_month_df['number of cores used'].max()\n",
    "\n",
    "    proc_df[:] = 0 \n",
    "    i=0\n",
    "    # iterate over jobs in lsf\n",
    "    for index, line in lsf_month_df.iterrows():#.iloc[]\n",
    "    #     print(line)\n",
    "        #i-line index\n",
    "        i+=1\n",
    "        job_name = line.executable_full_name\n",
    "        cores = line['number of cores used']\n",
    "        # start and end time in full date format \n",
    "        start_time = line.start_timestamp_py\n",
    "#         datetime.datetime.combine(line.start_date_py, \\\n",
    "#                                                line.start_time_py )\n",
    "        end_time = line.stop_timestamp_py\n",
    "#     datetime.datetime.combine(line.end_date_py, \\\n",
    "#                                                line.end_time_py )\n",
    "        # t is our current position\n",
    "        t = start_time\n",
    "        # process length\n",
    "        length = end_time - start_time + datetime.timedelta(seconds=1)\n",
    "        # if a proces began before the first timestamp in zabbix\n",
    "        # decrease length and step onto the first timestamp in zabbix\n",
    "        if min_time > start_time:\n",
    "            t = min_time\n",
    "            length -= min_time - start_time\n",
    "        # while current position is not at the end time of a process or end of table\n",
    "        while t <= end_time and t <= max_time:\n",
    "            # find row name in table = even hour and next row name\n",
    "            start_in_table = t\n",
    "            start_in_table = start_in_table.replace(minute=0, second=0)\n",
    "            next_in_table = start_in_table + datetime.timedelta(hours=1)\n",
    "\n",
    "            # if a process ends within this hour write its weight \n",
    "            # and put current position far to the right\n",
    "            if ( t + length < next_in_table ):\n",
    "    #             print('length', length)\n",
    "                proc_df.loc[start_in_table,job_name] += (length.total_seconds()/3600)*(cores)#/max_cores)\n",
    "                t = next_in_table\n",
    "            else:\n",
    "                # if a process lasts longer than the current hour range\n",
    "                # add number of seconds which it runs during this hour\n",
    "                # decrease length of the process by the same mount\n",
    "                # write its weight to the matrix\n",
    "                to_add = next_in_table - t\n",
    "                length -= to_add\n",
    "\n",
    "                proc_df.loc[start_in_table,job_name] += (to_add.total_seconds()/3600)*(cores)#/max_cores)\n",
    "                t += to_add\n",
    "        if (i % 1000 == 0):\n",
    "            print(i)\n",
    "    excel_writer_matrix = pd.ExcelWriter( os.path.join( folder_name, 'proc_matrix_month.xlsx') )\n",
    "    proc_df.to_excel(excel_writer_matrix)\n",
    "    excel_writer_matrix.save()\n",
    "    return proc_df"
   ]
  },
  {
   "cell_type": "code",
   "execution_count": null,
   "metadata": {
    "collapsed": true
   },
   "outputs": [],
   "source": [
    "def divide ( a, b ):\n",
    "    c = np.zeros_like(a)\n",
    "    for i in range(len(a)):\n",
    "        if ( 0 != b[i] ):\n",
    "            c[i] = a[i]/b[i]\n",
    "        else:\n",
    "            c[i] = None\n",
    "    return c"
   ]
  },
  {
   "cell_type": "code",
   "execution_count": null,
   "metadata": {
    "collapsed": true
   },
   "outputs": [],
   "source": [
    "def outliers_to_zero(x):\n",
    "    final_list = x.copy()\n",
    "    outliers_indices = x[(x - x.median()) > 2 * (x.quantile(.75)-x.quantile(0.25))].index\n",
    "#     print(final_list.loc[outliers_indices])\n",
    "    final_list.loc[outliers_indices] = 0\n",
    "    return final_list, outliers_indices"
   ]
  },
  {
   "cell_type": "markdown",
   "metadata": {},
   "source": [
    "------\n",
    "### Main procedure"
   ]
  },
  {
   "cell_type": "code",
   "execution_count": null,
   "metadata": {
    "collapsed": true
   },
   "outputs": [],
   "source": [
    "lsf_df_in_case = lsf_df.copy()"
   ]
  },
  {
   "cell_type": "code",
   "execution_count": null,
   "metadata": {
    "collapsed": true
   },
   "outputs": [],
   "source": [
    "# lsf_df=lsf_df_in_case.copy()"
   ]
  },
  {
   "cell_type": "code",
   "execution_count": null,
   "metadata": {
    "collapsed": true
   },
   "outputs": [],
   "source": [
    "x = []\n",
    "zero_sum = pd.DataFrame(columns = zabbix_df.columns.values)"
   ]
  },
  {
   "cell_type": "code",
   "execution_count": null,
   "metadata": {
    "collapsed": true
   },
   "outputs": [],
   "source": [
    "left_time_border = datetime.datetime(2017,2,19,12,0)\n",
    "right_time_border = datetime.datetime(2017,3,19,12,0)\n",
    "\n",
    "# left_time_border = datetime.datetime(2017,12,19,12,0)\n",
    "# right_time_border = datetime.datetime(2017,12,19,12,0)\n",
    "\n",
    "# date_new = lsf_df.stop_timestamp_py.max().date()\n",
    "# right_time_border = datetime.datetime.combine(date_new, right_time_border.time())\n",
    "\n",
    "m = 1\n",
    "while ( right_time_border <= \\\n",
    "       datetime.datetime.combine(lsf_df.stop_timestamp_py.max().date(), \\\n",
    "                                 right_time_border.time())):\n",
    "    \n",
    "    folder_name = Working_dir + \"\\\\\"\\\n",
    "              + left_time_border.strftime(\"%d.%m.%Y %H.%M\") \\\n",
    "              + right_time_border.strftime(\" - %d.%m.%Y %H.%M\")\n",
    "    if not os.path.exists(folder_name):\n",
    "        os.mkdir(folder_name)\n",
    "        \n",
    "    # decrease lsf_df\n",
    "    lsf_df = lsf_df.drop(lsf_df[lsf_df.stop_timestamp_py < left_time_border].index )\n",
    "        \n",
    "    lsf_month_df = lsf_one_month( lsf_df, zabbix_df, left_time_border, right_time_border, folder_name )\n",
    "    zabbix_month_df = zabbix_one_month ( lsf_df, zabbix_df, left_time_border, right_time_border, folder_name )\n",
    "    proc_df = process_matrix_one_month ( zabbix_month_df, lsf_month_df, folder_name )\n",
    "    \n",
    "    f = zabbix_month_df['energy_avg (kWh)'].as_matrix()*1000\n",
    "    sum_coeff_avg = proc_df.as_matrix().sum(axis=1)\n",
    "    \n",
    "    zero_ix = np.where(sum_coeff_avg==0)\n",
    "    zero_sum = zero_sum.append(zabbix_month_df.iloc[zero_ix])\n",
    "    \n",
    "#     sum_coeff_avg = np.delete(sum_coeff_avg, zero_ix)\n",
    "#     f = np.delete(f, zero_ix)\n",
    "#     x_avg = np.zeros(zabbix_month_df.shape[0])\n",
    "    x_avg = divide (f, sum_coeff_avg)\n",
    "    \n",
    "    zabbix_month_df['estimated_en_use'] = x_avg\n",
    "    \n",
    "    if (np.nanmax(x_avg)/np.nanmin(x_avg) > 1000):\n",
    "        x_avg_no_outliers, outliers_ix = outliers_to_zero(zabbix_month_df['estimated_en_use'])\n",
    "        zabbix_month_df['estimated_en_use_no_outliers'] = x_avg_no_outliers\n",
    "        zabbix_month_df['estimated_en_use_of_outliers'] = zabbix_month_df.loc[outliers_ix, \\\n",
    "                                                                              'estimated_en_use']\n",
    "    else:\n",
    "        zabbix_month_df['estimated_en_use_no_outliers'] = x_avg_no_outliers\n",
    "        zabbix_month_df['estimated_en_use_of_outliers'] = None\n",
    "        \n",
    "    excel_writer_zabbix_month = pd.ExcelWriter(os.path.join( folder_name, 'zabbix_month_py.xlsx'))\n",
    "    zabbix_month_df.to_excel(excel_writer_zabbix_month)\n",
    "    excel_writer_zabbix_month.save()\n",
    "       \n",
    "#     f = open( os.path.join( folder_name, \"avg_power_app_per_core_per_sec.txt\") ,\"w+\" )\n",
    "#     for item in x_avg:\n",
    "#         f.write(str(item) + '\\n')\n",
    "#     f.close()\n",
    "          \n",
    "    left_time_border = right_time_border\n",
    "    \n",
    "    if (12 > right_time_border.month):\n",
    "        date_new = datetime.date(year=right_time_border.year, month=right_time_border.month+1, day=right_time_border.day)\n",
    "    else:\n",
    "        date_new = lsf_df.stop_timestamp_py.max().date()\n",
    "    right_time_border = datetime.datetime.combine(date_new, right_time_border.time())\n",
    "    \n",
    "    x.append(np.mean(x_avg))\n",
    "    print(m)\n",
    "    m+=1\n",
    "    if m==2:\n",
    "        break"
   ]
  },
  {
   "cell_type": "code",
   "execution_count": null,
   "metadata": {
    "collapsed": true
   },
   "outputs": [],
   "source": [
    "zero_ix"
   ]
  },
  {
   "cell_type": "code",
   "execution_count": null,
   "metadata": {
    "collapsed": true
   },
   "outputs": [],
   "source": [
    "start = zabbix_month_df.timestamp_py.iloc[17]\n",
    "end = start + datetime.timedelta(hours=1)"
   ]
  },
  {
   "cell_type": "code",
   "execution_count": null,
   "metadata": {
    "collapsed": true
   },
   "outputs": [],
   "source": [
    "lsf_df_in_case[((lsf_df_in_case.start_timestamp_py >= start)   & (lsf_df_in_case.stop_timestamp_py <= end) \\\n",
    "       | (lsf_df_in_case.start_timestamp_py <= start) & (lsf_df_in_case.stop_timestamp_py >= start) \\\n",
    "       | (lsf_df_in_case.start_timestamp_py <= end  ) & (lsf_df_in_case.stop_timestamp_py  >= end) \\\n",
    "       | (lsf_df_in_case.start_timestamp_py <= start) & (lsf_df_in_case.stop_timestamp_py  >= end))]"
   ]
  },
  {
   "cell_type": "code",
   "execution_count": null,
   "metadata": {
    "collapsed": true
   },
   "outputs": [],
   "source": [
    "zero_sum_copy = zero_sum.copy()"
   ]
  },
  {
   "cell_type": "code",
   "execution_count": null,
   "metadata": {
    "collapsed": true
   },
   "outputs": [],
   "source": [
    "zero_sum"
   ]
  },
  {
   "cell_type": "code",
   "execution_count": null,
   "metadata": {
    "collapsed": true
   },
   "outputs": [],
   "source": [
    "x"
   ]
  },
  {
   "cell_type": "code",
   "execution_count": null,
   "metadata": {
    "collapsed": true
   },
   "outputs": [],
   "source": [
    "excel_writer_zero_sum = pd.ExcelWriter( os.path.join( Working_dir, 'zero_sum.xlsx') )\n",
    "zero_sum.to_excel(excel_writer_zero_sum)\n",
    "excel_writer_zero_sum.save()"
   ]
  },
  {
   "cell_type": "code",
   "execution_count": null,
   "metadata": {
    "collapsed": true
   },
   "outputs": [],
   "source": [
    "f = open( os.path.join( Working_dir, \"x.txt\") ,\"w+\" )\n",
    "for item in x:\n",
    "    f.write(str(item) + '\\n')\n",
    "f.close()"
   ]
  },
  {
   "cell_type": "markdown",
   "metadata": {},
   "source": [
    "----\n",
    "### Estimation on energy use in idle mode\n",
    "1) Max and min registered energy use\n"
   ]
  },
  {
   "cell_type": "code",
   "execution_count": 4,
   "metadata": {
    "collapsed": true
   },
   "outputs": [],
   "source": [
    "zero_sum = pd.read_excel( os.path.join( Working_dir, \"zero_sum.xlsx\" ) )"
   ]
  },
  {
   "cell_type": "code",
   "execution_count": 5,
   "metadata": {},
   "outputs": [
    {
     "name": "stdout",
     "output_type": "stream",
     "text": [
      "65.516 14.383625\n"
     ]
    }
   ],
   "source": [
    "print(zabbix_df['energy_avg (kWh)'].max(), zabbix_df['energy_avg (kWh)'].min())"
   ]
  },
  {
   "cell_type": "markdown",
   "metadata": {},
   "source": [
    "\n",
    "2) Max, min and avg energy use when no process is registered to be active"
   ]
  },
  {
   "cell_type": "code",
   "execution_count": 6,
   "metadata": {},
   "outputs": [
    {
     "name": "stdout",
     "output_type": "stream",
     "text": [
      "58.126 31.84 42.20452433035714\n"
     ]
    }
   ],
   "source": [
    "print(zero_sum['energy_avg (kWh)'].max(), \\\n",
    "      zero_sum['energy_avg (kWh)'].min(), \\\n",
    "      zero_sum['energy_avg (kWh)'].mean())"
   ]
  },
  {
   "cell_type": "markdown",
   "metadata": {},
   "source": [
    "3) Avg energy use during hours when there were active processes ongoing"
   ]
  },
  {
   "cell_type": "code",
   "execution_count": 7,
   "metadata": {},
   "outputs": [
    {
     "data": {
      "text/plain": [
       "47.02398681951323"
      ]
     },
     "execution_count": 7,
     "metadata": {},
     "output_type": "execute_result"
    }
   ],
   "source": [
    "zabbix_df.drop(zero_sum.index)['energy_avg (kWh)'].mean()"
   ]
  },
  {
   "cell_type": "markdown",
   "metadata": {},
   "source": [
    "### Conclusion on idle mode energy use: missing data in the lsf dataset.\n",
    "Reason: average energy consumption during the hours with active processes running is 47 kWh, while it equals 42 kWh when no processes are registered to be active.\n",
    "\n",
    "Moreover, the range of energy consumed when no processes are active lies within the range of energy consumption when cores are calculating the jobs. \n"
   ]
  },
  {
   "cell_type": "code",
   "execution_count": 8,
   "metadata": {},
   "outputs": [
    {
     "name": "stdout",
     "output_type": "stream",
     "text": [
      "\"Idle mode\" energy range: [ 31.84 ,\t 58.126 ]\n",
      "Overal energy use range: [ 14.383625 ,\t 65.516 ]\n"
     ]
    }
   ],
   "source": [
    "print('\"Idle mode\" energy range: [',\\\n",
    "      zero_sum['energy_avg (kWh)'].min(),',\\t',\\\n",
    "      zero_sum['energy_avg (kWh)'].max(),\\\n",
    "     ']\\nOveral energy use range: [',\\\n",
    "      zabbix_df['energy_avg (kWh)'].min(),',\\t',\\\n",
    "      zabbix_df['energy_avg (kWh)'].max(), ']')"
   ]
  },
  {
   "cell_type": "markdown",
   "metadata": {},
   "source": [
    "-----\n",
    "### Delete outliers in the solution"
   ]
  },
  {
   "cell_type": "code",
   "execution_count": null,
   "metadata": {
    "collapsed": true
   },
   "outputs": [],
   "source": [
    "left_time_border = datetime.datetime(2017,12,19,12,0)\n",
    "# right_time_border = datetime.datetime(2017,12,19,12,0)\n",
    "\n",
    "date_new = lsf_df.stop_timestamp_py.max().date()\n",
    "right_time_border = datetime.datetime.combine(date_new, right_time_border.time())\n",
    "\n",
    "m = 1\n",
    "    \n",
    "folder_name = Working_dir + \"\\\\\"\\\n",
    "          + left_time_border.strftime(\"%d.%m.%Y %H.%M\") \\\n",
    "          + right_time_border.strftime(\" - %d.%m.%Y %H.%M\")\n",
    "\n",
    "zabbix_month_df = pd.read_excel( os.path.join( folder_name, \"zabbix_month_py.xlsx\" ) )\n",
    "lsf_month_df = pd.read_excel( os.path.join( folder_name, \"lsf_month_py.xlsx\" ) )\n",
    "proc_df = pd.read_excel( os.path.join( folder_name, \"proc_matrix_month.xlsx\" ) )\n",
    "proc_df.index=proc_df.iloc[:,0]\n",
    "proc_df.drop('timestamp_py', axis=1, inplace=True)\n",
    "\n",
    "f = zabbix_month_df['energy_avg (kWh)'].as_matrix()*1000\n",
    "sum_coeff_avg = proc_df.as_matrix().sum(axis=1)\n",
    "\n",
    "zero_ix = np.where(sum_coeff_avg==0)\n",
    "\n",
    "x_avg = divide (f, sum_coeff_avg)\n",
    "\n",
    "zabbix_month_df['estimated_en_use'] = x_avg\n",
    "\n",
    "if (np.nanmax(x_avg)/np.nanmin(x_avg) > 1000):\n",
    "    x_avg_no_outliers, outliers_ix = outliers_to_zero(zabbix_month_df['estimated_en_use'])\n",
    "    zabbix_month_df['estimated_en_use_no_outliers'] = x_avg_no_outliers\n",
    "    zabbix_month_df['estimated_en_use_of_outliers'] = zabbix_month_df.loc[outliers_ix, \\\n",
    "                                                                          'estimated_en_use']\n",
    "else:\n",
    "    zabbix_month_df['estimated_en_use_no_outliers'] = x_avg\n",
    "    zabbix_month_df['estimated_en_use_of_outliers'] = None\n",
    "\n",
    "excel_writer_zabbix_month = pd.ExcelWriter(os.path.join( folder_name, 'zabbix_month_py.xlsx'))\n",
    "zabbix_month_df.to_excel(excel_writer_zabbix_month)\n",
    "excel_writer_zabbix_month.save()\n",
    "\n",
    "m+=1\n",
    "print(m)"
   ]
  },
  {
   "cell_type": "markdown",
   "metadata": {},
   "source": [
    "---\n",
    "### Calculating the energy wasted for exited jobs"
   ]
  },
  {
   "cell_type": "code",
   "execution_count": null,
   "metadata": {
    "collapsed": true
   },
   "outputs": [],
   "source": [
    "# exited_en_cons = []"
   ]
  },
  {
   "cell_type": "code",
   "execution_count": 32,
   "metadata": {
    "collapsed": true
   },
   "outputs": [],
   "source": [
    "summary = pd.DataFrame(columns=['month_start', 'month_end', 'en_exit_jobs', \\\n",
    "                                'en_done_jobs','en_no_outliers','en_with_outliers'], index=range(0,13))\n",
    "summary[:]=0"
   ]
  },
  {
   "cell_type": "code",
   "execution_count": 102,
   "metadata": {
    "collapsed": true
   },
   "outputs": [],
   "source": [
    "i = 10\n",
    "left_time_border = datetime.datetime(2017,i+2,19,12,0)\n",
    "# right_time_border = datetime.datetime(2017,i+3,19,12,0)\n",
    "i=i+1\n",
    "date_new = lsf_df.stop_timestamp_py.max().date()\n",
    "right_time_border = datetime.datetime.combine(date_new, right_time_border.time())\n",
    "\n",
    "m = 1\n",
    "    \n",
    "folder_name = Working_dir + \"\\\\\"\\\n",
    "          + left_time_border.strftime(\"%d.%m.%Y %H.%M\") \\\n",
    "          + right_time_border.strftime(\" - %d.%m.%Y %H.%M\")\n",
    "\n",
    "zabbix_month_df = pd.read_excel( os.path.join( folder_name, \"zabbix_month_py.xlsx\" ) )\n",
    "lsf_month_df = pd.read_excel( os.path.join( folder_name, \"lsf_month_py.xlsx\" ) )\n",
    "proc_df = pd.read_excel( os.path.join( folder_name, \"proc_matrix_month.xlsx\" ) )\n",
    "proc_df.index=proc_df.iloc[:,0]\n",
    "proc_df.drop('timestamp_py', axis=1, inplace=True)\n",
    "\n",
    "energy_matrix_exit_month = proc_df.copy()\n",
    "energy_matrix_exit_month[:] = 0\n",
    "\n",
    "# proc_mult = pd.DataFrame(columns = proc_df.columns.values, index=proc_df.index)\n",
    "# proc_mult[:] = 0\n",
    "\n",
    "\n",
    "lsf_exited_month_df = lsf_month_df[lsf_month_df['job status'].str.lower() == \\\n",
    "                                   \"exit\"][[\"executable_full_name\", \\\n",
    "                                            \"start_timestamp_py\",  \\\n",
    "                                            \"stop_timestamp_py\"]]\n",
    "# lsf_exited_month_df[\"energy_consumed_kwh\"] = 0\n",
    "\n",
    "for index, lsf_current_line in (lsf_exited_month_df.iterrows()):\n",
    "#     i+=1\n",
    "    name = lsf_current_line.executable_full_name\n",
    "#     print(lsf_current_line,'\\n')\n",
    "    lsf_df_start_time = lsf_current_line.start_timestamp_py\n",
    "    lsf_df_stop_time = lsf_current_line.stop_timestamp_py\n",
    "    \n",
    "    zabbix_start_time = datetime.datetime.combine( lsf_df_start_time.date(), \\\n",
    "                                                   datetime.time(hour=lsf_df_start_time.time().hour, \\\n",
    "                                                                minute=0, second=0) )\n",
    "    zabbix_stop_time = datetime.datetime.combine( lsf_df_stop_time.date(), \\\n",
    "                                                  datetime.time(hour=lsf_df_stop_time.time().hour, \\\n",
    "                                                                minute=0, second=0) )\n",
    "    \n",
    "    zabbix_first_line = zabbix_month_df.timestamp_py.iloc[0]\n",
    "    zabbix_last_line = zabbix_month_df.timestamp_py.iloc[zabbix_month_df.shape[0]-1]\n",
    "    \n",
    "    if ( zabbix_start_time < zabbix_first_line):\n",
    "        zabbix_start_time = zabbix_first_line\n",
    "    if ( zabbix_stop_time > zabbix_last_line):\n",
    "        zabbix_stop_time = zabbix_last_line\n",
    "    \n",
    "    energy_matrix_exit_month.loc[zabbix_start_time:zabbix_stop_time, \\\n",
    "                                 lsf_current_line.executable_full_name] = \\\n",
    "    proc_df.loc[zabbix_start_time:zabbix_stop_time, \\\n",
    "                lsf_current_line.executable_full_name]\n",
    "    \n",
    "\n",
    "    \n",
    "z = zabbix_month_df.estimated_en_use_no_outliers.fillna(0).as_matrix()\n",
    "energy_matrix_done_month = proc_df.copy()\n",
    "\n",
    "for name in proc_df.columns.values:\n",
    "    energy_matrix_done_month.loc[:,name] = proc_df.loc[:, name].as_matrix()*z/1000.\n",
    "    if name in list(lsf_exited_month_df.executable_full_name):\n",
    "        energy_matrix_exit_month.loc[:,name] = energy_matrix_exit_month.loc[:, name].as_matrix()*z/1000.\n",
    "energy_matrix_done_month = energy_matrix_done_month - energy_matrix_exit_month        \n",
    "        \n",
    "summary.loc[i,'month_start'] = left_time_border\n",
    "summary.loc[i,'month_end'] = right_time_border\n",
    "\n",
    "summary.loc[i,'en_exit_jobs'] = energy_matrix_exit_month.as_matrix().sum(axis=0).sum()\n",
    "summary.loc[i,'en_done_jobs']= energy_matrix_done_month.as_matrix().sum(axis=0).sum()\n",
    "summary.loc[i,'en_no_outliers'] = summary.loc[i,'en_exit_jobs'] + summary.loc[i,'en_done_jobs']\n",
    "summary.loc[i,'en_with_outliers'] = zabbix_month_df['energy_avg (kWh)'].sum()\n",
    "# print(summary.en_exit_jobs[i])\n",
    "\n",
    "job_exit_energy = energy_matrix_exit_month[lsf_exited_month_df.executable_full_name.unique()].sum(axis=0)\n",
    "job_done_energy = energy_matrix_done_month[lsf_month_df[lsf_month_df['job status'].str.lower() == \\\n",
    "                                   \"done\"][\"executable_full_name\"].unique()].sum(axis=0)\n",
    "\n",
    "zabbix_month_df['energy_for_exited_jobs_kwh'] = energy_matrix_exit_month.as_matrix().sum(axis=1)*\\\n",
    "    zabbix_month_df.estimated_en_use_no_outliers.as_matrix()/1000\n",
    "\n",
    "    \n",
    "excel_writer_zabbix_month = pd.ExcelWriter(os.path.join( folder_name, 'zabbix_month_py.xlsx'))\n",
    "zabbix_month_df.to_excel(excel_writer_zabbix_month)\n",
    "excel_writer_zabbix_month.save()\n",
    "\n",
    "excel_writer_en_exit = pd.ExcelWriter(os.path.join( folder_name, 'en_matrix_exit.xlsx'))\n",
    "energy_matrix_exit_month.to_excel(excel_writer_en_exit)\n",
    "excel_writer_en_exit.save()\n",
    "\n",
    "excel_writer_en_done = pd.ExcelWriter(os.path.join( folder_name, 'en_matrix_done.xlsx'))\n",
    "energy_matrix_done_month.to_excel(excel_writer_en_done)\n",
    "excel_writer_en_done.save()\n",
    "\n",
    "excel_writer_en_done_every_job = pd.ExcelWriter(os.path.join( folder_name, 'en_matrix_done_every_job.xlsx'))\n",
    "job_done_energy.to_excel(excel_writer_en_done_every_job)\n",
    "excel_writer_en_done_every_job.save()\n",
    "\n",
    "excel_writer_en_exit_every_job = pd.ExcelWriter(os.path.join( folder_name, 'en_matrix_exit_every_job.xlsx'))\n",
    "job_exit_energy.to_excel(excel_writer_en_exit_every_job)\n",
    "excel_writer_en_exit_every_job.save()"
   ]
  },
  {
   "cell_type": "code",
   "execution_count": 105,
   "metadata": {
    "collapsed": true
   },
   "outputs": [],
   "source": [
    "excel_writer_summary = pd.ExcelWriter(os.path.join( Working_dir, 'energy_summary.xlsx'))\n",
    "summary.to_excel(excel_writer_summary)\n",
    "excel_writer_summary.save()"
   ]
  },
  {
   "cell_type": "code",
   "execution_count": 103,
   "metadata": {},
   "outputs": [
    {
     "data": {
      "text/html": [
       "<div>\n",
       "<style>\n",
       "    .dataframe thead tr:only-child th {\n",
       "        text-align: right;\n",
       "    }\n",
       "\n",
       "    .dataframe thead th {\n",
       "        text-align: left;\n",
       "    }\n",
       "\n",
       "    .dataframe tbody tr th {\n",
       "        vertical-align: top;\n",
       "    }\n",
       "</style>\n",
       "<table border=\"1\" class=\"dataframe\">\n",
       "  <thead>\n",
       "    <tr style=\"text-align: right;\">\n",
       "      <th></th>\n",
       "      <th>month_start</th>\n",
       "      <th>month_end</th>\n",
       "      <th>en_exit_jobs</th>\n",
       "      <th>en_done_jobs</th>\n",
       "      <th>en_no_outliers</th>\n",
       "      <th>en_with_outliers</th>\n",
       "    </tr>\n",
       "  </thead>\n",
       "  <tbody>\n",
       "    <tr>\n",
       "      <th>1</th>\n",
       "      <td>2017-02-19 12:00:00</td>\n",
       "      <td>2017-03-19 12:00:00</td>\n",
       "      <td>14708</td>\n",
       "      <td>16432.7</td>\n",
       "      <td>31140.8</td>\n",
       "      <td>31140.8</td>\n",
       "    </tr>\n",
       "    <tr>\n",
       "      <th>2</th>\n",
       "      <td>2017-03-19 12:00:00</td>\n",
       "      <td>2017-04-19 12:00:00</td>\n",
       "      <td>19971.5</td>\n",
       "      <td>15668.1</td>\n",
       "      <td>35639.6</td>\n",
       "      <td>35675.4</td>\n",
       "    </tr>\n",
       "    <tr>\n",
       "      <th>3</th>\n",
       "      <td>2017-04-19 12:00:00</td>\n",
       "      <td>2017-05-19 12:00:00</td>\n",
       "      <td>8232.71</td>\n",
       "      <td>21627.8</td>\n",
       "      <td>29860.5</td>\n",
       "      <td>33283.8</td>\n",
       "    </tr>\n",
       "    <tr>\n",
       "      <th>4</th>\n",
       "      <td>2017-05-19 12:00:00</td>\n",
       "      <td>2017-06-19 12:00:00</td>\n",
       "      <td>11334.9</td>\n",
       "      <td>18379</td>\n",
       "      <td>29713.9</td>\n",
       "      <td>33873.5</td>\n",
       "    </tr>\n",
       "    <tr>\n",
       "      <th>5</th>\n",
       "      <td>2017-06-19 12:00:00</td>\n",
       "      <td>2017-07-19 12:00:00</td>\n",
       "      <td>12490.6</td>\n",
       "      <td>20528.9</td>\n",
       "      <td>33019.5</td>\n",
       "      <td>33019.5</td>\n",
       "    </tr>\n",
       "    <tr>\n",
       "      <th>6</th>\n",
       "      <td>2017-07-19 12:00:00</td>\n",
       "      <td>2017-08-19 12:00:00</td>\n",
       "      <td>4305.68</td>\n",
       "      <td>22078.2</td>\n",
       "      <td>26383.8</td>\n",
       "      <td>31069.2</td>\n",
       "    </tr>\n",
       "    <tr>\n",
       "      <th>7</th>\n",
       "      <td>2017-08-19 12:00:00</td>\n",
       "      <td>2017-09-19 12:00:00</td>\n",
       "      <td>7474.38</td>\n",
       "      <td>18739.4</td>\n",
       "      <td>26213.8</td>\n",
       "      <td>28867.4</td>\n",
       "    </tr>\n",
       "    <tr>\n",
       "      <th>8</th>\n",
       "      <td>2017-09-19 12:00:00</td>\n",
       "      <td>2017-10-19 12:00:00</td>\n",
       "      <td>22109.2</td>\n",
       "      <td>9473.77</td>\n",
       "      <td>31583</td>\n",
       "      <td>34958.7</td>\n",
       "    </tr>\n",
       "    <tr>\n",
       "      <th>9</th>\n",
       "      <td>2017-10-19 12:00:00</td>\n",
       "      <td>2017-11-19 12:00:00</td>\n",
       "      <td>23341.9</td>\n",
       "      <td>9341.03</td>\n",
       "      <td>32683</td>\n",
       "      <td>37476.9</td>\n",
       "    </tr>\n",
       "    <tr>\n",
       "      <th>10</th>\n",
       "      <td>2017-11-19 12:00:00</td>\n",
       "      <td>2017-12-19 12:00:00</td>\n",
       "      <td>31306.8</td>\n",
       "      <td>7185.7</td>\n",
       "      <td>38492.5</td>\n",
       "      <td>38492.5</td>\n",
       "    </tr>\n",
       "    <tr>\n",
       "      <th>11</th>\n",
       "      <td>2017-12-19 12:00:00</td>\n",
       "      <td>2018-01-25 12:00:00</td>\n",
       "      <td>18767</td>\n",
       "      <td>16007.6</td>\n",
       "      <td>34774.6</td>\n",
       "      <td>43440.3</td>\n",
       "    </tr>\n",
       "  </tbody>\n",
       "</table>\n",
       "</div>"
      ],
      "text/plain": [
       "            month_start            month_end en_exit_jobs en_done_jobs  \\\n",
       "1   2017-02-19 12:00:00  2017-03-19 12:00:00        14708      16432.7   \n",
       "2   2017-03-19 12:00:00  2017-04-19 12:00:00      19971.5      15668.1   \n",
       "3   2017-04-19 12:00:00  2017-05-19 12:00:00      8232.71      21627.8   \n",
       "4   2017-05-19 12:00:00  2017-06-19 12:00:00      11334.9        18379   \n",
       "5   2017-06-19 12:00:00  2017-07-19 12:00:00      12490.6      20528.9   \n",
       "6   2017-07-19 12:00:00  2017-08-19 12:00:00      4305.68      22078.2   \n",
       "7   2017-08-19 12:00:00  2017-09-19 12:00:00      7474.38      18739.4   \n",
       "8   2017-09-19 12:00:00  2017-10-19 12:00:00      22109.2      9473.77   \n",
       "9   2017-10-19 12:00:00  2017-11-19 12:00:00      23341.9      9341.03   \n",
       "10  2017-11-19 12:00:00  2017-12-19 12:00:00      31306.8       7185.7   \n",
       "11  2017-12-19 12:00:00  2018-01-25 12:00:00        18767      16007.6   \n",
       "\n",
       "   en_no_outliers en_with_outliers  \n",
       "1         31140.8          31140.8  \n",
       "2         35639.6          35675.4  \n",
       "3         29860.5          33283.8  \n",
       "4         29713.9          33873.5  \n",
       "5         33019.5          33019.5  \n",
       "6         26383.8          31069.2  \n",
       "7         26213.8          28867.4  \n",
       "8           31583          34958.7  \n",
       "9           32683          37476.9  \n",
       "10        38492.5          38492.5  \n",
       "11        34774.6          43440.3  "
      ]
     },
     "execution_count": 103,
     "metadata": {},
     "output_type": "execute_result"
    }
   ],
   "source": [
    "summary"
   ]
  },
  {
   "cell_type": "markdown",
   "metadata": {},
   "source": [
    "----\n",
    "### Analysing results"
   ]
  },
  {
   "cell_type": "code",
   "execution_count": 2,
   "metadata": {
    "collapsed": true
   },
   "outputs": [],
   "source": [
    "summary = pd.read_excel( os.path.join( Working_dir, \"energy_summary.xlsx\" ) )"
   ]
  },
  {
   "cell_type": "code",
   "execution_count": 7,
   "metadata": {},
   "outputs": [
    {
     "data": {
      "text/plain": [
       "31140.764417"
      ]
     },
     "execution_count": 7,
     "metadata": {},
     "output_type": "execute_result"
    }
   ],
   "source": [
    "14708.040092 + 16432.724325"
   ]
  },
  {
   "cell_type": "code",
   "execution_count": 10,
   "metadata": {},
   "outputs": [
    {
     "data": {
      "text/html": [
       "<div>\n",
       "<style>\n",
       "    .dataframe thead tr:only-child th {\n",
       "        text-align: right;\n",
       "    }\n",
       "\n",
       "    .dataframe thead th {\n",
       "        text-align: left;\n",
       "    }\n",
       "\n",
       "    .dataframe tbody tr th {\n",
       "        vertical-align: top;\n",
       "    }\n",
       "</style>\n",
       "<table border=\"1\" class=\"dataframe\">\n",
       "  <thead>\n",
       "    <tr style=\"text-align: right;\">\n",
       "      <th></th>\n",
       "      <th>month_start</th>\n",
       "      <th>month_end</th>\n",
       "      <th>en_exit_jobs</th>\n",
       "      <th>en_done_jobs</th>\n",
       "      <th>en_no_outliers</th>\n",
       "      <th>en_with_outliers</th>\n",
       "    </tr>\n",
       "  </thead>\n",
       "  <tbody>\n",
       "    <tr>\n",
       "      <th>1</th>\n",
       "      <td>2017-02-19 12:00:00</td>\n",
       "      <td>2017-03-19 12:00:00</td>\n",
       "      <td>14708.040092</td>\n",
       "      <td>16432.724325</td>\n",
       "      <td>31140.764417</td>\n",
       "      <td>31140.764417</td>\n",
       "    </tr>\n",
       "    <tr>\n",
       "      <th>2</th>\n",
       "      <td>2017-03-19 12:00:00</td>\n",
       "      <td>2017-04-19 12:00:00</td>\n",
       "      <td>19971.451032</td>\n",
       "      <td>15668.141326</td>\n",
       "      <td>35639.592358</td>\n",
       "      <td>35675.376358</td>\n",
       "    </tr>\n",
       "    <tr>\n",
       "      <th>3</th>\n",
       "      <td>2017-04-19 12:00:00</td>\n",
       "      <td>2017-05-19 12:00:00</td>\n",
       "      <td>8232.712321</td>\n",
       "      <td>21627.799100</td>\n",
       "      <td>29860.511421</td>\n",
       "      <td>33283.833554</td>\n",
       "    </tr>\n",
       "    <tr>\n",
       "      <th>4</th>\n",
       "      <td>2017-05-19 12:00:00</td>\n",
       "      <td>2017-06-19 12:00:00</td>\n",
       "      <td>11334.915364</td>\n",
       "      <td>18379.033057</td>\n",
       "      <td>29713.948421</td>\n",
       "      <td>33873.466033</td>\n",
       "    </tr>\n",
       "    <tr>\n",
       "      <th>5</th>\n",
       "      <td>2017-06-19 12:00:00</td>\n",
       "      <td>2017-07-19 12:00:00</td>\n",
       "      <td>12490.617675</td>\n",
       "      <td>20528.884200</td>\n",
       "      <td>33019.501875</td>\n",
       "      <td>33019.501875</td>\n",
       "    </tr>\n",
       "    <tr>\n",
       "      <th>6</th>\n",
       "      <td>2017-07-19 12:00:00</td>\n",
       "      <td>2017-08-19 12:00:00</td>\n",
       "      <td>4305.677956</td>\n",
       "      <td>22078.165694</td>\n",
       "      <td>26383.843650</td>\n",
       "      <td>31069.230888</td>\n",
       "    </tr>\n",
       "    <tr>\n",
       "      <th>7</th>\n",
       "      <td>2017-08-19 12:00:00</td>\n",
       "      <td>2017-09-19 12:00:00</td>\n",
       "      <td>7474.381397</td>\n",
       "      <td>18739.436953</td>\n",
       "      <td>26213.818350</td>\n",
       "      <td>28867.394600</td>\n",
       "    </tr>\n",
       "    <tr>\n",
       "      <th>8</th>\n",
       "      <td>2017-09-19 12:00:00</td>\n",
       "      <td>2017-10-19 12:00:00</td>\n",
       "      <td>22109.201644</td>\n",
       "      <td>9473.771468</td>\n",
       "      <td>31582.973112</td>\n",
       "      <td>34958.687683</td>\n",
       "    </tr>\n",
       "    <tr>\n",
       "      <th>9</th>\n",
       "      <td>2017-10-19 12:00:00</td>\n",
       "      <td>2017-11-19 12:00:00</td>\n",
       "      <td>23341.919420</td>\n",
       "      <td>9341.034355</td>\n",
       "      <td>32682.953775</td>\n",
       "      <td>37476.907925</td>\n",
       "    </tr>\n",
       "    <tr>\n",
       "      <th>10</th>\n",
       "      <td>2017-11-19 12:00:00</td>\n",
       "      <td>2017-12-19 12:00:00</td>\n",
       "      <td>31306.806265</td>\n",
       "      <td>7185.704064</td>\n",
       "      <td>38492.510329</td>\n",
       "      <td>38492.510329</td>\n",
       "    </tr>\n",
       "    <tr>\n",
       "      <th>11</th>\n",
       "      <td>2017-12-19 12:00:00</td>\n",
       "      <td>2018-01-25 12:00:00</td>\n",
       "      <td>18767.009353</td>\n",
       "      <td>16007.640260</td>\n",
       "      <td>34774.649612</td>\n",
       "      <td>43440.314179</td>\n",
       "    </tr>\n",
       "  </tbody>\n",
       "</table>\n",
       "</div>"
      ],
      "text/plain": [
       "           month_start           month_end  en_exit_jobs  en_done_jobs  \\\n",
       "1  2017-02-19 12:00:00 2017-03-19 12:00:00  14708.040092  16432.724325   \n",
       "2  2017-03-19 12:00:00 2017-04-19 12:00:00  19971.451032  15668.141326   \n",
       "3  2017-04-19 12:00:00 2017-05-19 12:00:00   8232.712321  21627.799100   \n",
       "4  2017-05-19 12:00:00 2017-06-19 12:00:00  11334.915364  18379.033057   \n",
       "5  2017-06-19 12:00:00 2017-07-19 12:00:00  12490.617675  20528.884200   \n",
       "6  2017-07-19 12:00:00 2017-08-19 12:00:00   4305.677956  22078.165694   \n",
       "7  2017-08-19 12:00:00 2017-09-19 12:00:00   7474.381397  18739.436953   \n",
       "8  2017-09-19 12:00:00 2017-10-19 12:00:00  22109.201644   9473.771468   \n",
       "9  2017-10-19 12:00:00 2017-11-19 12:00:00  23341.919420   9341.034355   \n",
       "10 2017-11-19 12:00:00 2017-12-19 12:00:00  31306.806265   7185.704064   \n",
       "11 2017-12-19 12:00:00 2018-01-25 12:00:00  18767.009353  16007.640260   \n",
       "\n",
       "    en_no_outliers  en_with_outliers  \n",
       "1     31140.764417      31140.764417  \n",
       "2     35639.592358      35675.376358  \n",
       "3     29860.511421      33283.833554  \n",
       "4     29713.948421      33873.466033  \n",
       "5     33019.501875      33019.501875  \n",
       "6     26383.843650      31069.230888  \n",
       "7     26213.818350      28867.394600  \n",
       "8     31582.973112      34958.687683  \n",
       "9     32682.953775      37476.907925  \n",
       "10    38492.510329      38492.510329  \n",
       "11    34774.649612      43440.314179  "
      ]
     },
     "execution_count": 10,
     "metadata": {},
     "output_type": "execute_result"
    }
   ],
   "source": [
    "summary"
   ]
  },
  {
   "cell_type": "code",
   "execution_count": 14,
   "metadata": {},
   "outputs": [
    {
     "data": {
      "text/html": [
       "<div>\n",
       "<style>\n",
       "    .dataframe thead tr:only-child th {\n",
       "        text-align: right;\n",
       "    }\n",
       "\n",
       "    .dataframe thead th {\n",
       "        text-align: left;\n",
       "    }\n",
       "\n",
       "    .dataframe tbody tr th {\n",
       "        vertical-align: top;\n",
       "    }\n",
       "</style>\n",
       "<table border=\"1\" class=\"dataframe\">\n",
       "  <thead>\n",
       "    <tr style=\"text-align: right;\">\n",
       "      <th></th>\n",
       "      <th>en_exit_jobs</th>\n",
       "      <th>en_done_jobs</th>\n",
       "    </tr>\n",
       "  </thead>\n",
       "  <tbody>\n",
       "    <tr>\n",
       "      <th>1</th>\n",
       "      <td>14.708040</td>\n",
       "      <td>16.432724</td>\n",
       "    </tr>\n",
       "    <tr>\n",
       "      <th>2</th>\n",
       "      <td>19.971451</td>\n",
       "      <td>15.668141</td>\n",
       "    </tr>\n",
       "    <tr>\n",
       "      <th>3</th>\n",
       "      <td>8.232712</td>\n",
       "      <td>21.627799</td>\n",
       "    </tr>\n",
       "    <tr>\n",
       "      <th>4</th>\n",
       "      <td>11.334915</td>\n",
       "      <td>18.379033</td>\n",
       "    </tr>\n",
       "    <tr>\n",
       "      <th>5</th>\n",
       "      <td>12.490618</td>\n",
       "      <td>20.528884</td>\n",
       "    </tr>\n",
       "    <tr>\n",
       "      <th>6</th>\n",
       "      <td>4.305678</td>\n",
       "      <td>22.078166</td>\n",
       "    </tr>\n",
       "    <tr>\n",
       "      <th>7</th>\n",
       "      <td>7.474381</td>\n",
       "      <td>18.739437</td>\n",
       "    </tr>\n",
       "    <tr>\n",
       "      <th>8</th>\n",
       "      <td>22.109202</td>\n",
       "      <td>9.473771</td>\n",
       "    </tr>\n",
       "    <tr>\n",
       "      <th>9</th>\n",
       "      <td>23.341919</td>\n",
       "      <td>9.341034</td>\n",
       "    </tr>\n",
       "    <tr>\n",
       "      <th>10</th>\n",
       "      <td>31.306806</td>\n",
       "      <td>7.185704</td>\n",
       "    </tr>\n",
       "    <tr>\n",
       "      <th>11</th>\n",
       "      <td>18.767009</td>\n",
       "      <td>16.007640</td>\n",
       "    </tr>\n",
       "  </tbody>\n",
       "</table>\n",
       "</div>"
      ],
      "text/plain": [
       "    en_exit_jobs  en_done_jobs\n",
       "1      14.708040     16.432724\n",
       "2      19.971451     15.668141\n",
       "3       8.232712     21.627799\n",
       "4      11.334915     18.379033\n",
       "5      12.490618     20.528884\n",
       "6       4.305678     22.078166\n",
       "7       7.474381     18.739437\n",
       "8      22.109202      9.473771\n",
       "9      23.341919      9.341034\n",
       "10     31.306806      7.185704\n",
       "11     18.767009     16.007640"
      ]
     },
     "execution_count": 14,
     "metadata": {},
     "output_type": "execute_result"
    }
   ],
   "source": [
    "summary[['en_exit_jobs','en_done_jobs']]/1000"
   ]
  },
  {
   "cell_type": "code",
   "execution_count": 57,
   "metadata": {},
   "outputs": [
    {
     "data": {
      "image/png": "[encoded data removed]",
      "text/plain": [
       "<matplotlib.figure.Figure at 0x1b56b0ddc18>"
      ]
     },
     "metadata": {},
     "output_type": "display_data"
    }
   ],
   "source": [
    "s=summary[['en_exit_jobs','en_done_jobs']].copy()\n",
    "s = s/1000\n",
    "s1 = s.copy()\n",
    "s1.en_done_jobs = s1.en_done_jobs/(s.en_done_jobs+s.en_exit_jobs)*100\n",
    "s1.en_exit_jobs = s1.en_exit_jobs/(s.en_done_jobs+s.en_exit_jobs)*100\n",
    "\n",
    "fig, ax = plt.subplots()\n",
    "\n",
    "N = 11\n",
    "ind = np.arange(N)    # the x locations for the groups\n",
    "width = 0.35       # the width of the bars: can also be len(x) sequence\n",
    "\n",
    "p1 = plt.barh(ind, s.en_exit_jobs, color='yellow')\n",
    "\n",
    "p2 = plt.barh( ind, s.en_done_jobs, color='green', left = s.en_exit_jobs )\n",
    "\n",
    "plt.xlabel('Energy, MWh')\n",
    "plt.title('Energy consumption')\n",
    "# plt.xticks(ind, ('Feb-\\nMar', 'Mar-\\nApr', 'Apr-\\nMay', 'May-\\nJune', 'June-\\nJuly',\\\n",
    "#                 'July-\\nAug', 'Aug-\\nSept', 'Sept-\\nOct','Oct-\\nNov', 'Nov-\\nDec',\\\n",
    "#                 'Dec-\\nJan'))\n",
    "\n",
    "# max_en = s.en_done_jobs+s.en_exit_jobs\n",
    "# max_en -= max_en % -100\n",
    "# max_en = int(max_en)\n",
    "\n",
    "# plt.xticks(ind, ('Feb-\\nMar', 'Mar-\\nApr', 'Apr-\\nMay', 'May-\\nJune', 'June-\\nJuly',\\\n",
    "#                 'July-\\nAug', 'Aug-\\nSept', 'Sept-\\nOct','Oct-\\nNov', 'Nov-\\nDec',\\\n",
    "#                 'Dec-\\nJan'))\n",
    "plt.yticks(ind, ('Feb-Mar', 'Mar-Apr', 'Apr-May', 'May-June', 'June-July',\\\n",
    "                'July-Aug', 'Aug-Sept', 'Sept-Oct','Oct-Nov', 'Nov-Dec',\\\n",
    "                'Dec-Jan'))\n",
    "lgd = plt.legend((p1[0], p2[0]), ('Not finished jobs', 'Accomplished jobs'),\\\n",
    "           loc='upper center', bbox_to_anchor=(0.5, -0.15))\n",
    "fig.savefig(os.path.join(Working_dir, 'energy_cons_ex_done.png'),bbox_extra_artists=(lgd,), bbox_inches='tight')\n",
    "plt.show()"
   ]
  },
  {
   "cell_type": "markdown",
   "metadata": {},
   "source": [
    "---\n",
    "### Jobs ditribution by energy consumption"
   ]
  },
  {
   "cell_type": "code",
   "execution_count": 27,
   "metadata": {},
   "outputs": [
    {
     "data": {
      "text/plain": [
       "Timestamp('2018-01-25 04:12:17')"
      ]
     },
     "execution_count": 27,
     "metadata": {},
     "output_type": "execute_result"
    }
   ],
   "source": [
    "# lsf_df.stop_timestamp_py.max()\n",
    "# Timestamp('2018-01-25 04:12:17')"
   ]
  },
  {
   "cell_type": "code",
   "execution_count": 51,
   "metadata": {},
   "outputs": [
    {
     "data": {
      "image/png": "[encoded data removed]",
      "text/plain": [
       "<matplotlib.figure.Figure at 0x254da995710>"
      ]
     },
     "metadata": {},
     "output_type": "display_data"
    },
    {
     "data": {
      "image/png": "[encoded data removed]",
      "text/plain": [
       "<matplotlib.figure.Figure at 0x254dabbecf8>"
      ]
     },
     "metadata": {},
     "output_type": "display_data"
    },
    {
     "data": {
      "image/png": "[encoded data removed]",
      "text/plain": [
       "<matplotlib.figure.Figure at 0x254dabbe940>"
      ]
     },
     "metadata": {},
     "output_type": "display_data"
    },
    {
     "data": {
      "image/png": "[encoded data removed]",
      "text/plain": [
       "<matplotlib.figure.Figure at 0x254daa5ee48>"
      ]
     },
     "metadata": {},
     "output_type": "display_data"
    }
   ],
   "source": [
    "i = 0\n",
    "left_time_border = datetime.datetime(2017,i+2,19,12,0)\n",
    "right_time_border = datetime.datetime(2017,i+3,19,12,0)\n",
    "i=i+1\n",
    "# date_new = lsf_df.stop_timestamp_py.max().date()\n",
    "# right_time_border = datetime.datetime.combine(date_new, right_time_border.time())\n",
    "\n",
    "m = 1\n",
    "    \n",
    "folder_name = Working_dir + \"\\\\\"\\\n",
    "          + left_time_border.strftime(\"%d.%m.%Y %H.%M\") \\\n",
    "          + right_time_border.strftime(\" - %d.%m.%Y %H.%M\")\n",
    "\n",
    "job_done_energy = pd.read_excel(os.path.join( folder_name, 'en_matrix_done_every_job.xlsx'))\n",
    "job_exit_energy = pd.read_excel(os.path.join( folder_name, 'en_matrix_exit_every_job.xlsx'))\n",
    "\n",
    "max_en = job_done_energy[0].values.max()\n",
    "max_en -= max_en % -100\n",
    "max_en = int(max_en)\n",
    "bins = np.array(range(0,max_en,100))\n",
    "groups = job_done_energy[0].groupby(pd.cut(job_done_energy[0],bins))\n",
    "\n",
    "pos = (range(len(bins)-1))\n",
    "\n",
    "\n",
    "plt.bar(pos, groups.size(), color='purple', width = 1)\n",
    "plt.xlabel('Energy consumption, kWh')\n",
    "plt.ylabel('Number of jobs with specific energy consumption')\n",
    "plt.xticks(np.append(np.array(pos), len(bins)-1)-0.5, bins.astype(int), rotation=90)\n",
    "\n",
    "plt.savefig(os.path.join(folder_name, 'en_cons_done.png'), bbox_inches='tight')\n",
    "plt.show()\n",
    "\n",
    "max_en = 110\n",
    "bins = np.array(range(0,max_en,10))\n",
    "groups = job_done_energy[0].groupby(pd.cut(job_done_energy[0],bins))\n",
    "\n",
    "pos = (range(len(bins)-1))\n",
    "\n",
    "\n",
    "plt.bar(pos, groups.size(), color='purple', width = 0.95)\n",
    "plt.xlabel('Energy consumption, kWh')\n",
    "plt.ylabel('Number of jobs with specific energy consumption')\n",
    "plt.xticks(np.append(np.array(pos), len(bins)-1)-0.5, bins.astype(int))\n",
    "\n",
    "plt.savefig(os.path.join(folder_name, 'en_cons_done_granular.png'), bbox_inches='tight')\n",
    "plt.show()\n",
    "\n",
    "\n",
    "\n",
    "\n",
    "max_en = job_exit_energy[0].values.max()\n",
    "max_en -= max_en % -100\n",
    "max_en = int(max_en)\n",
    "bins = np.array(range(0,max_en,100))\n",
    "groups = job_exit_energy[0].groupby(pd.cut(job_exit_energy[0],bins))\n",
    "\n",
    "pos = (range(len(bins)-1))\n",
    "\n",
    "\n",
    "plt.bar(pos, groups.size(), color='saddlebrown', width = 1)\n",
    "plt.xlabel('Energy consumption, kWh')\n",
    "plt.ylabel('Number of jobs with specific energy consumption')\n",
    "plt.xticks(np.append(np.array(pos), len(bins)-1)-0.5, bins.astype(int), rotation=90)\n",
    "\n",
    "plt.savefig(os.path.join(folder_name, 'en_cons_exit.png'), bbox_inches='tight')\n",
    "plt.show()\n",
    "\n",
    "max_en = 110\n",
    "bins = np.array(range(0,max_en,10))\n",
    "groups = job_exit_energy[0].groupby(pd.cut(job_exit_energy[0],bins))\n",
    "\n",
    "pos = (range(len(bins)-1))\n",
    "\n",
    "\n",
    "plt.bar(pos, groups.size(), color='saddlebrown', width = 0.95)\n",
    "plt.xlabel('Energy consumption, kWh')\n",
    "plt.ylabel('Number of jobs with specific energy consumption')\n",
    "plt.xticks(np.append(np.array(pos), len(bins)-1)-0.5, bins.astype(int))\n",
    "\n",
    "plt.savefig(os.path.join(folder_name, 'en_cons_exit_granular.png'), bbox_inches='tight')\n",
    "plt.show()"
   ]
  },
  {
   "cell_type": "markdown",
   "metadata": {},
   "source": [
    "----\n",
    "### Percent of jobs consuming less than 10 kWh for each month"
   ]
  },
  {
   "cell_type": "code",
   "execution_count": 45,
   "metadata": {},
   "outputs": [],
   "source": [
    "right_limit = datetime.datetime(year=2018, month=1, day=25, hour = 12)"
   ]
  },
  {
   "cell_type": "code",
   "execution_count": 46,
   "metadata": {},
   "outputs": [
    {
     "name": "stdout",
     "output_type": "stream",
     "text": [
      "[88.83888388838884, 78.51851851851852, 65.39634146341463, 61.336032388663966, 57.2265625, 53.76344086021505, 56.72645739910314, 75.87209302325581, 73.6024844720497, 76.29032258064517, 64.9867374005305]\n"
     ]
    }
   ],
   "source": [
    "percent = []\n",
    "\n",
    "left_time_border = datetime.datetime(2017,2,19,12,0)\n",
    "right_time_border = datetime.datetime(2017,3,19,12,0)\n",
    "\n",
    "# left_time_border = datetime.datetime(2017,12,19,12,0)\n",
    "# right_time_border = datetime.datetime(2017,12,19,12,0)\n",
    "\n",
    "# date_new = lsf_df.stop_timestamp_py.max().date()\n",
    "# right_time_border = datetime.datetime.combine(date_new, right_time_border.time())\n",
    "\n",
    "m = 1\n",
    "\n",
    "while ( right_time_border <= right_limit ):\n",
    "    \n",
    "    folder_name = Working_dir + \"\\\\\"\\\n",
    "              + left_time_border.strftime(\"%d.%m.%Y %H.%M\") \\\n",
    "              + right_time_border.strftime(\" - %d.%m.%Y %H.%M\")\n",
    "            \n",
    "    \n",
    "    job_done_energy = pd.read_excel(os.path.join( folder_name, 'en_matrix_done_every_job.xlsx'))\n",
    "    job_exit_energy = pd.read_excel(os.path.join( folder_name, 'en_matrix_exit_every_job.xlsx'))\n",
    "    \n",
    "    registered_jobs_num = job_done_energy.shape[0] + job_exit_energy.shape[0]\n",
    "    p = job_done_energy[job_done_energy[0] <= 10].shape[0] + job_exit_energy[job_exit_energy[0] <= 10].shape[0] \n",
    "    p = p/registered_jobs_num * 100\n",
    "    percent.append(p)\n",
    "\n",
    "    left_time_border = right_time_border\n",
    "    \n",
    "    if (12 > right_time_border.month):\n",
    "        date_new = datetime.date(year=right_time_border.year, month=right_time_border.month+1, day=right_time_border.day)\n",
    "        right_time_border = datetime.datetime.combine(date_new, right_time_border.time())\n",
    "    else:\n",
    "        right_time_border = right_limit\n",
    "    \n",
    "    \n",
    "    m+=1\n",
    "#     if (m==2):\n",
    "#         break\n",
    "print(percent)"
   ]
  },
  {
   "cell_type": "code",
   "execution_count": 47,
   "metadata": {},
   "outputs": [
    {
     "data": {
      "text/plain": [
       "'C:\\\\Users\\\\aagri\\\\Documents\\\\Python Scripts\\\\PERCCOM Energy Data\\\\Data v.2\\\\19.12.2017 12.00 - 25.01.2018 12.00'"
      ]
     },
     "execution_count": 47,
     "metadata": {},
     "output_type": "execute_result"
    }
   ],
   "source": [
    "folder_name"
   ]
  },
  {
   "cell_type": "code",
   "execution_count": 87,
   "metadata": {},
   "outputs": [
    {
     "data": {
      "image/png": "[encoded data removed]",
      "text/plain": [
       "<matplotlib.figure.Figure at 0x1b56b84ac88>"
      ]
     },
     "metadata": {},
     "output_type": "display_data"
    }
   ],
   "source": [
    "fig, ax = plt.subplots()\n",
    "\n",
    "N = 11\n",
    "ind = np.arange(N)    # the x locations for the groups\n",
    "width = 0.35       # the width of the bars: can also be len(x) sequence\n",
    "\n",
    "p1 = plt.plot(ind, percent, color='royalblue', linestyle='-', marker='o',)\n",
    "\n",
    "plt.xlabel('Time interval')\n",
    "plt.ylabel('%')\n",
    "\n",
    "plt.title('Ratio of processes with energy consumption \\nwithin 10 kWh range')\n",
    "\n",
    "plt.xticks(ind, ('Feb-Mar', 'Mar-Apr', 'Apr-May', 'May-June', 'June-July',\\\n",
    "                'July-Aug', 'Aug-Sept', 'Sept-Oct','Oct-Nov', 'Nov-Dec',\\\n",
    "                'Dec-Jan'), rotation=90)\n",
    "plt.yticks(range(50,110,10))\n",
    "\n",
    "for i, j in zip(ind, percent):\n",
    "    if (i==6):\n",
    "        ax.annotate(str(int(j)), xy=(i+0.3, j+2), horizontalalignment='left',\n",
    "            verticalalignment='bottom')\n",
    "    else:\n",
    "        ax.annotate(str(int(j)), xy=(i, j+2), horizontalalignment='left',\n",
    "            verticalalignment='bottom')\n",
    "#     plt.text(i, j, str((int(j))) )\n",
    "\n",
    "fig.savefig(os.path.join(Working_dir, 'en_cons_less_10.png'),bbox_extra_artists=(lgd,), bbox_inches='tight')\n",
    "plt.show()"
   ]
  }
 ],
 "metadata": {
  "kernelspec": {
   "display_name": "Python 3",
   "language": "python",
   "name": "python3"
  },
  "language_info": {
   "codemirror_mode": {
    "name": "ipython",
    "version": 3
   },
   "file_extension": ".py",
   "mimetype": "text/x-python",
   "name": "python",
   "nbconvert_exporter": "python",
   "pygments_lexer": "ipython3",
   "version": "3.6.0"
  }
 },
 "nbformat": 4,
 "nbformat_minor": 2
}

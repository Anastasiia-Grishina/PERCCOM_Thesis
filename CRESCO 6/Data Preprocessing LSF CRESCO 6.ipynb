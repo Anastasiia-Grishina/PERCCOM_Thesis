{
 "cells": [
  {
   "cell_type": "code",
   "execution_count": 9,
   "metadata": {
    "collapsed": true
   },
   "outputs": [],
   "source": [
    "import pandas as pd\n",
    "import csv\n",
    "import os\n",
    "import numpy as np\n",
    "import datetime\n",
    "from xlsxwriter.workbook import Workbook\n",
    "from xlsxwriter import Workbook\n",
    "import time\n",
    "import pytz\n"
   ]
  },
  {
   "cell_type": "code",
   "execution_count": 2,
   "metadata": {
    "collapsed": true
   },
   "outputs": [],
   "source": [
    "Working_dir = os.getcwd()\n",
    "Data_dir = os.path.join(Working_dir, \"Raw data\")"
   ]
  },
  {
   "cell_type": "code",
   "execution_count": 3,
   "metadata": {
    "collapsed": true
   },
   "outputs": [],
   "source": [
    "# lsf_df = pd.read_csv( os.path.join( Data_dir, \"LSF_Cresco6_v2.csv\" ), header=0, delimiter=\";\" )\n",
    "lsf_df = pd.read_csv( os.path.join( Data_dir, 'LSF_Cresco6.csv' ), header=0, delimiter=';' )"
   ]
  },
  {
   "cell_type": "code",
   "execution_count": 4,
   "metadata": {},
   "outputs": [
    {
     "data": {
      "text/html": [
       "<div>\n",
       "<style scoped>\n",
       "    .dataframe tbody tr th:only-of-type {\n",
       "        vertical-align: middle;\n",
       "    }\n",
       "\n",
       "    .dataframe tbody tr th {\n",
       "        vertical-align: top;\n",
       "    }\n",
       "\n",
       "    .dataframe thead th {\n",
       "        text-align: right;\n",
       "    }\n",
       "</style>\n",
       "<table border=\"1\" class=\"dataframe\">\n",
       "  <thead>\n",
       "    <tr style=\"text-align: right;\">\n",
       "      <th></th>\n",
       "      <th>id</th>\n",
       "      <th>jobid</th>\n",
       "      <th>numcores</th>\n",
       "      <th>user</th>\n",
       "      <th>queue</th>\n",
       "      <th>directory</th>\n",
       "      <th>executable</th>\n",
       "      <th>jobstatus</th>\n",
       "      <th>start</th>\n",
       "      <th>stop</th>\n",
       "      <th>numhost</th>\n",
       "    </tr>\n",
       "  </thead>\n",
       "  <tbody>\n",
       "    <tr>\n",
       "      <th>0</th>\n",
       "      <td>1</td>\n",
       "      <td>51659</td>\n",
       "      <td>1</td>\n",
       "      <td>lsf</td>\n",
       "      <td>cresco6_h1</td>\n",
       "      <td>/afs/.enea.it/software/lsf/9.1.3/portici/conf</td>\n",
       "      <td>hostname</td>\n",
       "      <td>EXIT</td>\n",
       "      <td>1528886340</td>\n",
       "      <td>1528886343</td>\n",
       "      <td>1</td>\n",
       "    </tr>\n",
       "    <tr>\n",
       "      <th>1</th>\n",
       "      <td>2</td>\n",
       "      <td>51936</td>\n",
       "      <td>192</td>\n",
       "      <td>guarnier</td>\n",
       "      <td>cresco6_test</td>\n",
       "      <td>MPIHELLO</td>\n",
       "      <td>./submit.sh</td>\n",
       "      <td>EXIT</td>\n",
       "      <td>1528896981</td>\n",
       "      <td>1528896985</td>\n",
       "      <td>4</td>\n",
       "    </tr>\n",
       "    <tr>\n",
       "      <th>2</th>\n",
       "      <td>3</td>\n",
       "      <td>51939</td>\n",
       "      <td>192</td>\n",
       "      <td>guarnier</td>\n",
       "      <td>cresco6_test</td>\n",
       "      <td>MPIHELLO</td>\n",
       "      <td>./submit.sh</td>\n",
       "      <td>EXIT</td>\n",
       "      <td>1528897444</td>\n",
       "      <td>1528897447</td>\n",
       "      <td>4</td>\n",
       "    </tr>\n",
       "    <tr>\n",
       "      <th>3</th>\n",
       "      <td>4</td>\n",
       "      <td>51940</td>\n",
       "      <td>192</td>\n",
       "      <td>guarnier</td>\n",
       "      <td>cresco6_test</td>\n",
       "      <td>MPIHELLO</td>\n",
       "      <td>./submit.sh</td>\n",
       "      <td>EXIT</td>\n",
       "      <td>1528897682</td>\n",
       "      <td>1528897683</td>\n",
       "      <td>4</td>\n",
       "    </tr>\n",
       "    <tr>\n",
       "      <th>4</th>\n",
       "      <td>5</td>\n",
       "      <td>51942</td>\n",
       "      <td>192</td>\n",
       "      <td>guarnier</td>\n",
       "      <td>cresco6_test</td>\n",
       "      <td>MPIHELLO</td>\n",
       "      <td>./submit.sh</td>\n",
       "      <td>EXIT</td>\n",
       "      <td>1528897832</td>\n",
       "      <td>1528897837</td>\n",
       "      <td>4</td>\n",
       "    </tr>\n",
       "  </tbody>\n",
       "</table>\n",
       "</div>"
      ],
      "text/plain": [
       "   id  jobid  numcores      user         queue  \\\n",
       "0   1  51659         1       lsf    cresco6_h1   \n",
       "1   2  51936       192  guarnier  cresco6_test   \n",
       "2   3  51939       192  guarnier  cresco6_test   \n",
       "3   4  51940       192  guarnier  cresco6_test   \n",
       "4   5  51942       192  guarnier  cresco6_test   \n",
       "\n",
       "                                       directory   executable jobstatus  \\\n",
       "0  /afs/.enea.it/software/lsf/9.1.3/portici/conf     hostname      EXIT   \n",
       "1                                       MPIHELLO  ./submit.sh      EXIT   \n",
       "2                                       MPIHELLO  ./submit.sh      EXIT   \n",
       "3                                       MPIHELLO  ./submit.sh      EXIT   \n",
       "4                                       MPIHELLO  ./submit.sh      EXIT   \n",
       "\n",
       "        start        stop  numhost  \n",
       "0  1528886340  1528886343        1  \n",
       "1  1528896981  1528896985        4  \n",
       "2  1528897444  1528897447        4  \n",
       "3  1528897682  1528897683        4  \n",
       "4  1528897832  1528897837        4  "
      ]
     },
     "execution_count": 4,
     "metadata": {},
     "output_type": "execute_result"
    }
   ],
   "source": [
    "lsf_df.head()"
   ]
  },
  {
   "cell_type": "markdown",
   "metadata": {},
   "source": [
    "-----\n",
    "## Minimal preprocessing\n",
    "- Convert unix timestamps to datetime format\n",
    "- Sort jobs by finish time "
   ]
  },
  {
   "cell_type": "code",
   "execution_count": 55,
   "metadata": {},
   "outputs": [],
   "source": [
    "# # tz - makes it a localized timestamp\n",
    "# tz = pytz.timezone('Europe/Rome')\n",
    "# lsf_df['start_timestamp_py'] = lsf_df['start'].apply(lambda x: datetime.datetime.fromtimestamp(x, tz))\n",
    "# lsf_df['stop_timestamp_py'] = lsf_df['stop'].apply(lambda x: datetime.datetime.fromtimestamp(x, tz))"
   ]
  },
  {
   "cell_type": "code",
   "execution_count": 57,
   "metadata": {
    "collapsed": true
   },
   "outputs": [],
   "source": [
    "# fromtimestamp - local timestamp\n",
    "lsf_df['start_timestamp_py'] = lsf_df['start'].apply(lambda x: datetime.datetime.fromtimestamp(x))\n",
    "lsf_df['stop_timestamp_py'] = lsf_df['stop'].apply(lambda x: datetime.datetime.fromtimestamp(x))"
   ]
  },
  {
   "cell_type": "code",
   "execution_count": 58,
   "metadata": {
    "collapsed": true
   },
   "outputs": [],
   "source": [
    "lsf_df = lsf_df.sort_values('start_timestamp_py')"
   ]
  },
  {
   "cell_type": "code",
   "execution_count": 59,
   "metadata": {},
   "outputs": [
    {
     "data": {
      "text/html": [
       "<div>\n",
       "<style scoped>\n",
       "    .dataframe tbody tr th:only-of-type {\n",
       "        vertical-align: middle;\n",
       "    }\n",
       "\n",
       "    .dataframe tbody tr th {\n",
       "        vertical-align: top;\n",
       "    }\n",
       "\n",
       "    .dataframe thead th {\n",
       "        text-align: right;\n",
       "    }\n",
       "</style>\n",
       "<table border=\"1\" class=\"dataframe\">\n",
       "  <thead>\n",
       "    <tr style=\"text-align: right;\">\n",
       "      <th></th>\n",
       "      <th>id</th>\n",
       "      <th>jobid</th>\n",
       "      <th>numcores</th>\n",
       "      <th>user</th>\n",
       "      <th>queue</th>\n",
       "      <th>directory</th>\n",
       "      <th>executable</th>\n",
       "      <th>jobstatus</th>\n",
       "      <th>start</th>\n",
       "      <th>stop</th>\n",
       "      <th>numhost</th>\n",
       "      <th>start_timestamp_py</th>\n",
       "      <th>stop_timestamp_py</th>\n",
       "    </tr>\n",
       "  </thead>\n",
       "  <tbody>\n",
       "    <tr>\n",
       "      <th>0</th>\n",
       "      <td>1</td>\n",
       "      <td>51659</td>\n",
       "      <td>1</td>\n",
       "      <td>lsf</td>\n",
       "      <td>cresco6_h1</td>\n",
       "      <td>/afs/.enea.it/software/lsf/9.1.3/portici/conf</td>\n",
       "      <td>hostname</td>\n",
       "      <td>EXIT</td>\n",
       "      <td>1528886340</td>\n",
       "      <td>1528886343</td>\n",
       "      <td>1</td>\n",
       "      <td>2018-06-13 12:39:00</td>\n",
       "      <td>2018-06-13 12:39:03</td>\n",
       "    </tr>\n",
       "    <tr>\n",
       "      <th>1</th>\n",
       "      <td>2</td>\n",
       "      <td>51936</td>\n",
       "      <td>192</td>\n",
       "      <td>guarnier</td>\n",
       "      <td>cresco6_test</td>\n",
       "      <td>MPIHELLO</td>\n",
       "      <td>./submit.sh</td>\n",
       "      <td>EXIT</td>\n",
       "      <td>1528896981</td>\n",
       "      <td>1528896985</td>\n",
       "      <td>4</td>\n",
       "      <td>2018-06-13 15:36:21</td>\n",
       "      <td>2018-06-13 15:36:25</td>\n",
       "    </tr>\n",
       "    <tr>\n",
       "      <th>2</th>\n",
       "      <td>3</td>\n",
       "      <td>51939</td>\n",
       "      <td>192</td>\n",
       "      <td>guarnier</td>\n",
       "      <td>cresco6_test</td>\n",
       "      <td>MPIHELLO</td>\n",
       "      <td>./submit.sh</td>\n",
       "      <td>EXIT</td>\n",
       "      <td>1528897444</td>\n",
       "      <td>1528897447</td>\n",
       "      <td>4</td>\n",
       "      <td>2018-06-13 15:44:04</td>\n",
       "      <td>2018-06-13 15:44:07</td>\n",
       "    </tr>\n",
       "    <tr>\n",
       "      <th>3</th>\n",
       "      <td>4</td>\n",
       "      <td>51940</td>\n",
       "      <td>192</td>\n",
       "      <td>guarnier</td>\n",
       "      <td>cresco6_test</td>\n",
       "      <td>MPIHELLO</td>\n",
       "      <td>./submit.sh</td>\n",
       "      <td>EXIT</td>\n",
       "      <td>1528897682</td>\n",
       "      <td>1528897683</td>\n",
       "      <td>4</td>\n",
       "      <td>2018-06-13 15:48:02</td>\n",
       "      <td>2018-06-13 15:48:03</td>\n",
       "    </tr>\n",
       "    <tr>\n",
       "      <th>4</th>\n",
       "      <td>5</td>\n",
       "      <td>51942</td>\n",
       "      <td>192</td>\n",
       "      <td>guarnier</td>\n",
       "      <td>cresco6_test</td>\n",
       "      <td>MPIHELLO</td>\n",
       "      <td>./submit.sh</td>\n",
       "      <td>EXIT</td>\n",
       "      <td>1528897832</td>\n",
       "      <td>1528897837</td>\n",
       "      <td>4</td>\n",
       "      <td>2018-06-13 15:50:32</td>\n",
       "      <td>2018-06-13 15:50:37</td>\n",
       "    </tr>\n",
       "  </tbody>\n",
       "</table>\n",
       "</div>"
      ],
      "text/plain": [
       "   id  jobid  numcores      user         queue  \\\n",
       "0   1  51659         1       lsf    cresco6_h1   \n",
       "1   2  51936       192  guarnier  cresco6_test   \n",
       "2   3  51939       192  guarnier  cresco6_test   \n",
       "3   4  51940       192  guarnier  cresco6_test   \n",
       "4   5  51942       192  guarnier  cresco6_test   \n",
       "\n",
       "                                       directory   executable jobstatus  \\\n",
       "0  /afs/.enea.it/software/lsf/9.1.3/portici/conf     hostname      EXIT   \n",
       "1                                       MPIHELLO  ./submit.sh      EXIT   \n",
       "2                                       MPIHELLO  ./submit.sh      EXIT   \n",
       "3                                       MPIHELLO  ./submit.sh      EXIT   \n",
       "4                                       MPIHELLO  ./submit.sh      EXIT   \n",
       "\n",
       "        start        stop  numhost  start_timestamp_py   stop_timestamp_py  \n",
       "0  1528886340  1528886343        1 2018-06-13 12:39:00 2018-06-13 12:39:03  \n",
       "1  1528896981  1528896985        4 2018-06-13 15:36:21 2018-06-13 15:36:25  \n",
       "2  1528897444  1528897447        4 2018-06-13 15:44:04 2018-06-13 15:44:07  \n",
       "3  1528897682  1528897683        4 2018-06-13 15:48:02 2018-06-13 15:48:03  \n",
       "4  1528897832  1528897837        4 2018-06-13 15:50:32 2018-06-13 15:50:37  "
      ]
     },
     "execution_count": 59,
     "metadata": {},
     "output_type": "execute_result"
    }
   ],
   "source": [
    "lsf_df.head()"
   ]
  },
  {
   "cell_type": "markdown",
   "metadata": {},
   "source": [
    "### Zero stop time observed in the following number of cases"
   ]
  },
  {
   "cell_type": "code",
   "execution_count": 60,
   "metadata": {},
   "outputs": [
    {
     "name": "stdout",
     "output_type": "stream",
     "text": [
      "10543 \n",
      "Missing data percentage 39.09\n"
     ]
    }
   ],
   "source": [
    "print(lsf_df[lsf_df.stop == 0].shape[0], \"\\nMissing data percentage\", \\\n",
    "      round(lsf_df[lsf_df.stop == 0].shape[0]/lsf_df.shape[0]*100, 2))"
   ]
  },
  {
   "cell_type": "markdown",
   "metadata": {},
   "source": [
    "### Missing data is observed in the folowing period"
   ]
  },
  {
   "cell_type": "code",
   "execution_count": 61,
   "metadata": {},
   "outputs": [
    {
     "data": {
      "text/plain": [
       "(Timestamp('2018-06-14 18:54:44'), Timestamp('2018-12-12 11:23:06'))"
      ]
     },
     "execution_count": 61,
     "metadata": {},
     "output_type": "execute_result"
    }
   ],
   "source": [
    "lsf_df[lsf_df.stop == 0]['start_timestamp_py'].min(), lsf_df[lsf_df.stop == 0]['start_timestamp_py'].max()"
   ]
  },
  {
   "cell_type": "markdown",
   "metadata": {},
   "source": [
    "### While the dataset covers the period"
   ]
  },
  {
   "cell_type": "code",
   "execution_count": 62,
   "metadata": {},
   "outputs": [
    {
     "name": "stdout",
     "output_type": "stream",
     "text": [
      "Start:\t 2018-06-13 12:39:00 \n",
      "Stop:\t 2018-12-13 09:20:57\n"
     ]
    }
   ],
   "source": [
    "print( 'Start:\\t', lsf_df['start_timestamp_py'].min(), '\\nStop:\\t', lsf_df['stop_timestamp_py'].max() )"
   ]
  },
  {
   "cell_type": "markdown",
   "metadata": {},
   "source": [
    "### Job id of jobs with 0 stop time submitted by different users"
   ]
  },
  {
   "cell_type": "code",
   "execution_count": 63,
   "metadata": {
    "collapsed": true
   },
   "outputs": [],
   "source": [
    "jobids = lsf_df[(lsf_df.stop == 0)]['jobid']"
   ]
  },
  {
   "cell_type": "markdown",
   "metadata": {},
   "source": [
    "### Any other stop/start time errors"
   ]
  },
  {
   "cell_type": "code",
   "execution_count": 64,
   "metadata": {},
   "outputs": [
    {
     "data": {
      "text/plain": [
       "array([], shape=(0, 1), dtype=int64)"
      ]
     },
     "execution_count": 64,
     "metadata": {},
     "output_type": "execute_result"
    }
   ],
   "source": [
    "np.argwhere((lsf_df[lsf_df.stop == 0].index == lsf_df[lsf_df.stop < lsf_df.start].index)==False)"
   ]
  },
  {
   "cell_type": "markdown",
   "metadata": {},
   "source": [
    "No"
   ]
  },
  {
   "cell_type": "markdown",
   "metadata": {},
   "source": [
    "### Users who submitted jobs with zero reported stop time"
   ]
  },
  {
   "cell_type": "code",
   "execution_count": 21,
   "metadata": {},
   "outputs": [
    {
     "name": "stdout",
     "output_type": "stream",
     "text": [
      "['iannone' 'guarnier' 'vlad' 'adani' 'anavf' 'sergio' 'disidoro' 'gusso'\n",
      " 'eugenio' 'sannino2' 'briganti' 'ambrosin' 'vfain' 'cappelle' 'romanelg'\n",
      " 'giuseps' 'calchett' 'aprea' 'dinardo' 'pergreff' 'gutierre' 'denicola'\n",
      " 'gianninl' 'dcecere' 'zhao' 'buonocor' 'kb' 'pconsole' 'polidori'\n",
      " 'palombi' 'crescenz' 'acolange' 'cannunz' 'amchiar' 'meineri' 'battista'] \n",
      " 36\n"
     ]
    }
   ],
   "source": [
    "lsf_df[lsf_df.stop == 0][\"user\"].unique(), '\\n', len(lsf_df[lsf_df.stop == 0][\"user\"].unique()))"
   ]
  },
  {
   "cell_type": "code",
   "execution_count": 65,
   "metadata": {},
   "outputs": [],
   "source": [
    "unique_users_jobids = lsf_df[lsf_df.stop == 0].drop_duplicates('user')[['jobid', 'user', 'start', 'stop']]\n",
    "\n",
    "excel_writer_unique_users_jobids = pd.ExcelWriter( os.path.join( Data_dir, \"LSF_Cresco6_zero_stop_time.xlsx\"))\n",
    "unique_users_jobids.to_excel(excel_writer_unique_users_jobids)\n",
    "excel_writer_unique_users_jobids.save()\n",
    "\n",
    "# unique_users_jobids"
   ]
  },
  {
   "cell_type": "markdown",
   "metadata": {},
   "source": [
    "### Numhost parameter for jobs with empty finish time"
   ]
  },
  {
   "cell_type": "code",
   "execution_count": 66,
   "metadata": {},
   "outputs": [
    {
     "data": {
      "text/plain": [
       "array([         0, 1535645928, 1535646037, 1542636100, 1543999309,\n",
       "       1543999348, 1544014268], dtype=int64)"
      ]
     },
     "execution_count": 66,
     "metadata": {},
     "output_type": "execute_result"
    }
   ],
   "source": [
    "lsf_df[lsf_df.stop == 0][\"numhost\"].unique()"
   ]
  },
  {
   "cell_type": "code",
   "execution_count": 67,
   "metadata": {},
   "outputs": [
    {
     "name": "stdout",
     "output_type": "stream",
     "text": [
      "Number of cases when numhost parameter == 0:  10531\n"
     ]
    }
   ],
   "source": [
    "print(\"Number of cases when numhost parameter == 0: \", lsf_df[(lsf_df.stop == 0) & (lsf_df.numhost == 0)].shape[0])"
   ]
  },
  {
   "cell_type": "markdown",
   "metadata": {},
   "source": [
    "### Application names of jobs with zero finish time"
   ]
  },
  {
   "cell_type": "code",
   "execution_count": 68,
   "metadata": {},
   "outputs": [
    {
     "name": "stdout",
     "output_type": "stream",
     "text": [
      "Unique names: 357\n"
     ]
    }
   ],
   "source": [
    "print( \"Unique names:\", len(lsf_df[lsf_df.stop == 0][\"executable\"].unique()))"
   ]
  },
  {
   "cell_type": "code",
   "execution_count": 70,
   "metadata": {},
   "outputs": [],
   "source": [
    "# lsf_df[lsf_df.stop == 0][\"executable\"].unique()"
   ]
  },
  {
   "cell_type": "markdown",
   "metadata": {},
   "source": [
    "### Directory names of jobs with zero finish time"
   ]
  },
  {
   "cell_type": "code",
   "execution_count": 72,
   "metadata": {},
   "outputs": [
    {
     "name": "stdout",
     "output_type": "stream",
     "text": [
      "Unique directory names: 470\n"
     ]
    }
   ],
   "source": [
    "print( \"Unique directory names:\", len(lsf_df[lsf_df.stop == 0][\"directory\"].unique()))"
   ]
  },
  {
   "cell_type": "code",
   "execution_count": 71,
   "metadata": {},
   "outputs": [],
   "source": [
    "# lsf_df[lsf_df.stop == 0][\"directory\"].unique()"
   ]
  },
  {
   "cell_type": "markdown",
   "metadata": {},
   "source": [
    "### Number of cores used by jobs with error in finish time"
   ]
  },
  {
   "cell_type": "code",
   "execution_count": 73,
   "metadata": {},
   "outputs": [
    {
     "data": {
      "text/plain": [
       "(1, 10032)"
      ]
     },
     "execution_count": 73,
     "metadata": {},
     "output_type": "execute_result"
    }
   ],
   "source": [
    "lsf_df[lsf_df.stop == 0][\"numcores\"].min(), lsf_df[lsf_df.stop == 0][\"numcores\"].max()"
   ]
  },
  {
   "cell_type": "code",
   "execution_count": 74,
   "metadata": {},
   "outputs": [
    {
     "name": "stdout",
     "output_type": "stream",
     "text": [
      "Number of cores variation: 65 unique values\n"
     ]
    }
   ],
   "source": [
    "print(\"Number of cores variation:\", len(lsf_df[lsf_df.stop == 0][\"numcores\"].unique()), \"unique values\")"
   ]
  },
  {
   "cell_type": "markdown",
   "metadata": {},
   "source": [
    "### Unique queue names when stop time != 0"
   ]
  },
  {
   "cell_type": "code",
   "execution_count": 77,
   "metadata": {},
   "outputs": [
    {
     "data": {
      "text/plain": [
       "array(['cresco6_h1', 'cresco6_test', 'hpc_ha_h24', 'system',\n",
       "       'cresco6_48h24', 'small_10m', 'cresco6_h144', 'cresco4_16h24',\n",
       "       'cresco6_h4'], dtype=object)"
      ]
     },
     "execution_count": 77,
     "metadata": {},
     "output_type": "execute_result"
    }
   ],
   "source": [
    "lsf_df[lsf_df.stop != 0].queue.unique()"
   ]
  },
  {
   "cell_type": "markdown",
   "metadata": {},
   "source": [
    "## Data inconsistency note\n",
    "- 10543 entries with 0 as stop unix timestamp, which is 39% of all entries\n",
    "- The entries are spread throughout all the months of June - December 2018\n",
    "\n",
    "# Important\n",
    "If not agreed otherwise, these entries should be discarded\n",
    "\n",
    "------"
   ]
  },
  {
   "cell_type": "markdown",
   "metadata": {},
   "source": [
    "### Data covers the following period"
   ]
  },
  {
   "cell_type": "code",
   "execution_count": 75,
   "metadata": {},
   "outputs": [
    {
     "name": "stdout",
     "output_type": "stream",
     "text": [
      "2018-06-13 12:39:00  -  2018-12-13 09:20:57\n"
     ]
    }
   ],
   "source": [
    "print(lsf_df.start_timestamp_py.min(), \" - \",  lsf_df.stop_timestamp_py.max())"
   ]
  },
  {
   "cell_type": "markdown",
   "metadata": {},
   "source": [
    "### Data describes processing of the following number of jobs"
   ]
  },
  {
   "cell_type": "code",
   "execution_count": 28,
   "metadata": {},
   "outputs": [
    {
     "data": {
      "text/plain": [
       "26332"
      ]
     },
     "execution_count": 28,
     "metadata": {},
     "output_type": "execute_result"
    }
   ],
   "source": [
    "len(lsf_df.jobid.unique())"
   ]
  },
  {
   "cell_type": "markdown",
   "metadata": {},
   "source": [
    "### Percentage of unique jobs out of all records"
   ]
  },
  {
   "cell_type": "code",
   "execution_count": 31,
   "metadata": {},
   "outputs": [
    {
     "data": {
      "text/plain": [
       "97.63"
      ]
     },
     "execution_count": 31,
     "metadata": {},
     "output_type": "execute_result"
    }
   ],
   "source": [
    "round(len(lsf_df.jobid.unique())/lsf_df.shape[0]*100, 2)"
   ]
  },
  {
   "cell_type": "markdown",
   "metadata": {},
   "source": [
    "### Checking for duplicates"
   ]
  },
  {
   "cell_type": "code",
   "execution_count": 60,
   "metadata": {},
   "outputs": [
    {
     "data": {
      "text/html": [
       "<div>\n",
       "<style scoped>\n",
       "    .dataframe tbody tr th:only-of-type {\n",
       "        vertical-align: middle;\n",
       "    }\n",
       "\n",
       "    .dataframe tbody tr th {\n",
       "        vertical-align: top;\n",
       "    }\n",
       "\n",
       "    .dataframe thead th {\n",
       "        text-align: right;\n",
       "    }\n",
       "</style>\n",
       "<table border=\"1\" class=\"dataframe\">\n",
       "  <thead>\n",
       "    <tr style=\"text-align: right;\">\n",
       "      <th></th>\n",
       "      <th>id</th>\n",
       "      <th>jobid</th>\n",
       "      <th>numcores</th>\n",
       "      <th>user</th>\n",
       "      <th>queue</th>\n",
       "      <th>directory</th>\n",
       "      <th>executable</th>\n",
       "      <th>jobstatus</th>\n",
       "      <th>start</th>\n",
       "      <th>stop</th>\n",
       "      <th>numhost</th>\n",
       "      <th>start_timestamp_py</th>\n",
       "      <th>stop_timestamp_py</th>\n",
       "    </tr>\n",
       "  </thead>\n",
       "  <tbody>\n",
       "  </tbody>\n",
       "</table>\n",
       "</div>"
      ],
      "text/plain": [
       "Empty DataFrame\n",
       "Columns: [id, jobid, numcores, user, queue, directory, executable, jobstatus, start, stop, numhost, start_timestamp_py, stop_timestamp_py]\n",
       "Index: []"
      ]
     },
     "execution_count": 60,
     "metadata": {},
     "output_type": "execute_result"
    }
   ],
   "source": [
    "lsf_df[lsf_df.duplicated(keep=False)]"
   ]
  },
  {
   "cell_type": "markdown",
   "metadata": {},
   "source": [
    "No duplicates found"
   ]
  },
  {
   "cell_type": "markdown",
   "metadata": {},
   "source": [
    "\n",
    "\n",
    "\n",
    "----------------\n",
    "\n",
    "# From this time on - analysis is performed on jobs with non-zero stop time"
   ]
  },
  {
   "cell_type": "markdown",
   "metadata": {},
   "source": [
    "## Add duration of all the jobs processing "
   ]
  },
  {
   "cell_type": "code",
   "execution_count": 53,
   "metadata": {
    "collapsed": true
   },
   "outputs": [],
   "source": [
    "lsf_df_cleaned_v1 = lsf_df[lsf_df.stop != 0].copy()"
   ]
  },
  {
   "cell_type": "code",
   "execution_count": 54,
   "metadata": {},
   "outputs": [
    {
     "data": {
      "text/html": [
       "<div>\n",
       "<style scoped>\n",
       "    .dataframe tbody tr th:only-of-type {\n",
       "        vertical-align: middle;\n",
       "    }\n",
       "\n",
       "    .dataframe tbody tr th {\n",
       "        vertical-align: top;\n",
       "    }\n",
       "\n",
       "    .dataframe thead th {\n",
       "        text-align: right;\n",
       "    }\n",
       "</style>\n",
       "<table border=\"1\" class=\"dataframe\">\n",
       "  <thead>\n",
       "    <tr style=\"text-align: right;\">\n",
       "      <th></th>\n",
       "      <th>id</th>\n",
       "      <th>jobid</th>\n",
       "      <th>numcores</th>\n",
       "      <th>user</th>\n",
       "      <th>queue</th>\n",
       "      <th>directory</th>\n",
       "      <th>executable</th>\n",
       "      <th>jobstatus</th>\n",
       "      <th>start</th>\n",
       "      <th>stop</th>\n",
       "      <th>numhost</th>\n",
       "      <th>start_timestamp_py</th>\n",
       "      <th>stop_timestamp_py</th>\n",
       "      <th>job_duration_sec</th>\n",
       "    </tr>\n",
       "  </thead>\n",
       "  <tbody>\n",
       "    <tr>\n",
       "      <th>0</th>\n",
       "      <td>1</td>\n",
       "      <td>51659</td>\n",
       "      <td>1</td>\n",
       "      <td>lsf</td>\n",
       "      <td>cresco6_h1</td>\n",
       "      <td>/afs/.enea.it/software/lsf/9.1.3/portici/conf</td>\n",
       "      <td>hostname</td>\n",
       "      <td>32</td>\n",
       "      <td>1528886340</td>\n",
       "      <td>1528886343</td>\n",
       "      <td>1</td>\n",
       "      <td>2018-06-13 10:39:00</td>\n",
       "      <td>2018-06-13 10:39:03</td>\n",
       "      <td>3</td>\n",
       "    </tr>\n",
       "    <tr>\n",
       "      <th>1</th>\n",
       "      <td>2</td>\n",
       "      <td>51936</td>\n",
       "      <td>192</td>\n",
       "      <td>guarnier</td>\n",
       "      <td>cresco6_test</td>\n",
       "      <td>MPIHELLO</td>\n",
       "      <td>./submit.sh</td>\n",
       "      <td>32</td>\n",
       "      <td>1528896981</td>\n",
       "      <td>1528896985</td>\n",
       "      <td>4</td>\n",
       "      <td>2018-06-13 13:36:21</td>\n",
       "      <td>2018-06-13 13:36:25</td>\n",
       "      <td>4</td>\n",
       "    </tr>\n",
       "    <tr>\n",
       "      <th>2</th>\n",
       "      <td>3</td>\n",
       "      <td>51939</td>\n",
       "      <td>192</td>\n",
       "      <td>guarnier</td>\n",
       "      <td>cresco6_test</td>\n",
       "      <td>MPIHELLO</td>\n",
       "      <td>./submit.sh</td>\n",
       "      <td>32</td>\n",
       "      <td>1528897444</td>\n",
       "      <td>1528897447</td>\n",
       "      <td>4</td>\n",
       "      <td>2018-06-13 13:44:04</td>\n",
       "      <td>2018-06-13 13:44:07</td>\n",
       "      <td>3</td>\n",
       "    </tr>\n",
       "    <tr>\n",
       "      <th>3</th>\n",
       "      <td>4</td>\n",
       "      <td>51940</td>\n",
       "      <td>192</td>\n",
       "      <td>guarnier</td>\n",
       "      <td>cresco6_test</td>\n",
       "      <td>MPIHELLO</td>\n",
       "      <td>./submit.sh</td>\n",
       "      <td>32</td>\n",
       "      <td>1528897682</td>\n",
       "      <td>1528897683</td>\n",
       "      <td>4</td>\n",
       "      <td>2018-06-13 13:48:02</td>\n",
       "      <td>2018-06-13 13:48:03</td>\n",
       "      <td>1</td>\n",
       "    </tr>\n",
       "    <tr>\n",
       "      <th>4</th>\n",
       "      <td>5</td>\n",
       "      <td>51942</td>\n",
       "      <td>192</td>\n",
       "      <td>guarnier</td>\n",
       "      <td>cresco6_test</td>\n",
       "      <td>MPIHELLO</td>\n",
       "      <td>./submit.sh</td>\n",
       "      <td>32</td>\n",
       "      <td>1528897832</td>\n",
       "      <td>1528897837</td>\n",
       "      <td>4</td>\n",
       "      <td>2018-06-13 13:50:32</td>\n",
       "      <td>2018-06-13 13:50:37</td>\n",
       "      <td>5</td>\n",
       "    </tr>\n",
       "  </tbody>\n",
       "</table>\n",
       "</div>"
      ],
      "text/plain": [
       "   id  jobid  numcores      user         queue  \\\n",
       "0   1  51659         1       lsf    cresco6_h1   \n",
       "1   2  51936       192  guarnier  cresco6_test   \n",
       "2   3  51939       192  guarnier  cresco6_test   \n",
       "3   4  51940       192  guarnier  cresco6_test   \n",
       "4   5  51942       192  guarnier  cresco6_test   \n",
       "\n",
       "                                       directory   executable jobstatus  \\\n",
       "0  /afs/.enea.it/software/lsf/9.1.3/portici/conf     hostname        32   \n",
       "1                                       MPIHELLO  ./submit.sh        32   \n",
       "2                                       MPIHELLO  ./submit.sh        32   \n",
       "3                                       MPIHELLO  ./submit.sh        32   \n",
       "4                                       MPIHELLO  ./submit.sh        32   \n",
       "\n",
       "        start        stop  numhost  start_timestamp_py   stop_timestamp_py  \\\n",
       "0  1528886340  1528886343        1 2018-06-13 10:39:00 2018-06-13 10:39:03   \n",
       "1  1528896981  1528896985        4 2018-06-13 13:36:21 2018-06-13 13:36:25   \n",
       "2  1528897444  1528897447        4 2018-06-13 13:44:04 2018-06-13 13:44:07   \n",
       "3  1528897682  1528897683        4 2018-06-13 13:48:02 2018-06-13 13:48:03   \n",
       "4  1528897832  1528897837        4 2018-06-13 13:50:32 2018-06-13 13:50:37   \n",
       "\n",
       "   job_duration_sec  \n",
       "0                 3  \n",
       "1                 4  \n",
       "2                 3  \n",
       "3                 1  \n",
       "4                 5  "
      ]
     },
     "execution_count": 54,
     "metadata": {},
     "output_type": "execute_result"
    }
   ],
   "source": [
    "lsf_df_cleaned_v1 = lsf_df_cleaned_v1.assign(job_duration_sec = lsf_df_cleaned_v1.stop - lsf_df_cleaned_v1.start)\n",
    "lsf_df_cleaned_v1.head()"
   ]
  },
  {
   "cell_type": "markdown",
   "metadata": {},
   "source": [
    "## Add full name of executable = \"directory name\" + \"/\" + \"executable name\""
   ]
  },
  {
   "cell_type": "code",
   "execution_count": 66,
   "metadata": {
    "collapsed": true
   },
   "outputs": [],
   "source": [
    "lsf_df_cleaned_v1['executable_full_name'] = \\\n",
    "lsf_df_cleaned_v1['directory'].apply(lambda x: \\\n",
    "                                     str(x) if type(x) in (float, int) else x ) + \"/\" \\\n",
    "+ lsf_df_cleaned_v1[\"executable\"].apply( lambda x: str(x) if type(x) in (float, int) else \\\n",
    "                                    (x.strftime('%H-%M-%S') if type(x)==datetime.datetime else x) )"
   ]
  },
  {
   "cell_type": "code",
   "execution_count": 72,
   "metadata": {},
   "outputs": [
    {
     "data": {
      "text/plain": [
       "('/afs/.enea.it/software/lsf/9.1.3/portici/conf/hostname',\n",
       " '/afs/.enea.it/software/lsf/9.1.3/portici/conf',\n",
       " 'hostname')"
      ]
     },
     "execution_count": 72,
     "metadata": {},
     "output_type": "execute_result"
    }
   ],
   "source": [
    "lsf_df_cleaned_v1.loc[0, \"executable_full_name\"], \\\n",
    "lsf_df_cleaned_v1.loc[0, \"directory\"], \\\n",
    "lsf_df_cleaned_v1.loc[0, \"executable\"]"
   ]
  },
  {
   "cell_type": "markdown",
   "metadata": {},
   "source": [
    "## Unique jobids correspond to unique names?"
   ]
  },
  {
   "cell_type": "code",
   "execution_count": 82,
   "metadata": {},
   "outputs": [
    {
     "data": {
      "text/plain": [
       "(15835, 4387)"
      ]
     },
     "execution_count": 82,
     "metadata": {},
     "output_type": "execute_result"
    }
   ],
   "source": [
    "len(lsf_df_cleaned_v1.jobid.unique()), len(lsf_df_cleaned_v1.executable_full_name.unique())"
   ]
  },
  {
   "cell_type": "markdown",
   "metadata": {},
   "source": [
    "No"
   ]
  },
  {
   "cell_type": "code",
   "execution_count": 83,
   "metadata": {
    "collapsed": true
   },
   "outputs": [],
   "source": [
    "excel_writer_lsf_cleaned = pd.ExcelWriter( os.path.join( Data_dir, \"LSF_Cresco6_cleaned.xlsx\"))\n",
    "lsf_df_cleaned_v1.to_excel(excel_writer_lsf_cleaned)\n",
    "excel_writer_lsf_cleaned.save()"
   ]
  },
  {
   "cell_type": "markdown",
   "metadata": {},
   "source": [
    "## Queues names"
   ]
  },
  {
   "cell_type": "code",
   "execution_count": 33,
   "metadata": {},
   "outputs": [
    {
     "name": "stdout",
     "output_type": "stream",
     "text": [
      "['cresco4_16h24' 'cresco6_48h24' 'cresco6_h1' 'cresco6_h144' 'cresco6_h4'\n",
      " 'cresco6_test' 'hpc_ha_h24' 'small_10m' 'system']\n"
     ]
    }
   ],
   "source": [
    "print( np.unique(lsf_df.queue) )"
   ]
  },
  {
   "cell_type": "markdown",
   "metadata": {},
   "source": [
    "-----------"
   ]
  },
  {
   "cell_type": "markdown",
   "metadata": {},
   "source": [
    "# Info needed\n",
    "- queue duration - maybe\n",
    "- discuss a question of jobs with finish time == 0 (39% of all the data entries/rows)\n",
    "- discuss what to use from the dataset"
   ]
  }
 ],
 "metadata": {
  "kernelspec": {
   "display_name": "Python 3",
   "language": "python",
   "name": "python3"
  },
  "language_info": {
   "codemirror_mode": {
    "name": "ipython",
    "version": 3
   },
   "file_extension": ".py",
   "mimetype": "text/x-python",
   "name": "python",
   "nbconvert_exporter": "python",
   "pygments_lexer": "ipython3",
   "version": "3.5.2"
  }
 },
 "nbformat": 4,
 "nbformat_minor": 2
}

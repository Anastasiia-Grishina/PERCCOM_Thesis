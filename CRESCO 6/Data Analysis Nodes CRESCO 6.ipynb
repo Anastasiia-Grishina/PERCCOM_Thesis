{
 "cells": [
  {
   "cell_type": "code",
   "execution_count": 1,
   "metadata": {
    "collapsed": true
   },
   "outputs": [],
   "source": [
    "import pandas as pd\n",
    "import csv\n",
    "import os\n",
    "import numpy as np\n",
    "import pytz\n",
    "import datetime\n",
    "from xlsxwriter.workbook import Workbook\n",
    "from xlsxwriter import Workbook\n",
    "import time\n",
    "from scipy import integrate, stats\n",
    "import scipy\n",
    "import matplotlib.pyplot as plt\n",
    "from functools import reduce\n",
    "from sklearn import preprocessing\n",
    "from sklearn.preprocessing import MinMaxScaler\n",
    "import re\n",
    "import collections\n",
    "\n",
    "# %matplotlib inline"
   ]
  },
  {
   "cell_type": "code",
   "execution_count": 2,
   "metadata": {
    "collapsed": true
   },
   "outputs": [],
   "source": [
    "Working_dir = os.getcwd()\n",
    "Data_dir = os.path.join(Working_dir, 'Raw data')\n",
    "Data_prep_dir = os.path.join(Working_dir, 'Preprocessed data')\n",
    "Output_dir = os.path.join(Working_dir, 'Analysis')\n",
    "Plots_dir = os.path.join(Output_dir, 'Plots')"
   ]
  },
  {
   "cell_type": "code",
   "execution_count": 3,
   "metadata": {
    "collapsed": true
   },
   "outputs": [],
   "source": [
    "nodes_file_names = ['May2018_idle.csv', 'June2018_idle.csv', 'July2018_idle.csv', \\\n",
    "                    'September2018.csv', 'October2018.csv', 'November2018.csv', \\\n",
    "                    'December2018.csv' , 'January2019.csv', 'February2019.csv']\n",
    "nodes_df_names = [item.split('.')[0] for item in nodes_file_names]\n",
    "nodes_stats_ = 'nodes_stats_'\n",
    "node_df_may = pd.read_csv( os.path.join( Output_dir, nodes_stats_ + 'May2018_idle.csv'), delimiter=\";\", header=0, index_col=0 )\n",
    "node_names = node_df_may.columns.values\n",
    "idle_power_mean = 185.18\n",
    "temp_types = ['exh', 'inlet', 'cpu1', 'cpu2']"
   ]
  },
  {
   "cell_type": "markdown",
   "metadata": {},
   "source": [
    "### Read stats with \"temp_no_outliers\" or \"temp_variation\"\n",
    "- \"temp_no_outliers\" \n",
    "        large infrequent (appear in <1e-1 % of cases for each month) variations between successive measurements that happen within are deleted\n",
    "- \"temp_variation\" \n",
    "        calculated variation of temperature for evey node within a month\n",
    "        dropped cases when abs(temp) > 100\n",
    "        "
   ]
  },
  {
   "cell_type": "code",
   "execution_count": 4,
   "metadata": {
    "collapsed": true
   },
   "outputs": [],
   "source": [
    "# name_suffix = '_temp_no_outliers'\n",
    "name_suffix = '_temp_variation'\n",
    "# name_suffix = ''"
   ]
  },
  {
   "cell_type": "code",
   "execution_count": 5,
   "metadata": {
    "collapsed": true
   },
   "outputs": [],
   "source": [
    "# Read preprocessed data\n",
    "data_prep_df = {}\n",
    "for df_name in nodes_df_names:\n",
    "        data_prep_df[df_name] = pd.read_csv( os.path.join( Data_prep_dir, df_name + name_suffix + '.csv'), \\\n",
    "                                             delimiter=\";\", header=0 )"
   ]
  },
  {
   "cell_type": "code",
   "execution_count": 6,
   "metadata": {
    "collapsed": true
   },
   "outputs": [],
   "source": [
    "nodes_df_dict = {}\n",
    "for file_name, df_name in zip(nodes_file_names, nodes_df_names):\n",
    "    nodes_df_dict[df_name] = pd.read_csv(os.path.join( Output_dir, nodes_stats_ + df_name + name_suffix + '.csv' ), \\\n",
    "                                         delimiter=\";\", header=0, index_col=0)\n",
    "    to_drop_ix = np.unique(np.append(\\\n",
    "                                     np.where(nodes_df_dict[df_name].loc['dcenergy_error_percent', :].isna())[0], \\\n",
    "                                     np.where(nodes_df_dict[df_name].loc['dcenergy_error_percent', :] > 5.)[0]))\n",
    "    to_drop = nodes_df_dict[df_name].iloc[:,to_drop_ix].columns.values\n",
    "    nodes_df_dict[df_name].drop(columns=to_drop, inplace=True)\n",
    "    \n",
    "nodes_no_drop_df_dict = {}\n",
    "for file_name, df_name in zip(nodes_file_names, nodes_df_names):\n",
    "    nodes_no_drop_df_dict[df_name] = pd.read_csv(os.path.join( Output_dir, nodes_stats_ + df_name + name_suffix + '.csv' ), \\\n",
    "                                         delimiter=\";\", header=0, index_col=0)"
   ]
  },
  {
   "cell_type": "code",
   "execution_count": 7,
   "metadata": {
    "collapsed": true
   },
   "outputs": [],
   "source": [
    "nodes_summary_df         = pd.read_csv(os.path.join( Output_dir, \\\n",
    "                                                    'nodes_summary_all_months' + name_suffix + '.csv'), sep=\";\", index_col=0 )\n",
    "nodes_summary_no_drop_df = pd.read_csv(os.path.join( Output_dir, \\\n",
    "                                                    'nodes_summary_all_months_no_drop' + name_suffix + '.csv'), sep=\";\" ) "
   ]
  },
  {
   "cell_type": "code",
   "execution_count": null,
   "metadata": {
    "collapsed": true
   },
   "outputs": [],
   "source": [
    "all_nodes_dict = {}\n",
    "for node in node_names:\n",
    "    all_nodes_dict[node] = pd.read_csv( os.path.join( Data_prep_dir, \\\n",
    "                                                     'Nodes', \\\n",
    "                                                     'Node_'+str(int(node.split('x')[1])) + name_suffix + '.csv'), \\\n",
    "                                        sep=\";\", index_col=0 ) "
   ]
  },
  {
   "cell_type": "code",
   "execution_count": 28,
   "metadata": {
    "collapsed": true
   },
   "outputs": [],
   "source": [
    "# # Read preprocessed data for every node separately for every month\n",
    "# all_nodes_by_month_dict = {}\n",
    "# for df_name in nodes_df_names:\n",
    "#     all_nodes_by_month_dict[df_name] = {}\n",
    "#     for node in node_names:\n",
    "#         node_df = data_prep_df[df_name].copy()\n",
    "#         all_nodes_by_month_dict[df_name][node] = node_df[node_df.nodename == node].copy()"
   ]
  },
  {
   "cell_type": "markdown",
   "metadata": {},
   "source": [
    "## Preprocessing - all the months"
   ]
  },
  {
   "cell_type": "markdown",
   "metadata": {},
   "source": [
    "http://benalexkeen.com/working-with-timezones-in-python/"
   ]
  },
  {
   "cell_type": "code",
   "execution_count": 16,
   "metadata": {},
   "outputs": [
    {
     "name": "stdout",
     "output_type": "stream",
     "text": [
      "Winter Local Time: 14:00\n",
      "Summer Local Time: 14:00\n",
      "Winter UTC Time: 13:00\n",
      "Summer UTC Time: 12:00\n"
     ]
    }
   ],
   "source": [
    "winter_dt = datetime.datetime(2017, 1, 1, 14, 0)\n",
    "print(winter_dt.strftime(\"Winter Local Time: %H:%M\"))\n",
    "\n",
    "summer_dt = datetime.datetime(2017, 7, 1, 14, 0)\n",
    "print(summer_dt.strftime(\"Summer Local Time: %H:%M\"))\n",
    "\n",
    "local_tz = pytz.timezone('Europe/Berlin')\n",
    "target_tz = pytz.timezone('UTC')\n",
    "\n",
    "winter_dt = local_tz.localize(winter_dt)\n",
    "summer_dt = local_tz.localize(summer_dt)\n",
    "\n",
    "winter_dt = target_tz.normalize(winter_dt)\n",
    "summer_dt = target_tz.normalize(summer_dt)\n",
    "\n",
    "print(winter_dt.strftime(\"Winter UTC Time: %H:%M\"))\n",
    "print(summer_dt.strftime(\"Summer UTC Time: %H:%M\"))"
   ]
  },
  {
   "cell_type": "code",
   "execution_count": 10,
   "metadata": {
    "collapsed": true
   },
   "outputs": [],
   "source": [
    "def fmt_converter(x):\n",
    "    fmt_summer = '%a %d %b %H:%M:%S CEST %Y'\n",
    "    fmt_winter = '%a %d %b %H:%M:%S CET %Y'\n",
    "    \n",
    "    datetime_result = datetime.datetime.now()\n",
    "\n",
    "    if 'CEST' in x:\n",
    "        datetime_result = datetime.datetime.strptime(x, fmt_summer)\n",
    "    else: \n",
    "        datetime_result = datetime.datetime.strptime(x, fmt_winter)\n",
    "    return datetime_result\n",
    "\n",
    "def utc_converter(x):\n",
    "    local_tz = pytz.timezone('Europe/Rome')\n",
    "    target_tz = pytz.timezone('UTC')\n",
    "    datetime_init = fmt_converter(x)\n",
    "    datetime_localized = local_tz.localize(datetime_init)\n",
    "    datetime_result = target_tz.normalize(datetime_localized)\n",
    "    return datetime_result\n",
    "\n",
    "def unix_converter(x):\n",
    "    return utc_converter(x).timestamp()"
   ]
  },
  {
   "cell_type": "code",
   "execution_count": 11,
   "metadata": {
    "collapsed": true
   },
   "outputs": [],
   "source": [
    "data_prep_df = {}\n",
    "for file_name, df_name in zip(nodes_file_names, nodes_df_names):\n",
    "    node_df = pd.read_csv( os.path.join( Data_dir, file_name), delimiter=\";\", header=0 )\n",
    "    node_df.dcenergy = node_df.dcenergy.apply(lambda x: float(x.replace(\",\", \".\")) )\n",
    "    node_df.loc[:,'timestamp_py'] = node_df.tempo.apply(fmt_converter)\n",
    "    node_df.loc[:,'unix_timestamp'] = node_df.tempo.apply(unix_converter)\n",
    "    node_df.iloc[:,3:-1] = node_df.iloc[:, 3:-1].\\\n",
    "        apply(lambda y: y.\\\n",
    "                apply(lambda x: \\\n",
    "                      float(x.replace(\",\", \".\")) if type(x)==str else x ))\n",
    "    node_df.drop(columns='timestamp_measure', inplace=True)\n",
    "    node_df.columns = node_df.columns.str.replace('amb_temp', 'inlet_temp')\n",
    "    data_prep_df[df_name] = node_df.copy()\n",
    "    # node_df.to_csv(path_or_buf=os.path.join( Data_prep_dir, month + name_suffix +'.csv'), sep=';', index=False)"
   ]
  },
  {
   "cell_type": "code",
   "execution_count": 21,
   "metadata": {},
   "outputs": [],
   "source": [
    "# for file_name, month in zip(nodes_file_names, nodes_df_names):\n",
    "#     data_prep_df[month].to_csv( path_or_buf=os.path.join( Data_prep_dir, month + name_suffix +'.csv'), sep=';', index=False )"
   ]
  },
  {
   "cell_type": "markdown",
   "metadata": {},
   "source": [
    "### Exclude outliers from temperature measurements based on probability and abs value of drops/rises"
   ]
  },
  {
   "cell_type": "markdown",
   "metadata": {
    "collapsed": true
   },
   "source": [
    "### Done and discarded\n",
    "#### Find nodes and time with abrupt temperature variation \n"
   ]
  },
  {
   "cell_type": "markdown",
   "metadata": {},
   "source": [
    "1. Study fluctuations of temperature by node\n",
    "    - Clean the values: 0, nan, +/-inf -> skip for each temp type \n",
    "    - Create a dictionary with node names as keys, and all thermal info about the nodes\n",
    "        In the rows where the data about one characterisic is not available, insert np.nan for further easier use\n",
    "    - Add {temp_type}_next_hop columns, for temp_type $\\in$ {CPU1, CPU2, amb, exh}\n",
    "2. Study outliers for future stats tuning - find a range for appropriate thermal values and apply for preprocessed data while calculating stats with the previous algorithm\n",
    "    - min and max of temp_type fluctuations and temperature occurrences\n",
    "    \n",
    "Output:\n",
    "- more precise temperature graphs and metrics calculations"
   ]
  },
  {
   "cell_type": "code",
   "execution_count": 16,
   "metadata": {
    "collapsed": true
   },
   "outputs": [],
   "source": [
    "# Inlet temperature abs variation <= 10\n",
    "# Other temperature abs variation | probability of variation >= 1e-3\n",
    "# 1e-3 - from the counter - such values appear 1-2 times\n",
    "\n",
    "def assign_temp_ranges( temp_values, temp_type, unixtime_values, time_bn_meas_mins=30 ):\n",
    "    temp_fluctuations = pd.Series( data = ( temp_values[1:].values - temp_values[:-1].values ), \\\n",
    "                               index = temp_values.index[1:] )\n",
    "    temp_fluctuations_new = temp_fluctuations.copy()\n",
    "    \n",
    "    \n",
    "        counter       = collections.Counter(temp_fluctuations)\n",
    "        keys, values  = zip( *sorted( zip( [*counter.keys()], [*counter.values()] )))\n",
    "        frequency     = values / np.float64( sum( values ))\n",
    "        outliers_keys = np.array( keys )[np.intersect1d( np.where( frequency < np.float64( 1e-1 ) )[0], \\\n",
    "                                                         np.where( ( keys > np.float64( 20 )) | \\\n",
    "                                                                   ( keys < np.float64( -20 )))[0] )]\n",
    "        \n",
    "        if ( outliers_keys.size != 0 ):\n",
    "            temp_values[ temp_fluctuations[temp_fluctuations.isin( outliers_keys )].index.values ] = np.nan\n",
    "            temp_fluctuations_new[ temp_fluctuations[temp_fluctuations.isin( outliers_keys )].index.values ] = np.nan\n",
    "        \n",
    "        # Check that time difference between consecutive variance entries < chosen interval \n",
    "        # (30 mins by default)\n",
    "    time_difference   = ( unixtime_values[1:].values - \\\n",
    "                        unixtime_values[:-1].values )\n",
    "    time_limit = time_difference < time_bn_meas_mins * 60\n",
    "    temp_fluctuations_new = temp_fluctuations_new[time_limit]\n",
    "        \n",
    "    return temp_values, temp_fluctuations, temp_fluctuations_new"
   ]
  },
  {
   "cell_type": "markdown",
   "metadata": {},
   "source": [
    "## Add temperature variation to the preprocessed files\n",
    "Clenasing check-up "
   ]
  },
  {
   "cell_type": "code",
   "execution_count": null,
   "metadata": {},
   "outputs": [],
   "source": [
    "for i in range(len(nodes_df_names)):\n",
    "    counter = collections.Counter(data_prep_df[nodes_df_names[i]][data_prep_df[nodes_df_names[i]].exh_temp > 80].exh_temp)\n",
    "    print(nodes_df_names[i], '\\t', counter)"
   ]
  },
  {
   "cell_type": "code",
   "execution_count": 174,
   "metadata": {},
   "outputs": [
    {
     "name": "stdout",
     "output_type": "stream",
     "text": [
      "May2018_idle\n",
      "exh\n",
      "inlet\n",
      "cpu1\n",
      "cpu2\n",
      "----------------------\n",
      "\n",
      "June2018_idle\n",
      "exh\n",
      "inlet\n",
      "cpu1\n",
      "cpu2\n",
      "----------------------\n",
      "\n",
      "July2018_idle\n",
      "exh\n",
      "inlet\n",
      "cpu1\n",
      "cpu2\n",
      "----------------------\n",
      "\n",
      "September2018\n",
      "exh\n",
      "inlet\n",
      "cpu1\n",
      "cpu2\n",
      "----------------------\n",
      "\n",
      "October2018\n",
      "exh\n",
      "inlet\n",
      "cpu1\n",
      "cpu2\n",
      "----------------------\n",
      "\n",
      "November2018\n",
      "exh\n",
      "inlet\n",
      "cpu1\n",
      "cpu2\n",
      "----------------------\n",
      "\n",
      "December2018\n",
      "exh\n",
      "inlet\n",
      "cpu1\n",
      "cpu2\n",
      "----------------------\n",
      "\n",
      "January2019\n",
      "exh\n",
      "inlet\n",
      "cpu1\n",
      "cpu2\n",
      "----------------------\n",
      "\n",
      "February2019\n",
      "exh\n",
      "inlet\n",
      "cpu1\n",
      "cpu2\n",
      "----------------------\n",
      "\n"
     ]
    }
   ],
   "source": [
    "temp_titles = ['Exhaust', 'Inlet', 'CPU 1', 'CPU 2']\n",
    "for month in nodes_df_names:\n",
    "    print( month )\n",
    "    for temp_type in temp_types:\n",
    "        print( temp_type )\n",
    "\n",
    "        one_month_df = data_prep_df[month].copy()\n",
    "        for node in node_names:\n",
    "            one_node_df = one_month_df[one_month_df.nodename == node].copy()\n",
    "            \n",
    "            temp_values = one_node_df.loc[:, temp_type+'_temp']\n",
    "            temp_outliers_ix = temp_values[( abs( temp_values ) > 100 ) | ( temp_values == 0 )].index\n",
    "            if ( len( temp_outliers_ix ) > 0 ):\n",
    "                one_month_df.loc[temp_outliers_ix, temp_type+'_temp'] = np.nan\n",
    "            temp_values = one_node_df.loc[:, temp_type+'_temp'].dropna()\n",
    "                \n",
    "            variation = pd.Series( data = ( temp_values[1:].values - temp_values[:-1].values ), \\\n",
    "                               index = temp_values.index[1:] )\n",
    "            \n",
    "            one_month_df.loc[one_node_df.index, temp_type+'_temp_variation'] = np.nan\n",
    "            one_month_df.loc[variation.index, temp_type+'_temp_variation']   = variation.copy()\n",
    "            \n",
    "        data_prep_df[month] = one_month_df.copy()\n",
    "\n",
    "    print( '----------------------\\n' )"
   ]
  },
  {
   "cell_type": "code",
   "execution_count": 178,
   "metadata": {
    "collapsed": true
   },
   "outputs": [],
   "source": [
    "for month in nodes_df_names:\n",
    "    if ( 'cresco6x114' in data_prep_df[month].nodename.unique() ):\n",
    "        print(month)\n",
    "        index_node_to_drop = data_prep_df[month][data_prep_df[month].nodename == 'cresco6x114'].index\n",
    "        data_prep_df[month].drop( index_node_to_drop, inplace=True )"
   ]
  },
  {
   "cell_type": "code",
   "execution_count": 8,
   "metadata": {},
   "outputs": [],
   "source": [
    "# for month in nodes_df_names:\n",
    "#     print(data_prep_df[month].filter(regex='_temp_').columns.values, data_prep_df[month].filter(regex='_temp_').min())"
   ]
  },
  {
   "cell_type": "code",
   "execution_count": 187,
   "metadata": {
    "collapsed": true
   },
   "outputs": [],
   "source": [
    "for file_name, month in zip(nodes_file_names, nodes_df_names):\n",
    "    data_prep_df[month].to_csv( path_or_buf=os.path.join( Data_prep_dir, month + name_suffix +'.csv'), sep=';', index=False )"
   ]
  },
  {
   "cell_type": "markdown",
   "metadata": {},
   "source": [
    "### Imbalance between inlet and exhaust temperature\n",
    "Exh<inlet"
   ]
  },
  {
   "cell_type": "code",
   "execution_count": 19,
   "metadata": {},
   "outputs": [
    {
     "name": "stdout",
     "output_type": "stream",
     "text": [
      "May2018_idle 6\n",
      "June2018_idle 25\n",
      "July2018_idle 26\n",
      "September2018 0\n",
      "October2018 1\n",
      "November2018 0\n",
      "December2018 0\n",
      "January2019 0\n",
      "February2019 15\n"
     ]
    }
   ],
   "source": [
    "df_exh_less_inlet = pd.DataFrame()\n",
    "for month in nodes_df_names:\n",
    "    node_df = data_prep_df[month].copy()\n",
    "    df_exh_less_inlet = df_exh_less_inlet.\\\n",
    "            append(node_df[(node_df.exh_temp_no_outliers < node_df.inlet_temp_no_outliers)])\n",
    "    print(month, node_df[(node_df.exh_temp_no_outliers < node_df.inlet_temp_no_outliers)].shape[0])"
   ]
  },
  {
   "cell_type": "code",
   "execution_count": 20,
   "metadata": {},
   "outputs": [
    {
     "data": {
      "text/plain": [
       "73"
      ]
     },
     "execution_count": 20,
     "metadata": {},
     "output_type": "execute_result"
    }
   ],
   "source": [
    "df_exh_less_inlet.shape[0]"
   ]
  },
  {
   "cell_type": "code",
   "execution_count": 22,
   "metadata": {
    "scrolled": false
   },
   "outputs": [
    {
     "data": {
      "text/plain": [
       "1.0"
      ]
     },
     "execution_count": 22,
     "metadata": {},
     "output_type": "execute_result"
    }
   ],
   "source": [
    "abs(df_exh_less_inlet.exh_temp_no_outliers - df_exh_less_inlet.inlet_temp_no_outliers).max()"
   ]
  },
  {
   "cell_type": "markdown",
   "metadata": {},
   "source": [
    "#### Resume\n",
    "No need to exclude cases when exh<inlet, because the difference is 1 $^{\\circ}$C at max"
   ]
  },
  {
   "cell_type": "markdown",
   "metadata": {},
   "source": [
    "------------\n",
    "## Form Node_i.csv - one node, data from all months"
   ]
  },
  {
   "cell_type": "code",
   "execution_count": null,
   "metadata": {},
   "outputs": [
    {
     "name": "stdout",
     "output_type": "stream",
     "text": [
      "cresco6x040\n",
      "cresco6x080\n",
      "cresco6x120\n",
      "cresco6x160\n",
      "cresco6x200\n"
     ]
    }
   ],
   "source": [
    "# Read preprocessed data for every node \n",
    "# All data about the nodes from several months are in one file\n",
    "all_nodes_dict = {}\n",
    "for node in node_names:\n",
    "    all_nodes_dict[node] = pd.DataFrame()\n",
    "    for df_name in nodes_df_names:\n",
    "        node_df = data_prep_df[df_name].copy()\n",
    "        all_nodes_dict[node] = all_nodes_dict[node].append(node_df[node_df.nodename == node], ignore_index=True)\n",
    "    all_nodes_dict[node].to_csv( path_or_buf=os.path.join( Data_prep_dir, 'Nodes', \\\n",
    "                                                          'Node_' + str(int(node.split('x')[1])) + name_suffix + '.csv' ), sep=';' )\n",
    "    if (int(node.split('x')[1]) % 40 == 0):\n",
    "        print(node)"
   ]
  },
  {
   "cell_type": "markdown",
   "metadata": {},
   "source": [
    "## Read preprocessed data for every node separately for every month"
   ]
  },
  {
   "cell_type": "code",
   "execution_count": null,
   "metadata": {
    "collapsed": true
   },
   "outputs": [],
   "source": [
    "all_nodes_by_month_dict = {}\n",
    "for df_name in nodes_df_names:\n",
    "    all_nodes_by_month_dict[df_name] = {}\n",
    "    for node in node_names:\n",
    "        node_df = data_prep_df[df_name].copy()\n",
    "        all_nodes_by_month_dict[df_name][node] = node_df[node_df.nodename == node].copy()"
   ]
  },
  {
   "cell_type": "markdown",
   "metadata": {},
   "source": [
    "------\n",
    "## Energy analysis"
   ]
  },
  {
   "cell_type": "code",
   "execution_count": 82,
   "metadata": {
    "collapsed": true
   },
   "outputs": [],
   "source": [
    "def forth_integral(y_values, time):\n",
    "    return(np.dot(y_values, time))"
   ]
  },
  {
   "cell_type": "code",
   "execution_count": 83,
   "metadata": {
    "collapsed": true
   },
   "outputs": [],
   "source": [
    "def error_percentage(a, b):\n",
    "    if a > 0.:\n",
    "        return(abs(a-b) / a * 100.)\n",
    "    else: \n",
    "        return(abs(a-b) / b * 100.)"
   ]
  },
  {
   "cell_type": "code",
   "execution_count": 84,
   "metadata": {
    "collapsed": true
   },
   "outputs": [],
   "source": [
    "def percentage(a, b):\n",
    "    return((a / b) * 100.)"
   ]
  },
  {
   "cell_type": "markdown",
   "metadata": {},
   "source": [
    "## Create dictionary of dataframes to summarize info for every node\n",
    "One dictionary entry = one dataframe = one month $\\ni  \\{$ all nodes - columns $\\}$"
   ]
  },
  {
   "cell_type": "markdown",
   "metadata": {},
   "source": [
    "### 1. Create and fill total energy column \n",
    "- total_dcenergy\n",
    "   \n",
    "   energy difference between last and first measurement for every node, since energy meter shows incremental observations"
   ]
  },
  {
   "cell_type": "code",
   "execution_count": 11,
   "metadata": {
    "collapsed": true
   },
   "outputs": [],
   "source": [
    "nodes_df_dict_init = {}\n",
    "for file_name, df_name in zip(nodes_file_names, nodes_df_names):\n",
    "    # Read preprocessed data\n",
    "    node_df = data_prep_df[df_name].copy()\n",
    "    \n",
    "    # Create df\n",
    "    nodes_df_dict_init[df_name] = pd.DataFrame(columns = list(node_df.nodename.unique()), index = [], data=0)"
   ]
  },
  {
   "cell_type": "code",
   "execution_count": null,
   "metadata": {
    "collapsed": true
   },
   "outputs": [],
   "source": [
    "for file_name, df_name in zip(nodes_file_names, nodes_df_names):\n",
    "    # Energy meter difference\n",
    "    for node in nodes_df_dict_init[df_name].columns.values:\n",
    "        nodes_df_dict_init[df_name].loc['total_dcenergy', node] = \\\n",
    "            node_df[node_df.nodename == node]['dcenergy'].values[-1] - \\\n",
    "            node_df[node_df.nodename == node]['dcenergy'].values[0]"
   ]
  },
  {
   "cell_type": "markdown",
   "metadata": {},
   "source": [
    "### 2. Calculate integrals\n",
    "- System, CPU and memory energy use as integral of corresponding power measurements\n",
    "- Portion of CPU, memory and other components in energy use - percentage"
   ]
  },
  {
   "cell_type": "code",
   "execution_count": 47,
   "metadata": {
    "collapsed": true
   },
   "outputs": [],
   "source": [
    "for df_name in nodes_df_names:\n",
    "    node_df = data_prep_df[df_name].copy()\n",
    "    \n",
    "    for node in nodes_df_dict_init[df_name].columns.values:\n",
    "        one_node_df = node_df[node_df.nodename == node].copy()\n",
    "        \n",
    "        # Read time difference between consecutive measurements and convert from seconds to hours\n",
    "        time_difference = (one_node_df['unix_timestamp'][1:].values -\\\n",
    "            one_node_df['unix_timestamp'][:-1].values)/3600.0\n",
    "\n",
    "        for util_type in ['cpu', 'mem', 'sys']:\n",
    "            # Integrate system power over time\n",
    "            nodes_df_dict_init[df_name].loc[util_type + '_energy', node] = \\\n",
    "                forth_integral(y_values=one_node_df.iloc[1:,:][util_type + '_power'].values/1000.0,\\\n",
    "                               time=time_difference)\n",
    "            \n",
    "#     # Integral of sys power vs dcenergy meter error in %\n",
    "        nodes_df_dict_init[df_name].loc['dcenergy_error_percent', node] = \\\n",
    "            error_percentage(nodes_df_dict_init[df_name].loc['total_dcenergy',node], \\\n",
    "                             nodes_df_dict_init[df_name].loc['sys_energy', node])\n",
    "            \n",
    "    # Energy used for purposes other than CPU and memory\n",
    "    nodes_df_dict_init[df_name].loc['other_energy', :] = nodes_df_dict_init[df_name].loc['sys_energy', :] - \\\n",
    "        nodes_df_dict_init[df_name].loc['cpu_energy', :] - nodes_df_dict_init[df_name].loc['mem_energy', :]\n",
    "    print(df_name)"
   ]
  },
  {
   "cell_type": "markdown",
   "metadata": {},
   "source": [
    "### 3. What portion of energy goes for CPU, memory, other components"
   ]
  },
  {
   "cell_type": "code",
   "execution_count": 69,
   "metadata": {
    "collapsed": true
   },
   "outputs": [],
   "source": [
    "# Energy portion used for CPU and memory in overall the system energy consumption\n",
    "for df_name in nodes_df_names:\n",
    "    for util_type in ['cpu', 'mem', 'other']:\n",
    "        nodes_df_dict_init[df_name].loc[util_type + '_en_percent', :] = \\\n",
    "            percentage(nodes_df_dict_init[df_name].loc[util_type + '_energy',:], \\\n",
    "                       nodes_df_dict_init[df_name].loc['sys_energy', :])"
   ]
  },
  {
   "cell_type": "markdown",
   "metadata": {},
   "source": [
    "### 4. Max observed power utilization of CPU, memory and system"
   ]
  },
  {
   "cell_type": "code",
   "execution_count": 19,
   "metadata": {
    "collapsed": true
   },
   "outputs": [],
   "source": [
    "for df_name in nodes_df_names:\n",
    "    node_df = data_prep_df[df_name].copy()\n",
    "    \n",
    "    for node in nodes_df_dict_init[df_name].columns.values:\n",
    "        one_node_df = node_df[node_df.nodename == node].copy()\n",
    "        \n",
    "        # Find max power utilization by CPU, mem and system\n",
    "        for util_type in ['cpu', 'mem', 'sys']:\n",
    "            max_val = one_node_df.loc[:,util_type + '_power'].max() \n",
    "            nodes_df_dict_init[df_name].loc[util_type + '_power_max', node] = max_val"
   ]
  },
  {
   "cell_type": "markdown",
   "metadata": {},
   "source": [
    "### 5. Average exhaust, inlet, CPU 1, CPU 2 temperature"
   ]
  },
  {
   "cell_type": "code",
   "execution_count": 148,
   "metadata": {
    "collapsed": true
   },
   "outputs": [],
   "source": [
    "for df_name in nodes_df_names:\n",
    "    node_df = data_prep_df[df_name]\n",
    "    \n",
    "    for node in nodes_df_dict_init[df_name].columns.values:\n",
    "        one_node_df = node_df[node_df.nodename == node].copy()\n",
    "        one_node_right_temp_df = one_node_df[(one_node_df.exh_temp>=one_node_df.amb_temp) &\\\n",
    "                                             (one_node_df.exh_temp>0.) & (one_node_df.amb_temp>0.) &\\\n",
    "                                             (one_node_df.cpu1_temp>0.) & (one_node_df.cpu2_temp>0.)].copy()\n",
    "        one_node_right_temp_df.columns = one_node_right_temp_df.columns.str.replace('amb_temp', 'inlet_temp')\n",
    "        for temp_type in ['exh', 'inlet', 'cpu1', 'cpu2']:\n",
    "            nodes_df_dict_init[df_name].loc['avg_'+temp_type+'_temp', node] = one_node_right_temp_df[temp_type+'_temp'].mean()"
   ]
  },
  {
   "cell_type": "markdown",
   "metadata": {},
   "source": [
    "### 5.1 Same for temperature without outliers\n",
    "Outliers - temperature measurements which cause rare and large drop/rise of the value"
   ]
  },
  {
   "cell_type": "code",
   "execution_count": 123,
   "metadata": {
    "collapsed": true
   },
   "outputs": [],
   "source": [
    "nodes_df_dict_init = nodes_df_dict.copy()\n",
    "for df_name in nodes_df_names:\n",
    "    node_df = data_prep_df[df_name]\n",
    "    \n",
    "    for node in nodes_df_dict_init[df_name].columns.values:\n",
    "        one_node_df = node_df[node_df.nodename == node].copy()\n",
    "        one_node_df.columns = one_node_df.columns.str.replace('amb_temp_no_outliers', \\\n",
    "                                                                                    'inlet_temp_no_outliers')\n",
    "        for temp_type in temp_types:\n",
    "            nodes_df_dict_init[df_name].loc['avg_'+temp_type+'_temp_no_outliers', node] = \\\n",
    "                one_node_df[temp_type+'_temp_no_outliers'].mean()\n",
    "            \n",
    "            nodes_df_dict_init[df_name].loc[temp_type+'_temp_entries_in_month', node] = \\\n",
    "                one_node_df.loc[:, temp_type+'_temp_no_outliers'].dropna().shape[0]\n",
    "                \n",
    "            nodes_df_dict_init[df_name].loc['avg_'+temp_type+'_temp_variation', node] = \\\n",
    "                one_node_df[temp_type+'_temp_no_outliers'].mean()\n",
    "                \n",
    "            nodes_df_dict_init[df_name].loc['std_'+temp_type+'_temp_variation', node] = \\\n",
    "                one_node_df[temp_type+'_temp_no_outliers'].std()"
   ]
  },
  {
   "cell_type": "markdown",
   "metadata": {},
   "source": [
    "### 6. Idle mode\n",
    "$\\leq 185.18$ kWh of power use is idle mode\n",
    "\n",
    "\n",
    "If sys_power level is registered to be $p^1_{{minus\\;185.18}}$ for timestamp $t^1$, then it will be assumed that this power level was observed from the previous timestamp $t^0$ until $t^1$\n",
    "- duration\n",
    "- energy integral"
   ]
  },
  {
   "cell_type": "markdown",
   "metadata": {},
   "source": [
    "### Investigate on idle power value"
   ]
  },
  {
   "cell_type": "code",
   "execution_count": 2,
   "metadata": {
    "collapsed": true
   },
   "outputs": [],
   "source": [
    "idle_cols = ['nodename', 'timestamp_py', 'unix_timestamp', 'sys_power']\n",
    "idle_df = data_prep_df['May2018_idle'][idle_cols].copy()\n",
    "idle_df = idle_df.append(data_prep_df['June2018_idle'][idle_cols], ignore_index=True)\n",
    "idle_df = idle_df.append(data_prep_df['July2018_idle'][idle_cols], ignore_index=True)"
   ]
  },
  {
   "cell_type": "code",
   "execution_count": null,
   "metadata": {
    "collapsed": true
   },
   "outputs": [],
   "source": [
    "idle_df_cut = idle_df[(idle_df.timestamp_py >= str(datetime.datetime(year=2018, month=5, day=22))) &\\\n",
    "                      (idle_df.timestamp_py < str(datetime.datetime(year=2018, month=7, day=16)))].copy()"
   ]
  },
  {
   "cell_type": "code",
   "execution_count": 27,
   "metadata": {},
   "outputs": [
    {
     "data": {
      "image/png": "[encoded data removed]",
      "text/plain": [
       "<matplotlib.figure.Figure at 0x18173fe4be0>"
      ]
     },
     "metadata": {},
     "output_type": "display_data"
    }
   ],
   "source": [
    "counter = collections.Counter(idle_df_cut.sys_power)\n",
    "fig, ax = plt.subplots()\n",
    "plt.title('System power')\n",
    "plt.ylabel('Number of occurrences')\n",
    "plt.xlabel('Power, kW')\n",
    "plt.bar([*counter.keys()], [*counter.values()])\n",
    "plt.yscale('log')\n",
    "plt.show()"
   ]
  },
  {
   "cell_type": "markdown",
   "metadata": {},
   "source": [
    "### Narrow the range to [150; 250]"
   ]
  },
  {
   "cell_type": "code",
   "execution_count": 28,
   "metadata": {},
   "outputs": [
    {
     "name": "stdout",
     "output_type": "stream",
     "text": [
      "21.75 % of values are excluded\n"
     ]
    }
   ],
   "source": [
    "idle_df_prep = idle_df_cut[(idle_df_cut.sys_power < 250) & (idle_df_cut.sys_power > 150)].copy()\n",
    "print(round(idle_df_cut[(idle_df_cut.sys_power >= 250) | (idle_df_cut.sys_power <= 150)].shape[0]/idle_df_cut.shape[0]*100, 2), \n",
    "      '% of values are excluded')"
   ]
  },
  {
   "cell_type": "code",
   "execution_count": 29,
   "metadata": {},
   "outputs": [
    {
     "data": {
      "image/png": "[encoded data removed]",
      "text/plain": [
       "<matplotlib.figure.Figure at 0x1814a21b4e0>"
      ]
     },
     "metadata": {},
     "output_type": "display_data"
    }
   ],
   "source": [
    "counter = collections.Counter(idle_df_prep.sys_power)\n",
    "fig, ax = plt.subplots()\n",
    "plt.title('System power')\n",
    "plt.ylabel('Number of occurrences')\n",
    "plt.xlabel('Power, kW')\n",
    "plt.bar([*counter.keys()], [*counter.values()])\n",
    "plt.yscale('log')\n",
    "plt.show()"
   ]
  },
  {
   "cell_type": "code",
   "execution_count": 30,
   "metadata": {},
   "outputs": [
    {
     "data": {
      "text/plain": [
       "1024750"
      ]
     },
     "execution_count": 30,
     "metadata": {},
     "output_type": "execute_result"
    }
   ],
   "source": [
    "sample_size = idle_df_prep.shape[0]\n",
    "sample_size"
   ]
  },
  {
   "cell_type": "markdown",
   "metadata": {},
   "source": [
    "------------------------------\n",
    "\n",
    "Sample size is big enough to use Z-test (normal distribution quantile of 5% to get CI with 95% of confidence)\n",
    "\n",
    "-----------------"
   ]
  },
  {
   "cell_type": "markdown",
   "metadata": {},
   "source": [
    "### Calculate average of system power"
   ]
  },
  {
   "cell_type": "code",
   "execution_count": 31,
   "metadata": {},
   "outputs": [
    {
     "data": {
      "text/plain": [
       "185.18103927787266"
      ]
     },
     "execution_count": 31,
     "metadata": {},
     "output_type": "execute_result"
    }
   ],
   "source": [
    "idle_power_mean = idle_df_prep.sys_power.mean()\n",
    "idle_power_mean"
   ]
  },
  {
   "cell_type": "markdown",
   "metadata": {},
   "source": [
    "### Confidence interval (CI) for the mean\n",
    "CI - interval, which will contain true value of the computed statistics (mean) in 100-$\\alpha$ of random experiments \n",
    "\n",
    "- SEM\n",
    "- Z-test: the quantile $\\delta=1.96$ for 95% confidence level"
   ]
  },
  {
   "cell_type": "code",
   "execution_count": 32,
   "metadata": {},
   "outputs": [
    {
     "data": {
      "text/plain": [
       "0.009034445182753953"
      ]
     },
     "execution_count": 32,
     "metadata": {},
     "output_type": "execute_result"
    }
   ],
   "source": [
    "idle_power_sem = idle_df_prep.sys_power.sem()\n",
    "idle_power_sem"
   ]
  },
  {
   "cell_type": "code",
   "execution_count": 33,
   "metadata": {},
   "outputs": [
    {
     "name": "stdout",
     "output_type": "stream",
     "text": [
      "[185.16333176531447, 185.19874679043085]\n"
     ]
    }
   ],
   "source": [
    "CI = [idle_power_mean - 1.96 * idle_power_sem, idle_power_mean + 1.96 * idle_power_sem]\n",
    "print(CI)"
   ]
  },
  {
   "cell_type": "markdown",
   "metadata": {
    "collapsed": true
   },
   "source": [
    "185.18 kW - is assumed further to be the idle power upper limit"
   ]
  },
  {
   "cell_type": "markdown",
   "metadata": {},
   "source": [
    "---------------"
   ]
  },
  {
   "cell_type": "markdown",
   "metadata": {},
   "source": [
    "### Calculation of energy consumed in idle mode\n",
    "Previously found idle power limit is used"
   ]
  },
  {
   "cell_type": "code",
   "execution_count": 12,
   "metadata": {
    "collapsed": true
   },
   "outputs": [],
   "source": [
    "for df_name in nodes_df_names:\n",
    "    node_df = data_prep_df[df_name]\n",
    "    \n",
    "    for node in nodes_df_dict_init[df_name].columns.values:\n",
    "        one_node_df = node_df[node_df.nodename == node].copy()\n",
    "        \n",
    "        idle_sys_power_ix = np.trim_zeros(np.where(one_node_df.sys_power <= idle_power_mean)[0]).tolist()\n",
    "        \n",
    "        time_b = one_node_df.iloc[idle_sys_power_ix,:].unix_timestamp\n",
    "        time_a = one_node_df.iloc[[x-1 for x in idle_sys_power_ix],:].unix_timestamp\n",
    "        \n",
    "        nodes_df_dict_init[df_name].loc['idle_time_sec',node] = \\\n",
    "            (time_b.values - time_a.values).sum()\n",
    "            \n",
    "        nodes_df_dict_init[df_name].loc['working_time_sec',node] = \\\n",
    "            one_node_df.unix_timestamp.max() - one_node_df.unix_timestamp.min()\n",
    "            \n",
    "        nodes_df_dict_init[df_name].loc['idle_en_integral',node] = \\\n",
    "            forth_integral( y_values=one_node_df.sys_power.iloc[idle_sys_power_ix]/1000.0, \\\n",
    "                            time=( time_b.values - time_a.values )/3600. )"
   ]
  },
  {
   "cell_type": "code",
   "execution_count": 15,
   "metadata": {},
   "outputs": [
    {
     "data": {
      "text/html": [
       "<div>\n",
       "<style scoped>\n",
       "    .dataframe tbody tr th:only-of-type {\n",
       "        vertical-align: middle;\n",
       "    }\n",
       "\n",
       "    .dataframe tbody tr th {\n",
       "        vertical-align: top;\n",
       "    }\n",
       "\n",
       "    .dataframe thead th {\n",
       "        text-align: right;\n",
       "    }\n",
       "</style>\n",
       "<table border=\"1\" class=\"dataframe\">\n",
       "  <thead>\n",
       "    <tr style=\"text-align: right;\">\n",
       "      <th></th>\n",
       "      <th>cresco6x001</th>\n",
       "      <th>cresco6x002</th>\n",
       "      <th>cresco6x003</th>\n",
       "      <th>cresco6x004</th>\n",
       "      <th>cresco6x005</th>\n",
       "      <th>cresco6x006</th>\n",
       "      <th>cresco6x007</th>\n",
       "      <th>cresco6x008</th>\n",
       "      <th>cresco6x009</th>\n",
       "      <th>cresco6x010</th>\n",
       "      <th>...</th>\n",
       "      <th>cresco6x207</th>\n",
       "      <th>cresco6x208</th>\n",
       "      <th>cresco6x209</th>\n",
       "      <th>cresco6x210</th>\n",
       "      <th>cresco6x211</th>\n",
       "      <th>cresco6x212</th>\n",
       "      <th>cresco6x213</th>\n",
       "      <th>cresco6x214</th>\n",
       "      <th>cresco6x215</th>\n",
       "      <th>cresco6x216</th>\n",
       "    </tr>\n",
       "  </thead>\n",
       "  <tbody>\n",
       "    <tr>\n",
       "      <th>idle_time_sec</th>\n",
       "      <td>1.708703e+06</td>\n",
       "      <td>1.758580e+06</td>\n",
       "      <td>7.506750e+05</td>\n",
       "      <td>8.626520e+05</td>\n",
       "      <td>9.873380e+05</td>\n",
       "      <td>1.385446e+06</td>\n",
       "      <td>1.277796e+06</td>\n",
       "      <td>1.292701e+06</td>\n",
       "      <td>1.052075e+06</td>\n",
       "      <td>1.459775e+06</td>\n",
       "      <td>...</td>\n",
       "      <td>1.133508e+06</td>\n",
       "      <td>1.780887e+06</td>\n",
       "      <td>1.005422e+06</td>\n",
       "      <td>1.079507e+06</td>\n",
       "      <td>1.093944e+06</td>\n",
       "      <td>1.128989e+06</td>\n",
       "      <td>1.335330e+06</td>\n",
       "      <td>1.218446e+06</td>\n",
       "      <td>1.780887e+06</td>\n",
       "      <td>1.534272e+06</td>\n",
       "    </tr>\n",
       "    <tr>\n",
       "      <th>working_time_sec</th>\n",
       "      <td>1.781679e+06</td>\n",
       "      <td>1.781679e+06</td>\n",
       "      <td>1.781679e+06</td>\n",
       "      <td>1.781679e+06</td>\n",
       "      <td>1.781679e+06</td>\n",
       "      <td>1.781679e+06</td>\n",
       "      <td>1.781679e+06</td>\n",
       "      <td>1.781679e+06</td>\n",
       "      <td>1.781679e+06</td>\n",
       "      <td>1.781679e+06</td>\n",
       "      <td>...</td>\n",
       "      <td>1.780888e+06</td>\n",
       "      <td>1.780887e+06</td>\n",
       "      <td>1.780887e+06</td>\n",
       "      <td>1.780887e+06</td>\n",
       "      <td>1.780888e+06</td>\n",
       "      <td>1.780887e+06</td>\n",
       "      <td>1.780887e+06</td>\n",
       "      <td>1.780887e+06</td>\n",
       "      <td>1.780887e+06</td>\n",
       "      <td>1.780888e+06</td>\n",
       "    </tr>\n",
       "    <tr>\n",
       "      <th>idle_en_integral</th>\n",
       "      <td>7.292848e+01</td>\n",
       "      <td>7.331893e+01</td>\n",
       "      <td>3.313770e+01</td>\n",
       "      <td>3.792865e+01</td>\n",
       "      <td>4.293975e+01</td>\n",
       "      <td>5.777573e+01</td>\n",
       "      <td>5.197075e+01</td>\n",
       "      <td>5.391126e+01</td>\n",
       "      <td>4.391387e+01</td>\n",
       "      <td>6.085941e+01</td>\n",
       "      <td>...</td>\n",
       "      <td>4.456577e+01</td>\n",
       "      <td>7.420362e+01</td>\n",
       "      <td>4.190575e+01</td>\n",
       "      <td>4.500373e+01</td>\n",
       "      <td>4.363319e+01</td>\n",
       "      <td>4.704121e+01</td>\n",
       "      <td>5.862120e+01</td>\n",
       "      <td>5.076862e+01</td>\n",
       "      <td>6.967289e+01</td>\n",
       "      <td>6.285185e+01</td>\n",
       "    </tr>\n",
       "  </tbody>\n",
       "</table>\n",
       "<p>3 rows × 216 columns</p>\n",
       "</div>"
      ],
      "text/plain": [
       "                   cresco6x001   cresco6x002   cresco6x003   cresco6x004  \\\n",
       "idle_time_sec     1.708703e+06  1.758580e+06  7.506750e+05  8.626520e+05   \n",
       "working_time_sec  1.781679e+06  1.781679e+06  1.781679e+06  1.781679e+06   \n",
       "idle_en_integral  7.292848e+01  7.331893e+01  3.313770e+01  3.792865e+01   \n",
       "\n",
       "                   cresco6x005   cresco6x006   cresco6x007   cresco6x008  \\\n",
       "idle_time_sec     9.873380e+05  1.385446e+06  1.277796e+06  1.292701e+06   \n",
       "working_time_sec  1.781679e+06  1.781679e+06  1.781679e+06  1.781679e+06   \n",
       "idle_en_integral  4.293975e+01  5.777573e+01  5.197075e+01  5.391126e+01   \n",
       "\n",
       "                   cresco6x009   cresco6x010      ...        cresco6x207  \\\n",
       "idle_time_sec     1.052075e+06  1.459775e+06      ...       1.133508e+06   \n",
       "working_time_sec  1.781679e+06  1.781679e+06      ...       1.780888e+06   \n",
       "idle_en_integral  4.391387e+01  6.085941e+01      ...       4.456577e+01   \n",
       "\n",
       "                   cresco6x208   cresco6x209   cresco6x210   cresco6x211  \\\n",
       "idle_time_sec     1.780887e+06  1.005422e+06  1.079507e+06  1.093944e+06   \n",
       "working_time_sec  1.780887e+06  1.780887e+06  1.780887e+06  1.780888e+06   \n",
       "idle_en_integral  7.420362e+01  4.190575e+01  4.500373e+01  4.363319e+01   \n",
       "\n",
       "                   cresco6x212   cresco6x213   cresco6x214   cresco6x215  \\\n",
       "idle_time_sec     1.128989e+06  1.335330e+06  1.218446e+06  1.780887e+06   \n",
       "working_time_sec  1.780887e+06  1.780887e+06  1.780887e+06  1.780887e+06   \n",
       "idle_en_integral  4.704121e+01  5.862120e+01  5.076862e+01  6.967289e+01   \n",
       "\n",
       "                   cresco6x216  \n",
       "idle_time_sec     1.534272e+06  \n",
       "working_time_sec  1.780888e+06  \n",
       "idle_en_integral  6.285185e+01  \n",
       "\n",
       "[3 rows x 216 columns]"
      ]
     },
     "execution_count": 15,
     "metadata": {},
     "output_type": "execute_result"
    }
   ],
   "source": [
    "nodes_df_dict_init[df_name].loc[['idle_time_sec', 'working_time_sec', 'idle_en_integral'], :]"
   ]
  },
  {
   "cell_type": "code",
   "execution_count": 30,
   "metadata": {
    "collapsed": true
   },
   "outputs": [],
   "source": [
    "for df_name in nodes_df_names:\n",
    "    nodes_no_drop_df_dict[df_name].loc[['idle_time_sec', 'working_time_sec', 'idle_en_integral'], :] = \\\n",
    "        nodes_df_dict_init[df_name].loc[['idle_time_sec', 'working_time_sec', 'idle_en_integral'], :]"
   ]
  },
  {
   "cell_type": "markdown",
   "metadata": {},
   "source": [
    "---------------------------\n",
    "### Branch. Bins of energy levels"
   ]
  },
  {
   "cell_type": "code",
   "execution_count": 29,
   "metadata": {
    "collapsed": true
   },
   "outputs": [],
   "source": [
    "bins = np.arange(0,500,50)"
   ]
  },
  {
   "cell_type": "code",
   "execution_count": 30,
   "metadata": {
    "collapsed": true
   },
   "outputs": [],
   "source": [
    "df_name = nodes_df_names[0]\n",
    "\n",
    "node_df = data_prep_df[df_name].copy()\n",
    "\n",
    "for node in nodes_df_dict[df_name].columns.values[:1]:\n",
    "    one_node_df = node_df[node_df.nodename == node].copy()\n",
    "    groups = one_node_df.groupby(pd.cut(one_node_df.sys_power, bins))\n",
    "    \n",
    "energy_level_index = groups.sys_power.sum().index"
   ]
  },
  {
   "cell_type": "code",
   "execution_count": 32,
   "metadata": {
    "collapsed": true
   },
   "outputs": [],
   "source": [
    "energy_levels_df_dict = {}\n",
    "\n",
    "for df_name in nodes_df_names:\n",
    "    node_df = data_prep_df[df_name].copy()\n",
    "    energy_levels_df_dict[df_name] = pd.DataFrame(columns = node_names, \\\n",
    "                                                  index = energy_level_index, \\\n",
    "                                                  data=0)\n",
    "\n",
    "    for node in nodes_df_dict[df_name].columns.values:\n",
    "        one_node_df = node_df[node_df.nodename == node].copy()\n",
    "\n",
    "        groups = one_node_df.groupby(pd.cut(one_node_df.sys_power, bins))\n",
    "        energy_levels_df_dict[df_name].loc[:, node] = groups.sys_power.count().values"
   ]
  },
  {
   "cell_type": "code",
   "execution_count": 33,
   "metadata": {},
   "outputs": [
    {
     "data": {
      "text/html": [
       "<div>\n",
       "<style scoped>\n",
       "    .dataframe tbody tr th:only-of-type {\n",
       "        vertical-align: middle;\n",
       "    }\n",
       "\n",
       "    .dataframe tbody tr th {\n",
       "        vertical-align: top;\n",
       "    }\n",
       "\n",
       "    .dataframe thead th {\n",
       "        text-align: right;\n",
       "    }\n",
       "</style>\n",
       "<table border=\"1\" class=\"dataframe\">\n",
       "  <thead>\n",
       "    <tr style=\"text-align: right;\">\n",
       "      <th></th>\n",
       "      <th>No_entries_in_total_for_all_months</th>\n",
       "      <th>Percent_entries_in_total_for_all_months</th>\n",
       "    </tr>\n",
       "    <tr>\n",
       "      <th>sys_power</th>\n",
       "      <th></th>\n",
       "      <th></th>\n",
       "    </tr>\n",
       "  </thead>\n",
       "  <tbody>\n",
       "    <tr>\n",
       "      <th>(0, 50]</th>\n",
       "      <td>63699</td>\n",
       "      <td>1.33</td>\n",
       "    </tr>\n",
       "    <tr>\n",
       "      <th>(50, 100]</th>\n",
       "      <td>0</td>\n",
       "      <td>0.00</td>\n",
       "    </tr>\n",
       "    <tr>\n",
       "      <th>(100, 150]</th>\n",
       "      <td>1671116</td>\n",
       "      <td>34.91</td>\n",
       "    </tr>\n",
       "    <tr>\n",
       "      <th>(150, 200]</th>\n",
       "      <td>1538534</td>\n",
       "      <td>32.14</td>\n",
       "    </tr>\n",
       "    <tr>\n",
       "      <th>(200, 250]</th>\n",
       "      <td>226702</td>\n",
       "      <td>4.74</td>\n",
       "    </tr>\n",
       "    <tr>\n",
       "      <th>(250, 300]</th>\n",
       "      <td>1097099</td>\n",
       "      <td>22.92</td>\n",
       "    </tr>\n",
       "    <tr>\n",
       "      <th>(300, 350]</th>\n",
       "      <td>155802</td>\n",
       "      <td>3.25</td>\n",
       "    </tr>\n",
       "    <tr>\n",
       "      <th>(350, 400]</th>\n",
       "      <td>29427</td>\n",
       "      <td>0.61</td>\n",
       "    </tr>\n",
       "    <tr>\n",
       "      <th>(400, 450]</th>\n",
       "      <td>4939</td>\n",
       "      <td>0.10</td>\n",
       "    </tr>\n",
       "  </tbody>\n",
       "</table>\n",
       "</div>"
      ],
      "text/plain": [
       "            No_entries_in_total_for_all_months  \\\n",
       "sys_power                                        \n",
       "(0, 50]                                  63699   \n",
       "(50, 100]                                    0   \n",
       "(100, 150]                             1671116   \n",
       "(150, 200]                             1538534   \n",
       "(200, 250]                              226702   \n",
       "(250, 300]                             1097099   \n",
       "(300, 350]                              155802   \n",
       "(350, 400]                               29427   \n",
       "(400, 450]                                4939   \n",
       "\n",
       "            Percent_entries_in_total_for_all_months  \n",
       "sys_power                                            \n",
       "(0, 50]                                        1.33  \n",
       "(50, 100]                                      0.00  \n",
       "(100, 150]                                    34.91  \n",
       "(150, 200]                                    32.14  \n",
       "(200, 250]                                     4.74  \n",
       "(250, 300]                                    22.92  \n",
       "(300, 350]                                     3.25  \n",
       "(350, 400]                                     0.61  \n",
       "(400, 450]                                     0.10  "
      ]
     },
     "execution_count": 33,
     "metadata": {},
     "output_type": "execute_result"
    }
   ],
   "source": [
    "nodes_idle_energy_summary_df = pd.DataFrame(columns = node_names, index = energy_level_index, data=0)\n",
    "for df_name in nodes_df_names:\n",
    "    en_node_df = energy_levels_df_dict[df_name]\n",
    "    nodes_idle_energy_summary_df = en_node_df.replace([np.inf, -np.inf, np.nan], 0).\\\n",
    "                                        add(nodes_idle_energy_summary_df).fillna(en_node_df)\n",
    "all_entries = nodes_idle_energy_summary_df.sum().sum()\n",
    "nodes_idle_energy_summary_df.loc[:, 'No_entries_in_total_for_all_months'] = nodes_idle_energy_summary_df.sum(axis=1)\n",
    "nodes_idle_energy_summary_df.loc[:, 'Percent_entries_in_total_for_all_months'] = \\\n",
    "    nodes_idle_energy_summary_df.filter(regex=('^cresco6x')).sum(axis=1) / all_entries * 100.\n",
    "\n",
    "nodes_idle_energy_summary_df.Percent_entries_in_total_for_all_months = \\\n",
    "    nodes_idle_energy_summary_df.Percent_entries_in_total_for_all_months.round(2)\n",
    "nodes_idle_energy_summary_df.to_csv( path_or_buf=os.path.join( Output_dir, 'nodes_idle_energy_summary_no_outliers.csv' ), \\\n",
    "                                     sep=';' )\n",
    "nodes_idle_energy_summary_df.iloc[:, -2:]"
   ]
  },
  {
   "cell_type": "code",
   "execution_count": 34,
   "metadata": {},
   "outputs": [
    {
     "data": {
      "text/html": [
       "<div>\n",
       "<style scoped>\n",
       "    .dataframe tbody tr th:only-of-type {\n",
       "        vertical-align: middle;\n",
       "    }\n",
       "\n",
       "    .dataframe tbody tr th {\n",
       "        vertical-align: top;\n",
       "    }\n",
       "\n",
       "    .dataframe thead th {\n",
       "        text-align: right;\n",
       "    }\n",
       "</style>\n",
       "<table border=\"1\" class=\"dataframe\">\n",
       "  <thead>\n",
       "    <tr style=\"text-align: right;\">\n",
       "      <th></th>\n",
       "      <th>total_dcenergy_MWh</th>\n",
       "      <th>total_sys_energy_MWh</th>\n",
       "      <th>idle_energy_MWh</th>\n",
       "      <th>idle_energy_percent_MWh</th>\n",
       "    </tr>\n",
       "  </thead>\n",
       "  <tbody>\n",
       "    <tr>\n",
       "      <th>May2018_idle</th>\n",
       "      <td>14.693</td>\n",
       "      <td>15.761</td>\n",
       "      <td>6.841</td>\n",
       "      <td>43.404</td>\n",
       "    </tr>\n",
       "    <tr>\n",
       "      <th>June2018_idle</th>\n",
       "      <td>24.173</td>\n",
       "      <td>27.456</td>\n",
       "      <td>15.864</td>\n",
       "      <td>57.780</td>\n",
       "    </tr>\n",
       "    <tr>\n",
       "      <th>July2018_idle</th>\n",
       "      <td>21.624</td>\n",
       "      <td>24.611</td>\n",
       "      <td>9.690</td>\n",
       "      <td>39.371</td>\n",
       "    </tr>\n",
       "    <tr>\n",
       "      <th>September2018</th>\n",
       "      <td>22.969</td>\n",
       "      <td>25.461</td>\n",
       "      <td>13.657</td>\n",
       "      <td>53.638</td>\n",
       "    </tr>\n",
       "    <tr>\n",
       "      <th>October2018</th>\n",
       "      <td>27.048</td>\n",
       "      <td>32.490</td>\n",
       "      <td>12.582</td>\n",
       "      <td>38.726</td>\n",
       "    </tr>\n",
       "    <tr>\n",
       "      <th>November2018</th>\n",
       "      <td>26.540</td>\n",
       "      <td>31.381</td>\n",
       "      <td>12.838</td>\n",
       "      <td>40.908</td>\n",
       "    </tr>\n",
       "    <tr>\n",
       "      <th>December2018</th>\n",
       "      <td>33.023</td>\n",
       "      <td>37.567</td>\n",
       "      <td>7.617</td>\n",
       "      <td>20.275</td>\n",
       "    </tr>\n",
       "    <tr>\n",
       "      <th>January2019</th>\n",
       "      <td>19.393</td>\n",
       "      <td>21.489</td>\n",
       "      <td>9.163</td>\n",
       "      <td>42.637</td>\n",
       "    </tr>\n",
       "    <tr>\n",
       "      <th>February2019</th>\n",
       "      <td>21.274</td>\n",
       "      <td>23.778</td>\n",
       "      <td>14.050</td>\n",
       "      <td>59.088</td>\n",
       "    </tr>\n",
       "  </tbody>\n",
       "</table>\n",
       "</div>"
      ],
      "text/plain": [
       "               total_dcenergy_MWh  total_sys_energy_MWh  idle_energy_MWh  \\\n",
       "May2018_idle               14.693                15.761            6.841   \n",
       "June2018_idle              24.173                27.456           15.864   \n",
       "July2018_idle              21.624                24.611            9.690   \n",
       "September2018              22.969                25.461           13.657   \n",
       "October2018                27.048                32.490           12.582   \n",
       "November2018               26.540                31.381           12.838   \n",
       "December2018               33.023                37.567            7.617   \n",
       "January2019                19.393                21.489            9.163   \n",
       "February2019               21.274                23.778           14.050   \n",
       "\n",
       "               idle_energy_percent_MWh  \n",
       "May2018_idle                    43.404  \n",
       "June2018_idle                   57.780  \n",
       "July2018_idle                   39.371  \n",
       "September2018                   53.638  \n",
       "October2018                     38.726  \n",
       "November2018                    40.908  \n",
       "December2018                    20.275  \n",
       "January2019                     42.637  \n",
       "February2019                    59.088  "
      ]
     },
     "execution_count": 34,
     "metadata": {},
     "output_type": "execute_result"
    }
   ],
   "source": [
    "energy_by_month = pd.DataFrame(data=0, index=nodes_df_names, columns=['total_dcenergy_MWh', 'total_sys_energy_MWh'])\n",
    "\n",
    "for df_name in nodes_df_names:\n",
    "    energy_by_month.loc[df_name, 'total_dcenergy_MWh'] = nodes_df_dict[df_name].loc['total_dcenergy', :].sum()\n",
    "    energy_by_month.loc[df_name, 'total_sys_energy_MWh'] = nodes_no_drop_df_dict[df_name].loc['sys_energy', :].sum()\n",
    "    energy_by_month.loc[df_name, 'idle_energy_MWh'] = nodes_no_drop_df_dict[df_name].loc['idle_en_integral', :].sum()\n",
    "\n",
    "energy_by_month = energy_by_month/1000.\n",
    "\n",
    "energy_by_month.loc[:, 'idle_energy_percent_MWh'] = energy_by_month.idle_energy_MWh / \\\n",
    "                                                                energy_by_month.total_sys_energy_MWh * 100.\n",
    "energy_by_month = energy_by_month.round(3)\n",
    "energy_by_month.to_csv( path_or_buf=os.path.join( Output_dir, 'energy_summary_by_month_no_outiers.csv' ), sep=';')\n",
    "energy_by_month"
   ]
  },
  {
   "cell_type": "markdown",
   "metadata": {},
   "source": [
    "#### Branch finished\n",
    "------------"
   ]
  },
  {
   "cell_type": "markdown",
   "metadata": {},
   "source": [
    "### 7. System air flow"
   ]
  },
  {
   "cell_type": "code",
   "execution_count": 28,
   "metadata": {
    "collapsed": true
   },
   "outputs": [],
   "source": [
    "for df_name in nodes_df_names:\n",
    "    node_df = data_prep_df[df_name]\n",
    "    \n",
    "    for node in nodes_no_drop_df_dict[df_name].columns.values:\n",
    "        one_node_df = node_df[node_df.nodename == node].copy()\n",
    "        \n",
    "        # Read time difference between consecutive measurements \n",
    "        # and convert from seconds to minutes\n",
    "        time_difference = (one_node_df['unix_timestamp'][1:].values -\\\n",
    "            one_node_df.unix_timestamp.iloc[:-1].values) / 60.0\n",
    "        \n",
    "        nodes_no_drop_df_dict[df_name].loc['sys_air_flow_CFM', node] = \\\n",
    "            forth_integral(y_values=one_node_df.sysairflow.iloc[1:].values, \\\n",
    "                           time=time_difference)\n"
   ]
  },
  {
   "cell_type": "markdown",
   "metadata": {},
   "source": [
    "### 8. Number of measurements for every node per month"
   ]
  },
  {
   "cell_type": "code",
   "execution_count": 79,
   "metadata": {
    "collapsed": true
   },
   "outputs": [],
   "source": [
    "for df_name in nodes_df_names:\n",
    "    node_df = data_prep_df[df_name]\n",
    "    \n",
    "    for node in nodes_no_drop_df_dict[df_name].columns.values:\n",
    "        one_node_df = node_df[node_df.nodename == node].copy()\n",
    "        nodes_no_drop_df_dict[df_name].loc['entries_in_month', node] = one_node_df.shape[0]\n",
    "        \n",
    "        nodes_df_dict_init[df_name].loc[temp_type+'_temp_entries_in_month', node] = \\\n",
    "                one_node_df.loc[:, temp_type+'_temp_no_outliers'].dropna().shape[0]\n",
    "            \n",
    "        nodes_df_dict_init[df_name].loc[temp_type+'_temp_variation_entries_in_month', node] = \\\n",
    "                one_node_df.loc[:, temp_type+'_temp_variation'].dropna().shape[0]"
   ]
  },
  {
   "cell_type": "markdown",
   "metadata": {},
   "source": [
    "### -1. Save stats"
   ]
  },
  {
   "cell_type": "code",
   "execution_count": 124,
   "metadata": {
    "collapsed": true
   },
   "outputs": [],
   "source": [
    "# nodes_df_dict_init\n",
    "for file_name, df_name in zip(nodes_file_names, nodes_df_names):\n",
    "#     nodes_df_dict_init[df_name].to_csv( path_or_buf=os.path.join( Output_dir, nodes_stats_ + 'temp_no_outliers_' + file_name), sep=';' )\n",
    "    nodes_df_dict_init[df_name].to_csv( path_or_buf=os.path.join( Output_dir, nodes_stats_ + file_name), sep=';' )"
   ]
  },
  {
   "cell_type": "code",
   "execution_count": 83,
   "metadata": {
    "collapsed": true
   },
   "outputs": [],
   "source": [
    "# nodes_no_drop_df_dict\n",
    "for file_name, df_name in zip(nodes_file_names, nodes_df_names):\n",
    "    nodes_no_drop_df_dict[df_name].to_csv( path_or_buf=os.path.join( Output_dir, nodes_stats_ + file_name), sep=';' )"
   ]
  },
  {
   "cell_type": "markdown",
   "metadata": {},
   "source": [
    "-------\n",
    "### All calculations for nodes stats in one loop"
   ]
  },
  {
   "cell_type": "code",
   "execution_count": 189,
   "metadata": {},
   "outputs": [
    {
     "name": "stderr",
     "output_type": "stream",
     "text": [
      "c:\\users\\aagri\\appdata\\local\\programs\\python\\python35\\lib\\site-packages\\ipykernel_launcher.py:5: RuntimeWarning: invalid value encountered in double_scalars\n",
      "  \"\"\"\n"
     ]
    },
    {
     "name": "stdout",
     "output_type": "stream",
     "text": [
      "May2018_idle\n",
      "0.01265665479627387 \n",
      "\n"
     ]
    },
    {
     "name": "stderr",
     "output_type": "stream",
     "text": [
      "c:\\users\\aagri\\appdata\\local\\programs\\python\\python35\\lib\\site-packages\\pandas\\core\\indexing.py:1472: FutureWarning: \n",
      "Passing list-likes to .loc or [] with any missing label will raise\n",
      "KeyError in the future, you can use .reindex() as an alternative.\n",
      "\n",
      "See the documentation here:\n",
      "https://pandas.pydata.org/pandas-docs/stable/indexing.html#deprecate-loc-reindex-listlike\n",
      "  return self._getitem_tuple(key)\n"
     ]
    },
    {
     "name": "stdout",
     "output_type": "stream",
     "text": [
      "June2018_idle\n",
      "0.012910195263486912 \n",
      "\n",
      "July2018_idle\n",
      "0.010812545483947389 \n",
      "\n",
      "September2018\n",
      "0.00013132918765634827 \n",
      "\n",
      "October2018\n",
      "0.001889300880620226 \n",
      "\n",
      "November2018\n",
      "0.000837546262118849 \n",
      "\n",
      "December2018\n",
      "0.0010948641597749997 \n",
      "\n",
      "January2019\n",
      "0.0017985050576498907 \n",
      "\n",
      "February2019\n"
     ]
    }
   ],
   "source": [
    "nodes_df_dict_init = {}\n",
    "\n",
    "for file_name, df_name in zip(nodes_file_names, nodes_df_names):\n",
    "    \n",
    "    node_df                     = data_prep_df[df_name].copy()\n",
    "    nodes_df_dict_init[df_name] = pd.DataFrame(columns = list(node_df.nodename.unique()), \\\n",
    "                                               index = ['total_dcenergy', 'sys_energy', \\\n",
    "                                                        'cpu_energy', 'mem_energy', 'other_energy', \\\n",
    "                                                        'cpu_en_percent', 'mem_en_percent', \\\n",
    "                                                        'other_en_percent', 'sys_util', 'mem_util', 'cpu_util', \\\n",
    "                                                        'other_util','sys_power_max', 'cpu_power_max',\\\n",
    "                                                        'mem_power_max', 'dcenergy_error_percent'], \n",
    "                                               data = 0)\n",
    "    \n",
    "    for node in nodes_df_dict_init[df_name].columns.values:\n",
    "        one_node_df = node_df[node_df.nodename == node].copy()\n",
    "        \n",
    "        #8 Number of node measurements made during one month\n",
    "        nodes_df_dict_init[df_name].loc['entries_in_month', node] = one_node_df.shape[0]\n",
    "        \n",
    "        #2 Time difference for power integral\n",
    "        time_difference = (one_node_df['unix_timestamp'][1:].values -\\\n",
    "            one_node_df['unix_timestamp'][:-1].values)/3600.0\n",
    "\n",
    "        for util_type in ['cpu', 'mem', 'sys']:\n",
    "            #2 Integrate system power over time\n",
    "            nodes_df_dict_init[df_name].loc[util_type + '_energy', node] = \\\n",
    "                forth_integral(y_values=one_node_df.iloc[1:,:][util_type + '_power'].values/1000.0,\\\n",
    "                               time=time_difference)\n",
    "\n",
    "            #4 Find max power utilization by CPU, mem and system\n",
    "            max_val = one_node_df.loc[:,util_type + '_power'].max() \n",
    "            if nodes_df_dict_init[df_name].loc[util_type + '_power_max', node] < max_val:\n",
    "                nodes_df_dict_init[df_name].loc[util_type + '_power_max', node] = max_val\n",
    "        \n",
    "        #1 Energy meter increase\n",
    "        nodes_df_dict_init[df_name].loc['total_dcenergy', node] = \\\n",
    "            node_df[node_df.nodename == node]['dcenergy'].values[-1] - \\\n",
    "            node_df[node_df.nodename == node]['dcenergy'].values[0]\n",
    "    \n",
    "        #2 Integral of sys power vs dcenergy meter error in %\n",
    "        nodes_df_dict_init[df_name].loc['dcenergy_error_percent', node] = \\\n",
    "            error_percentage(nodes_df_dict_init[df_name].loc['total_dcenergy',node], \\\n",
    "                             nodes_df_dict_init[df_name].loc['sys_energy', node])\n",
    "            \n",
    "        #5 Average exhaust, inlet, CPU 1, CPU 2 temperature\n",
    "        one_node_right_temp_df = one_node_df[(one_node_df.exh_temp>=one_node_df.inlet_temp) &\\\n",
    "                                             (one_node_df.exh_temp>0.) & (one_node_df.inlet_temp>0.) &\\\n",
    "                                             (one_node_df.cpu1_temp>0.) & (one_node_df.cpu2_temp>0.)].copy()\n",
    "        one_node_right_temp_df.columns = one_node_right_temp_df.columns.str.replace('amb_temp', 'inlet_temp')\n",
    "        for temp_type in temp_types:\n",
    "            \n",
    "            #5.1 Average exhaust, inlet, CPU 1, CPU 2 temperature - no outliers\n",
    "            nodes_df_dict_init[df_name].loc['avg_'+temp_type+'_temp', node] = \\\n",
    "                one_node_df[temp_type+'_temp'].mean()\n",
    "                \n",
    "            nodes_df_dict_init[df_name].loc['std_'+temp_type+'_temp', node] = \\\n",
    "                one_node_df[temp_type+'_temp'].std()\n",
    "            \n",
    "            nodes_df_dict_init[df_name].loc[temp_type+'_temp_entries_in_month', node] = \\\n",
    "                one_node_df.loc[:, temp_type+'_temp'].dropna().shape[0]\n",
    "                \n",
    "            nodes_df_dict_init[df_name].loc['avg_'+temp_type+'_temp_variation', node] = \\\n",
    "                one_node_df[temp_type+'_temp_variation'].mean()\n",
    "                \n",
    "            nodes_df_dict_init[df_name].loc['std_'+temp_type+'_temp_variation', node] = \\\n",
    "                one_node_df[temp_type+'_temp_variation'].std()\n",
    "                \n",
    "            nodes_df_dict_init[df_name].loc[temp_type+'_temp_variation_entries_in_month', node] = \\\n",
    "                one_node_df.loc[:, temp_type+'_temp_variation'].dropna().shape[0]\n",
    "                \n",
    "        #6 Idle stats\n",
    "        idle_sys_power_ix = np.trim_zeros(np.where(one_node_df.sys_power <= idle_power_mean)[0]).tolist()\n",
    "        \n",
    "        time_b = one_node_df.iloc[idle_sys_power_ix,:].unix_timestamp\n",
    "        time_a = one_node_df.iloc[[x-1 for x in idle_sys_power_ix],:].unix_timestamp\n",
    "        \n",
    "        nodes_df_dict_init[df_name].loc['idle_time_sec',node] = \\\n",
    "            (time_b.values - time_a.values).sum()\n",
    "            \n",
    "        nodes_df_dict_init[df_name].loc['working_time_sec',node] = \\\n",
    "            one_node_df.unix_timestamp.max() - one_node_df.unix_timestamp.min()\n",
    "            \n",
    "        nodes_df_dict_init[df_name].loc['idle_en_integral',node] = \\\n",
    "            forth_integral( y_values=one_node_df.sys_power.iloc[idle_sys_power_ix].values/1000.0, \\\n",
    "                            time=( time_b.values - time_a.values )/3600. )\n",
    "            \n",
    "        time_difference_sys_air = (one_node_df['unix_timestamp'][1:].values -\\\n",
    "            one_node_df.unix_timestamp.iloc[:-1].values) / 60.0\n",
    "        \n",
    "        #7 Sys air flow\n",
    "        nodes_df_dict_init[df_name].loc['sys_air_flow_CFM', node] = \\\n",
    "            forth_integral(y_values=one_node_df.sysairflow.iloc[1:].values, \\\n",
    "                           time=time_difference_sys_air)\n",
    "            \n",
    "    #2 Energy used for purposes other than CPU and memory\n",
    "    nodes_df_dict_init[df_name].loc['other_energy', :] = nodes_df_dict_init[df_name].loc['sys_energy', :] - \\\n",
    "        nodes_df_dict_init[df_name].loc['cpu_energy', :] - nodes_df_dict_init[df_name].loc['mem_energy', :]\n",
    "        \n",
    "    #3 Energy portion used for CPU and memory in overall the system energy consumption\n",
    "    for util_type in ['cpu', 'mem', 'other']:\n",
    "        nodes_df_dict_init[df_name].loc[util_type + '_en_percent', :] = \\\n",
    "            percentage(nodes_df_dict_init[df_name].loc[util_type + '_energy',:], \\\n",
    "                       nodes_df_dict_init[df_name].loc['sys_energy', :])\n",
    "    # Save\n",
    "    nodes_df_dict_init[df_name].to_csv( path_or_buf=os.path.join( Output_dir, \\\n",
    "                                                                 nodes_stats_ + df_name + name_suffix + '.csv' ), sep=';' )    \n",
    "    print(df_name)\n",
    "    \n",
    "    if ( df_name != 'February2019' ):\n",
    "        stats_df = pd.read_csv(os.path.join( Output_dir, nodes_stats_ + file_name), \\\n",
    "                                             delimiter=\";\", header=0, index_col=0)\n",
    "\n",
    "        print((nodes_df_dict_init[df_name].loc[stats_df.index.values,:] - stats_df).max().max(), '\\n')"
   ]
  },
  {
   "cell_type": "markdown",
   "metadata": {},
   "source": [
    "--------\n",
    "## Summary for all nodes over all months\n",
    "- Resultant dataframe is self-descriptive by its row names\n",
    "- Each column corresponds to one node characterized by its name\n",
    "- Last two columns are added for average or total summation over all nodes "
   ]
  },
  {
   "cell_type": "code",
   "execution_count": 10,
   "metadata": {
    "collapsed": true
   },
   "outputs": [],
   "source": [
    "def get_df_index_by_row_labels(df, labels):\n",
    "    return df.index.intersection(labels)"
   ]
  },
  {
   "cell_type": "code",
   "execution_count": 11,
   "metadata": {
    "collapsed": true
   },
   "outputs": [],
   "source": [
    "label = {}\n",
    "\n",
    "label['avg_weights'] = ['entries_in_month']\n",
    "label['en_percent']  = ['cpu_en_percent', 'mem_en_percent']\n",
    "\n",
    "\n",
    "label['temp_variation'] = ['avg_'+ i + '_temp_variation' for i in temp_types]\n",
    "label['temp']           = ['avg_' + i + '_temp' for i in temp_types]\n",
    "# label['temp_and_variation'] = label['temp'] + label['temp_variation']\n",
    "\n",
    "label['temp_avg_weights']           = [i + '_temp_entries_in_month' for i in temp_types]\n",
    "label['temp_variation_avg_weights'] = [i + '_temp_variation_entries_in_month' for i in temp_types]\n",
    "\n",
    "\n",
    "label['to_calc_sum'] = ['total_dcenergy', 'sys_energy', 'cpu_energy', 'mem_energy', 'other_energy', \\\n",
    "                        'idle_en_integral', 'present_in_months', 'entries_in_month'] + \\\n",
    "                        label['temp_avg_weights'] + \\\n",
    "                        label['temp_variation_avg_weights']\n",
    "label['to_calc_avg'] = ['cpu_en_percent', 'mem_en_percent', \\\n",
    "                        'other_en_percent', 'sys_power_max', 'cpu_power_max', \\\n",
    "                        'mem_power_max', 'dcenergy_error_percent',\\\n",
    "                        'sys_util', 'mem_util', 'cpu_util', 'other_util', \\\n",
    "                        'idle_time_sec', 'working_time_sec']\n",
    "\n",
    "summary_label = label['to_calc_sum'] + label['to_calc_avg'] + \\\n",
    "                label['temp'] + label['temp_variation']"
   ]
  },
  {
   "cell_type": "code",
   "execution_count": 12,
   "metadata": {
    "collapsed": true
   },
   "outputs": [],
   "source": [
    "def increment_summary(df, summary, index, to_replace=False):\n",
    "    if to_replace:\n",
    "        df.loc[index['to_calc_sum']]      = df.loc[index['to_calc_sum']].replace([np.inf, -np.inf, np.nan], 0)\n",
    "        df.loc[index['to_calc_avg']]      = df.loc[index['to_calc_avg']].replace([np.inf, -np.inf, np.nan], 0)\n",
    "        df.loc[index['temp']]             = df.loc[index['temp']].replace([np.inf, -np.inf, np.nan], 0)\n",
    "        df.loc[index['temp_variation']]   = df.loc[index['temp_variation']].replace([np.inf, -np.inf, np.nan], 0)\n",
    "        \n",
    "    df.loc[index['to_calc_avg']]      = df.loc[index['to_calc_avg']].values * \\\n",
    "                                        df.loc[index['avg_weights']].values\n",
    "    df.loc[index['temp']]             = df.loc[index['temp']].values * \\\n",
    "                                        df.loc[index['temp_avg_weights']].values\n",
    "    \n",
    "    df.loc[index['temp_variation']]   = df.loc[index['temp_variation']].values * \\\n",
    "                                        df.loc[index['temp_variation_avg_weights']].values\n",
    "                                                \n",
    "    summary.loc[index['to_calc_sum']] = df.loc[index['to_calc_sum']].\\\n",
    "                                               add(summary.loc[index['to_calc_sum']]).fillna(df)\n",
    "                                               \n",
    "    summary.loc[index['to_calc_avg']] = df.loc[index['to_calc_avg']].\\\n",
    "                                               add(summary.loc[index['to_calc_avg']]).fillna(df)\n",
    "                                               \n",
    "    summary.loc[index['temp']] = df.loc[index['temp']].\\\n",
    "                                               add(summary.loc[index['temp']]).fillna(df)\n",
    "        \n",
    "    summary.loc[index['temp_variation']] = df.loc[index['temp_variation']].\\\n",
    "                                               add(summary.loc[index['temp_variation']]).fillna(df)\n",
    "\n",
    "    return (summary)"
   ]
  },
  {
   "cell_type": "code",
   "execution_count": 13,
   "metadata": {},
   "outputs": [
    {
     "data": {
      "text/plain": [
       "'cresco6x106'"
      ]
     },
     "execution_count": 13,
     "metadata": {},
     "output_type": "execute_result"
    }
   ],
   "source": [
    "node_names[105]"
   ]
  },
  {
   "cell_type": "code",
   "execution_count": 14,
   "metadata": {
    "collapsed": true
   },
   "outputs": [],
   "source": [
    "node_names_summary = np.delete(node_names, 105)\n",
    "\n",
    "nodes_summary_df = pd.DataFrame(columns = node_names_summary, index = summary_label, data=0)\n",
    "nodes_summary_no_drop_df = nodes_summary_df.copy()\n",
    "\n",
    "index = {}\n",
    "for key, value in label.items():\n",
    "    index[key] = get_df_index_by_row_labels(nodes_summary_df, value)\n",
    "\n",
    "for df_name in nodes_df_names:\n",
    "    node_df = nodes_no_drop_df_dict[df_name].copy()\n",
    "    \n",
    "    # Add counter of node presence in months to further count average\n",
    "    node_df.loc['present_in_months', :] = 1\n",
    "    \n",
    "    # Fill summary with and without columns to drop: dcenergy based and sys_power integral based datasets\n",
    "    nodes_summary_no_drop_df = increment_summary(df=node_df.loc[:, node_names_summary], index=index, \\\n",
    "                                                 summary=nodes_summary_no_drop_df, to_replace=True)\n",
    "        \n",
    "    # Drop columns where the relative error between \n",
    "    # dcenergy and system power integral is high\n",
    "    to_drop_ix = np.unique(np.append(\\\n",
    "                                     np.where(node_df.loc['dcenergy_error_percent', :].isna())[0], \\\n",
    "                                     np.where(node_df.loc['dcenergy_error_percent', :] > 5.)[0]))\n",
    "    to_drop = node_df.iloc[:,to_drop_ix].columns.values\n",
    "    node_df.loc[:,to_drop] = 0\n",
    "    \n",
    "    nodes_summary_df = increment_summary(df=node_df.loc[:, node_names_summary], index=index, \\\n",
    "                                         summary=nodes_summary_df, to_replace=False)\n",
    "    \n",
    "nodes_summary_no_drop_df.loc['total_dcenergy', :] = 0"
   ]
  },
  {
   "cell_type": "code",
   "execution_count": 15,
   "metadata": {
    "collapsed": true
   },
   "outputs": [],
   "source": [
    "# Calc total and avg over all nodes for summary dfs\n",
    "def summary_calc(df, index):\n",
    "                \n",
    "    df.loc[:,'total_all_nodes'] = df.loc[index['to_calc_sum'],:].sum(axis=1)\n",
    "    df.loc[:,'total_all_nodes'].fillna(0, inplace=True)\n",
    "\n",
    "    df.loc[index['to_calc_avg'],:'cresco6x216'] = df.loc[index['to_calc_avg'],:'cresco6x216'].values / \\\n",
    "                                                  df.loc[index['avg_weights'],:'cresco6x216'].values\n",
    "        \n",
    "    df.loc[index['temp'],:'cresco6x216'] = df.loc[index['temp'],:'cresco6x216'].values / \\\n",
    "                                           df.loc[index['temp_avg_weights'],:'cresco6x216'].values\n",
    "        \n",
    "    df.loc[index['temp_variation'],:'cresco6x216'] = df.loc[index['temp_variation'],:'cresco6x216'].values / \\\n",
    "                                                     df.loc[index['temp_variation_avg_weights'],:'cresco6x216'].values\n",
    "    \n",
    "    \n",
    "    df.loc[index['to_calc_avg'],'avg_all_nodes']  = (df.loc[index['to_calc_avg'],:'cresco6x216'].values * \\\n",
    "                                  df.loc['entries_in_month',:'cresco6x216'].values).\\\n",
    "                                    sum(axis=1) \\\n",
    "                                    / df.loc['entries_in_month','total_all_nodes']\n",
    "            \n",
    "    df.loc[index['temp_variation'],'avg_all_nodes']  = \\\n",
    "                                 (df.loc[index['temp_variation'],:'cresco6x216'].values * \\\n",
    "                                 (df.loc[index['temp_variation_avg_weights'],:'cresco6x216'].values)).\\\n",
    "                                    sum(axis=1) \\\n",
    "                                    / df.loc[index['temp_variation_avg_weights'],'total_all_nodes'].values\n",
    "                \n",
    "    df.loc[index['temp'],'avg_all_nodes']  = \\\n",
    "                                 (df.loc[index['temp'],:'cresco6x216'].values * \\\n",
    "                                  df.loc[index['temp_avg_weights'],:'cresco6x216'].values).\\\n",
    "                                    sum(axis=1) \\\n",
    "                                    / df.loc[index['temp_avg_weights'],'total_all_nodes'].values\n",
    "    \n",
    "    df.loc['other_en_percent','avg_all_nodes'] = 100.0 - df.loc[index['en_percent'],'avg_all_nodes'].sum()\n",
    "    df.loc[:,'avg_all_nodes'].fillna(0, inplace=True)\n",
    "    return (df)"
   ]
  },
  {
   "cell_type": "code",
   "execution_count": 16,
   "metadata": {
    "collapsed": true
   },
   "outputs": [],
   "source": [
    "nodes_summary_no_drop_df = summary_calc(nodes_summary_no_drop_df, index)\n",
    "\n",
    "nodes_summary_df = summary_calc(nodes_summary_df, index)"
   ]
  },
  {
   "cell_type": "code",
   "execution_count": 17,
   "metadata": {
    "collapsed": true
   },
   "outputs": [],
   "source": [
    "nodes_summary_df.to_csv( path_or_buf=os.path.join( Output_dir, \\\n",
    "                                                   'nodes_summary_all_months' + name_suffix + '.csv'), \\\n",
    "                         sep=';' )\n",
    "nodes_summary_no_drop_df.to_csv( path_or_buf=os.path.join( Output_dir, \n",
    "                                                           'nodes_summary_all_months_no_drop' + name_suffix + '.csv' ), \\\n",
    "                                 sep=';' ) "
   ]
  },
  {
   "cell_type": "markdown",
   "metadata": {},
   "source": [
    "--------------\n",
    "## Availability of energy and system power data"
   ]
  },
  {
   "cell_type": "markdown",
   "metadata": {},
   "source": [
    "#### Average of the relative error between integral of system power and energy meter  "
   ]
  },
  {
   "cell_type": "code",
   "execution_count": 35,
   "metadata": {},
   "outputs": [
    {
     "name": "stdout",
     "output_type": "stream",
     "text": [
      "0.5793205159238085 0.5778587315651492\n"
     ]
    }
   ],
   "source": [
    "print( nodes_summary_df.loc['dcenergy_error_percent', :].mean(), \\\n",
    "       (nodes_summary_df.loc['dcenergy_error_percent', :] * nodes_summary_df.loc['entries_in_month', :]).sum() / \\\n",
    "          nodes_summary_df.loc['entries_in_month', 'total_all_nodes'])"
   ]
  },
  {
   "cell_type": "markdown",
   "metadata": {},
   "source": [
    "#### Information of sys_power present for each month"
   ]
  },
  {
   "cell_type": "code",
   "execution_count": 36,
   "metadata": {},
   "outputs": [
    {
     "data": {
      "text/html": [
       "<div>\n",
       "<style scoped>\n",
       "    .dataframe tbody tr th:only-of-type {\n",
       "        vertical-align: middle;\n",
       "    }\n",
       "\n",
       "    .dataframe tbody tr th {\n",
       "        vertical-align: top;\n",
       "    }\n",
       "\n",
       "    .dataframe thead th {\n",
       "        text-align: right;\n",
       "    }\n",
       "</style>\n",
       "<table border=\"1\" class=\"dataframe\">\n",
       "  <thead>\n",
       "    <tr style=\"text-align: right;\">\n",
       "      <th></th>\n",
       "      <th>dcenergy_present</th>\n",
       "      <th>sys_power_present</th>\n",
       "    </tr>\n",
       "  </thead>\n",
       "  <tbody>\n",
       "    <tr>\n",
       "      <th>May2018_idle</th>\n",
       "      <td>198</td>\n",
       "      <td>214</td>\n",
       "    </tr>\n",
       "    <tr>\n",
       "      <th>June2018_idle</th>\n",
       "      <td>188</td>\n",
       "      <td>214</td>\n",
       "    </tr>\n",
       "    <tr>\n",
       "      <th>July2018_idle</th>\n",
       "      <td>187</td>\n",
       "      <td>214</td>\n",
       "    </tr>\n",
       "    <tr>\n",
       "      <th>September2018</th>\n",
       "      <td>192</td>\n",
       "      <td>214</td>\n",
       "    </tr>\n",
       "    <tr>\n",
       "      <th>October2018</th>\n",
       "      <td>178</td>\n",
       "      <td>214</td>\n",
       "    </tr>\n",
       "    <tr>\n",
       "      <th>November2018</th>\n",
       "      <td>180</td>\n",
       "      <td>213</td>\n",
       "    </tr>\n",
       "    <tr>\n",
       "      <th>December2018</th>\n",
       "      <td>186</td>\n",
       "      <td>213</td>\n",
       "    </tr>\n",
       "    <tr>\n",
       "      <th>January2019</th>\n",
       "      <td>193</td>\n",
       "      <td>213</td>\n",
       "    </tr>\n",
       "    <tr>\n",
       "      <th>February2019</th>\n",
       "      <td>192</td>\n",
       "      <td>213</td>\n",
       "    </tr>\n",
       "  </tbody>\n",
       "</table>\n",
       "</div>"
      ],
      "text/plain": [
       "               dcenergy_present  sys_power_present\n",
       "May2018_idle                198                214\n",
       "June2018_idle               188                214\n",
       "July2018_idle               187                214\n",
       "September2018               192                214\n",
       "October2018                 178                214\n",
       "November2018                180                213\n",
       "December2018                186                213\n",
       "January2019                 193                213\n",
       "February2019                192                213"
      ]
     },
     "execution_count": 36,
     "metadata": {},
     "output_type": "execute_result"
    }
   ],
   "source": [
    "analysis_by_month = pd.DataFrame(data=0, index=nodes_df_names, columns=['dcenergy_present', 'sys_power_present'])\n",
    "\n",
    "for df_name in nodes_df_names:\n",
    "    month_df = nodes_no_drop_df_dict[df_name].filter(regex=('energy'), axis=0)\n",
    "    analysis_by_month.loc[df_name, 'dcenergy_present'] = nodes_df_dict[df_name].shape[1]\n",
    "    analysis_by_month.loc[df_name, 'sys_power_present'] = len(month_df.columns.values) - month_df.loc[:, month_df.isna().any()].shape[1]\n",
    "analysis_by_month"
   ]
  },
  {
   "cell_type": "code",
   "execution_count": 13,
   "metadata": {},
   "outputs": [
    {
     "data": {
      "text/plain": [
       "(187.75, 213.625)"
      ]
     },
     "execution_count": 13,
     "metadata": {},
     "output_type": "execute_result"
    }
   ],
   "source": [
    "analysis_by_month.dcenergy_present.mean(), analysis_by_month.sys_power_present.mean()"
   ]
  },
  {
   "cell_type": "markdown",
   "metadata": {},
   "source": [
    "#### Percent of energy measurements close to sys_power integral"
   ]
  },
  {
   "cell_type": "code",
   "execution_count": 37,
   "metadata": {},
   "outputs": [
    {
     "name": "stdout",
     "output_type": "stream",
     "text": [
      "82.4074074074074 91.66666666666666\n"
     ]
    }
   ],
   "source": [
    "# Check if the nodes are excluded because of sys_power missing data are present in dataset working with dcenergy\n",
    "for df_name in nodes_df_names:\n",
    "    month_df = nodes_no_drop_df_dict[df_name].filter(regex=('energy'), axis=0)\n",
    "    nan_cols_sys_energy = month_df.loc[:, month_df.isna().any()].columns.values\n",
    "    for col in nan_cols_sys_energy:\n",
    "        if col in nodes_df_dict[df_name].columns.values:\n",
    "            print(df_name,  month_df.loc[:, month_df.isna().any()].columns.values )\n",
    "            \n",
    "print(analysis_by_month.dcenergy_present.min()/216.*100, analysis_by_month.dcenergy_present.max()/216.*100)"
   ]
  },
  {
   "cell_type": "markdown",
   "metadata": {},
   "source": [
    "-------------\n",
    "## Errors in DC energy meter over months concern the following nodes"
   ]
  },
  {
   "cell_type": "code",
   "execution_count": 50,
   "metadata": {
    "collapsed": true
   },
   "outputs": [],
   "source": [
    "dcenergy_error_nodes_dict = {}\n",
    "dcenergy_all_error_nodes = []\n",
    "for file_name, df_name in zip(nodes_file_names, nodes_df_names):\n",
    "    dcenergy_error_nodes_dict[df_name] = np.where(nodes_no_drop_df_dict[df_name].loc[\"dcenergy_error_percent\", :] > 5.)[0]\n",
    "    \n",
    "    node_df = data_prep_df[df_name]\n",
    "    \n",
    "    for node in nodes_no_drop_df_dict[df_name].iloc[:, dcenergy_error_nodes_dict[df_name] ].columns.values:\n",
    "        int_name = int(node.split('x')[-1])\n",
    "        if not(int_name in dcenergy_all_error_nodes):\n",
    "            dcenergy_all_error_nodes.append(int_name)"
   ]
  },
  {
   "cell_type": "code",
   "execution_count": 51,
   "metadata": {},
   "outputs": [
    {
     "name": "stdout",
     "output_type": "stream",
     "text": [
      "[1, 2, 4, 5, 7, 9, 10, 11, 12, 13, 15, 16, 18, 20, 21, 23, 24, 26, 27, 29, 30, 31, 32, 33, 34, 35, 37, 38, 39, 40, 42, 44, 45, 47, 52, 53, 54, 55, 58, 59, 60, 61, 64, 65, 66, 67, 68, 71, 72, 73, 77, 78, 79, 82, 83, 91, 92, 93, 94, 96, 98, 100, 101, 102, 105, 107, 108, 112, 115, 117, 118, 119, 120, 121, 124, 127, 131, 134, 135, 137, 139, 140, 141, 146, 150, 151, 154, 158, 160, 162, 163, 164, 169, 170, 172, 173, 175, 176, 177, 179, 181, 182, 187, 191, 195, 197, 198, 203, 204, 206, 208, 210, 211, 213, 215, 216]\n"
     ]
    }
   ],
   "source": [
    "print(list(set(dcenergy_all_error_nodes)))"
   ]
  },
  {
   "cell_type": "code",
   "execution_count": null,
   "metadata": {
    "collapsed": true
   },
   "outputs": [],
   "source": [
    "with open(os.path.join( Output_dir,'dcenergy_error_nodes.txt'), \"w\") as f:\n",
    "    f.write(str(list(set(dcenergy_all_error_nodes))))"
   ]
  },
  {
   "cell_type": "code",
   "execution_count": null,
   "metadata": {
    "collapsed": true
   },
   "outputs": [],
   "source": [
    "with open(os.path.join( Output_dir,'dcenergy_error_nodes.csv'),'w') as f:\n",
    "    w = csv.writer(f)\n",
    "    w.writerows(dcenergy_error_nodes_dict.keys(), dcenergy_error_nodes_dict)"
   ]
  },
  {
   "cell_type": "code",
   "execution_count": 65,
   "metadata": {
    "collapsed": true
   },
   "outputs": [],
   "source": [
    "# %matplotlib inline\n",
    "plt.ioff()\n",
    "for file_name, df_name in zip(nodes_file_names, nodes_df_names):\n",
    "    nodes_stats = nodes_no_drop_df_dict[df_name]\n",
    "    node_df     = data_prep_df[df_name]\n",
    "    for node in nodes_stats.iloc[:, dcenergy_error_nodes_dict[df_name]].columns.values:\n",
    "        int_name = int(node.split('x')[-1])\n",
    "        fig = node_df[node_df.nodename == node].\\\n",
    "            plot(x='timestamp_py', y='dcenergy', title=df_name+'\\nNode '+str(int_name)+' dc_energy').get_figure()\n",
    "        fig.savefig( os.path.join( Plots_dir, 'Error dcenergy', 'Error_dc_en_' + df_name + '_' + node + '.png' ), dpi=500 )"
   ]
  },
  {
   "cell_type": "markdown",
   "metadata": {},
   "source": [
    "---------\n",
    "## Max CPU, system and memory power utilization of nodes over all months"
   ]
  },
  {
   "cell_type": "code",
   "execution_count": 38,
   "metadata": {
    "collapsed": true
   },
   "outputs": [],
   "source": [
    "node_max_power = pd.DataFrame(columns = node_names, \\\n",
    "                              index = ['cpu_power_max', 'mem_power_max', 'sys_power_max'], \\\n",
    "                              data=0)\n",
    "for df_name in nodes_df_names:\n",
    "    nodes_stats = nodes_no_drop_df_dict[df_name]\n",
    "    for node in node_names:\n",
    "        for util_type in ['cpu', 'mem', 'sys']:\n",
    "            max_val = nodes_stats.loc[util_type + '_power_max', node]\n",
    "            if node_max_power.loc[util_type + '_power_max', node] < max_val:\n",
    "                node_max_power.loc[util_type + '_power_max', node] = max_val"
   ]
  },
  {
   "cell_type": "code",
   "execution_count": 85,
   "metadata": {
    "collapsed": true
   },
   "outputs": [],
   "source": [
    "node_max_power.to_csv( path_or_buf=os.path.join( Output_dir, 'node_max_power_all_months.csv'), sep=';') "
   ]
  },
  {
   "cell_type": "code",
   "execution_count": 41,
   "metadata": {},
   "outputs": [
    {
     "data": {
      "text/html": [
       "<div>\n",
       "<style scoped>\n",
       "    .dataframe tbody tr th:only-of-type {\n",
       "        vertical-align: middle;\n",
       "    }\n",
       "\n",
       "    .dataframe tbody tr th {\n",
       "        vertical-align: top;\n",
       "    }\n",
       "\n",
       "    .dataframe thead th {\n",
       "        text-align: right;\n",
       "    }\n",
       "</style>\n",
       "<table border=\"1\" class=\"dataframe\">\n",
       "  <thead>\n",
       "    <tr style=\"text-align: right;\">\n",
       "      <th></th>\n",
       "      <th>cresco6x001</th>\n",
       "      <th>cresco6x002</th>\n",
       "      <th>cresco6x003</th>\n",
       "      <th>cresco6x004</th>\n",
       "      <th>cresco6x005</th>\n",
       "      <th>cresco6x006</th>\n",
       "      <th>cresco6x007</th>\n",
       "      <th>cresco6x008</th>\n",
       "      <th>cresco6x009</th>\n",
       "      <th>cresco6x010</th>\n",
       "      <th>...</th>\n",
       "      <th>cresco6x207</th>\n",
       "      <th>cresco6x208</th>\n",
       "      <th>cresco6x209</th>\n",
       "      <th>cresco6x210</th>\n",
       "      <th>cresco6x211</th>\n",
       "      <th>cresco6x212</th>\n",
       "      <th>cresco6x213</th>\n",
       "      <th>cresco6x214</th>\n",
       "      <th>cresco6x215</th>\n",
       "      <th>cresco6x216</th>\n",
       "    </tr>\n",
       "  </thead>\n",
       "  <tbody>\n",
       "    <tr>\n",
       "      <th>cpu_power_max</th>\n",
       "      <td>270.0</td>\n",
       "      <td>290.0</td>\n",
       "      <td>290.0</td>\n",
       "      <td>320.0</td>\n",
       "      <td>280.0</td>\n",
       "      <td>340.0</td>\n",
       "      <td>340.0</td>\n",
       "      <td>340.0</td>\n",
       "      <td>340.0</td>\n",
       "      <td>350.0</td>\n",
       "      <td>...</td>\n",
       "      <td>350.0</td>\n",
       "      <td>340.0</td>\n",
       "      <td>340.0</td>\n",
       "      <td>340.0</td>\n",
       "      <td>340.0</td>\n",
       "      <td>350.0</td>\n",
       "      <td>340.0</td>\n",
       "      <td>340.0</td>\n",
       "      <td>270.0</td>\n",
       "      <td>250.0</td>\n",
       "    </tr>\n",
       "    <tr>\n",
       "      <th>mem_power_max</th>\n",
       "      <td>44.0</td>\n",
       "      <td>44.0</td>\n",
       "      <td>43.0</td>\n",
       "      <td>42.0</td>\n",
       "      <td>44.0</td>\n",
       "      <td>44.0</td>\n",
       "      <td>44.0</td>\n",
       "      <td>45.0</td>\n",
       "      <td>41.0</td>\n",
       "      <td>44.0</td>\n",
       "      <td>...</td>\n",
       "      <td>45.0</td>\n",
       "      <td>45.0</td>\n",
       "      <td>43.0</td>\n",
       "      <td>46.0</td>\n",
       "      <td>42.0</td>\n",
       "      <td>44.0</td>\n",
       "      <td>47.0</td>\n",
       "      <td>42.0</td>\n",
       "      <td>18.0</td>\n",
       "      <td>27.0</td>\n",
       "    </tr>\n",
       "    <tr>\n",
       "      <th>sys_power_max</th>\n",
       "      <td>350.0</td>\n",
       "      <td>360.0</td>\n",
       "      <td>360.0</td>\n",
       "      <td>360.0</td>\n",
       "      <td>340.0</td>\n",
       "      <td>430.0</td>\n",
       "      <td>430.0</td>\n",
       "      <td>430.0</td>\n",
       "      <td>440.0</td>\n",
       "      <td>430.0</td>\n",
       "      <td>...</td>\n",
       "      <td>440.0</td>\n",
       "      <td>440.0</td>\n",
       "      <td>440.0</td>\n",
       "      <td>440.0</td>\n",
       "      <td>430.0</td>\n",
       "      <td>440.0</td>\n",
       "      <td>440.0</td>\n",
       "      <td>430.0</td>\n",
       "      <td>320.0</td>\n",
       "      <td>300.0</td>\n",
       "    </tr>\n",
       "  </tbody>\n",
       "</table>\n",
       "<p>3 rows × 215 columns</p>\n",
       "</div>"
      ],
      "text/plain": [
       "               cresco6x001  cresco6x002  cresco6x003  cresco6x004  \\\n",
       "cpu_power_max        270.0        290.0        290.0        320.0   \n",
       "mem_power_max         44.0         44.0         43.0         42.0   \n",
       "sys_power_max        350.0        360.0        360.0        360.0   \n",
       "\n",
       "               cresco6x005  cresco6x006  cresco6x007  cresco6x008  \\\n",
       "cpu_power_max        280.0        340.0        340.0        340.0   \n",
       "mem_power_max         44.0         44.0         44.0         45.0   \n",
       "sys_power_max        340.0        430.0        430.0        430.0   \n",
       "\n",
       "               cresco6x009  cresco6x010     ...       cresco6x207  \\\n",
       "cpu_power_max        340.0        350.0     ...             350.0   \n",
       "mem_power_max         41.0         44.0     ...              45.0   \n",
       "sys_power_max        440.0        430.0     ...             440.0   \n",
       "\n",
       "               cresco6x208  cresco6x209  cresco6x210  cresco6x211  \\\n",
       "cpu_power_max        340.0        340.0        340.0        340.0   \n",
       "mem_power_max         45.0         43.0         46.0         42.0   \n",
       "sys_power_max        440.0        440.0        440.0        430.0   \n",
       "\n",
       "               cresco6x212  cresco6x213  cresco6x214  cresco6x215  cresco6x216  \n",
       "cpu_power_max        350.0        340.0        340.0        270.0        250.0  \n",
       "mem_power_max         44.0         47.0         42.0         18.0         27.0  \n",
       "sys_power_max        440.0        440.0        430.0        320.0        300.0  \n",
       "\n",
       "[3 rows x 215 columns]"
      ]
     },
     "execution_count": 41,
     "metadata": {},
     "output_type": "execute_result"
    }
   ],
   "source": [
    "node_max_power = pd.read_csv( os.path.join( Output_dir, 'node_max_power_all_months.csv'), \\\n",
    "                              delimiter=\";\", header=0, index_col=0 )\n",
    "node_max_power"
   ]
  },
  {
   "cell_type": "code",
   "execution_count": 40,
   "metadata": {},
   "outputs": [
    {
     "name": "stdout",
     "output_type": "stream",
     "text": [
      "Max system power use observed: \t 450.0 \n",
      "Max CPU power use observed: \t 350.0 \n",
      "Max memory power use observed: \t 255.0\n"
     ]
    }
   ],
   "source": [
    "print('Max system power use observed: \\t', node_max_power.loc['sys_power_max',:].max(), \\\n",
    "      '\\nMax CPU power use observed: \\t', node_max_power.loc['cpu_power_max',:].max(), \\\n",
    "      '\\nMax memory power use observed: \\t', node_max_power.loc['mem_power_max',:].max())"
   ]
  },
  {
   "cell_type": "markdown",
   "metadata": {
    "collapsed": true
   },
   "source": [
    "## Correlation between temperature and power utilization or load"
   ]
  },
  {
   "cell_type": "code",
   "execution_count": 9,
   "metadata": {
    "collapsed": true
   },
   "outputs": [],
   "source": [
    "corr_df_dict = {}\n",
    "p_val_df_dict = {}\n",
    "corr_coeffs = ['pearson', 'kendall']#, 'spearman'] \n",
    "temp_types = ['exh', 'inlet', 'cpu1', 'cpu2']\n",
    "util_types = ['cpu', 'mem', 'sys']\n",
    "iterables = [ corr_coeffs, [x+'_temp' for x in temp_types], nodes_df_names ]\n",
    "# [x+'_temp' for x in temp_types] + [x+'_power' for x in util_types] "
   ]
  },
  {
   "cell_type": "code",
   "execution_count": 10,
   "metadata": {
    "collapsed": true
   },
   "outputs": [],
   "source": [
    "to_corr = [x+'_temp' for x in temp_types] + [x+'_power' for x in ['mem', 'sys']]#['sysairflow'] + "
   ]
  },
  {
   "cell_type": "code",
   "execution_count": 11,
   "metadata": {
    "collapsed": true
   },
   "outputs": [],
   "source": [
    "for coeff_type in corr_coeffs:\n",
    "    corr_df_dict[coeff_type] = {}\n",
    "    p_val_df_dict[coeff_type] = {}\n",
    "    for var_to_corr in to_corr:\n",
    "        corr_df_dict[coeff_type][var_to_corr] = pd.DataFrame(index=node_names, columns=nodes_df_names, data=0)\n",
    "        p_val_df_dict[coeff_type][var_to_corr] = pd.DataFrame(index=node_names, columns=nodes_df_names, data=0)"
   ]
  },
  {
   "cell_type": "code",
   "execution_count": 12,
   "metadata": {
    "collapsed": true
   },
   "outputs": [],
   "source": [
    "def correlate(x, y, coeff_type):\n",
    "    if (coeff_type == 'pearson'):\n",
    "        return (scipy.stats.pearsonr(x, y))\n",
    "    elif (coeff_type == 'kendall'):\n",
    "        return (scipy.stats.kendalltau(x, y))\n",
    "    elif (coeff_type == 'spearman'):\n",
    "        return (scipy.stats.spearmanr(x, y))\n",
    "    else:\n",
    "        return ('Wrong coefficient type, must be one of ', corr_coeffs)"
   ]
  },
  {
   "cell_type": "code",
   "execution_count": 13,
   "metadata": {
    "collapsed": true
   },
   "outputs": [],
   "source": [
    "# Indices of nan, +-inf, 0\n",
    "def nan_inf_zero_ix(a):\n",
    "    return (np.where(a.isin([np.nan, np.inf, -np.inf, 0]))[0])\n",
    "\n",
    "#  function to drop NaN, zero, +-inf\n",
    "def dropped(a, b):\n",
    "    to_drop_ix = np.unique(np.append(\\\n",
    "                                     nan_inf_zero_ix(a), \\\n",
    "                                     nan_inf_zero_ix(b)))\n",
    "    to_drop = a.iloc[to_drop_ix,:].index.values\n",
    "    return (a.drop(to_drop), b.drop(to_drop))"
   ]
  },
  {
   "cell_type": "code",
   "execution_count": 17,
   "metadata": {},
   "outputs": [
    {
     "name": "stderr",
     "output_type": "stream",
     "text": [
      "c:\\users\\aagri\\appdata\\local\\programs\\python\\python35\\lib\\site-packages\\scipy\\stats\\stats.py:3033: RuntimeWarning: Mean of empty slice.\n",
      "  mx = x.mean()\n",
      "c:\\users\\aagri\\appdata\\local\\programs\\python\\python35\\lib\\site-packages\\numpy\\core\\_methods.py:85: RuntimeWarning: invalid value encountered in double_scalars\n",
      "  ret = ret.dtype.type(ret / rcount)\n",
      "c:\\users\\aagri\\appdata\\local\\programs\\python\\python35\\lib\\site-packages\\scipy\\stats\\stats.py:3034: RuntimeWarning: Mean of empty slice.\n",
      "  my = y.mean()\n",
      "c:\\users\\aagri\\appdata\\local\\programs\\python\\python35\\lib\\site-packages\\scipy\\stats\\stats.py:3038: RuntimeWarning: invalid value encountered in true_divide\n",
      "  r = r_num / r_den\n",
      "c:\\users\\aagri\\appdata\\local\\programs\\python\\python35\\lib\\site-packages\\scipy\\stats\\stats.py:3042: RuntimeWarning: invalid value encountered in greater\n",
      "  r = max(min(r, 1.0), -1.0)\n",
      "c:\\users\\aagri\\appdata\\local\\programs\\python\\python35\\lib\\site-packages\\scipy\\stats\\stats.py:3042: RuntimeWarning: invalid value encountered in less\n",
      "  r = max(min(r, 1.0), -1.0)\n"
     ]
    }
   ],
   "source": [
    "for coeff_type in corr_coeffs:\n",
    "    for var_to_corr in to_corr:\n",
    "        for df_name in nodes_df_names[:-1]:\n",
    "            node_df         = data_prep_df[df_name].copy()\n",
    "            \n",
    "            for node in node_names:\n",
    "                one_node_df = node_df[node_df.nodename == node].copy()\n",
    "                x = one_node_df.loc[:, [var_to_corr]].copy()\n",
    "                y = one_node_df.loc[:, ['cpu_power']].copy()\n",
    "                \n",
    "                if (x.shape[0] == np.where(x.isin([np.nan, np.inf, -np.inf, 0]))[0].size):\n",
    "                    corr, p_val = 0, 0\n",
    "                else:\n",
    "                    x, y = dropped(x, y)\n",
    "                    corr, p_val = correlate(x, y, coeff_type)\n",
    "                \n",
    "                corr_df_dict[coeff_type][var_to_corr].loc[node, df_name] = corr\n",
    "                p_val_df_dict[coeff_type][var_to_corr].loc[node, df_name] = p_val\n",
    "                \n",
    "            corr_df_dict[coeff_type][var_to_corr].loc[:, 'avg_'+coeff_type+'_corr'] = \\\n",
    "                corr_df_dict[coeff_type][var_to_corr].fillna(0).mean(axis=1)"
   ]
  },
  {
   "cell_type": "code",
   "execution_count": 18,
   "metadata": {},
   "outputs": [
    {
     "data": {
      "text/html": [
       "<div>\n",
       "<style scoped>\n",
       "    .dataframe tbody tr th:only-of-type {\n",
       "        vertical-align: middle;\n",
       "    }\n",
       "\n",
       "    .dataframe tbody tr th {\n",
       "        vertical-align: top;\n",
       "    }\n",
       "\n",
       "    .dataframe thead th {\n",
       "        text-align: right;\n",
       "    }\n",
       "</style>\n",
       "<table border=\"1\" class=\"dataframe\">\n",
       "  <thead>\n",
       "    <tr style=\"text-align: right;\">\n",
       "      <th></th>\n",
       "      <th>May2018_idle</th>\n",
       "      <th>June2018_idle</th>\n",
       "      <th>July2018_idle</th>\n",
       "      <th>September2018</th>\n",
       "      <th>October2018</th>\n",
       "      <th>November2018</th>\n",
       "      <th>December2018</th>\n",
       "      <th>January2019</th>\n",
       "      <th>February2019</th>\n",
       "      <th>avg_kendall_corr</th>\n",
       "    </tr>\n",
       "  </thead>\n",
       "  <tbody>\n",
       "    <tr>\n",
       "      <th>cresco6x001</th>\n",
       "      <td>0.993094</td>\n",
       "      <td>0.988543</td>\n",
       "      <td>0.916242</td>\n",
       "      <td>0.892917</td>\n",
       "      <td>0.957023</td>\n",
       "      <td>0.357501</td>\n",
       "      <td>0.840937</td>\n",
       "      <td>0.941714</td>\n",
       "      <td>0.928766</td>\n",
       "      <td>0.857077</td>\n",
       "    </tr>\n",
       "    <tr>\n",
       "      <th>cresco6x002</th>\n",
       "      <td>0.624653</td>\n",
       "      <td>0.939112</td>\n",
       "      <td>NaN</td>\n",
       "      <td>0.992717</td>\n",
       "      <td>0.959198</td>\n",
       "      <td>0.962680</td>\n",
       "      <td>0.914922</td>\n",
       "      <td>0.881043</td>\n",
       "      <td>0.950444</td>\n",
       "      <td>0.791827</td>\n",
       "    </tr>\n",
       "    <tr>\n",
       "      <th>cresco6x003</th>\n",
       "      <td>0.987997</td>\n",
       "      <td>0.985859</td>\n",
       "      <td>0.157321</td>\n",
       "      <td>0.922876</td>\n",
       "      <td>0.911197</td>\n",
       "      <td>0.964924</td>\n",
       "      <td>0.926538</td>\n",
       "      <td>0.938746</td>\n",
       "      <td>0.962926</td>\n",
       "      <td>0.850464</td>\n",
       "    </tr>\n",
       "    <tr>\n",
       "      <th>cresco6x004</th>\n",
       "      <td>0.640259</td>\n",
       "      <td>0.907834</td>\n",
       "      <td>0.035156</td>\n",
       "      <td>0.996249</td>\n",
       "      <td>0.460869</td>\n",
       "      <td>0.958239</td>\n",
       "      <td>0.921123</td>\n",
       "      <td>0.949176</td>\n",
       "      <td>0.973168</td>\n",
       "      <td>0.748548</td>\n",
       "    </tr>\n",
       "    <tr>\n",
       "      <th>cresco6x005</th>\n",
       "      <td>0.993857</td>\n",
       "      <td>0.996956</td>\n",
       "      <td>0.865958</td>\n",
       "      <td>0.993468</td>\n",
       "      <td>0.452402</td>\n",
       "      <td>0.962129</td>\n",
       "      <td>0.928518</td>\n",
       "      <td>0.960157</td>\n",
       "      <td>0.904434</td>\n",
       "      <td>0.883506</td>\n",
       "    </tr>\n",
       "    <tr>\n",
       "      <th>cresco6x006</th>\n",
       "      <td>0.995359</td>\n",
       "      <td>0.953052</td>\n",
       "      <td>0.982749</td>\n",
       "      <td>0.959078</td>\n",
       "      <td>0.852930</td>\n",
       "      <td>0.886010</td>\n",
       "      <td>0.906800</td>\n",
       "      <td>0.804877</td>\n",
       "      <td>0.591677</td>\n",
       "      <td>0.871333</td>\n",
       "    </tr>\n",
       "    <tr>\n",
       "      <th>cresco6x007</th>\n",
       "      <td>0.991067</td>\n",
       "      <td>0.995730</td>\n",
       "      <td>0.973094</td>\n",
       "      <td>0.938200</td>\n",
       "      <td>0.874033</td>\n",
       "      <td>0.860281</td>\n",
       "      <td>0.889224</td>\n",
       "      <td>0.794932</td>\n",
       "      <td>0.727132</td>\n",
       "      <td>0.883817</td>\n",
       "    </tr>\n",
       "    <tr>\n",
       "      <th>cresco6x008</th>\n",
       "      <td>0.995520</td>\n",
       "      <td>0.989028</td>\n",
       "      <td>0.971796</td>\n",
       "      <td>0.979551</td>\n",
       "      <td>0.950533</td>\n",
       "      <td>0.961183</td>\n",
       "      <td>0.903924</td>\n",
       "      <td>0.972414</td>\n",
       "      <td>0.970756</td>\n",
       "      <td>0.954151</td>\n",
       "    </tr>\n",
       "    <tr>\n",
       "      <th>cresco6x009</th>\n",
       "      <td>0.996347</td>\n",
       "      <td>0.992890</td>\n",
       "      <td>0.910083</td>\n",
       "      <td>0.979520</td>\n",
       "      <td>0.964492</td>\n",
       "      <td>0.956285</td>\n",
       "      <td>0.882764</td>\n",
       "      <td>0.926769</td>\n",
       "      <td>0.813448</td>\n",
       "      <td>0.924448</td>\n",
       "    </tr>\n",
       "    <tr>\n",
       "      <th>cresco6x010</th>\n",
       "      <td>0.989746</td>\n",
       "      <td>0.962313</td>\n",
       "      <td>0.976628</td>\n",
       "      <td>0.957378</td>\n",
       "      <td>0.868664</td>\n",
       "      <td>0.913943</td>\n",
       "      <td>0.887042</td>\n",
       "      <td>0.719620</td>\n",
       "      <td>0.655917</td>\n",
       "      <td>0.872156</td>\n",
       "    </tr>\n",
       "    <tr>\n",
       "      <th>cresco6x011</th>\n",
       "      <td>0.991072</td>\n",
       "      <td>0.934749</td>\n",
       "      <td>0.401872</td>\n",
       "      <td>0.915363</td>\n",
       "      <td>0.859422</td>\n",
       "      <td>0.953065</td>\n",
       "      <td>0.975612</td>\n",
       "      <td>0.922941</td>\n",
       "      <td>0.965570</td>\n",
       "      <td>0.868507</td>\n",
       "    </tr>\n",
       "    <tr>\n",
       "      <th>cresco6x012</th>\n",
       "      <td>0.984457</td>\n",
       "      <td>0.994972</td>\n",
       "      <td>0.942621</td>\n",
       "      <td>0.987692</td>\n",
       "      <td>NaN</td>\n",
       "      <td>0.816374</td>\n",
       "      <td>NaN</td>\n",
       "      <td>NaN</td>\n",
       "      <td>NaN</td>\n",
       "      <td>0.525032</td>\n",
       "    </tr>\n",
       "    <tr>\n",
       "      <th>cresco6x013</th>\n",
       "      <td>0.983684</td>\n",
       "      <td>0.932804</td>\n",
       "      <td>0.954679</td>\n",
       "      <td>0.926170</td>\n",
       "      <td>0.824484</td>\n",
       "      <td>0.842235</td>\n",
       "      <td>0.893830</td>\n",
       "      <td>0.748622</td>\n",
       "      <td>0.868338</td>\n",
       "      <td>0.876679</td>\n",
       "    </tr>\n",
       "    <tr>\n",
       "      <th>cresco6x014</th>\n",
       "      <td>0.885024</td>\n",
       "      <td>0.906601</td>\n",
       "      <td>0.401430</td>\n",
       "      <td>0.879688</td>\n",
       "      <td>0.855707</td>\n",
       "      <td>0.882688</td>\n",
       "      <td>0.885461</td>\n",
       "      <td>0.738755</td>\n",
       "      <td>0.753174</td>\n",
       "      <td>0.789425</td>\n",
       "    </tr>\n",
       "    <tr>\n",
       "      <th>cresco6x015</th>\n",
       "      <td>0.985229</td>\n",
       "      <td>0.981434</td>\n",
       "      <td>0.840792</td>\n",
       "      <td>NaN</td>\n",
       "      <td>NaN</td>\n",
       "      <td>NaN</td>\n",
       "      <td>NaN</td>\n",
       "      <td>NaN</td>\n",
       "      <td>NaN</td>\n",
       "      <td>0.311939</td>\n",
       "    </tr>\n",
       "    <tr>\n",
       "      <th>cresco6x016</th>\n",
       "      <td>0.890059</td>\n",
       "      <td>0.907078</td>\n",
       "      <td>0.512892</td>\n",
       "      <td>0.961609</td>\n",
       "      <td>0.937142</td>\n",
       "      <td>0.940914</td>\n",
       "      <td>0.936591</td>\n",
       "      <td>0.911402</td>\n",
       "      <td>0.827352</td>\n",
       "      <td>0.858166</td>\n",
       "    </tr>\n",
       "    <tr>\n",
       "      <th>cresco6x017</th>\n",
       "      <td>0.971256</td>\n",
       "      <td>0.979982</td>\n",
       "      <td>0.793228</td>\n",
       "      <td>0.920535</td>\n",
       "      <td>0.874144</td>\n",
       "      <td>0.826323</td>\n",
       "      <td>0.909177</td>\n",
       "      <td>0.743727</td>\n",
       "      <td>0.366499</td>\n",
       "      <td>0.811165</td>\n",
       "    </tr>\n",
       "    <tr>\n",
       "      <th>cresco6x018</th>\n",
       "      <td>0.996515</td>\n",
       "      <td>0.966616</td>\n",
       "      <td>0.929477</td>\n",
       "      <td>0.928273</td>\n",
       "      <td>0.895690</td>\n",
       "      <td>0.925478</td>\n",
       "      <td>0.937056</td>\n",
       "      <td>0.857854</td>\n",
       "      <td>0.544239</td>\n",
       "      <td>0.876113</td>\n",
       "    </tr>\n",
       "    <tr>\n",
       "      <th>cresco6x019</th>\n",
       "      <td>0.989073</td>\n",
       "      <td>0.983112</td>\n",
       "      <td>0.906320</td>\n",
       "      <td>0.956002</td>\n",
       "      <td>0.956661</td>\n",
       "      <td>0.979513</td>\n",
       "      <td>0.912093</td>\n",
       "      <td>0.974867</td>\n",
       "      <td>0.975000</td>\n",
       "      <td>0.947216</td>\n",
       "    </tr>\n",
       "    <tr>\n",
       "      <th>cresco6x020</th>\n",
       "      <td>0.666829</td>\n",
       "      <td>0.839927</td>\n",
       "      <td>0.570710</td>\n",
       "      <td>0.958008</td>\n",
       "      <td>0.915672</td>\n",
       "      <td>0.932317</td>\n",
       "      <td>0.853569</td>\n",
       "      <td>0.888224</td>\n",
       "      <td>0.938713</td>\n",
       "      <td>0.829508</td>\n",
       "    </tr>\n",
       "    <tr>\n",
       "      <th>cresco6x021</th>\n",
       "      <td>0.995955</td>\n",
       "      <td>0.977393</td>\n",
       "      <td>0.984896</td>\n",
       "      <td>0.897567</td>\n",
       "      <td>0.892380</td>\n",
       "      <td>0.879373</td>\n",
       "      <td>0.853891</td>\n",
       "      <td>0.888671</td>\n",
       "      <td>0.872570</td>\n",
       "      <td>0.904923</td>\n",
       "    </tr>\n",
       "    <tr>\n",
       "      <th>cresco6x022</th>\n",
       "      <td>0.991614</td>\n",
       "      <td>0.981184</td>\n",
       "      <td>0.820054</td>\n",
       "      <td>0.946056</td>\n",
       "      <td>0.926208</td>\n",
       "      <td>0.937179</td>\n",
       "      <td>0.879498</td>\n",
       "      <td>0.916370</td>\n",
       "      <td>0.920775</td>\n",
       "      <td>0.913052</td>\n",
       "    </tr>\n",
       "    <tr>\n",
       "      <th>cresco6x023</th>\n",
       "      <td>0.759993</td>\n",
       "      <td>0.887784</td>\n",
       "      <td>0.592871</td>\n",
       "      <td>0.926868</td>\n",
       "      <td>0.912534</td>\n",
       "      <td>0.932647</td>\n",
       "      <td>0.898472</td>\n",
       "      <td>0.890072</td>\n",
       "      <td>0.916173</td>\n",
       "      <td>0.846488</td>\n",
       "    </tr>\n",
       "    <tr>\n",
       "      <th>cresco6x024</th>\n",
       "      <td>0.988744</td>\n",
       "      <td>0.965915</td>\n",
       "      <td>0.673677</td>\n",
       "      <td>0.947776</td>\n",
       "      <td>0.884934</td>\n",
       "      <td>0.881639</td>\n",
       "      <td>0.885176</td>\n",
       "      <td>0.875542</td>\n",
       "      <td>0.876272</td>\n",
       "      <td>0.875810</td>\n",
       "    </tr>\n",
       "    <tr>\n",
       "      <th>cresco6x025</th>\n",
       "      <td>0.984013</td>\n",
       "      <td>0.994799</td>\n",
       "      <td>0.913054</td>\n",
       "      <td>0.802977</td>\n",
       "      <td>0.890411</td>\n",
       "      <td>0.895154</td>\n",
       "      <td>0.867905</td>\n",
       "      <td>0.857958</td>\n",
       "      <td>0.896187</td>\n",
       "      <td>0.889666</td>\n",
       "    </tr>\n",
       "    <tr>\n",
       "      <th>cresco6x026</th>\n",
       "      <td>0.911212</td>\n",
       "      <td>0.928532</td>\n",
       "      <td>0.711460</td>\n",
       "      <td>0.880312</td>\n",
       "      <td>0.878584</td>\n",
       "      <td>0.883153</td>\n",
       "      <td>0.827408</td>\n",
       "      <td>0.883790</td>\n",
       "      <td>0.876296</td>\n",
       "      <td>0.853679</td>\n",
       "    </tr>\n",
       "    <tr>\n",
       "      <th>cresco6x027</th>\n",
       "      <td>0.681839</td>\n",
       "      <td>0.875969</td>\n",
       "      <td>0.926857</td>\n",
       "      <td>0.955278</td>\n",
       "      <td>0.900537</td>\n",
       "      <td>0.910323</td>\n",
       "      <td>0.913542</td>\n",
       "      <td>0.942084</td>\n",
       "      <td>0.874260</td>\n",
       "      <td>0.875148</td>\n",
       "    </tr>\n",
       "    <tr>\n",
       "      <th>cresco6x028</th>\n",
       "      <td>0.989526</td>\n",
       "      <td>0.978254</td>\n",
       "      <td>0.799703</td>\n",
       "      <td>0.930567</td>\n",
       "      <td>0.923037</td>\n",
       "      <td>0.922058</td>\n",
       "      <td>0.904935</td>\n",
       "      <td>0.969473</td>\n",
       "      <td>0.938641</td>\n",
       "      <td>0.916575</td>\n",
       "    </tr>\n",
       "    <tr>\n",
       "      <th>cresco6x029</th>\n",
       "      <td>0.987076</td>\n",
       "      <td>0.989398</td>\n",
       "      <td>0.963558</td>\n",
       "      <td>NaN</td>\n",
       "      <td>NaN</td>\n",
       "      <td>NaN</td>\n",
       "      <td>NaN</td>\n",
       "      <td>NaN</td>\n",
       "      <td>NaN</td>\n",
       "      <td>0.326670</td>\n",
       "    </tr>\n",
       "    <tr>\n",
       "      <th>cresco6x030</th>\n",
       "      <td>0.996280</td>\n",
       "      <td>0.929967</td>\n",
       "      <td>0.906737</td>\n",
       "      <td>0.787985</td>\n",
       "      <td>0.923586</td>\n",
       "      <td>0.908914</td>\n",
       "      <td>0.898543</td>\n",
       "      <td>0.940024</td>\n",
       "      <td>0.910057</td>\n",
       "      <td>0.899788</td>\n",
       "    </tr>\n",
       "    <tr>\n",
       "      <th>...</th>\n",
       "      <td>...</td>\n",
       "      <td>...</td>\n",
       "      <td>...</td>\n",
       "      <td>...</td>\n",
       "      <td>...</td>\n",
       "      <td>...</td>\n",
       "      <td>...</td>\n",
       "      <td>...</td>\n",
       "      <td>...</td>\n",
       "      <td>...</td>\n",
       "    </tr>\n",
       "    <tr>\n",
       "      <th>cresco6x187</th>\n",
       "      <td>0.998809</td>\n",
       "      <td>0.988847</td>\n",
       "      <td>0.932662</td>\n",
       "      <td>0.979734</td>\n",
       "      <td>0.869039</td>\n",
       "      <td>0.860865</td>\n",
       "      <td>0.889823</td>\n",
       "      <td>0.838230</td>\n",
       "      <td>0.855605</td>\n",
       "      <td>0.902215</td>\n",
       "    </tr>\n",
       "    <tr>\n",
       "      <th>cresco6x188</th>\n",
       "      <td>0.931298</td>\n",
       "      <td>0.914628</td>\n",
       "      <td>0.488833</td>\n",
       "      <td>0.919917</td>\n",
       "      <td>0.937162</td>\n",
       "      <td>0.962994</td>\n",
       "      <td>0.908721</td>\n",
       "      <td>0.964564</td>\n",
       "      <td>0.818195</td>\n",
       "      <td>0.859967</td>\n",
       "    </tr>\n",
       "    <tr>\n",
       "      <th>cresco6x189</th>\n",
       "      <td>0.997349</td>\n",
       "      <td>0.992503</td>\n",
       "      <td>0.856604</td>\n",
       "      <td>0.929869</td>\n",
       "      <td>0.871338</td>\n",
       "      <td>0.858831</td>\n",
       "      <td>0.897484</td>\n",
       "      <td>0.833595</td>\n",
       "      <td>0.880549</td>\n",
       "      <td>0.891648</td>\n",
       "    </tr>\n",
       "    <tr>\n",
       "      <th>cresco6x190</th>\n",
       "      <td>0.994822</td>\n",
       "      <td>0.995185</td>\n",
       "      <td>0.940136</td>\n",
       "      <td>0.972239</td>\n",
       "      <td>0.926823</td>\n",
       "      <td>0.963150</td>\n",
       "      <td>0.922358</td>\n",
       "      <td>0.979902</td>\n",
       "      <td>0.962161</td>\n",
       "      <td>0.949833</td>\n",
       "    </tr>\n",
       "    <tr>\n",
       "      <th>cresco6x191</th>\n",
       "      <td>0.594175</td>\n",
       "      <td>0.840595</td>\n",
       "      <td>0.566597</td>\n",
       "      <td>0.898886</td>\n",
       "      <td>0.943102</td>\n",
       "      <td>0.946187</td>\n",
       "      <td>0.895640</td>\n",
       "      <td>0.951062</td>\n",
       "      <td>0.531931</td>\n",
       "      <td>0.784785</td>\n",
       "    </tr>\n",
       "    <tr>\n",
       "      <th>cresco6x192</th>\n",
       "      <td>0.987934</td>\n",
       "      <td>0.964704</td>\n",
       "      <td>0.745539</td>\n",
       "      <td>0.962502</td>\n",
       "      <td>0.891170</td>\n",
       "      <td>0.922472</td>\n",
       "      <td>0.896147</td>\n",
       "      <td>0.920217</td>\n",
       "      <td>0.651278</td>\n",
       "      <td>0.871106</td>\n",
       "    </tr>\n",
       "    <tr>\n",
       "      <th>cresco6x193</th>\n",
       "      <td>0.999832</td>\n",
       "      <td>0.994512</td>\n",
       "      <td>0.630184</td>\n",
       "      <td>0.954220</td>\n",
       "      <td>0.970092</td>\n",
       "      <td>0.979374</td>\n",
       "      <td>0.919071</td>\n",
       "      <td>0.969694</td>\n",
       "      <td>0.989553</td>\n",
       "      <td>0.922143</td>\n",
       "    </tr>\n",
       "    <tr>\n",
       "      <th>cresco6x194</th>\n",
       "      <td>0.985030</td>\n",
       "      <td>0.974547</td>\n",
       "      <td>0.783977</td>\n",
       "      <td>0.948328</td>\n",
       "      <td>0.948456</td>\n",
       "      <td>0.898537</td>\n",
       "      <td>0.886793</td>\n",
       "      <td>0.959584</td>\n",
       "      <td>0.968391</td>\n",
       "      <td>0.916424</td>\n",
       "    </tr>\n",
       "    <tr>\n",
       "      <th>cresco6x195</th>\n",
       "      <td>0.999887</td>\n",
       "      <td>0.988388</td>\n",
       "      <td>0.927227</td>\n",
       "      <td>0.986920</td>\n",
       "      <td>0.956741</td>\n",
       "      <td>0.967275</td>\n",
       "      <td>0.938090</td>\n",
       "      <td>0.974374</td>\n",
       "      <td>0.973552</td>\n",
       "      <td>0.956062</td>\n",
       "    </tr>\n",
       "    <tr>\n",
       "      <th>cresco6x196</th>\n",
       "      <td>0.999876</td>\n",
       "      <td>0.989532</td>\n",
       "      <td>0.944968</td>\n",
       "      <td>0.990130</td>\n",
       "      <td>0.936388</td>\n",
       "      <td>0.907641</td>\n",
       "      <td>0.893456</td>\n",
       "      <td>0.969277</td>\n",
       "      <td>0.083672</td>\n",
       "      <td>0.845341</td>\n",
       "    </tr>\n",
       "    <tr>\n",
       "      <th>cresco6x197</th>\n",
       "      <td>0.999180</td>\n",
       "      <td>0.986210</td>\n",
       "      <td>0.982259</td>\n",
       "      <td>0.890299</td>\n",
       "      <td>0.950489</td>\n",
       "      <td>0.883102</td>\n",
       "      <td>0.921534</td>\n",
       "      <td>0.960323</td>\n",
       "      <td>0.967737</td>\n",
       "      <td>0.937211</td>\n",
       "    </tr>\n",
       "    <tr>\n",
       "      <th>cresco6x198</th>\n",
       "      <td>0.991970</td>\n",
       "      <td>0.979505</td>\n",
       "      <td>0.682238</td>\n",
       "      <td>0.918366</td>\n",
       "      <td>0.903089</td>\n",
       "      <td>0.965823</td>\n",
       "      <td>0.932458</td>\n",
       "      <td>0.971545</td>\n",
       "      <td>0.933717</td>\n",
       "      <td>0.907907</td>\n",
       "    </tr>\n",
       "    <tr>\n",
       "      <th>cresco6x199</th>\n",
       "      <td>0.998778</td>\n",
       "      <td>0.956210</td>\n",
       "      <td>0.968182</td>\n",
       "      <td>0.945590</td>\n",
       "      <td>0.843123</td>\n",
       "      <td>0.850046</td>\n",
       "      <td>0.879858</td>\n",
       "      <td>0.781910</td>\n",
       "      <td>0.591071</td>\n",
       "      <td>0.858537</td>\n",
       "    </tr>\n",
       "    <tr>\n",
       "      <th>cresco6x200</th>\n",
       "      <td>0.994873</td>\n",
       "      <td>0.930549</td>\n",
       "      <td>0.576311</td>\n",
       "      <td>0.807207</td>\n",
       "      <td>0.889786</td>\n",
       "      <td>0.876881</td>\n",
       "      <td>0.879994</td>\n",
       "      <td>0.848964</td>\n",
       "      <td>0.848658</td>\n",
       "      <td>0.839839</td>\n",
       "    </tr>\n",
       "    <tr>\n",
       "      <th>cresco6x201</th>\n",
       "      <td>0.993023</td>\n",
       "      <td>0.997970</td>\n",
       "      <td>0.943006</td>\n",
       "      <td>0.977830</td>\n",
       "      <td>0.904029</td>\n",
       "      <td>0.859733</td>\n",
       "      <td>0.887813</td>\n",
       "      <td>0.854661</td>\n",
       "      <td>0.894152</td>\n",
       "      <td>0.912990</td>\n",
       "    </tr>\n",
       "    <tr>\n",
       "      <th>cresco6x202</th>\n",
       "      <td>0.990510</td>\n",
       "      <td>0.964145</td>\n",
       "      <td>0.487314</td>\n",
       "      <td>0.926206</td>\n",
       "      <td>0.934559</td>\n",
       "      <td>0.923944</td>\n",
       "      <td>0.918345</td>\n",
       "      <td>0.942546</td>\n",
       "      <td>0.966456</td>\n",
       "      <td>0.883284</td>\n",
       "    </tr>\n",
       "    <tr>\n",
       "      <th>cresco6x203</th>\n",
       "      <td>0.999095</td>\n",
       "      <td>0.994218</td>\n",
       "      <td>0.987450</td>\n",
       "      <td>0.980485</td>\n",
       "      <td>0.927608</td>\n",
       "      <td>0.926559</td>\n",
       "      <td>0.901964</td>\n",
       "      <td>0.933473</td>\n",
       "      <td>NaN</td>\n",
       "      <td>0.838606</td>\n",
       "    </tr>\n",
       "    <tr>\n",
       "      <th>cresco6x204</th>\n",
       "      <td>0.997699</td>\n",
       "      <td>0.980230</td>\n",
       "      <td>0.984480</td>\n",
       "      <td>0.734514</td>\n",
       "      <td>0.883493</td>\n",
       "      <td>0.849488</td>\n",
       "      <td>0.882154</td>\n",
       "      <td>0.830824</td>\n",
       "      <td>0.841057</td>\n",
       "      <td>0.876788</td>\n",
       "    </tr>\n",
       "    <tr>\n",
       "      <th>cresco6x205</th>\n",
       "      <td>0.999460</td>\n",
       "      <td>0.985900</td>\n",
       "      <td>0.920262</td>\n",
       "      <td>0.939756</td>\n",
       "      <td>0.933635</td>\n",
       "      <td>0.945238</td>\n",
       "      <td>0.892312</td>\n",
       "      <td>0.958235</td>\n",
       "      <td>0.962633</td>\n",
       "      <td>0.936848</td>\n",
       "    </tr>\n",
       "    <tr>\n",
       "      <th>cresco6x206</th>\n",
       "      <td>0.946407</td>\n",
       "      <td>0.962989</td>\n",
       "      <td>0.808854</td>\n",
       "      <td>0.979610</td>\n",
       "      <td>0.944717</td>\n",
       "      <td>0.963546</td>\n",
       "      <td>0.930593</td>\n",
       "      <td>0.963912</td>\n",
       "      <td>0.971721</td>\n",
       "      <td>0.929509</td>\n",
       "    </tr>\n",
       "    <tr>\n",
       "      <th>cresco6x207</th>\n",
       "      <td>0.999455</td>\n",
       "      <td>0.996801</td>\n",
       "      <td>0.990102</td>\n",
       "      <td>0.967438</td>\n",
       "      <td>0.921305</td>\n",
       "      <td>0.872696</td>\n",
       "      <td>0.890762</td>\n",
       "      <td>0.875082</td>\n",
       "      <td>0.944606</td>\n",
       "      <td>0.928984</td>\n",
       "    </tr>\n",
       "    <tr>\n",
       "      <th>cresco6x208</th>\n",
       "      <td>0.717819</td>\n",
       "      <td>0.878990</td>\n",
       "      <td>0.528278</td>\n",
       "      <td>0.981227</td>\n",
       "      <td>0.959813</td>\n",
       "      <td>NaN</td>\n",
       "      <td>NaN</td>\n",
       "      <td>NaN</td>\n",
       "      <td>0.977986</td>\n",
       "      <td>0.560445</td>\n",
       "    </tr>\n",
       "    <tr>\n",
       "      <th>cresco6x209</th>\n",
       "      <td>0.999125</td>\n",
       "      <td>0.985339</td>\n",
       "      <td>0.958767</td>\n",
       "      <td>0.990179</td>\n",
       "      <td>0.941925</td>\n",
       "      <td>0.926479</td>\n",
       "      <td>0.920720</td>\n",
       "      <td>0.940649</td>\n",
       "      <td>0.962755</td>\n",
       "      <td>0.946848</td>\n",
       "    </tr>\n",
       "    <tr>\n",
       "      <th>cresco6x210</th>\n",
       "      <td>0.993945</td>\n",
       "      <td>0.983097</td>\n",
       "      <td>0.829779</td>\n",
       "      <td>0.944594</td>\n",
       "      <td>0.953638</td>\n",
       "      <td>0.897425</td>\n",
       "      <td>0.920824</td>\n",
       "      <td>0.939411</td>\n",
       "      <td>0.977064</td>\n",
       "      <td>0.926181</td>\n",
       "    </tr>\n",
       "    <tr>\n",
       "      <th>cresco6x211</th>\n",
       "      <td>0.999732</td>\n",
       "      <td>0.922804</td>\n",
       "      <td>0.575669</td>\n",
       "      <td>0.920967</td>\n",
       "      <td>0.865132</td>\n",
       "      <td>0.860145</td>\n",
       "      <td>0.872929</td>\n",
       "      <td>0.860075</td>\n",
       "      <td>0.702414</td>\n",
       "      <td>0.831575</td>\n",
       "    </tr>\n",
       "    <tr>\n",
       "      <th>cresco6x212</th>\n",
       "      <td>0.998051</td>\n",
       "      <td>0.985175</td>\n",
       "      <td>0.953637</td>\n",
       "      <td>0.983185</td>\n",
       "      <td>0.939017</td>\n",
       "      <td>0.961982</td>\n",
       "      <td>0.888508</td>\n",
       "      <td>0.963690</td>\n",
       "      <td>0.975260</td>\n",
       "      <td>0.949132</td>\n",
       "    </tr>\n",
       "    <tr>\n",
       "      <th>cresco6x213</th>\n",
       "      <td>0.574482</td>\n",
       "      <td>0.830478</td>\n",
       "      <td>0.573707</td>\n",
       "      <td>0.855589</td>\n",
       "      <td>0.884656</td>\n",
       "      <td>0.829825</td>\n",
       "      <td>0.877582</td>\n",
       "      <td>0.807562</td>\n",
       "      <td>0.867995</td>\n",
       "      <td>0.779046</td>\n",
       "    </tr>\n",
       "    <tr>\n",
       "      <th>cresco6x214</th>\n",
       "      <td>0.999714</td>\n",
       "      <td>0.988385</td>\n",
       "      <td>0.905255</td>\n",
       "      <td>0.981303</td>\n",
       "      <td>0.960882</td>\n",
       "      <td>0.945030</td>\n",
       "      <td>0.912602</td>\n",
       "      <td>0.958494</td>\n",
       "      <td>0.991275</td>\n",
       "      <td>0.948546</td>\n",
       "    </tr>\n",
       "    <tr>\n",
       "      <th>cresco6x215</th>\n",
       "      <td>0.962693</td>\n",
       "      <td>0.910583</td>\n",
       "      <td>0.786644</td>\n",
       "      <td>0.094923</td>\n",
       "      <td>0.004545</td>\n",
       "      <td>0.006926</td>\n",
       "      <td>0.073564</td>\n",
       "      <td>0.053879</td>\n",
       "      <td>0.198021</td>\n",
       "      <td>0.342849</td>\n",
       "    </tr>\n",
       "    <tr>\n",
       "      <th>cresco6x216</th>\n",
       "      <td>0.438933</td>\n",
       "      <td>0.944323</td>\n",
       "      <td>NaN</td>\n",
       "      <td>0.038187</td>\n",
       "      <td>0.019006</td>\n",
       "      <td>0.017288</td>\n",
       "      <td>0.875943</td>\n",
       "      <td>0.661552</td>\n",
       "      <td>0.753055</td>\n",
       "      <td>0.408150</td>\n",
       "    </tr>\n",
       "  </tbody>\n",
       "</table>\n",
       "<p>215 rows × 10 columns</p>\n",
       "</div>"
      ],
      "text/plain": [
       "             May2018_idle  June2018_idle  July2018_idle  September2018  \\\n",
       "cresco6x001      0.993094       0.988543       0.916242       0.892917   \n",
       "cresco6x002      0.624653       0.939112            NaN       0.992717   \n",
       "cresco6x003      0.987997       0.985859       0.157321       0.922876   \n",
       "cresco6x004      0.640259       0.907834       0.035156       0.996249   \n",
       "cresco6x005      0.993857       0.996956       0.865958       0.993468   \n",
       "cresco6x006      0.995359       0.953052       0.982749       0.959078   \n",
       "cresco6x007      0.991067       0.995730       0.973094       0.938200   \n",
       "cresco6x008      0.995520       0.989028       0.971796       0.979551   \n",
       "cresco6x009      0.996347       0.992890       0.910083       0.979520   \n",
       "cresco6x010      0.989746       0.962313       0.976628       0.957378   \n",
       "cresco6x011      0.991072       0.934749       0.401872       0.915363   \n",
       "cresco6x012      0.984457       0.994972       0.942621       0.987692   \n",
       "cresco6x013      0.983684       0.932804       0.954679       0.926170   \n",
       "cresco6x014      0.885024       0.906601       0.401430       0.879688   \n",
       "cresco6x015      0.985229       0.981434       0.840792            NaN   \n",
       "cresco6x016      0.890059       0.907078       0.512892       0.961609   \n",
       "cresco6x017      0.971256       0.979982       0.793228       0.920535   \n",
       "cresco6x018      0.996515       0.966616       0.929477       0.928273   \n",
       "cresco6x019      0.989073       0.983112       0.906320       0.956002   \n",
       "cresco6x020      0.666829       0.839927       0.570710       0.958008   \n",
       "cresco6x021      0.995955       0.977393       0.984896       0.897567   \n",
       "cresco6x022      0.991614       0.981184       0.820054       0.946056   \n",
       "cresco6x023      0.759993       0.887784       0.592871       0.926868   \n",
       "cresco6x024      0.988744       0.965915       0.673677       0.947776   \n",
       "cresco6x025      0.984013       0.994799       0.913054       0.802977   \n",
       "cresco6x026      0.911212       0.928532       0.711460       0.880312   \n",
       "cresco6x027      0.681839       0.875969       0.926857       0.955278   \n",
       "cresco6x028      0.989526       0.978254       0.799703       0.930567   \n",
       "cresco6x029      0.987076       0.989398       0.963558            NaN   \n",
       "cresco6x030      0.996280       0.929967       0.906737       0.787985   \n",
       "...                   ...            ...            ...            ...   \n",
       "cresco6x187      0.998809       0.988847       0.932662       0.979734   \n",
       "cresco6x188      0.931298       0.914628       0.488833       0.919917   \n",
       "cresco6x189      0.997349       0.992503       0.856604       0.929869   \n",
       "cresco6x190      0.994822       0.995185       0.940136       0.972239   \n",
       "cresco6x191      0.594175       0.840595       0.566597       0.898886   \n",
       "cresco6x192      0.987934       0.964704       0.745539       0.962502   \n",
       "cresco6x193      0.999832       0.994512       0.630184       0.954220   \n",
       "cresco6x194      0.985030       0.974547       0.783977       0.948328   \n",
       "cresco6x195      0.999887       0.988388       0.927227       0.986920   \n",
       "cresco6x196      0.999876       0.989532       0.944968       0.990130   \n",
       "cresco6x197      0.999180       0.986210       0.982259       0.890299   \n",
       "cresco6x198      0.991970       0.979505       0.682238       0.918366   \n",
       "cresco6x199      0.998778       0.956210       0.968182       0.945590   \n",
       "cresco6x200      0.994873       0.930549       0.576311       0.807207   \n",
       "cresco6x201      0.993023       0.997970       0.943006       0.977830   \n",
       "cresco6x202      0.990510       0.964145       0.487314       0.926206   \n",
       "cresco6x203      0.999095       0.994218       0.987450       0.980485   \n",
       "cresco6x204      0.997699       0.980230       0.984480       0.734514   \n",
       "cresco6x205      0.999460       0.985900       0.920262       0.939756   \n",
       "cresco6x206      0.946407       0.962989       0.808854       0.979610   \n",
       "cresco6x207      0.999455       0.996801       0.990102       0.967438   \n",
       "cresco6x208      0.717819       0.878990       0.528278       0.981227   \n",
       "cresco6x209      0.999125       0.985339       0.958767       0.990179   \n",
       "cresco6x210      0.993945       0.983097       0.829779       0.944594   \n",
       "cresco6x211      0.999732       0.922804       0.575669       0.920967   \n",
       "cresco6x212      0.998051       0.985175       0.953637       0.983185   \n",
       "cresco6x213      0.574482       0.830478       0.573707       0.855589   \n",
       "cresco6x214      0.999714       0.988385       0.905255       0.981303   \n",
       "cresco6x215      0.962693       0.910583       0.786644       0.094923   \n",
       "cresco6x216      0.438933       0.944323            NaN       0.038187   \n",
       "\n",
       "             October2018  November2018  December2018  January2019  \\\n",
       "cresco6x001     0.957023      0.357501      0.840937     0.941714   \n",
       "cresco6x002     0.959198      0.962680      0.914922     0.881043   \n",
       "cresco6x003     0.911197      0.964924      0.926538     0.938746   \n",
       "cresco6x004     0.460869      0.958239      0.921123     0.949176   \n",
       "cresco6x005     0.452402      0.962129      0.928518     0.960157   \n",
       "cresco6x006     0.852930      0.886010      0.906800     0.804877   \n",
       "cresco6x007     0.874033      0.860281      0.889224     0.794932   \n",
       "cresco6x008     0.950533      0.961183      0.903924     0.972414   \n",
       "cresco6x009     0.964492      0.956285      0.882764     0.926769   \n",
       "cresco6x010     0.868664      0.913943      0.887042     0.719620   \n",
       "cresco6x011     0.859422      0.953065      0.975612     0.922941   \n",
       "cresco6x012          NaN      0.816374           NaN          NaN   \n",
       "cresco6x013     0.824484      0.842235      0.893830     0.748622   \n",
       "cresco6x014     0.855707      0.882688      0.885461     0.738755   \n",
       "cresco6x015          NaN           NaN           NaN          NaN   \n",
       "cresco6x016     0.937142      0.940914      0.936591     0.911402   \n",
       "cresco6x017     0.874144      0.826323      0.909177     0.743727   \n",
       "cresco6x018     0.895690      0.925478      0.937056     0.857854   \n",
       "cresco6x019     0.956661      0.979513      0.912093     0.974867   \n",
       "cresco6x020     0.915672      0.932317      0.853569     0.888224   \n",
       "cresco6x021     0.892380      0.879373      0.853891     0.888671   \n",
       "cresco6x022     0.926208      0.937179      0.879498     0.916370   \n",
       "cresco6x023     0.912534      0.932647      0.898472     0.890072   \n",
       "cresco6x024     0.884934      0.881639      0.885176     0.875542   \n",
       "cresco6x025     0.890411      0.895154      0.867905     0.857958   \n",
       "cresco6x026     0.878584      0.883153      0.827408     0.883790   \n",
       "cresco6x027     0.900537      0.910323      0.913542     0.942084   \n",
       "cresco6x028     0.923037      0.922058      0.904935     0.969473   \n",
       "cresco6x029          NaN           NaN           NaN          NaN   \n",
       "cresco6x030     0.923586      0.908914      0.898543     0.940024   \n",
       "...                  ...           ...           ...          ...   \n",
       "cresco6x187     0.869039      0.860865      0.889823     0.838230   \n",
       "cresco6x188     0.937162      0.962994      0.908721     0.964564   \n",
       "cresco6x189     0.871338      0.858831      0.897484     0.833595   \n",
       "cresco6x190     0.926823      0.963150      0.922358     0.979902   \n",
       "cresco6x191     0.943102      0.946187      0.895640     0.951062   \n",
       "cresco6x192     0.891170      0.922472      0.896147     0.920217   \n",
       "cresco6x193     0.970092      0.979374      0.919071     0.969694   \n",
       "cresco6x194     0.948456      0.898537      0.886793     0.959584   \n",
       "cresco6x195     0.956741      0.967275      0.938090     0.974374   \n",
       "cresco6x196     0.936388      0.907641      0.893456     0.969277   \n",
       "cresco6x197     0.950489      0.883102      0.921534     0.960323   \n",
       "cresco6x198     0.903089      0.965823      0.932458     0.971545   \n",
       "cresco6x199     0.843123      0.850046      0.879858     0.781910   \n",
       "cresco6x200     0.889786      0.876881      0.879994     0.848964   \n",
       "cresco6x201     0.904029      0.859733      0.887813     0.854661   \n",
       "cresco6x202     0.934559      0.923944      0.918345     0.942546   \n",
       "cresco6x203     0.927608      0.926559      0.901964     0.933473   \n",
       "cresco6x204     0.883493      0.849488      0.882154     0.830824   \n",
       "cresco6x205     0.933635      0.945238      0.892312     0.958235   \n",
       "cresco6x206     0.944717      0.963546      0.930593     0.963912   \n",
       "cresco6x207     0.921305      0.872696      0.890762     0.875082   \n",
       "cresco6x208     0.959813           NaN           NaN          NaN   \n",
       "cresco6x209     0.941925      0.926479      0.920720     0.940649   \n",
       "cresco6x210     0.953638      0.897425      0.920824     0.939411   \n",
       "cresco6x211     0.865132      0.860145      0.872929     0.860075   \n",
       "cresco6x212     0.939017      0.961982      0.888508     0.963690   \n",
       "cresco6x213     0.884656      0.829825      0.877582     0.807562   \n",
       "cresco6x214     0.960882      0.945030      0.912602     0.958494   \n",
       "cresco6x215     0.004545      0.006926      0.073564     0.053879   \n",
       "cresco6x216     0.019006      0.017288      0.875943     0.661552   \n",
       "\n",
       "             February2019  avg_kendall_corr  \n",
       "cresco6x001      0.928766          0.857077  \n",
       "cresco6x002      0.950444          0.791827  \n",
       "cresco6x003      0.962926          0.850464  \n",
       "cresco6x004      0.973168          0.748548  \n",
       "cresco6x005      0.904434          0.883506  \n",
       "cresco6x006      0.591677          0.871333  \n",
       "cresco6x007      0.727132          0.883817  \n",
       "cresco6x008      0.970756          0.954151  \n",
       "cresco6x009      0.813448          0.924448  \n",
       "cresco6x010      0.655917          0.872156  \n",
       "cresco6x011      0.965570          0.868507  \n",
       "cresco6x012           NaN          0.525032  \n",
       "cresco6x013      0.868338          0.876679  \n",
       "cresco6x014      0.753174          0.789425  \n",
       "cresco6x015           NaN          0.311939  \n",
       "cresco6x016      0.827352          0.858166  \n",
       "cresco6x017      0.366499          0.811165  \n",
       "cresco6x018      0.544239          0.876113  \n",
       "cresco6x019      0.975000          0.947216  \n",
       "cresco6x020      0.938713          0.829508  \n",
       "cresco6x021      0.872570          0.904923  \n",
       "cresco6x022      0.920775          0.913052  \n",
       "cresco6x023      0.916173          0.846488  \n",
       "cresco6x024      0.876272          0.875810  \n",
       "cresco6x025      0.896187          0.889666  \n",
       "cresco6x026      0.876296          0.853679  \n",
       "cresco6x027      0.874260          0.875148  \n",
       "cresco6x028      0.938641          0.916575  \n",
       "cresco6x029           NaN          0.326670  \n",
       "cresco6x030      0.910057          0.899788  \n",
       "...                   ...               ...  \n",
       "cresco6x187      0.855605          0.902215  \n",
       "cresco6x188      0.818195          0.859967  \n",
       "cresco6x189      0.880549          0.891648  \n",
       "cresco6x190      0.962161          0.949833  \n",
       "cresco6x191      0.531931          0.784785  \n",
       "cresco6x192      0.651278          0.871106  \n",
       "cresco6x193      0.989553          0.922143  \n",
       "cresco6x194      0.968391          0.916424  \n",
       "cresco6x195      0.973552          0.956062  \n",
       "cresco6x196      0.083672          0.845341  \n",
       "cresco6x197      0.967737          0.937211  \n",
       "cresco6x198      0.933717          0.907907  \n",
       "cresco6x199      0.591071          0.858537  \n",
       "cresco6x200      0.848658          0.839839  \n",
       "cresco6x201      0.894152          0.912990  \n",
       "cresco6x202      0.966456          0.883284  \n",
       "cresco6x203           NaN          0.838606  \n",
       "cresco6x204      0.841057          0.876788  \n",
       "cresco6x205      0.962633          0.936848  \n",
       "cresco6x206      0.971721          0.929509  \n",
       "cresco6x207      0.944606          0.928984  \n",
       "cresco6x208      0.977986          0.560445  \n",
       "cresco6x209      0.962755          0.946848  \n",
       "cresco6x210      0.977064          0.926181  \n",
       "cresco6x211      0.702414          0.831575  \n",
       "cresco6x212      0.975260          0.949132  \n",
       "cresco6x213      0.867995          0.779046  \n",
       "cresco6x214      0.991275          0.948546  \n",
       "cresco6x215      0.198021          0.342849  \n",
       "cresco6x216      0.753055          0.408150  \n",
       "\n",
       "[215 rows x 10 columns]"
      ]
     },
     "execution_count": 18,
     "metadata": {},
     "output_type": "execute_result"
    }
   ],
   "source": [
    "corr_df_dict[coeff_type][var_to_corr]"
   ]
  },
  {
   "cell_type": "markdown",
   "metadata": {},
   "source": [
    "### Save correlation tables"
   ]
  },
  {
   "cell_type": "code",
   "execution_count": 19,
   "metadata": {
    "collapsed": true
   },
   "outputs": [],
   "source": [
    "for coeff_type in corr_coeffs:\n",
    "    for var_to_corr in to_corr:\n",
    "        corr_df_dict[coeff_type][var_to_corr].\\\n",
    "            to_csv( path_or_buf=os.path.join( Output_dir, coeff_type + '_' + var_to_corr + '.csv' ), sep=';' )\n",
    "        p_val_df_dict[coeff_type][var_to_corr].\\\n",
    "            to_csv( path_or_buf=os.path.join( Output_dir, coeff_type + '_' + var_to_corr + '_p_value.csv' ), sep=';' )"
   ]
  },
  {
   "cell_type": "code",
   "execution_count": 281,
   "metadata": {
    "collapsed": true
   },
   "outputs": [],
   "source": [
    "# # Show correlation and p-value tables \n",
    "# corr_coeff = 'pearson'#pearson kendall\n",
    "# var_to_corr = 'cpu2_temp'\n",
    "# high_corr_ix = np.unique(np.where(abs(corr_df_dict['pearson']['exh_temp']) >= 0.5)[0])\n",
    "# round(corr_df_dict[corr_coeff][var_to_corr][high_corr_ix], 2).replace([np.nan], '')"
   ]
  },
  {
   "cell_type": "code",
   "execution_count": 282,
   "metadata": {
    "collapsed": true
   },
   "outputs": [],
   "source": [
    "# p_val_df_dict[corr_coeff][var_to_corr].mean()"
   ]
  },
  {
   "cell_type": "markdown",
   "metadata": {},
   "source": [
    "How to finalize and use model for prediction\n",
    "\n",
    "https://machinelearningmastery.com/make-predictions-scikit-learn/"
   ]
  },
  {
   "cell_type": "markdown",
   "metadata": {},
   "source": [
    "scipy.stats.~\n",
    "\n",
    "- pearsonr(x, y)\tCalculates a Pearson correlation coefficient and the p-value for testing non-correlation.\n",
    "- spearmanr(a[, b, axis, nan_policy])\tCalculates a Spearman rank-order correlation coefficient and the p-value to test for non-correlation.\n",
    "- pointbiserialr(x, y)\tCalculates a point biserial correlation coefficient and its p-value.\n",
    "- kendalltau(x, y[, initial_lexsort, nan_policy])\tCalculates Kendall’s tau, a correlation measure for ordinal data."
   ]
  },
  {
   "cell_type": "markdown",
   "metadata": {
    "collapsed": true
   },
   "source": [
    "----------------\n",
    "## Thermal metrics calculation"
   ]
  },
  {
   "cell_type": "markdown",
   "metadata": {},
   "source": [
    "- Supply temperature - CRAC unit output air temperature\n",
    "- Inlet temperature - temperature at the inlet of a node (T_supply <= T_inlet)\n",
    "- Return temperature - CRAC unit inpute air temperature\n",
    "- Exhaust temperature - (output temperature) temperature at the rear of a node\n",
    "\n",
    "\n",
    "Three scenarios are used:\n",
    "1. Minimal load = high allowable inlet temperature = small_ITE_temp_rise\n",
    "    - T_supply = max_temp = 18\n",
    "    - T_return = 24\n",
    "    \n",
    "2. Moderate load = moderate allowable inlet temperature = real\n",
    "    - T_supply = real_temp = 16.5, T_supply <= T_inlet\n",
    "        \n",
    "    If T_supply > T_inlet and:\n",
    "        \n",
    "        - T_inlet $\\in$ [15, 15.6]   => T_supply = 15\n",
    "        - T_inlet $\\in$ (15.6, 16.5] => T_supply = 15.6\n",
    "        - T_inlet $\\in$ (16.5, 18]   => T_supply = 16.5\n",
    "        \n",
    "    - T_return = 25\n",
    "    \n",
    "3. Maximal load = low allowable inlet temperature = big_ITE_temp_rise\n",
    "    - T_supply = min_temp = 15\n",
    "    - T_return = 26\n",
    "\n",
    "Minimal inlet temperature for every month - below"
   ]
  },
  {
   "cell_type": "code",
   "execution_count": 202,
   "metadata": {},
   "outputs": [
    {
     "name": "stdout",
     "output_type": "stream",
     "text": [
      "16.0\n",
      "15.0\n",
      "15.0\n",
      "15.0\n",
      "15.0\n",
      "15.0\n",
      "15.0\n",
      "15.0\n",
      "15.0\n"
     ]
    }
   ],
   "source": [
    "for df_name in nodes_df_names:\n",
    "    node_df = data_prep_df[df_name]\n",
    "    print(node_df.inlet_temp[node_df.inlet_temp>0].dropna().min())"
   ]
  },
  {
   "cell_type": "code",
   "execution_count": 203,
   "metadata": {
    "collapsed": true
   },
   "outputs": [],
   "source": [
    "def form_supply_temp( inlet_temp, scenario='real', ):\n",
    "    scenario_list = ['small_ITE_temp_rise', 'big_ITE_temp_rise', 'real']\n",
    "    if scenario not in scenario_list:\n",
    "        raise ValueError(\"Invalid scenario. Expected one of: %s\" % scenario_list)\n",
    "    \n",
    "    default_temp  = 0\n",
    "    min_temp      = 15.0\n",
    "    min_real_temp = 15.6\n",
    "    real_temp     = 16.5\n",
    "    max_temp      = 18\n",
    "    \n",
    "    if ( scenario == 'small_ITE_temp_rise' ):\n",
    "        default_temp = max_temp\n",
    "    elif ( scenario == 'big_ITE_temp_rise' ):\n",
    "        default_temp = min_temp\n",
    "    elif ( scenario == 'real' ):\n",
    "        default_temp = real_temp\n",
    "          \n",
    "    supply_temp = pd.Series(index = inlet_temp.index, data = default_temp)\n",
    "    \n",
    "    supply_temp[(inlet_temp < min_real_temp) & (supply_temp > inlet_temp)] = min_temp\n",
    "    supply_temp[(inlet_temp >= min_real_temp) & (inlet_temp < real_temp) & (supply_temp > inlet_temp)] = min_real_temp\n",
    "    supply_temp[(inlet_temp >= real_temp) & (inlet_temp < max_temp) & (supply_temp > inlet_temp)] = real_temp\n",
    "    \n",
    "    return supply_temp"
   ]
  },
  {
   "cell_type": "code",
   "execution_count": 204,
   "metadata": {
    "collapsed": true
   },
   "outputs": [],
   "source": [
    "# Real\n",
    "\n",
    "scenario_types = ['small_ITE_temp_rise', 'big_ITE_temp_rise', 'real']\n",
    "return_temp = {}\n",
    "return_temp['real'] = 25.\n",
    "return_temp['small_ITE_temp_rise'] = 24.\n",
    "return_temp['big_ITE_temp_rise'] = 26.\n",
    "\n",
    "scenario_real = 'real'"
   ]
  },
  {
   "cell_type": "code",
   "execution_count": 205,
   "metadata": {
    "collapsed": true
   },
   "outputs": [],
   "source": [
    "metrics = {}\n",
    "_no_outliers = ''\n",
    "# _no_outliers = '_no_outliers'\n",
    "temp_all = {'A1': {'max' : 32, 'min' : 15}, \\\n",
    "            'A2': {'max' : 35, 'min' : 10} }\n",
    "temp_rec = {'max': 27, 'min': 18}\n",
    "\n",
    "\n",
    "for scenario_type in scenario_types:\n",
    "    metrics[scenario_type] = pd.DataFrame( columns = ['RTI', 'RHI', 'SHI'], index = nodes_df_names, data=0 )\n",
    "    for df_name in nodes_df_names:\n",
    "        node_df = data_prep_df[df_name]\n",
    "\n",
    "        supply_temp_values = form_supply_temp( node_df.loc[:, 'inlet_temp' + _no_outliers], scenario_type )\n",
    "        t_supply = supply_temp_values.mean()\n",
    "        t_return = return_temp[scenario_type]\n",
    "        t_inlet  = node_df.loc[:, 'inlet_temp' + _no_outliers].mean()\n",
    "        t_out    = node_df.loc[:, 'exh_temp' + _no_outliers].mean()\n",
    "        delta_t  = ( node_df.loc[:, 'exh_temp' + _no_outliers] - node_df.loc[:, 'inlet_temp' + _no_outliers] ).mean()\n",
    "        \n",
    "        metrics[scenario_type].loc[df_name, 'RTI']  = ( t_return - t_supply ) / delta_t * 100.\n",
    "        \n",
    "        delta_q_temp = ( node_df.loc[:, 'inlet_temp' + _no_outliers] - supply_temp_values ).sum()\n",
    "        q_total_temp = ( node_df.loc[:, 'exh_temp' + _no_outliers] - supply_temp_values ).sum()\n",
    "        \n",
    "        metrics[scenario_type].loc[df_name, 'SHI']  = delta_q_temp / q_total_temp\n",
    "        metrics[scenario_type].loc[df_name, 'RHI']  = 1 - metrics[scenario_type].loc[df_name, 'SHI']\n",
    "        metrics[scenario_type].loc[df_name, 'beta'] = ( t_inlet - t_supply ) / delta_t\n",
    "        metrics[scenario_type].loc[df_name, 'BP']   = ( t_out - t_return ) / ( t_out - t_inlet )\n",
    "        metrics[scenario_type].loc[df_name, 'R']    = ( t_inlet - t_supply ) / ( t_return - t_supply )\n",
    "        metrics[scenario_type].loc[df_name, 'BAL']  = (t_out - t_inlet) / ( t_return - t_supply )\n",
    "        \n",
    "        n_inlet   = np.unique(node_df.nodename).size\n",
    "        t_x_max   = np.array([ node_df[ ( node_df.nodename == node ) & \\\n",
    "                                        ( node_df.loc[:, 'inlet_temp' + _no_outliers] > temp_rec['max'] )].\\\n",
    "                               loc[:, 'inlet_temp' + _no_outliers].mean() \\\n",
    "                               for node in np.unique( node_df.nodename )])\n",
    "        t_x_max   = t_x_max[~np.isnan(t_x_max)]\n",
    "\n",
    "        t_x_min   = np.array([ node_df[ ( node_df.nodename == node ) & \\\n",
    "                                        ( node_df.loc[:, 'inlet_temp' + _no_outliers] < temp_rec['min'] )].\\\n",
    "                               loc[:, 'inlet_temp' + _no_outliers].mean() \\\n",
    "                               for node in np.unique( node_df.nodename )])\n",
    "        t_x_min   = t_x_min[~np.isnan(t_x_min)]\n",
    "        \n",
    "        metrics[scenario_type].loc[df_name, 'RCI_high_A1'] = \\\n",
    "            ( 1 - \\\n",
    "            ( t_x_max - temp_rec['max'] ).sum() / \\\n",
    "            ( n_inlet * ( temp_all['A1']['max'] - temp_rec['max'] ))) * 100.\n",
    "        metrics[scenario_type].loc[df_name, 'RCI_low_A1'] = \\\n",
    "            ( 1 - \\\n",
    "            ( temp_rec['min'] - t_x_min ).sum() / \\\n",
    "            ( n_inlet * ( temp_rec['min'] - temp_all['A1']['min'] ))) * 100.\n",
    "        metrics[scenario_type].loc[df_name, 'RCI_high_A2'] = \\\n",
    "            ( 1 - \\\n",
    "            ( t_x_max - temp_rec['max'] ).sum() / \\\n",
    "            ( n_inlet * ( temp_all['A2']['max'] - temp_rec['max'] ))) * 100.\n",
    "        metrics[scenario_type].loc[df_name, 'RCI_low_A2'] = \\\n",
    "            ( 1 - \\\n",
    "            ( temp_rec['min'] - t_x_min ).sum() / \\\n",
    "            ( n_inlet * ( temp_rec['min'] - temp_all['A2']['min'] ))) * 100."
   ]
  },
  {
   "cell_type": "code",
   "execution_count": 206,
   "metadata": {},
   "outputs": [
    {
     "data": {
      "text/html": [
       "<div>\n",
       "<style scoped>\n",
       "    .dataframe tbody tr th:only-of-type {\n",
       "        vertical-align: middle;\n",
       "    }\n",
       "\n",
       "    .dataframe tbody tr th {\n",
       "        vertical-align: top;\n",
       "    }\n",
       "\n",
       "    .dataframe thead th {\n",
       "        text-align: right;\n",
       "    }\n",
       "</style>\n",
       "<table border=\"1\" class=\"dataframe\">\n",
       "  <thead>\n",
       "    <tr style=\"text-align: right;\">\n",
       "      <th></th>\n",
       "      <th>RTI</th>\n",
       "      <th>RHI</th>\n",
       "      <th>SHI</th>\n",
       "      <th>beta</th>\n",
       "      <th>BP</th>\n",
       "      <th>R</th>\n",
       "      <th>BAL</th>\n",
       "      <th>RCI_high_A1</th>\n",
       "      <th>RCI_low_A1</th>\n",
       "      <th>RCI_high_A2</th>\n",
       "      <th>RCI_low_A2</th>\n",
       "    </tr>\n",
       "  </thead>\n",
       "  <tbody>\n",
       "    <tr>\n",
       "      <th>May2018_idle</th>\n",
       "      <td>31.422733</td>\n",
       "      <td>0.981507</td>\n",
       "      <td>0.018493</td>\n",
       "      <td>0.018827</td>\n",
       "      <td>0.704599</td>\n",
       "      <td>0.059915</td>\n",
       "      <td>3.182407</td>\n",
       "      <td>100.000000</td>\n",
       "      <td>66.330565</td>\n",
       "      <td>100.00000</td>\n",
       "      <td>87.373962</td>\n",
       "    </tr>\n",
       "    <tr>\n",
       "      <th>June2018_idle</th>\n",
       "      <td>31.930125</td>\n",
       "      <td>0.980247</td>\n",
       "      <td>0.019753</td>\n",
       "      <td>0.020141</td>\n",
       "      <td>0.700840</td>\n",
       "      <td>0.063077</td>\n",
       "      <td>3.131848</td>\n",
       "      <td>99.906977</td>\n",
       "      <td>66.050646</td>\n",
       "      <td>99.94186</td>\n",
       "      <td>87.268992</td>\n",
       "    </tr>\n",
       "    <tr>\n",
       "      <th>July2018_idle</th>\n",
       "      <td>31.946485</td>\n",
       "      <td>0.979449</td>\n",
       "      <td>0.020551</td>\n",
       "      <td>0.020956</td>\n",
       "      <td>0.701492</td>\n",
       "      <td>0.065599</td>\n",
       "      <td>3.130235</td>\n",
       "      <td>100.000000</td>\n",
       "      <td>66.811372</td>\n",
       "      <td>100.00000</td>\n",
       "      <td>87.554265</td>\n",
       "    </tr>\n",
       "    <tr>\n",
       "      <th>September2018</th>\n",
       "      <td>34.457109</td>\n",
       "      <td>0.979244</td>\n",
       "      <td>0.020756</td>\n",
       "      <td>0.021094</td>\n",
       "      <td>0.676550</td>\n",
       "      <td>0.061218</td>\n",
       "      <td>2.902400</td>\n",
       "      <td>100.000000</td>\n",
       "      <td>66.541705</td>\n",
       "      <td>100.00000</td>\n",
       "      <td>87.453139</td>\n",
       "    </tr>\n",
       "    <tr>\n",
       "      <th>October2018</th>\n",
       "      <td>36.939508</td>\n",
       "      <td>0.977242</td>\n",
       "      <td>0.022758</td>\n",
       "      <td>0.023169</td>\n",
       "      <td>0.653801</td>\n",
       "      <td>0.062722</td>\n",
       "      <td>2.707337</td>\n",
       "      <td>100.000000</td>\n",
       "      <td>66.564063</td>\n",
       "      <td>100.00000</td>\n",
       "      <td>87.461524</td>\n",
       "    </tr>\n",
       "    <tr>\n",
       "      <th>November2018</th>\n",
       "      <td>40.326819</td>\n",
       "      <td>0.975661</td>\n",
       "      <td>0.024339</td>\n",
       "      <td>0.024422</td>\n",
       "      <td>0.621166</td>\n",
       "      <td>0.060561</td>\n",
       "      <td>2.479814</td>\n",
       "      <td>100.000000</td>\n",
       "      <td>64.816048</td>\n",
       "      <td>100.00000</td>\n",
       "      <td>86.806018</td>\n",
       "    </tr>\n",
       "    <tr>\n",
       "      <th>December2018</th>\n",
       "      <td>40.635357</td>\n",
       "      <td>0.976400</td>\n",
       "      <td>0.023600</td>\n",
       "      <td>0.023710</td>\n",
       "      <td>0.617359</td>\n",
       "      <td>0.058349</td>\n",
       "      <td>2.460928</td>\n",
       "      <td>100.000000</td>\n",
       "      <td>65.134272</td>\n",
       "      <td>100.00000</td>\n",
       "      <td>86.925352</td>\n",
       "    </tr>\n",
       "    <tr>\n",
       "      <th>January2019</th>\n",
       "      <td>40.404849</td>\n",
       "      <td>0.974511</td>\n",
       "      <td>0.025489</td>\n",
       "      <td>0.025692</td>\n",
       "      <td>0.621676</td>\n",
       "      <td>0.063585</td>\n",
       "      <td>2.475169</td>\n",
       "      <td>100.000000</td>\n",
       "      <td>64.102478</td>\n",
       "      <td>100.00000</td>\n",
       "      <td>86.538429</td>\n",
       "    </tr>\n",
       "    <tr>\n",
       "      <th>February2019</th>\n",
       "      <td>38.898265</td>\n",
       "      <td>0.973090</td>\n",
       "      <td>0.026910</td>\n",
       "      <td>0.024064</td>\n",
       "      <td>0.636306</td>\n",
       "      <td>0.061864</td>\n",
       "      <td>2.579465</td>\n",
       "      <td>100.000000</td>\n",
       "      <td>61.909181</td>\n",
       "      <td>100.00000</td>\n",
       "      <td>85.715943</td>\n",
       "    </tr>\n",
       "  </tbody>\n",
       "</table>\n",
       "</div>"
      ],
      "text/plain": [
       "                     RTI       RHI       SHI      beta        BP         R  \\\n",
       "May2018_idle   31.422733  0.981507  0.018493  0.018827  0.704599  0.059915   \n",
       "June2018_idle  31.930125  0.980247  0.019753  0.020141  0.700840  0.063077   \n",
       "July2018_idle  31.946485  0.979449  0.020551  0.020956  0.701492  0.065599   \n",
       "September2018  34.457109  0.979244  0.020756  0.021094  0.676550  0.061218   \n",
       "October2018    36.939508  0.977242  0.022758  0.023169  0.653801  0.062722   \n",
       "November2018   40.326819  0.975661  0.024339  0.024422  0.621166  0.060561   \n",
       "December2018   40.635357  0.976400  0.023600  0.023710  0.617359  0.058349   \n",
       "January2019    40.404849  0.974511  0.025489  0.025692  0.621676  0.063585   \n",
       "February2019   38.898265  0.973090  0.026910  0.024064  0.636306  0.061864   \n",
       "\n",
       "                    BAL  RCI_high_A1  RCI_low_A1  RCI_high_A2  RCI_low_A2  \n",
       "May2018_idle   3.182407   100.000000   66.330565    100.00000   87.373962  \n",
       "June2018_idle  3.131848    99.906977   66.050646     99.94186   87.268992  \n",
       "July2018_idle  3.130235   100.000000   66.811372    100.00000   87.554265  \n",
       "September2018  2.902400   100.000000   66.541705    100.00000   87.453139  \n",
       "October2018    2.707337   100.000000   66.564063    100.00000   87.461524  \n",
       "November2018   2.479814   100.000000   64.816048    100.00000   86.806018  \n",
       "December2018   2.460928   100.000000   65.134272    100.00000   86.925352  \n",
       "January2019    2.475169   100.000000   64.102478    100.00000   86.538429  \n",
       "February2019   2.579465   100.000000   61.909181    100.00000   85.715943  "
      ]
     },
     "execution_count": 206,
     "metadata": {},
     "output_type": "execute_result"
    }
   ],
   "source": [
    "metrics['small_ITE_temp_rise']"
   ]
  },
  {
   "cell_type": "code",
   "execution_count": 207,
   "metadata": {
    "collapsed": true
   },
   "outputs": [],
   "source": [
    "# Create a Pandas Excel writer using XlsxWriter as the engine.\n",
    "writer = pd.ExcelWriter( os.path.join( Output_dir, 'metrics_dict' + name_suffix + '.xlsx'), engine='xlsxwriter')\n",
    "\n",
    "# Write each dataframe to a different worksheet.\n",
    "for scenario_type in scenario_types:\n",
    "    metrics[scenario_type].to_excel(writer, sheet_name=scenario_type)#, header=False\n",
    "\n",
    "# Close the Pandas Excel writer and output the Excel file.\n",
    "writer.save()"
   ]
  },
  {
   "cell_type": "markdown",
   "metadata": {
    "collapsed": true
   },
   "source": [
    "#### Find nodes and time with abrupt temperature variation - done and discarded"
   ]
  },
  {
   "cell_type": "markdown",
   "metadata": {},
   "source": [
    "1. Study fluctuations of temperature by node\n",
    "    - Clean the values: 0, nan, +/-inf -> skip for each temp type \n",
    "    - Create a dictionary with node names as keys, and all thermal info about the nodes\n",
    "        In the rows where the data about one characterisic is not available, insert np.nan for further easier use\n",
    "    - Add {temp_type}_next_hop columns, for temp_type $\\in$ {CPU1, CPU2, amb, exh}\n",
    "2. Study outliers for future stats tuning - find a range for appropriate thermal values and apply for preprocessed data while calculating stats with the previous algorithm\n",
    "    - min and max of temp_type fluctuations and temperature occurrences\n",
    "    \n",
    "Output:\n",
    "- more precise temperature graphs and metrics calculations"
   ]
  },
  {
   "cell_type": "markdown",
   "metadata": {},
   "source": [
    "### Results:\n",
    "From visualization document and graphs further target characteristics are chosen:\n",
    "- frequency exh_temp fluctuation values ($t_{current}-t_{prev})$ can be approximated with parametric Cauchy PDF with $x_0 = 0; \\; \\gamma = IQR(temp\\_difference)$\n",
    "- limitations already exist for stats: > 0, exh > amb\n",
    "- new limitations for stats:\n",
    "    - abs(exh_fluct) $\\in$ [0,40] when P(exh_fluct) > $10^{-5}$\n",
    "    - abs(inlet_fluct) < 10\n",
    "    - abs(CPU1_fluct)"
   ]
  },
  {
   "cell_type": "markdown",
   "metadata": {},
   "source": [
    "#### Explore dates and ranges of fluctuations"
   ]
  },
  {
   "cell_type": "code",
   "execution_count": 88,
   "metadata": {
    "collapsed": true
   },
   "outputs": [],
   "source": [
    "all_nodes_temp_fluct_dict = {}\n",
    "\n",
    "for node in node_names:\n",
    "    one_node_df = all_nodes_dict[node]\n",
    "    for temp_type in temp_types:\n",
    "        one_node_temp_df = one_node_df.copy()\n",
    "        one_node_temp_df = one_node_temp_df[~one_node_temp_df.loc[:,temp_type + '_temp'].isin([0, np.nan, np.inf, -np.inf])]\n",
    "        temp_difference = ( one_node_temp_df[temp_type+'_temp'][1:].values - \\\n",
    "                            one_node_temp_df[temp_type+'_temp'][:-1].values )\n",
    "        time_difference = ( one_node_temp_df['unix_timestamp'][1:].values - \\\n",
    "                            one_node_temp_df['unix_timestamp'][:-1].values )\n",
    "        \n",
    "        # Temperature hop abs > 5, time difference between measurements < 30 min\n",
    "        fluctuations_ix = np.where( ( abs(temp_difference) > 5 ) & ( time_difference < 30*60 ) )[0]\n",
    "        fluctuations_and_next_ix = np.unique( np.append( fluctuations_ix, ( fluctuations_ix + 1 ))).tolist()\n",
    "        one_node_temp_df.loc[:, temp_type'_temp_next_hop'] = 'N/A'\n",
    "        one_node_temp_df.iloc[:-1,-1] = temp_difference.tolist()\n",
    "        all_nodes_temp_fluct_dict[node] = one_node_temp_df.iloc[list( sorted( fluctuations_and_next_ix )), :].copy()\n",
    "        all_nodes_temp_fluct_dict[node].loc[fluctuations_and_next_ix, \\\n",
    "                                            'exh_temp_next_hop'] = temp_difference[fluctuations_and_next_ix].tolist()"
   ]
  },
  {
   "cell_type": "markdown",
   "metadata": {},
   "source": [
    "#### Rename files"
   ]
  },
  {
   "cell_type": "code",
   "execution_count": 10,
   "metadata": {
    "collapsed": true
   },
   "outputs": [],
   "source": [
    "name_suffix = '_temp_no_outliers'\n",
    "name_suffix_rename = 'temp_no_outliers_'\n",
    "for df_name, filename in zip(nodes_df_names, nodes_file_names): \n",
    "    dst = nodes_stats_ + df_name + name_suffix + '.csv'\n",
    "    src = 'nodes_stats_' + name_suffix_rename + filename\n",
    "\n",
    "    # rename() function will \n",
    "    # rename all the files \n",
    "    os.rename(os.path.join( Output_dir, src ), os.path.join( Output_dir, dst )) \n",
    "\n",
    "# src = 'new_nodes_summary_all_months.csv'\n",
    "# dst = 'nodes_summary_all_months.csv'\n",
    "# os.rename(os.path.join( Output_dir, src ), os.path.join( Output_dir, dst ))\n",
    "\n",
    "# src = 'new_nodes_summary_all_months_no_drop.csv'\n",
    "# dst = 'nodes_summary_all_months_no_drop.csv'\n",
    "# os.rename(os.path.join( Output_dir, src ), os.path.join( Output_dir, dst )) "
   ]
  }
 ],
 "metadata": {
  "kernelspec": {
   "display_name": "Python 3",
   "language": "python",
   "name": "python3"
  },
  "language_info": {
   "codemirror_mode": {
    "name": "ipython",
    "version": 3
   },
   "file_extension": ".py",
   "mimetype": "text/x-python",
   "name": "python",
   "nbconvert_exporter": "python",
   "pygments_lexer": "ipython3",
   "version": "3.5.2"
  }
 },
 "nbformat": 4,
 "nbformat_minor": 2
}
